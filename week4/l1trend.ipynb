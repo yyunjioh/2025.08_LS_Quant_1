{
 "cells": [
  {
   "cell_type": "code",
   "execution_count": 9,
   "id": "408d513d",
   "metadata": {},
   "outputs": [],
   "source": [
    "import pandas as pd\n",
    "import numpy as np\n",
    "import matplotlib.pyplot as plt\n",
    "import os\n",
    "dir = os.getcwd()"
   ]
  },
  {
   "cell_type": "code",
   "execution_count": 10,
   "id": "3b77d0d4",
   "metadata": {},
   "outputs": [],
   "source": [
    "data_pc1 = pd.read_csv(dir+'/data/pc_data1.csv')"
   ]
  },
  {
   "cell_type": "code",
   "execution_count": 11,
   "id": "781ec9eb",
   "metadata": {},
   "outputs": [],
   "source": [
    "data_pc1.set_index('date', inplace=True)"
   ]
  },
  {
   "cell_type": "code",
   "execution_count": 14,
   "id": "e5282100",
   "metadata": {},
   "outputs": [
    {
     "name": "stdout",
     "output_type": "stream",
     "text": [
      "<class 'pandas.core.frame.DataFrame'>\n",
      "Index: 269 entries, 2003-02-01 to 2025-06-01\n",
      "Data columns (total 3 columns):\n",
      " #   Column        Non-Null Count  Dtype  \n",
      "---  ------        --------------  -----  \n",
      " 0   PC1           269 non-null    float64\n",
      " 1   PC2           269 non-null    float64\n",
      " 2   growth_index  269 non-null    float64\n",
      "dtypes: float64(3)\n",
      "memory usage: 16.5+ KB\n"
     ]
    }
   ],
   "source": [
    "data_pc1.info()"
   ]
  },
  {
   "cell_type": "code",
   "execution_count": 7,
   "id": "5e24d6ce",
   "metadata": {},
   "outputs": [],
   "source": [
    "from trendfilter import trend_filter, get_example_data, plot_model"
   ]
  },
  {
   "cell_type": "code",
   "execution_count": 72,
   "id": "9108e64b",
   "metadata": {},
   "outputs": [],
   "source": [
    "x = np.arange(0,len(data_pc1))"
   ]
  },
  {
   "cell_type": "code",
   "execution_count": 73,
   "id": "7db4a0d1",
   "metadata": {},
   "outputs": [
    {
     "data": {
      "text/plain": [
       "array([  0,   1,   2,   3,   4,   5,   6,   7,   8,   9,  10,  11,  12,\n",
       "        13,  14,  15,  16,  17,  18,  19,  20,  21,  22,  23,  24,  25,\n",
       "        26,  27,  28,  29,  30,  31,  32,  33,  34,  35,  36,  37,  38,\n",
       "        39,  40,  41,  42,  43,  44,  45,  46,  47,  48,  49,  50,  51,\n",
       "        52,  53,  54,  55,  56,  57,  58,  59,  60,  61,  62,  63,  64,\n",
       "        65,  66,  67,  68,  69,  70,  71,  72,  73,  74,  75,  76,  77,\n",
       "        78,  79,  80,  81,  82,  83,  84,  85,  86,  87,  88,  89,  90,\n",
       "        91,  92,  93,  94,  95,  96,  97,  98,  99, 100, 101, 102, 103,\n",
       "       104, 105, 106, 107, 108, 109, 110, 111, 112, 113, 114, 115, 116,\n",
       "       117, 118, 119, 120, 121, 122, 123, 124, 125, 126, 127, 128, 129,\n",
       "       130, 131, 132, 133, 134, 135, 136, 137, 138, 139, 140, 141, 142,\n",
       "       143, 144, 145, 146, 147, 148, 149, 150, 151, 152, 153, 154, 155,\n",
       "       156, 157, 158, 159, 160, 161, 162, 163, 164, 165, 166, 167, 168,\n",
       "       169, 170, 171, 172, 173, 174, 175, 176, 177, 178, 179, 180, 181,\n",
       "       182, 183, 184, 185, 186, 187, 188, 189, 190, 191, 192, 193, 194,\n",
       "       195, 196, 197, 198, 199, 200, 201, 202, 203, 204, 205, 206, 207,\n",
       "       208, 209, 210, 211, 212, 213, 214, 215, 216, 217, 218, 219, 220,\n",
       "       221, 222, 223, 224, 225, 226, 227, 228, 229, 230, 231, 232, 233,\n",
       "       234, 235, 236, 237, 238, 239, 240, 241, 242, 243, 244, 245, 246,\n",
       "       247, 248, 249, 250, 251, 252, 253, 254, 255, 256, 257, 258, 259,\n",
       "       260, 261, 262, 263, 264, 265, 266, 267, 268])"
      ]
     },
     "execution_count": 73,
     "metadata": {},
     "output_type": "execute_result"
    }
   ],
   "source": [
    "x"
   ]
  },
  {
   "cell_type": "code",
   "execution_count": 26,
   "id": "7aa52526",
   "metadata": {},
   "outputs": [
    {
     "data": {
      "text/plain": [
       "269"
      ]
     },
     "execution_count": 26,
     "metadata": {},
     "output_type": "execute_result"
    }
   ],
   "source": [
    "len(data_pc1)"
   ]
  },
  {
   "cell_type": "code",
   "execution_count": 25,
   "id": "7edf76b8",
   "metadata": {},
   "outputs": [
    {
     "data": {
      "text/plain": [
       "269"
      ]
     },
     "execution_count": 25,
     "metadata": {},
     "output_type": "execute_result"
    }
   ],
   "source": [
    "len(x)"
   ]
  },
  {
   "cell_type": "code",
   "execution_count": 27,
   "id": "6e775d92",
   "metadata": {},
   "outputs": [],
   "source": [
    "result = trend_filter(x, data_pc1['growth_index'], l_norm=1, alpha_2=0.3)"
   ]
  },
  {
   "cell_type": "code",
   "execution_count": 33,
   "id": "4b035de5",
   "metadata": {},
   "outputs": [
    {
     "data": {
      "text/plain": [
       "{'x': array([  0,   1,   2,   3,   4,   5,   6,   7,   8,   9,  10,  11,  12,\n",
       "         13,  14,  15,  16,  17,  18,  19,  20,  21,  22,  23,  24,  25,\n",
       "         26,  27,  28,  29,  30,  31,  32,  33,  34,  35,  36,  37,  38,\n",
       "         39,  40,  41,  42,  43,  44,  45,  46,  47,  48,  49,  50,  51,\n",
       "         52,  53,  54,  55,  56,  57,  58,  59,  60,  61,  62,  63,  64,\n",
       "         65,  66,  67,  68,  69,  70,  71,  72,  73,  74,  75,  76,  77,\n",
       "         78,  79,  80,  81,  82,  83,  84,  85,  86,  87,  88,  89,  90,\n",
       "         91,  92,  93,  94,  95,  96,  97,  98,  99, 100, 101, 102, 103,\n",
       "        104, 105, 106, 107, 108, 109, 110, 111, 112, 113, 114, 115, 116,\n",
       "        117, 118, 119, 120, 121, 122, 123, 124, 125, 126, 127, 128, 129,\n",
       "        130, 131, 132, 133, 134, 135, 136, 137, 138, 139, 140, 141, 142,\n",
       "        143, 144, 145, 146, 147, 148, 149, 150, 151, 152, 153, 154, 155,\n",
       "        156, 157, 158, 159, 160, 161, 162, 163, 164, 165, 166, 167, 168,\n",
       "        169, 170, 171, 172, 173, 174, 175, 176, 177, 178, 179, 180, 181,\n",
       "        182, 183, 184, 185, 186, 187, 188, 189, 190, 191, 192, 193, 194,\n",
       "        195, 196, 197, 198, 199, 200, 201, 202, 203, 204, 205, 206, 207,\n",
       "        208, 209, 210, 211, 212, 213, 214, 215, 216, 217, 218, 219, 220,\n",
       "        221, 222, 223, 224, 225, 226, 227, 228, 229, 230, 231, 232, 233,\n",
       "        234, 235, 236, 237, 238, 239, 240, 241, 242, 243, 244, 245, 246,\n",
       "        247, 248, 249, 250, 251, 252, 253, 254, 255, 256, 257, 258, 259,\n",
       "        260, 261, 262, 263, 264, 265, 266, 267, 268]),\n",
       " 'y': array([-9.22601555e-01, -9.71078565e-01, -1.06504537e+00, -1.04565847e+00,\n",
       "        -1.06007031e+00, -1.10930738e+00, -1.22065581e+00, -1.19456524e+00,\n",
       "        -1.23643028e+00, -1.23339427e+00, -1.16881460e+00, -9.77313785e-01,\n",
       "        -9.63051078e-01, -1.03779325e+00, -1.12295102e+00, -1.26805154e+00,\n",
       "        -1.17137441e+00, -1.15663695e+00, -1.02116681e+00, -9.37451676e-01,\n",
       "        -8.82019645e-01, -9.95891080e-01, -8.68843542e-01, -1.16460414e+00,\n",
       "        -1.05076320e+00, -9.96062432e-01, -1.10586393e+00, -1.00801574e+00,\n",
       "        -9.87594082e-01, -1.05659002e+00, -1.07939177e+00, -9.51127642e-01,\n",
       "        -9.05554207e-01, -9.59835738e-01, -8.44554521e-01, -8.14942404e-01,\n",
       "        -6.23802832e-01, -6.79878448e-01, -6.51600971e-01, -5.92808938e-01,\n",
       "        -5.16343228e-01, -3.88759695e-01, -3.82954093e-01, -4.72652596e-01,\n",
       "        -5.22968292e-01, -4.71909781e-01, -2.37025964e-01, -2.65584645e-01,\n",
       "        -2.83299761e-01, -2.86795246e-01, -3.03932687e-01, -3.14169769e-01,\n",
       "        -3.89224616e-01, -3.55878067e-01, -3.49736663e-01, -2.99150403e-01,\n",
       "        -3.38392525e-01, -2.07802209e-01, -5.14574572e-02, -1.50957099e-01,\n",
       "        -2.04511518e-01, -1.60874447e-01, -5.73137695e-02,  4.26559340e-02,\n",
       "         1.43461197e-01,  2.34493428e-01, -9.32173965e-04, -1.75206825e-01,\n",
       "        -5.74355091e-01, -9.15224138e-01, -1.13593758e+00, -1.26443033e+00,\n",
       "        -1.86136107e+00, -1.80857363e+00, -1.72204850e+00, -1.73334065e+00,\n",
       "        -1.53678222e+00, -1.68206486e+00, -1.50831918e+00, -1.46100582e+00,\n",
       "        -1.40175181e+00, -1.50546080e+00, -1.56406757e+00, -1.49384758e+00,\n",
       "        -1.48183283e+00, -1.35987809e+00, -1.38580138e+00, -1.49664985e+00,\n",
       "        -1.49098533e+00, -1.32380150e+00, -1.26402751e+00, -1.11764398e+00,\n",
       "        -1.11394536e+00, -1.34322862e+00, -1.33707669e+00, -1.31202249e+00,\n",
       "        -9.53401988e-01, -7.62652790e-01, -6.12603558e-01, -5.33498135e-01,\n",
       "        -4.03273693e-01, -3.31294348e-01, -2.83360175e-01, -3.47398268e-01,\n",
       "        -2.55974739e-01, -2.05517470e-01, -2.08030931e-01, -3.07624182e-01,\n",
       "        -1.96508244e-01, -4.18486834e-02, -7.82030079e-02, -4.60357249e-02,\n",
       "        -1.73419679e-01, -8.35482936e-02,  4.41921867e-02,  4.25981080e-02,\n",
       "         6.65773511e-02,  6.85816756e-02, -8.76215957e-03, -6.66593660e-02,\n",
       "        -1.26603065e-01, -5.85240294e-02,  2.28134096e-02, -1.53596437e-02,\n",
       "        -1.31983708e-01, -1.38243829e-01, -2.80238563e-01, -7.92289209e-02,\n",
       "        -7.48270235e-02, -6.45568800e-02, -1.34437134e-01, -1.21075153e-01,\n",
       "         5.25729982e-02, -5.57939432e-02,  5.80313005e-02,  7.03022141e-02,\n",
       "         9.92942699e-02,  1.93254433e-01,  1.53826069e-01,  1.26563613e-01,\n",
       "         2.88997548e-02, -4.54032179e-02, -2.28231985e-01, -7.67266302e-02,\n",
       "         5.74795612e-02, -6.44370302e-02, -6.19739172e-02, -1.41450696e-01,\n",
       "        -2.10672320e-01, -1.69223225e-01, -2.04282707e-01, -1.50904905e-01,\n",
       "        -3.28186619e-02, -1.29181537e-01, -1.82120437e-02, -3.91383426e-02,\n",
       "        -9.91647405e-03, -5.50878107e-04, -8.27500518e-03,  4.82201003e-02,\n",
       "         1.64296913e-01,  1.18643351e-01,  2.13494578e-01,  1.48808127e-01,\n",
       "         1.85224168e-01, -3.56124271e-02, -7.88939032e-03, -1.24162225e-01,\n",
       "         1.75047839e-02, -2.89515155e-02,  3.00592548e-02,  2.53335264e-02,\n",
       "         5.57763387e-04,  9.97483367e-03, -1.84564303e-02,  8.58678540e-02,\n",
       "         1.76996233e-01,  2.57942714e-01,  4.77674220e-01,  4.10988146e-01,\n",
       "         2.39623104e-01,  4.56250582e-01,  4.17027112e-01,  2.57073501e-01,\n",
       "         3.65138422e-01,  3.50547510e-01,  2.56147716e-01,  3.93251118e-01,\n",
       "         4.78096871e-01,  6.09763631e-01,  7.15990387e-01,  5.67529870e-01,\n",
       "         6.79594874e-01,  7.47634777e-01,  7.42816963e-01,  7.84458300e-01,\n",
       "         7.08506889e-01,  7.12249218e-01,  7.41329096e-01,  7.80895050e-01,\n",
       "         6.83472573e-01,  7.38848781e-01,  7.89071859e-01,  9.07810641e-01,\n",
       "         8.06829209e-01,  9.44861007e-02, -4.49791760e-02,  2.58822864e-01,\n",
       "         2.28042404e-01,  8.48251300e-02,  2.64157352e-01, -4.89224953e-02,\n",
       "        -5.70875705e-02, -7.22346103e-03, -1.03022496e-01, -2.14484781e-01,\n",
       "        -1.24757603e-01, -3.55303589e-02, -2.61860239e-02, -5.62707570e-02,\n",
       "         1.75902532e-01,  4.28196053e-01,  6.35000283e-01,  6.72282433e-01,\n",
       "         8.07381766e-01,  8.66976623e-01,  9.55851452e-01,  8.94625296e-01,\n",
       "         1.33133638e+00,  1.27357951e+00,  1.43643825e+00,  1.50706420e+00,\n",
       "         1.78109256e+00,  1.79837884e+00,  1.80900790e+00,  1.78173919e+00,\n",
       "         1.82175312e+00,  1.88672179e+00,  1.93869565e+00,  1.92801599e+00,\n",
       "         2.08066868e+00,  1.94177182e+00,  2.10665849e+00,  1.97890902e+00,\n",
       "         1.82316210e+00,  1.93774898e+00,  2.00181121e+00,  1.90080021e+00,\n",
       "         1.85059349e+00,  1.83550183e+00,  1.70297162e+00,  1.84587626e+00,\n",
       "         1.84596788e+00,  1.81886944e+00,  1.77936991e+00,  1.74628485e+00,\n",
       "         1.68986545e+00,  1.82600746e+00,  1.73487004e+00,  1.65489309e+00,\n",
       "         1.70038417e+00,  1.68319034e+00,  1.32977051e+00,  1.65052504e+00,\n",
       "         1.73418902e+00,  1.53577225e+00,  1.43649670e+00,  1.30306859e+00,\n",
       "         1.24836497e+00]),\n",
       " 'y_err': array([1., 1., 1., 1., 1., 1., 1., 1., 1., 1., 1., 1., 1., 1., 1., 1., 1.,\n",
       "        1., 1., 1., 1., 1., 1., 1., 1., 1., 1., 1., 1., 1., 1., 1., 1., 1.,\n",
       "        1., 1., 1., 1., 1., 1., 1., 1., 1., 1., 1., 1., 1., 1., 1., 1., 1.,\n",
       "        1., 1., 1., 1., 1., 1., 1., 1., 1., 1., 1., 1., 1., 1., 1., 1., 1.,\n",
       "        1., 1., 1., 1., 1., 1., 1., 1., 1., 1., 1., 1., 1., 1., 1., 1., 1.,\n",
       "        1., 1., 1., 1., 1., 1., 1., 1., 1., 1., 1., 1., 1., 1., 1., 1., 1.,\n",
       "        1., 1., 1., 1., 1., 1., 1., 1., 1., 1., 1., 1., 1., 1., 1., 1., 1.,\n",
       "        1., 1., 1., 1., 1., 1., 1., 1., 1., 1., 1., 1., 1., 1., 1., 1., 1.,\n",
       "        1., 1., 1., 1., 1., 1., 1., 1., 1., 1., 1., 1., 1., 1., 1., 1., 1.,\n",
       "        1., 1., 1., 1., 1., 1., 1., 1., 1., 1., 1., 1., 1., 1., 1., 1., 1.,\n",
       "        1., 1., 1., 1., 1., 1., 1., 1., 1., 1., 1., 1., 1., 1., 1., 1., 1.,\n",
       "        1., 1., 1., 1., 1., 1., 1., 1., 1., 1., 1., 1., 1., 1., 1., 1., 1.,\n",
       "        1., 1., 1., 1., 1., 1., 1., 1., 1., 1., 1., 1., 1., 1., 1., 1., 1.,\n",
       "        1., 1., 1., 1., 1., 1., 1., 1., 1., 1., 1., 1., 1., 1., 1., 1., 1.,\n",
       "        1., 1., 1., 1., 1., 1., 1., 1., 1., 1., 1., 1., 1., 1., 1., 1., 1.,\n",
       "        1., 1., 1., 1., 1., 1., 1., 1., 1., 1., 1., 1., 1., 1.]),\n",
       " 'function': <function trendfilter.extrapolate.vectorize.<locals>.func(x_new)>,\n",
       " 'function_base': <function trendfilter.extrapolate.vectorize.<locals>.func(x_new)>,\n",
       " 'function_deviates': <function trendfilter.extrapolate.vectorize.<locals>.func(x_new)>,\n",
       " 'model': Variable((269,), var7),\n",
       " 'base_model': Variable((269,), var7),\n",
       " 'objective_model': Expression(CONVEX, NONNEGATIVE, ()),\n",
       " 'regularization_total': Expression(CONVEX, NONNEGATIVE, ()),\n",
       " 'regularizations': [Expression(AFFINE, ZERO, ()),\n",
       "  Expression(CONVEX, NONNEGATIVE, ())],\n",
       " 'objective_total': Minimize(Expression(CONVEX, NONNEGATIVE, ())),\n",
       " 'y_fit': array([-9.47526666e-01, -9.83799562e-01, -1.02007246e+00, -1.05634535e+00,\n",
       "        -1.09261825e+00, -1.12889114e+00, -1.16516404e+00, -1.19456524e+00,\n",
       "        -1.20290455e+00, -1.16608384e+00, -1.12926313e+00, -1.09244242e+00,\n",
       "        -1.05562171e+00, -1.08805822e+00, -1.12049472e+00, -1.15293122e+00,\n",
       "        -1.12115213e+00, -1.08351853e+00, -1.04588493e+00, -1.00825133e+00,\n",
       "        -9.70617735e-01, -9.82684091e-01, -9.94750447e-01, -1.00681680e+00,\n",
       "        -1.01888316e+00, -1.03094943e+00, -1.04301571e+00, -1.04045023e+00,\n",
       "        -1.03788475e+00, -1.03531928e+00, -1.03275380e+00, -9.82115924e-01,\n",
       "        -9.31478051e-01, -8.80840177e-01, -8.30182670e-01, -7.79525163e-01,\n",
       "        -7.28867656e-01, -6.78210149e-01, -6.27552641e-01, -5.76895134e-01,\n",
       "        -5.26237627e-01, -4.75580120e-01, -4.48945598e-01, -4.22311077e-01,\n",
       "        -3.95676556e-01, -3.69042034e-01, -3.42407513e-01, -3.15772991e-01,\n",
       "        -3.15259761e-01, -3.18285349e-01, -3.21310938e-01, -3.24336527e-01,\n",
       "        -3.27362116e-01, -3.30387704e-01, -3.33413289e-01, -2.98876873e-01,\n",
       "        -2.64340456e-01, -2.29804039e-01, -1.95267622e-01, -1.60731205e-01,\n",
       "        -1.26194788e-01, -9.16583700e-02, -2.45606845e-02,  4.25370009e-02,\n",
       "         1.09634686e-01,  1.76732372e-01, -9.32174113e-04, -2.64774412e-01,\n",
       "        -5.53965649e-01, -8.43156886e-01, -1.13234812e+00, -1.42153936e+00,\n",
       "        -1.71073060e+00, -1.76387372e+00, -1.72205903e+00, -1.68024434e+00,\n",
       "        -1.63842965e+00, -1.59661495e+00, -1.55480026e+00, -1.51298557e+00,\n",
       "        -1.50100037e+00, -1.48901517e+00, -1.47702996e+00, -1.46504476e+00,\n",
       "        -1.45305955e+00, -1.44107435e+00, -1.42908914e+00, -1.41710394e+00,\n",
       "        -1.37754459e+00, -1.33237220e+00, -1.28719982e+00, -1.24202743e+00,\n",
       "        -1.24627454e+00, -1.25052165e+00, -1.25476876e+00, -1.16327641e+00,\n",
       "        -9.94740718e-01, -8.26205025e-01, -6.57669332e-01, -5.31076810e-01,\n",
       "        -4.04484355e-01, -3.45695944e-01, -3.19853411e-01, -2.94010879e-01,\n",
       "        -2.68168346e-01, -2.42325814e-01, -2.16483283e-01, -1.90640751e-01,\n",
       "        -1.64798219e-01, -1.38955688e-01, -1.13113161e-01, -8.72706368e-02,\n",
       "        -6.14281133e-02, -3.55855898e-02, -9.74306645e-03,  1.60994561e-02,\n",
       "         3.84127445e-02,  1.97722061e-02,  1.13166757e-03, -1.75088710e-02,\n",
       "        -3.61494095e-02, -5.47899479e-02, -7.34304864e-02, -9.20710249e-02,\n",
       "        -1.10711563e-01, -1.29352102e-01, -1.47992640e-01, -1.30671827e-01,\n",
       "        -1.13351014e-01, -9.60302003e-02, -7.87093869e-02, -5.00433162e-02,\n",
       "        -1.92390641e-02,  1.15651881e-02,  4.23694404e-02,  7.31736926e-02,\n",
       "         1.03977945e-01,  1.34782197e-01,  1.11206788e-01,  7.07382870e-02,\n",
       "         3.02697860e-02, -1.01987151e-02, -5.06672161e-02, -6.59539462e-02,\n",
       "        -8.12406762e-02, -9.65274063e-02, -1.11814136e-01, -1.27100867e-01,\n",
       "        -1.42387597e-01, -1.57674325e-01, -1.65320248e-01, -1.38503113e-01,\n",
       "        -1.11685979e-01, -8.48688449e-02, -5.80517105e-02, -3.12345761e-02,\n",
       "        -4.41744143e-03,  2.23996936e-02,  4.92168293e-02,  7.60339654e-02,\n",
       "         1.02851102e-01,  1.29668238e-01,  1.56485374e-01,  1.19032075e-01,\n",
       "         8.15787736e-02,  4.41254722e-02,  6.67217080e-03, -3.07811305e-02,\n",
       "        -2.19276168e-02, -1.30741030e-02, -4.22058904e-03,  4.63292497e-03,\n",
       "         1.34864391e-02,  2.23399536e-02,  3.11934705e-02,  1.12685608e-01,\n",
       "         1.94177746e-01,  2.75669884e-01,  3.57162022e-01,  3.56577172e-01,\n",
       "         3.55992323e-01,  3.55407473e-01,  3.54822623e-01,  3.54237774e-01,\n",
       "         3.53652924e-01,  3.53068074e-01,  3.52483224e-01,  4.18954815e-01,\n",
       "         4.85426405e-01,  5.51897995e-01,  6.18369585e-01,  6.50201452e-01,\n",
       "         6.82033320e-01,  7.13865187e-01,  7.21522220e-01,  7.29179247e-01,\n",
       "         7.36836273e-01,  7.44493299e-01,  7.52150325e-01,  7.59807351e-01,\n",
       "         7.67464378e-01,  7.75121404e-01,  7.82778430e-01,  7.90435456e-01,\n",
       "         5.75336172e-01,  3.60236887e-01,  1.58739352e-01,  1.43747037e-01,\n",
       "         1.28754722e-01,  1.13762404e-01,  9.87700862e-02,  4.69372538e-02,\n",
       "        -4.89557856e-03, -5.67284109e-02, -1.08561243e-01, -1.60394076e-01,\n",
       "        -1.11448815e-01, -6.21592572e-02, -1.28696969e-02,  4.02782985e-02,\n",
       "         2.07660202e-01,  3.75042106e-01,  5.42424010e-01,  6.50621440e-01,\n",
       "         7.58818870e-01,  8.67016300e-01,  9.75213729e-01,  1.08341116e+00,\n",
       "         1.20287214e+00,  1.32233312e+00,  1.44179409e+00,  1.56125507e+00,\n",
       "         1.68071605e+00,  1.75567095e+00,  1.79040655e+00,  1.82514216e+00,\n",
       "         1.85987776e+00,  1.89461337e+00,  1.92934898e+00,  1.96408458e+00,\n",
       "         1.99882019e+00,  1.99580509e+00,  1.99279000e+00,  1.97282692e+00,\n",
       "         1.95286384e+00,  1.93290076e+00,  1.91293768e+00,  1.89297460e+00,\n",
       "         1.87301152e+00,  1.85304844e+00,  1.83308536e+00,  1.81825043e+00,\n",
       "         1.80341551e+00,  1.78858058e+00,  1.77374566e+00,  1.75891073e+00,\n",
       "         1.74407581e+00,  1.72924088e+00,  1.70670664e+00,  1.68417240e+00,\n",
       "         1.66163815e+00,  1.63910391e+00,  1.61656967e+00,  1.60181410e+00,\n",
       "         1.58705853e+00,  1.50675354e+00,  1.42644855e+00,  1.34614356e+00,\n",
       "         1.26583856e+00]),\n",
       " 'constraints': [],\n",
       " 'linear_deviations': []}"
      ]
     },
     "execution_count": 33,
     "metadata": {},
     "output_type": "execute_result"
    }
   ],
   "source": [
    "result"
   ]
  },
  {
   "cell_type": "code",
   "execution_count": 32,
   "id": "1a64ba83",
   "metadata": {},
   "outputs": [
    {
     "data": {
      "text/plain": [
       "array([-9.22601555e-01, -9.71078565e-01, -1.06504537e+00, -1.04565847e+00,\n",
       "       -1.06007031e+00, -1.10930738e+00, -1.22065581e+00, -1.19456524e+00,\n",
       "       -1.23643028e+00, -1.23339427e+00, -1.16881460e+00, -9.77313785e-01,\n",
       "       -9.63051078e-01, -1.03779325e+00, -1.12295102e+00, -1.26805154e+00,\n",
       "       -1.17137441e+00, -1.15663695e+00, -1.02116681e+00, -9.37451676e-01,\n",
       "       -8.82019645e-01, -9.95891080e-01, -8.68843542e-01, -1.16460414e+00,\n",
       "       -1.05076320e+00, -9.96062432e-01, -1.10586393e+00, -1.00801574e+00,\n",
       "       -9.87594082e-01, -1.05659002e+00, -1.07939177e+00, -9.51127642e-01,\n",
       "       -9.05554207e-01, -9.59835738e-01, -8.44554521e-01, -8.14942404e-01,\n",
       "       -6.23802832e-01, -6.79878448e-01, -6.51600971e-01, -5.92808938e-01,\n",
       "       -5.16343228e-01, -3.88759695e-01, -3.82954093e-01, -4.72652596e-01,\n",
       "       -5.22968292e-01, -4.71909781e-01, -2.37025964e-01, -2.65584645e-01,\n",
       "       -2.83299761e-01, -2.86795246e-01, -3.03932687e-01, -3.14169769e-01,\n",
       "       -3.89224616e-01, -3.55878067e-01, -3.49736663e-01, -2.99150403e-01,\n",
       "       -3.38392525e-01, -2.07802209e-01, -5.14574572e-02, -1.50957099e-01,\n",
       "       -2.04511518e-01, -1.60874447e-01, -5.73137695e-02,  4.26559340e-02,\n",
       "        1.43461197e-01,  2.34493428e-01, -9.32173965e-04, -1.75206825e-01,\n",
       "       -5.74355091e-01, -9.15224138e-01, -1.13593758e+00, -1.26443033e+00,\n",
       "       -1.86136107e+00, -1.80857363e+00, -1.72204850e+00, -1.73334065e+00,\n",
       "       -1.53678222e+00, -1.68206486e+00, -1.50831918e+00, -1.46100582e+00,\n",
       "       -1.40175181e+00, -1.50546080e+00, -1.56406757e+00, -1.49384758e+00,\n",
       "       -1.48183283e+00, -1.35987809e+00, -1.38580138e+00, -1.49664985e+00,\n",
       "       -1.49098533e+00, -1.32380150e+00, -1.26402751e+00, -1.11764398e+00,\n",
       "       -1.11394536e+00, -1.34322862e+00, -1.33707669e+00, -1.31202249e+00,\n",
       "       -9.53401988e-01, -7.62652790e-01, -6.12603558e-01, -5.33498135e-01,\n",
       "       -4.03273693e-01, -3.31294348e-01, -2.83360175e-01, -3.47398268e-01,\n",
       "       -2.55974739e-01, -2.05517470e-01, -2.08030931e-01, -3.07624182e-01,\n",
       "       -1.96508244e-01, -4.18486834e-02, -7.82030079e-02, -4.60357249e-02,\n",
       "       -1.73419679e-01, -8.35482936e-02,  4.41921867e-02,  4.25981080e-02,\n",
       "        6.65773511e-02,  6.85816756e-02, -8.76215957e-03, -6.66593660e-02,\n",
       "       -1.26603065e-01, -5.85240294e-02,  2.28134096e-02, -1.53596437e-02,\n",
       "       -1.31983708e-01, -1.38243829e-01, -2.80238563e-01, -7.92289209e-02,\n",
       "       -7.48270235e-02, -6.45568800e-02, -1.34437134e-01, -1.21075153e-01,\n",
       "        5.25729982e-02, -5.57939432e-02,  5.80313005e-02,  7.03022141e-02,\n",
       "        9.92942699e-02,  1.93254433e-01,  1.53826069e-01,  1.26563613e-01,\n",
       "        2.88997548e-02, -4.54032179e-02, -2.28231985e-01, -7.67266302e-02,\n",
       "        5.74795612e-02, -6.44370302e-02, -6.19739172e-02, -1.41450696e-01,\n",
       "       -2.10672320e-01, -1.69223225e-01, -2.04282707e-01, -1.50904905e-01,\n",
       "       -3.28186619e-02, -1.29181537e-01, -1.82120437e-02, -3.91383426e-02,\n",
       "       -9.91647405e-03, -5.50878107e-04, -8.27500518e-03,  4.82201003e-02,\n",
       "        1.64296913e-01,  1.18643351e-01,  2.13494578e-01,  1.48808127e-01,\n",
       "        1.85224168e-01, -3.56124271e-02, -7.88939032e-03, -1.24162225e-01,\n",
       "        1.75047839e-02, -2.89515155e-02,  3.00592548e-02,  2.53335264e-02,\n",
       "        5.57763387e-04,  9.97483367e-03, -1.84564303e-02,  8.58678540e-02,\n",
       "        1.76996233e-01,  2.57942714e-01,  4.77674220e-01,  4.10988146e-01,\n",
       "        2.39623104e-01,  4.56250582e-01,  4.17027112e-01,  2.57073501e-01,\n",
       "        3.65138422e-01,  3.50547510e-01,  2.56147716e-01,  3.93251118e-01,\n",
       "        4.78096871e-01,  6.09763631e-01,  7.15990387e-01,  5.67529870e-01,\n",
       "        6.79594874e-01,  7.47634777e-01,  7.42816963e-01,  7.84458300e-01,\n",
       "        7.08506889e-01,  7.12249218e-01,  7.41329096e-01,  7.80895050e-01,\n",
       "        6.83472573e-01,  7.38848781e-01,  7.89071859e-01,  9.07810641e-01,\n",
       "        8.06829209e-01,  9.44861007e-02, -4.49791760e-02,  2.58822864e-01,\n",
       "        2.28042404e-01,  8.48251300e-02,  2.64157352e-01, -4.89224953e-02,\n",
       "       -5.70875705e-02, -7.22346103e-03, -1.03022496e-01, -2.14484781e-01,\n",
       "       -1.24757603e-01, -3.55303589e-02, -2.61860239e-02, -5.62707570e-02,\n",
       "        1.75902532e-01,  4.28196053e-01,  6.35000283e-01,  6.72282433e-01,\n",
       "        8.07381766e-01,  8.66976623e-01,  9.55851452e-01,  8.94625296e-01,\n",
       "        1.33133638e+00,  1.27357951e+00,  1.43643825e+00,  1.50706420e+00,\n",
       "        1.78109256e+00,  1.79837884e+00,  1.80900790e+00,  1.78173919e+00,\n",
       "        1.82175312e+00,  1.88672179e+00,  1.93869565e+00,  1.92801599e+00,\n",
       "        2.08066868e+00,  1.94177182e+00,  2.10665849e+00,  1.97890902e+00,\n",
       "        1.82316210e+00,  1.93774898e+00,  2.00181121e+00,  1.90080021e+00,\n",
       "        1.85059349e+00,  1.83550183e+00,  1.70297162e+00,  1.84587626e+00,\n",
       "        1.84596788e+00,  1.81886944e+00,  1.77936991e+00,  1.74628485e+00,\n",
       "        1.68986545e+00,  1.82600746e+00,  1.73487004e+00,  1.65489309e+00,\n",
       "        1.70038417e+00,  1.68319034e+00,  1.32977051e+00,  1.65052504e+00,\n",
       "        1.73418902e+00,  1.53577225e+00,  1.43649670e+00,  1.30306859e+00,\n",
       "        1.24836497e+00])"
      ]
     },
     "execution_count": 32,
     "metadata": {},
     "output_type": "execute_result"
    }
   ],
   "source": [
    "result['y']"
   ]
  },
  {
   "cell_type": "code",
   "execution_count": 29,
   "id": "c6414abe",
   "metadata": {},
   "outputs": [
    {
     "data": {
      "text/html": [
       "<div style=\"display: table;\"><div style=\"display: table-row;\"><div style=\"display: table-cell;\"><b title=\"bokeh.plotting._figure.figure\">figure</b>(</div><div style=\"display: table-cell;\">id&nbsp;=&nbsp;'p1001', <span id=\"p1087\" style=\"cursor: pointer;\">&hellip;)</span></div></div><div class=\"p1086\" style=\"display: none;\"><div style=\"display: table-cell;\"></div><div style=\"display: table-cell;\">above&nbsp;=&nbsp;[],</div></div><div class=\"p1086\" style=\"display: none;\"><div style=\"display: table-cell;\"></div><div style=\"display: table-cell;\">align&nbsp;=&nbsp;'auto',</div></div><div class=\"p1086\" style=\"display: none;\"><div style=\"display: table-cell;\"></div><div style=\"display: table-cell;\">aspect_ratio&nbsp;=&nbsp;None,</div></div><div class=\"p1086\" style=\"display: none;\"><div style=\"display: table-cell;\"></div><div style=\"display: table-cell;\">aspect_scale&nbsp;=&nbsp;1,</div></div><div class=\"p1086\" style=\"display: none;\"><div style=\"display: table-cell;\"></div><div style=\"display: table-cell;\">attribution&nbsp;=&nbsp;[],</div></div><div class=\"p1086\" style=\"display: none;\"><div style=\"display: table-cell;\"></div><div style=\"display: table-cell;\">background_fill_alpha&nbsp;=&nbsp;1.0,</div></div><div class=\"p1086\" style=\"display: none;\"><div style=\"display: table-cell;\"></div><div style=\"display: table-cell;\">background_fill_color&nbsp;=&nbsp;'#ffffff',</div></div><div class=\"p1086\" style=\"display: none;\"><div style=\"display: table-cell;\"></div><div style=\"display: table-cell;\">below&nbsp;=&nbsp;[LinearAxis(id='p1015', ...)],</div></div><div class=\"p1086\" style=\"display: none;\"><div style=\"display: table-cell;\"></div><div style=\"display: table-cell;\">border_fill_alpha&nbsp;=&nbsp;1.0,</div></div><div class=\"p1086\" style=\"display: none;\"><div style=\"display: table-cell;\"></div><div style=\"display: table-cell;\">border_fill_color&nbsp;=&nbsp;'#ffffff',</div></div><div class=\"p1086\" style=\"display: none;\"><div style=\"display: table-cell;\"></div><div style=\"display: table-cell;\">center&nbsp;=&nbsp;[Grid(id='p1019', ...), Grid(id='p1024', ...), Legend(id='p1047', ...)],</div></div><div class=\"p1086\" style=\"display: none;\"><div style=\"display: table-cell;\"></div><div style=\"display: table-cell;\">context_menu&nbsp;=&nbsp;None,</div></div><div class=\"p1086\" style=\"display: none;\"><div style=\"display: table-cell;\"></div><div style=\"display: table-cell;\">css_classes&nbsp;=&nbsp;[],</div></div><div class=\"p1086\" style=\"display: none;\"><div style=\"display: table-cell;\"></div><div style=\"display: table-cell;\">css_variables&nbsp;=&nbsp;{},</div></div><div class=\"p1086\" style=\"display: none;\"><div style=\"display: table-cell;\"></div><div style=\"display: table-cell;\">disabled&nbsp;=&nbsp;False,</div></div><div class=\"p1086\" style=\"display: none;\"><div style=\"display: table-cell;\"></div><div style=\"display: table-cell;\">elements&nbsp;=&nbsp;[],</div></div><div class=\"p1086\" style=\"display: none;\"><div style=\"display: table-cell;\"></div><div style=\"display: table-cell;\">extra_x_ranges&nbsp;=&nbsp;{},</div></div><div class=\"p1086\" style=\"display: none;\"><div style=\"display: table-cell;\"></div><div style=\"display: table-cell;\">extra_x_scales&nbsp;=&nbsp;{},</div></div><div class=\"p1086\" style=\"display: none;\"><div style=\"display: table-cell;\"></div><div style=\"display: table-cell;\">extra_y_ranges&nbsp;=&nbsp;{},</div></div><div class=\"p1086\" style=\"display: none;\"><div style=\"display: table-cell;\"></div><div style=\"display: table-cell;\">extra_y_scales&nbsp;=&nbsp;{},</div></div><div class=\"p1086\" style=\"display: none;\"><div style=\"display: table-cell;\"></div><div style=\"display: table-cell;\">flow_mode&nbsp;=&nbsp;'block',</div></div><div class=\"p1086\" style=\"display: none;\"><div style=\"display: table-cell;\"></div><div style=\"display: table-cell;\">frame_align&nbsp;=&nbsp;True,</div></div><div class=\"p1086\" style=\"display: none;\"><div style=\"display: table-cell;\"></div><div style=\"display: table-cell;\">frame_height&nbsp;=&nbsp;None,</div></div><div class=\"p1086\" style=\"display: none;\"><div style=\"display: table-cell;\"></div><div style=\"display: table-cell;\">frame_width&nbsp;=&nbsp;None,</div></div><div class=\"p1086\" style=\"display: none;\"><div style=\"display: table-cell;\"></div><div style=\"display: table-cell;\">height&nbsp;=&nbsp;600,</div></div><div class=\"p1086\" style=\"display: none;\"><div style=\"display: table-cell;\"></div><div style=\"display: table-cell;\">height_policy&nbsp;=&nbsp;'auto',</div></div><div class=\"p1086\" style=\"display: none;\"><div style=\"display: table-cell;\"></div><div style=\"display: table-cell;\">hidpi&nbsp;=&nbsp;True,</div></div><div class=\"p1086\" style=\"display: none;\"><div style=\"display: table-cell;\"></div><div style=\"display: table-cell;\">hold_render&nbsp;=&nbsp;False,</div></div><div class=\"p1086\" style=\"display: none;\"><div style=\"display: table-cell;\"></div><div style=\"display: table-cell;\">js_event_callbacks&nbsp;=&nbsp;{},</div></div><div class=\"p1086\" style=\"display: none;\"><div style=\"display: table-cell;\"></div><div style=\"display: table-cell;\">js_property_callbacks&nbsp;=&nbsp;{},</div></div><div class=\"p1086\" style=\"display: none;\"><div style=\"display: table-cell;\"></div><div style=\"display: table-cell;\">left&nbsp;=&nbsp;[LinearAxis(id='p1020', ...)],</div></div><div class=\"p1086\" style=\"display: none;\"><div style=\"display: table-cell;\"></div><div style=\"display: table-cell;\">lod_factor&nbsp;=&nbsp;10,</div></div><div class=\"p1086\" style=\"display: none;\"><div style=\"display: table-cell;\"></div><div style=\"display: table-cell;\">lod_interval&nbsp;=&nbsp;300,</div></div><div class=\"p1086\" style=\"display: none;\"><div style=\"display: table-cell;\"></div><div style=\"display: table-cell;\">lod_threshold&nbsp;=&nbsp;2000,</div></div><div class=\"p1086\" style=\"display: none;\"><div style=\"display: table-cell;\"></div><div style=\"display: table-cell;\">lod_timeout&nbsp;=&nbsp;500,</div></div><div class=\"p1086\" style=\"display: none;\"><div style=\"display: table-cell;\"></div><div style=\"display: table-cell;\">margin&nbsp;=&nbsp;None,</div></div><div class=\"p1086\" style=\"display: none;\"><div style=\"display: table-cell;\"></div><div style=\"display: table-cell;\">match_aspect&nbsp;=&nbsp;False,</div></div><div class=\"p1086\" style=\"display: none;\"><div style=\"display: table-cell;\"></div><div style=\"display: table-cell;\">max_height&nbsp;=&nbsp;None,</div></div><div class=\"p1086\" style=\"display: none;\"><div style=\"display: table-cell;\"></div><div style=\"display: table-cell;\">max_width&nbsp;=&nbsp;None,</div></div><div class=\"p1086\" style=\"display: none;\"><div style=\"display: table-cell;\"></div><div style=\"display: table-cell;\">min_border&nbsp;=&nbsp;5,</div></div><div class=\"p1086\" style=\"display: none;\"><div style=\"display: table-cell;\"></div><div style=\"display: table-cell;\">min_border_bottom&nbsp;=&nbsp;None,</div></div><div class=\"p1086\" style=\"display: none;\"><div style=\"display: table-cell;\"></div><div style=\"display: table-cell;\">min_border_left&nbsp;=&nbsp;None,</div></div><div class=\"p1086\" style=\"display: none;\"><div style=\"display: table-cell;\"></div><div style=\"display: table-cell;\">min_border_right&nbsp;=&nbsp;None,</div></div><div class=\"p1086\" style=\"display: none;\"><div style=\"display: table-cell;\"></div><div style=\"display: table-cell;\">min_border_top&nbsp;=&nbsp;None,</div></div><div class=\"p1086\" style=\"display: none;\"><div style=\"display: table-cell;\"></div><div style=\"display: table-cell;\">min_height&nbsp;=&nbsp;None,</div></div><div class=\"p1086\" style=\"display: none;\"><div style=\"display: table-cell;\"></div><div style=\"display: table-cell;\">min_width&nbsp;=&nbsp;None,</div></div><div class=\"p1086\" style=\"display: none;\"><div style=\"display: table-cell;\"></div><div style=\"display: table-cell;\">name&nbsp;=&nbsp;None,</div></div><div class=\"p1086\" style=\"display: none;\"><div style=\"display: table-cell;\"></div><div style=\"display: table-cell;\">outline_line_alpha&nbsp;=&nbsp;1.0,</div></div><div class=\"p1086\" style=\"display: none;\"><div style=\"display: table-cell;\"></div><div style=\"display: table-cell;\">outline_line_cap&nbsp;=&nbsp;'butt',</div></div><div class=\"p1086\" style=\"display: none;\"><div style=\"display: table-cell;\"></div><div style=\"display: table-cell;\">outline_line_color&nbsp;=&nbsp;'#e5e5e5',</div></div><div class=\"p1086\" style=\"display: none;\"><div style=\"display: table-cell;\"></div><div style=\"display: table-cell;\">outline_line_dash&nbsp;=&nbsp;[],</div></div><div class=\"p1086\" style=\"display: none;\"><div style=\"display: table-cell;\"></div><div style=\"display: table-cell;\">outline_line_dash_offset&nbsp;=&nbsp;0,</div></div><div class=\"p1086\" style=\"display: none;\"><div style=\"display: table-cell;\"></div><div style=\"display: table-cell;\">outline_line_join&nbsp;=&nbsp;'bevel',</div></div><div class=\"p1086\" style=\"display: none;\"><div style=\"display: table-cell;\"></div><div style=\"display: table-cell;\">outline_line_width&nbsp;=&nbsp;1,</div></div><div class=\"p1086\" style=\"display: none;\"><div style=\"display: table-cell;\"></div><div style=\"display: table-cell;\">output_backend&nbsp;=&nbsp;'canvas',</div></div><div class=\"p1086\" style=\"display: none;\"><div style=\"display: table-cell;\"></div><div style=\"display: table-cell;\">renderers&nbsp;=&nbsp;[GlyphRenderer(id='p1044', ...), GlyphRenderer(id='p1055', ...), GlyphRenderer(id='p1064', ...), GlyphRenderer(id='p1074', ...)],</div></div><div class=\"p1086\" style=\"display: none;\"><div style=\"display: table-cell;\"></div><div style=\"display: table-cell;\">reset_policy&nbsp;=&nbsp;'standard',</div></div><div class=\"p1086\" style=\"display: none;\"><div style=\"display: table-cell;\"></div><div style=\"display: table-cell;\">resizable&nbsp;=&nbsp;False,</div></div><div class=\"p1086\" style=\"display: none;\"><div style=\"display: table-cell;\"></div><div style=\"display: table-cell;\">right&nbsp;=&nbsp;[],</div></div><div class=\"p1086\" style=\"display: none;\"><div style=\"display: table-cell;\"></div><div style=\"display: table-cell;\">sizing_mode&nbsp;=&nbsp;None,</div></div><div class=\"p1086\" style=\"display: none;\"><div style=\"display: table-cell;\"></div><div style=\"display: table-cell;\">styles&nbsp;=&nbsp;{},</div></div><div class=\"p1086\" style=\"display: none;\"><div style=\"display: table-cell;\"></div><div style=\"display: table-cell;\">stylesheets&nbsp;=&nbsp;[],</div></div><div class=\"p1086\" style=\"display: none;\"><div style=\"display: table-cell;\"></div><div style=\"display: table-cell;\">subscribed_events&nbsp;=&nbsp;PropertyValueSet(),</div></div><div class=\"p1086\" style=\"display: none;\"><div style=\"display: table-cell;\"></div><div style=\"display: table-cell;\">syncable&nbsp;=&nbsp;True,</div></div><div class=\"p1086\" style=\"display: none;\"><div style=\"display: table-cell;\"></div><div style=\"display: table-cell;\">tags&nbsp;=&nbsp;[],</div></div><div class=\"p1086\" style=\"display: none;\"><div style=\"display: table-cell;\"></div><div style=\"display: table-cell;\">title&nbsp;=&nbsp;Title(id='p1004', ...),</div></div><div class=\"p1086\" style=\"display: none;\"><div style=\"display: table-cell;\"></div><div style=\"display: table-cell;\">title_location&nbsp;=&nbsp;'above',</div></div><div class=\"p1086\" style=\"display: none;\"><div style=\"display: table-cell;\"></div><div style=\"display: table-cell;\">toolbar&nbsp;=&nbsp;Toolbar(id='p1010', ...),</div></div><div class=\"p1086\" style=\"display: none;\"><div style=\"display: table-cell;\"></div><div style=\"display: table-cell;\">toolbar_inner&nbsp;=&nbsp;False,</div></div><div class=\"p1086\" style=\"display: none;\"><div style=\"display: table-cell;\"></div><div style=\"display: table-cell;\">toolbar_location&nbsp;=&nbsp;'right',</div></div><div class=\"p1086\" style=\"display: none;\"><div style=\"display: table-cell;\"></div><div style=\"display: table-cell;\">toolbar_sticky&nbsp;=&nbsp;True,</div></div><div class=\"p1086\" style=\"display: none;\"><div style=\"display: table-cell;\"></div><div style=\"display: table-cell;\">visible&nbsp;=&nbsp;True,</div></div><div class=\"p1086\" style=\"display: none;\"><div style=\"display: table-cell;\"></div><div style=\"display: table-cell;\">width&nbsp;=&nbsp;900,</div></div><div class=\"p1086\" style=\"display: none;\"><div style=\"display: table-cell;\"></div><div style=\"display: table-cell;\">width_policy&nbsp;=&nbsp;'auto',</div></div><div class=\"p1086\" style=\"display: none;\"><div style=\"display: table-cell;\"></div><div style=\"display: table-cell;\">x_range&nbsp;=&nbsp;Range1d(id='p1011', ...),</div></div><div class=\"p1086\" style=\"display: none;\"><div style=\"display: table-cell;\"></div><div style=\"display: table-cell;\">x_scale&nbsp;=&nbsp;LinearScale(id='p1013', ...),</div></div><div class=\"p1086\" style=\"display: none;\"><div style=\"display: table-cell;\"></div><div style=\"display: table-cell;\">y_range&nbsp;=&nbsp;Range1d(id='p1012', ...),</div></div><div class=\"p1086\" style=\"display: none;\"><div style=\"display: table-cell;\"></div><div style=\"display: table-cell;\">y_scale&nbsp;=&nbsp;LinearScale(id='p1014', ...))</div></div></div>\n",
       "<script>\n",
       "(function() {\n",
       "  let expanded = false;\n",
       "  const ellipsis = document.getElementById(\"p1087\");\n",
       "  ellipsis.addEventListener(\"click\", function() {\n",
       "    const rows = document.getElementsByClassName(\"p1086\");\n",
       "    for (let i = 0; i < rows.length; i++) {\n",
       "      const el = rows[i];\n",
       "      el.style.display = expanded ? \"none\" : \"table-row\";\n",
       "    }\n",
       "    ellipsis.innerHTML = expanded ? \"&hellip;)\" : \"&lsaquo;&lsaquo;&lsaquo;\";\n",
       "    expanded = !expanded;\n",
       "  });\n",
       "})();\n",
       "</script>\n"
      ],
      "text/plain": [
       "figure(id='p1001', ...)"
      ]
     },
     "execution_count": 29,
     "metadata": {},
     "output_type": "execute_result"
    }
   ],
   "source": [
    "plot_model(result, show_extrap=True, extrap_max=3)"
   ]
  },
  {
   "cell_type": "code",
   "execution_count": 40,
   "id": "c74727fc",
   "metadata": {},
   "outputs": [
    {
     "data": {
      "text/plain": [
       "array([-9.22601555e-01, -9.71078565e-01, -1.06504537e+00, -1.04565847e+00,\n",
       "       -1.06007031e+00, -1.10930738e+00, -1.22065581e+00, -1.19456524e+00,\n",
       "       -1.23643028e+00, -1.23339427e+00, -1.16881460e+00, -9.77313785e-01,\n",
       "       -9.63051078e-01, -1.03779325e+00, -1.12295102e+00, -1.26805154e+00,\n",
       "       -1.17137441e+00, -1.15663695e+00, -1.02116681e+00, -9.37451676e-01,\n",
       "       -8.82019645e-01, -9.95891080e-01, -8.68843542e-01, -1.16460414e+00,\n",
       "       -1.05076320e+00, -9.96062432e-01, -1.10586393e+00, -1.00801574e+00,\n",
       "       -9.87594082e-01, -1.05659002e+00, -1.07939177e+00, -9.51127642e-01,\n",
       "       -9.05554207e-01, -9.59835738e-01, -8.44554521e-01, -8.14942404e-01,\n",
       "       -6.23802832e-01, -6.79878448e-01, -6.51600971e-01, -5.92808938e-01,\n",
       "       -5.16343228e-01, -3.88759695e-01, -3.82954093e-01, -4.72652596e-01,\n",
       "       -5.22968292e-01, -4.71909781e-01, -2.37025964e-01, -2.65584645e-01,\n",
       "       -2.83299761e-01, -2.86795246e-01, -3.03932687e-01, -3.14169769e-01,\n",
       "       -3.89224616e-01, -3.55878067e-01, -3.49736663e-01, -2.99150403e-01,\n",
       "       -3.38392525e-01, -2.07802209e-01, -5.14574572e-02, -1.50957099e-01,\n",
       "       -2.04511518e-01, -1.60874447e-01, -5.73137695e-02,  4.26559340e-02,\n",
       "        1.43461197e-01,  2.34493428e-01, -9.32173965e-04, -1.75206825e-01,\n",
       "       -5.74355091e-01, -9.15224138e-01, -1.13593758e+00, -1.26443033e+00,\n",
       "       -1.86136107e+00, -1.80857363e+00, -1.72204850e+00, -1.73334065e+00,\n",
       "       -1.53678222e+00, -1.68206486e+00, -1.50831918e+00, -1.46100582e+00,\n",
       "       -1.40175181e+00, -1.50546080e+00, -1.56406757e+00, -1.49384758e+00,\n",
       "       -1.48183283e+00, -1.35987809e+00, -1.38580138e+00, -1.49664985e+00,\n",
       "       -1.49098533e+00, -1.32380150e+00, -1.26402751e+00, -1.11764398e+00,\n",
       "       -1.11394536e+00, -1.34322862e+00, -1.33707669e+00, -1.31202249e+00,\n",
       "       -9.53401988e-01, -7.62652790e-01, -6.12603558e-01, -5.33498135e-01,\n",
       "       -4.03273693e-01, -3.31294348e-01, -2.83360175e-01, -3.47398268e-01,\n",
       "       -2.55974739e-01, -2.05517470e-01, -2.08030931e-01, -3.07624182e-01,\n",
       "       -1.96508244e-01, -4.18486834e-02, -7.82030079e-02, -4.60357249e-02,\n",
       "       -1.73419679e-01, -8.35482936e-02,  4.41921867e-02,  4.25981080e-02,\n",
       "        6.65773511e-02,  6.85816756e-02, -8.76215957e-03, -6.66593660e-02,\n",
       "       -1.26603065e-01, -5.85240294e-02,  2.28134096e-02, -1.53596437e-02,\n",
       "       -1.31983708e-01, -1.38243829e-01, -2.80238563e-01, -7.92289209e-02,\n",
       "       -7.48270235e-02, -6.45568800e-02, -1.34437134e-01, -1.21075153e-01,\n",
       "        5.25729982e-02, -5.57939432e-02,  5.80313005e-02,  7.03022141e-02,\n",
       "        9.92942699e-02,  1.93254433e-01,  1.53826069e-01,  1.26563613e-01,\n",
       "        2.88997548e-02, -4.54032179e-02, -2.28231985e-01, -7.67266302e-02,\n",
       "        5.74795612e-02, -6.44370302e-02, -6.19739172e-02, -1.41450696e-01,\n",
       "       -2.10672320e-01, -1.69223225e-01, -2.04282707e-01, -1.50904905e-01,\n",
       "       -3.28186619e-02, -1.29181537e-01, -1.82120437e-02, -3.91383426e-02,\n",
       "       -9.91647405e-03, -5.50878107e-04, -8.27500518e-03,  4.82201003e-02,\n",
       "        1.64296913e-01,  1.18643351e-01,  2.13494578e-01,  1.48808127e-01,\n",
       "        1.85224168e-01, -3.56124271e-02, -7.88939032e-03, -1.24162225e-01,\n",
       "        1.75047839e-02, -2.89515155e-02,  3.00592548e-02,  2.53335264e-02,\n",
       "        5.57763387e-04,  9.97483367e-03, -1.84564303e-02,  8.58678540e-02,\n",
       "        1.76996233e-01,  2.57942714e-01,  4.77674220e-01,  4.10988146e-01,\n",
       "        2.39623104e-01,  4.56250582e-01,  4.17027112e-01,  2.57073501e-01,\n",
       "        3.65138422e-01,  3.50547510e-01,  2.56147716e-01,  3.93251118e-01,\n",
       "        4.78096871e-01,  6.09763631e-01,  7.15990387e-01,  5.67529870e-01,\n",
       "        6.79594874e-01,  7.47634777e-01,  7.42816963e-01,  7.84458300e-01,\n",
       "        7.08506889e-01,  7.12249218e-01,  7.41329096e-01,  7.80895050e-01,\n",
       "        6.83472573e-01,  7.38848781e-01,  7.89071859e-01,  9.07810641e-01,\n",
       "        8.06829209e-01,  9.44861007e-02, -4.49791760e-02,  2.58822864e-01,\n",
       "        2.28042404e-01,  8.48251300e-02,  2.64157352e-01, -4.89224953e-02,\n",
       "       -5.70875705e-02, -7.22346103e-03, -1.03022496e-01, -2.14484781e-01,\n",
       "       -1.24757603e-01, -3.55303589e-02, -2.61860239e-02, -5.62707570e-02,\n",
       "        1.75902532e-01,  4.28196053e-01,  6.35000283e-01,  6.72282433e-01,\n",
       "        8.07381766e-01,  8.66976623e-01,  9.55851452e-01,  8.94625296e-01,\n",
       "        1.33133638e+00,  1.27357951e+00,  1.43643825e+00,  1.50706420e+00,\n",
       "        1.78109256e+00,  1.79837884e+00,  1.80900790e+00,  1.78173919e+00,\n",
       "        1.82175312e+00,  1.88672179e+00,  1.93869565e+00,  1.92801599e+00,\n",
       "        2.08066868e+00,  1.94177182e+00,  2.10665849e+00,  1.97890902e+00,\n",
       "        1.82316210e+00,  1.93774898e+00,  2.00181121e+00,  1.90080021e+00,\n",
       "        1.85059349e+00,  1.83550183e+00,  1.70297162e+00,  1.84587626e+00,\n",
       "        1.84596788e+00,  1.81886944e+00,  1.77936991e+00,  1.74628485e+00,\n",
       "        1.68986545e+00,  1.82600746e+00,  1.73487004e+00,  1.65489309e+00,\n",
       "        1.70038417e+00,  1.68319034e+00,  1.32977051e+00,  1.65052504e+00,\n",
       "        1.73418902e+00,  1.53577225e+00,  1.43649670e+00,  1.30306859e+00,\n",
       "        1.24836497e+00])"
      ]
     },
     "execution_count": 40,
     "metadata": {},
     "output_type": "execute_result"
    }
   ],
   "source": [
    "result['y']"
   ]
  },
  {
   "cell_type": "code",
   "execution_count": 44,
   "id": "ba4fc4da",
   "metadata": {},
   "outputs": [],
   "source": [
    "data_pc1['y'] = result['y']\n",
    "data_pc1['y_fit'] = result['y_fit']"
   ]
  },
  {
   "cell_type": "code",
   "execution_count": 45,
   "id": "b005d08f",
   "metadata": {},
   "outputs": [
    {
     "data": {
      "text/html": [
       "<div>\n",
       "<style scoped>\n",
       "    .dataframe tbody tr th:only-of-type {\n",
       "        vertical-align: middle;\n",
       "    }\n",
       "\n",
       "    .dataframe tbody tr th {\n",
       "        vertical-align: top;\n",
       "    }\n",
       "\n",
       "    .dataframe thead th {\n",
       "        text-align: right;\n",
       "    }\n",
       "</style>\n",
       "<table border=\"1\" class=\"dataframe\">\n",
       "  <thead>\n",
       "    <tr style=\"text-align: right;\">\n",
       "      <th></th>\n",
       "      <th>PC1</th>\n",
       "      <th>PC2</th>\n",
       "      <th>growth_index</th>\n",
       "      <th>y</th>\n",
       "      <th>y_fit</th>\n",
       "    </tr>\n",
       "    <tr>\n",
       "      <th>date</th>\n",
       "      <th></th>\n",
       "      <th></th>\n",
       "      <th></th>\n",
       "      <th></th>\n",
       "      <th></th>\n",
       "    </tr>\n",
       "  </thead>\n",
       "  <tbody>\n",
       "    <tr>\n",
       "      <th>2003-02-01</th>\n",
       "      <td>-1.393744</td>\n",
       "      <td>-0.846188</td>\n",
       "      <td>-0.922602</td>\n",
       "      <td>-0.922602</td>\n",
       "      <td>-0.947527</td>\n",
       "    </tr>\n",
       "    <tr>\n",
       "      <th>2003-03-01</th>\n",
       "      <td>-1.241599</td>\n",
       "      <td>-1.374872</td>\n",
       "      <td>-0.971079</td>\n",
       "      <td>-0.971079</td>\n",
       "      <td>-0.983800</td>\n",
       "    </tr>\n",
       "    <tr>\n",
       "      <th>2003-04-01</th>\n",
       "      <td>-0.998065</td>\n",
       "      <td>-2.289271</td>\n",
       "      <td>-1.065045</td>\n",
       "      <td>-1.065045</td>\n",
       "      <td>-1.020072</td>\n",
       "    </tr>\n",
       "    <tr>\n",
       "      <th>2003-05-01</th>\n",
       "      <td>-1.095090</td>\n",
       "      <td>-2.000108</td>\n",
       "      <td>-1.045658</td>\n",
       "      <td>-1.045658</td>\n",
       "      <td>-1.056345</td>\n",
       "    </tr>\n",
       "    <tr>\n",
       "      <th>2003-06-01</th>\n",
       "      <td>-1.009340</td>\n",
       "      <td>-2.244337</td>\n",
       "      <td>-1.060070</td>\n",
       "      <td>-1.060070</td>\n",
       "      <td>-1.092618</td>\n",
       "    </tr>\n",
       "    <tr>\n",
       "      <th>...</th>\n",
       "      <td>...</td>\n",
       "      <td>...</td>\n",
       "      <td>...</td>\n",
       "      <td>...</td>\n",
       "      <td>...</td>\n",
       "    </tr>\n",
       "    <tr>\n",
       "      <th>2025-02-01</th>\n",
       "      <td>3.425842</td>\n",
       "      <td>-0.141257</td>\n",
       "      <td>1.734189</td>\n",
       "      <td>1.734189</td>\n",
       "      <td>1.587059</td>\n",
       "    </tr>\n",
       "    <tr>\n",
       "      <th>2025-03-01</th>\n",
       "      <td>3.017608</td>\n",
       "      <td>-0.090146</td>\n",
       "      <td>1.535772</td>\n",
       "      <td>1.535772</td>\n",
       "      <td>1.506754</td>\n",
       "    </tr>\n",
       "    <tr>\n",
       "      <th>2025-04-01</th>\n",
       "      <td>2.903827</td>\n",
       "      <td>-0.258955</td>\n",
       "      <td>1.436497</td>\n",
       "      <td>1.436497</td>\n",
       "      <td>1.426449</td>\n",
       "    </tr>\n",
       "    <tr>\n",
       "      <th>2025-05-01</th>\n",
       "      <td>2.781010</td>\n",
       "      <td>-0.550524</td>\n",
       "      <td>1.303069</td>\n",
       "      <td>1.303069</td>\n",
       "      <td>1.346144</td>\n",
       "    </tr>\n",
       "    <tr>\n",
       "      <th>2025-06-01</th>\n",
       "      <td>2.520935</td>\n",
       "      <td>-0.219475</td>\n",
       "      <td>1.248365</td>\n",
       "      <td>1.248365</td>\n",
       "      <td>1.265839</td>\n",
       "    </tr>\n",
       "  </tbody>\n",
       "</table>\n",
       "<p>269 rows × 5 columns</p>\n",
       "</div>"
      ],
      "text/plain": [
       "                 PC1       PC2  growth_index         y     y_fit\n",
       "date                                                            \n",
       "2003-02-01 -1.393744 -0.846188     -0.922602 -0.922602 -0.947527\n",
       "2003-03-01 -1.241599 -1.374872     -0.971079 -0.971079 -0.983800\n",
       "2003-04-01 -0.998065 -2.289271     -1.065045 -1.065045 -1.020072\n",
       "2003-05-01 -1.095090 -2.000108     -1.045658 -1.045658 -1.056345\n",
       "2003-06-01 -1.009340 -2.244337     -1.060070 -1.060070 -1.092618\n",
       "...              ...       ...           ...       ...       ...\n",
       "2025-02-01  3.425842 -0.141257      1.734189  1.734189  1.587059\n",
       "2025-03-01  3.017608 -0.090146      1.535772  1.535772  1.506754\n",
       "2025-04-01  2.903827 -0.258955      1.436497  1.436497  1.426449\n",
       "2025-05-01  2.781010 -0.550524      1.303069  1.303069  1.346144\n",
       "2025-06-01  2.520935 -0.219475      1.248365  1.248365  1.265839\n",
       "\n",
       "[269 rows x 5 columns]"
      ]
     },
     "execution_count": 45,
     "metadata": {},
     "output_type": "execute_result"
    }
   ],
   "source": [
    "data_pc1"
   ]
  },
  {
   "cell_type": "code",
   "execution_count": 50,
   "id": "8394c036",
   "metadata": {},
   "outputs": [
    {
     "data": {
      "text/plain": [
       "<Axes: xlabel='date'>"
      ]
     },
     "execution_count": 50,
     "metadata": {},
     "output_type": "execute_result"
    },
    {
     "data": {
      "image/png": "[encoded data removed]",
      "text/plain": [
       "<Figure size 640x480 with 1 Axes>"
      ]
     },
     "metadata": {},
     "output_type": "display_data"
    }
   ],
   "source": [
    "data_pc1[['growth_index', 'y_fit']].plot()"
   ]
  },
  {
   "cell_type": "code",
   "execution_count": 66,
   "id": "fb7a3d55",
   "metadata": {},
   "outputs": [
    {
     "data": {
      "text/plain": [
       "Text(0.5, 1.0, '추세 판단 결과')"
      ]
     },
     "execution_count": 66,
     "metadata": {},
     "output_type": "execute_result"
    },
    {
     "data": {
      "image/png": "[encoded data removed]",
      "text/plain": [
       "<Figure size 640x480 with 1 Axes>"
      ]
     },
     "metadata": {},
     "output_type": "display_data"
    }
   ],
   "source": [
    "plt.rcParams['font.family'] = 'Malgun Gothic'\n",
    "plt.rcParams['axes.unicode_minus'] = False \n",
    "x = data_pc1.index\n",
    "y = data_pc1[['growth_index', 'y_fit']]\n",
    "\n",
    "fig, ax1 = plt.subplots()\n",
    "ax1.plot(x, y)\n",
    "ax1.axvspan('2003-02-01', '2005-04-01', color='red', alpha=0.3)\n",
    "ax1.axvspan('2008-01-01', '2009-02-01', color='red', alpha=0.3)\n",
    "ax1.axvspan('2011-11-01', '2013-03-01', color='red', alpha=0.3)\n",
    "ax1.axvspan('2017-09-01', '2020-05-01', color='red', alpha=0.3)\n",
    "\n",
    "plt.xticks(x[::60])\n",
    "plt.title('추세 판단 결과')"
   ]
  },
  {
   "cell_type": "markdown",
   "id": "800da35c",
   "metadata": {},
   "source": [
    "### 지수형 자료에 로그 취한 데이터로도 해보기"
   ]
  },
  {
   "cell_type": "code",
   "execution_count": 67,
   "id": "1bbe22f9",
   "metadata": {},
   "outputs": [],
   "source": [
    "data_pc2 = pd.read_csv(dir+'/data/pc_data2.csv')"
   ]
  },
  {
   "cell_type": "code",
   "execution_count": 69,
   "id": "c5701695",
   "metadata": {},
   "outputs": [],
   "source": [
    "data_pc2.set_index('date', inplace=True)"
   ]
  },
  {
   "cell_type": "code",
   "execution_count": 71,
   "id": "3d714b7f",
   "metadata": {},
   "outputs": [
    {
     "data": {
      "text/plain": [
       "Index(['2003-02-01', '2003-03-01', '2003-04-01', '2003-05-01', '2003-06-01',\n",
       "       '2003-07-01', '2003-08-01', '2003-09-01', '2003-10-01', '2003-11-01',\n",
       "       ...\n",
       "       '2024-09-01', '2024-10-01', '2024-11-01', '2024-12-01', '2025-01-01',\n",
       "       '2025-02-01', '2025-03-01', '2025-04-01', '2025-05-01', '2025-06-01'],\n",
       "      dtype='object', name='date', length=269)"
      ]
     },
     "execution_count": 71,
     "metadata": {},
     "output_type": "execute_result"
    }
   ],
   "source": [
    "x"
   ]
  },
  {
   "cell_type": "code",
   "execution_count": 74,
   "id": "403b60e6",
   "metadata": {},
   "outputs": [],
   "source": [
    "result2 = trend_filter(x, data_pc2['growth_index'], l_norm=1, alpha_2=0.3)"
   ]
  },
  {
   "cell_type": "code",
   "execution_count": 75,
   "id": "f9714331",
   "metadata": {},
   "outputs": [],
   "source": [
    "data_pc2['y'] = result2['y']\n",
    "data_pc2['y_fit'] = result2['y_fit']"
   ]
  },
  {
   "cell_type": "code",
   "execution_count": 76,
   "id": "b82526f7",
   "metadata": {},
   "outputs": [
    {
     "data": {
      "text/html": [
       "<div>\n",
       "<style scoped>\n",
       "    .dataframe tbody tr th:only-of-type {\n",
       "        vertical-align: middle;\n",
       "    }\n",
       "\n",
       "    .dataframe tbody tr th {\n",
       "        vertical-align: top;\n",
       "    }\n",
       "\n",
       "    .dataframe thead th {\n",
       "        text-align: right;\n",
       "    }\n",
       "</style>\n",
       "<table border=\"1\" class=\"dataframe\">\n",
       "  <thead>\n",
       "    <tr style=\"text-align: right;\">\n",
       "      <th></th>\n",
       "      <th>PC1</th>\n",
       "      <th>PC2</th>\n",
       "      <th>PC3</th>\n",
       "      <th>growth_index</th>\n",
       "      <th>y</th>\n",
       "      <th>y_fit</th>\n",
       "    </tr>\n",
       "    <tr>\n",
       "      <th>date</th>\n",
       "      <th></th>\n",
       "      <th></th>\n",
       "      <th></th>\n",
       "      <th></th>\n",
       "      <th></th>\n",
       "      <th></th>\n",
       "    </tr>\n",
       "  </thead>\n",
       "  <tbody>\n",
       "    <tr>\n",
       "      <th>2003-02-01</th>\n",
       "      <td>1.588906</td>\n",
       "      <td>1.124677</td>\n",
       "      <td>-1.672952</td>\n",
       "      <td>0.870022</td>\n",
       "      <td>0.870022</td>\n",
       "      <td>0.931832</td>\n",
       "    </tr>\n",
       "    <tr>\n",
       "      <th>2003-03-01</th>\n",
       "      <td>1.496276</td>\n",
       "      <td>1.753618</td>\n",
       "      <td>-1.613849</td>\n",
       "      <td>0.985621</td>\n",
       "      <td>0.985621</td>\n",
       "      <td>1.012005</td>\n",
       "    </tr>\n",
       "    <tr>\n",
       "      <th>2003-04-01</th>\n",
       "      <td>1.323946</td>\n",
       "      <td>2.877689</td>\n",
       "      <td>-1.398007</td>\n",
       "      <td>1.202625</td>\n",
       "      <td>1.202625</td>\n",
       "      <td>1.092178</td>\n",
       "    </tr>\n",
       "    <tr>\n",
       "      <th>2003-05-01</th>\n",
       "      <td>1.411566</td>\n",
       "      <td>2.538148</td>\n",
       "      <td>-1.530281</td>\n",
       "      <td>1.146630</td>\n",
       "      <td>1.146630</td>\n",
       "      <td>1.151326</td>\n",
       "    </tr>\n",
       "    <tr>\n",
       "      <th>2003-06-01</th>\n",
       "      <td>1.344966</td>\n",
       "      <td>2.763026</td>\n",
       "      <td>-1.471890</td>\n",
       "      <td>1.175722</td>\n",
       "      <td>1.175722</td>\n",
       "      <td>1.210474</td>\n",
       "    </tr>\n",
       "    <tr>\n",
       "      <th>...</th>\n",
       "      <td>...</td>\n",
       "      <td>...</td>\n",
       "      <td>...</td>\n",
       "      <td>...</td>\n",
       "      <td>...</td>\n",
       "      <td>...</td>\n",
       "    </tr>\n",
       "    <tr>\n",
       "      <th>2025-02-01</th>\n",
       "      <td>-3.290246</td>\n",
       "      <td>0.258805</td>\n",
       "      <td>0.299182</td>\n",
       "      <td>-1.560943</td>\n",
       "      <td>-1.560943</td>\n",
       "      <td>-1.449027</td>\n",
       "    </tr>\n",
       "    <tr>\n",
       "      <th>2025-03-01</th>\n",
       "      <td>-2.956460</td>\n",
       "      <td>0.171443</td>\n",
       "      <td>0.022565</td>\n",
       "      <td>-1.448537</td>\n",
       "      <td>-1.448537</td>\n",
       "      <td>-1.398106</td>\n",
       "    </tr>\n",
       "    <tr>\n",
       "      <th>2025-04-01</th>\n",
       "      <td>-2.840982</td>\n",
       "      <td>0.310009</td>\n",
       "      <td>0.061621</td>\n",
       "      <td>-1.351153</td>\n",
       "      <td>-1.351153</td>\n",
       "      <td>-1.320519</td>\n",
       "    </tr>\n",
       "    <tr>\n",
       "      <th>2025-05-01</th>\n",
       "      <td>-2.693396</td>\n",
       "      <td>0.562489</td>\n",
       "      <td>0.332701</td>\n",
       "      <td>-1.180374</td>\n",
       "      <td>-1.180374</td>\n",
       "      <td>-1.242932</td>\n",
       "    </tr>\n",
       "    <tr>\n",
       "      <th>2025-06-01</th>\n",
       "      <td>-2.464842</td>\n",
       "      <td>0.208508</td>\n",
       "      <td>0.374930</td>\n",
       "      <td>-1.146839</td>\n",
       "      <td>-1.146839</td>\n",
       "      <td>-1.165346</td>\n",
       "    </tr>\n",
       "  </tbody>\n",
       "</table>\n",
       "<p>269 rows × 6 columns</p>\n",
       "</div>"
      ],
      "text/plain": [
       "                 PC1       PC2       PC3  growth_index         y     y_fit\n",
       "date                                                                      \n",
       "2003-02-01  1.588906  1.124677 -1.672952      0.870022  0.870022  0.931832\n",
       "2003-03-01  1.496276  1.753618 -1.613849      0.985621  0.985621  1.012005\n",
       "2003-04-01  1.323946  2.877689 -1.398007      1.202625  1.202625  1.092178\n",
       "2003-05-01  1.411566  2.538148 -1.530281      1.146630  1.146630  1.151326\n",
       "2003-06-01  1.344966  2.763026 -1.471890      1.175722  1.175722  1.210474\n",
       "...              ...       ...       ...           ...       ...       ...\n",
       "2025-02-01 -3.290246  0.258805  0.299182     -1.560943 -1.560943 -1.449027\n",
       "2025-03-01 -2.956460  0.171443  0.022565     -1.448537 -1.448537 -1.398106\n",
       "2025-04-01 -2.840982  0.310009  0.061621     -1.351153 -1.351153 -1.320519\n",
       "2025-05-01 -2.693396  0.562489  0.332701     -1.180374 -1.180374 -1.242932\n",
       "2025-06-01 -2.464842  0.208508  0.374930     -1.146839 -1.146839 -1.165346\n",
       "\n",
       "[269 rows x 6 columns]"
      ]
     },
     "execution_count": 76,
     "metadata": {},
     "output_type": "execute_result"
    }
   ],
   "source": [
    "data_pc2"
   ]
  },
  {
   "cell_type": "code",
   "execution_count": 77,
   "id": "3ccf8dce",
   "metadata": {},
   "outputs": [
    {
     "data": {
      "text/plain": [
       "Text(0.5, 1.0, '추세 판단 결과')"
      ]
     },
     "execution_count": 77,
     "metadata": {},
     "output_type": "execute_result"
    },
    {
     "data": {
      "image/png": "[encoded data removed]",
      "text/plain": [
       "<Figure size 640x480 with 1 Axes>"
      ]
     },
     "metadata": {},
     "output_type": "display_data"
    }
   ],
   "source": [
    "plt.rcParams['font.family'] = 'Malgun Gothic'\n",
    "plt.rcParams['axes.unicode_minus'] = False \n",
    "date = data_pc2.index\n",
    "y = data_pc2[['growth_index', 'y_fit']]\n",
    "\n",
    "fig, ax1 = plt.subplots()\n",
    "ax1.plot(date, y)\n",
    "ax1.axvspan('2003-02-01', '2005-04-01', color='red', alpha=0.3)\n",
    "ax1.axvspan('2008-01-01', '2009-02-01', color='red', alpha=0.3)\n",
    "ax1.axvspan('2011-11-01', '2013-03-01', color='red', alpha=0.3)\n",
    "ax1.axvspan('2017-09-01', '2020-05-01', color='red', alpha=0.3)\n",
    "\n",
    "plt.xticks(date[::60])\n",
    "plt.title('추세 판단 결과')"
   ]
  },
  {
   "cell_type": "markdown",
   "id": "80f4cfa0",
   "metadata": {},
   "source": [
    "### 로그 출하지수-로그 재고지수 스프레드"
   ]
  },
  {
   "cell_type": "code",
   "execution_count": 78,
   "id": "4b76a4f0",
   "metadata": {},
   "outputs": [],
   "source": [
    "data_pc3 = pd.read_csv(dir+'/data/pc_data3.csv')\n",
    "data_pc3.set_index('date', inplace=True)"
   ]
  },
  {
   "cell_type": "code",
   "execution_count": 94,
   "id": "8d0ef267",
   "metadata": {},
   "outputs": [],
   "source": [
    "result3 = trend_filter(x, data_pc3['growth_index'], l_norm=1, alpha_2=0.3)"
   ]
  },
  {
   "cell_type": "code",
   "execution_count": 95,
   "id": "f7a01eb6",
   "metadata": {},
   "outputs": [],
   "source": [
    "data_pc3['y_fit'] = result3['y_fit']"
   ]
  },
  {
   "cell_type": "code",
   "execution_count": 96,
   "id": "6894811f",
   "metadata": {},
   "outputs": [
    {
     "data": {
      "text/plain": [
       "Text(0.5, 1.0, '추세 판단 결과')"
      ]
     },
     "execution_count": 96,
     "metadata": {},
     "output_type": "execute_result"
    },
    {
     "data": {
      "image/png": "[encoded data removed]",
      "text/plain": [
       "<Figure size 640x480 with 1 Axes>"
      ]
     },
     "metadata": {},
     "output_type": "display_data"
    }
   ],
   "source": [
    "plt.rcParams['font.family'] = 'Malgun Gothic'\n",
    "plt.rcParams['axes.unicode_minus'] = False \n",
    "date = data_pc3.index\n",
    "y = data_pc3[['growth_index', 'y_fit']]\n",
    "\n",
    "fig, ax1 = plt.subplots()\n",
    "ax1.plot(date, y)\n",
    "ax1.axvspan('2003-02-01', '2005-04-01', color='red', alpha=0.3)\n",
    "ax1.axvspan('2008-01-01', '2009-02-01', color='red', alpha=0.3)\n",
    "ax1.axvspan('2011-11-01', '2013-03-01', color='red', alpha=0.3)\n",
    "ax1.axvspan('2017-09-01', '2020-05-01', color='red', alpha=0.3)\n",
    "\n",
    "plt.xticks(date[::60])\n",
    "plt.title('추세 판단 결과')"
   ]
  },
  {
   "cell_type": "code",
   "execution_count": null,
   "id": "313e3d34",
   "metadata": {},
   "outputs": [],
   "source": []
  }
 ],
 "metadata": {
  "kernelspec": {
   "display_name": "base",
   "language": "python",
   "name": "python3"
  },
  "language_info": {
   "codemirror_mode": {
    "name": "ipython",
    "version": 3
   },
   "file_extension": ".py",
   "mimetype": "text/x-python",
   "name": "python",
   "nbconvert_exporter": "python",
   "pygments_lexer": "ipython3",
   "version": "3.13.5"
  }
 },
 "nbformat": 4,
 "nbformat_minor": 5
}
