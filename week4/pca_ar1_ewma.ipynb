{
 "cells": [
  {
   "cell_type": "code",
   "execution_count": 1,
   "id": "cf702798",
   "metadata": {},
   "outputs": [],
   "source": [
    "import pandas as pd\n",
    "import numpy as np\n",
    "import matplotlib.pyplot as plt\n",
    "import os\n",
    "dir = os.getcwd()"
   ]
  },
  {
   "cell_type": "code",
   "execution_count": 2,
   "id": "8b2687b0",
   "metadata": {},
   "outputs": [],
   "source": [
    "df = pd.read_csv(dir+'/data/merged.csv')"
   ]
  },
  {
   "cell_type": "code",
   "execution_count": 3,
   "id": "01f957f1",
   "metadata": {},
   "outputs": [],
   "source": [
    "#날짜를 인덱스로 설정\n",
    "df.set_index('date', inplace=True)\n",
    "df.index = pd.to_datetime(df.index)\n",
    "df1 = df.copy().dropna() #결측치 제거\n",
    "\n",
    "#문자로 된 자료 숫자로 바꿔주기\n",
    "for a in df1.columns:\n",
    "    df1[a] = df1[a].astype('float')\n",
    "    "
   ]
  },
  {
   "cell_type": "code",
   "execution_count": 4,
   "id": "2876318a",
   "metadata": {},
   "outputs": [],
   "source": [
    "#장단기 스프레드 // 출하지수-재고지수 스프레드\n",
    "df1['y_spd'] = df1['10y'] - df1['3y']\n",
    "df1['manu_spd'] = df1['shipment'] - df1['inven']\n",
    "df1['manu_ratio'] = (df1['shipment'] / df1['inven'])-1 #스프레드하면 스케일이 약간 애매해져서, 양 지수에 로그취해서 빼줌"
   ]
  },
  {
   "cell_type": "code",
   "execution_count": 5,
   "id": "6a7719f3",
   "metadata": {},
   "outputs": [],
   "source": [
    "#설비투자전망지수 대기업+중소기업 평균 산출\n",
    "df1['bsi_inv'] = (df1['bsi_inv_big'] + df1['bsi_inv_small']) / 2"
   ]
  },
  {
   "cell_type": "code",
   "execution_count": 6,
   "id": "8e5393af",
   "metadata": {},
   "outputs": [
    {
     "data": {
      "text/plain": [
       "Index(['bsi_inv_big', 'bsi_inv_small', '3y', '10y', 'shipment', 'inven', 'ipi',\n",
       "       'employ', 'durable', 'wti', 'dubai', 'iron', 'copper', 'gold', 'y_spd',\n",
       "       'manu_spd', 'manu_ratio', 'bsi_inv'],\n",
       "      dtype='object')"
      ]
     },
     "execution_count": 6,
     "metadata": {},
     "output_type": "execute_result"
    }
   ],
   "source": [
    "df1.columns"
   ]
  },
  {
   "cell_type": "code",
   "execution_count": 7,
   "id": "b0b62a02",
   "metadata": {},
   "outputs": [],
   "source": [
    "#필요없는거 제거\n",
    "df2 = df1.drop(columns=['bsi_inv_big', 'bsi_inv_small','10y', '3y', 'shipment', 'inven',\n",
    "                        'wti','iron', 'copper', 'gold'])"
   ]
  },
  {
   "cell_type": "code",
   "execution_count": 8,
   "id": "4884fc60",
   "metadata": {},
   "outputs": [],
   "source": [
    "#샘플기간 분리: 기준일 2017-07-01부터 out of sample\n",
    "df2_train = df2['2003-02-01':'2017-06-01']\n",
    "df2_test = df2['2017-07-01':]"
   ]
  },
  {
   "cell_type": "code",
   "execution_count": 9,
   "id": "42726373",
   "metadata": {},
   "outputs": [],
   "source": [
    "from sklearn.preprocessing import StandardScaler\n",
    "#PCA 함수: 데이터프레임을 인풋으로\n",
    "#PCA 결과들을 리스트에 모아서 리턴해줌\n",
    "\n",
    "def pca(x):\n",
    "    '''\n",
    "    데이터프레임을 인풋으로\n",
    "    PCA 결과들을 딕셔너리에 모아서 리턴해줌\n",
    "    딕셔너리 키 목록\n",
    "    1. df_scaled: 표준화된 데이터\n",
    "    2. cov_matrix: 표준화된 데이터의 공분산 행렬\n",
    "    3. eigenvalues_df: eigenvalues\n",
    "    4. eigenvectors_df: eigenvectors\n",
    "    5. explained_variance_ratio_df: 분산 설명비율\n",
    "    '''\n",
    "    scaler = StandardScaler() # standard normal\n",
    "    df_scaled = scaler.fit_transform(x) #데이터 표준화\n",
    "    cov_matrix = np.cov(df_scaled, rowvar=False) #공분산 행렬 계산\n",
    "    eigenvalues, eigenvectors = np.linalg.eig(cov_matrix) #아이겐벡터, 밸류 계산\n",
    "    principal_components = df_scaled.dot(eigenvectors[:, 0])  # 첫 번째 주성분(PC1)\n",
    "\n",
    "    # PC1 방향을 나타내는 벡터\n",
    "    pc1_vector = eigenvectors[:, 0]\n",
    "\n",
    "    #Explained Variance Ratio\n",
    "    explained_variance_ratio = eigenvalues / np.sum(eigenvalues)\n",
    "\n",
    "    #PCA 결과 저장\n",
    "    index = []\n",
    "    for i in range(0,len(x.columns)):\n",
    "        index.append(f'PC{i+1}')\n",
    "\n",
    "    cov_matrix_df = pd.DataFrame(cov_matrix, columns=x.columns, index=x.columns)\n",
    "    eigenvalues_df = pd.DataFrame({'Eigenvalues': eigenvalues}, index=index)\n",
    "    eigenvectors_df = pd.DataFrame(eigenvectors, columns=index,\n",
    "                                index=x.columns)\n",
    "    explained_variance_ratio_df = pd.DataFrame({'Explained Variance Ratio': explained_variance_ratio},\n",
    "                                            index=index)\n",
    "    result = {'df_scaled' : df_scaled,\n",
    "              'cov_matrix' : cov_matrix,\n",
    "              'eigenvalues' : eigenvalues_df,\n",
    "              'eigenvectors' : eigenvectors_df,\n",
    "              'explained_variance' : explained_variance_ratio_df}\n",
    "    print(result.keys())\n",
    "    return result"
   ]
  },
  {
   "cell_type": "code",
   "execution_count": 13,
   "id": "57dca425",
   "metadata": {},
   "outputs": [
    {
     "name": "stdout",
     "output_type": "stream",
     "text": [
      "dict_keys(['df_scaled', 'cov_matrix', 'eigenvalues', 'eigenvectors', 'explained_variance'])\n"
     ]
    }
   ],
   "source": [
    "pca_result = pca(df2_train)"
   ]
  },
  {
   "cell_type": "code",
   "execution_count": 14,
   "id": "3b932218",
   "metadata": {},
   "outputs": [
    {
     "data": {
      "text/html": [
       "<div>\n",
       "<style scoped>\n",
       "    .dataframe tbody tr th:only-of-type {\n",
       "        vertical-align: middle;\n",
       "    }\n",
       "\n",
       "    .dataframe tbody tr th {\n",
       "        vertical-align: top;\n",
       "    }\n",
       "\n",
       "    .dataframe thead th {\n",
       "        text-align: right;\n",
       "    }\n",
       "</style>\n",
       "<table border=\"1\" class=\"dataframe\">\n",
       "  <thead>\n",
       "    <tr style=\"text-align: right;\">\n",
       "      <th></th>\n",
       "      <th>Explained Variance Ratio</th>\n",
       "    </tr>\n",
       "  </thead>\n",
       "  <tbody>\n",
       "    <tr>\n",
       "      <th>PC1</th>\n",
       "      <td>0.422065</td>\n",
       "    </tr>\n",
       "    <tr>\n",
       "      <th>PC2</th>\n",
       "      <td>0.266567</td>\n",
       "    </tr>\n",
       "    <tr>\n",
       "      <th>PC3</th>\n",
       "      <td>0.161100</td>\n",
       "    </tr>\n",
       "    <tr>\n",
       "      <th>PC4</th>\n",
       "      <td>0.075843</td>\n",
       "    </tr>\n",
       "    <tr>\n",
       "      <th>PC5</th>\n",
       "      <td>0.002354</td>\n",
       "    </tr>\n",
       "    <tr>\n",
       "      <th>PC6</th>\n",
       "      <td>0.000884</td>\n",
       "    </tr>\n",
       "    <tr>\n",
       "      <th>PC7</th>\n",
       "      <td>0.044252</td>\n",
       "    </tr>\n",
       "    <tr>\n",
       "      <th>PC8</th>\n",
       "      <td>0.026935</td>\n",
       "    </tr>\n",
       "  </tbody>\n",
       "</table>\n",
       "</div>"
      ],
      "text/plain": [
       "     Explained Variance Ratio\n",
       "PC1                  0.422065\n",
       "PC2                  0.266567\n",
       "PC3                  0.161100\n",
       "PC4                  0.075843\n",
       "PC5                  0.002354\n",
       "PC6                  0.000884\n",
       "PC7                  0.044252\n",
       "PC8                  0.026935"
      ]
     },
     "execution_count": 14,
     "metadata": {},
     "output_type": "execute_result"
    }
   ],
   "source": [
    "pca_result['explained_variance']"
   ]
  },
  {
   "cell_type": "code",
   "execution_count": 15,
   "id": "f39329a3",
   "metadata": {},
   "outputs": [],
   "source": [
    "#pca1의 주성분을 PC1, PC2, PC3로 설정\n",
    "#표준화된 X 랑 eigenvector 곱하기\n",
    "data_pc = pca_result['df_scaled']@pca_result['eigenvectors'][['PC1', 'PC2', 'PC3']]"
   ]
  },
  {
   "cell_type": "code",
   "execution_count": 16,
   "id": "38283151",
   "metadata": {},
   "outputs": [],
   "source": [
    "# 변동 설명력 기준으로 가중 선정해서 지수 산출 vs 동일가중 산출\n",
    "data_pc['growth_indicator'] = data_pc['PC1'] + data_pc['PC2'] + data_pc['PC3']"
   ]
  },
  {
   "cell_type": "code",
   "execution_count": 19,
   "id": "efd4a05d",
   "metadata": {},
   "outputs": [
    {
     "data": {
      "text/html": [
       "<div>\n",
       "<style scoped>\n",
       "    .dataframe tbody tr th:only-of-type {\n",
       "        vertical-align: middle;\n",
       "    }\n",
       "\n",
       "    .dataframe tbody tr th {\n",
       "        vertical-align: top;\n",
       "    }\n",
       "\n",
       "    .dataframe thead th {\n",
       "        text-align: right;\n",
       "    }\n",
       "</style>\n",
       "<table border=\"1\" class=\"dataframe\">\n",
       "  <thead>\n",
       "    <tr style=\"text-align: right;\">\n",
       "      <th></th>\n",
       "      <th>PC1</th>\n",
       "      <th>PC2</th>\n",
       "      <th>PC3</th>\n",
       "      <th>growth_indicator</th>\n",
       "    </tr>\n",
       "  </thead>\n",
       "  <tbody>\n",
       "    <tr>\n",
       "      <th>0</th>\n",
       "      <td>1.287073</td>\n",
       "      <td>1.974222</td>\n",
       "      <td>-1.031252</td>\n",
       "      <td>2.230043</td>\n",
       "    </tr>\n",
       "    <tr>\n",
       "      <th>1</th>\n",
       "      <td>1.117672</td>\n",
       "      <td>2.382272</td>\n",
       "      <td>-0.655780</td>\n",
       "      <td>2.844164</td>\n",
       "    </tr>\n",
       "    <tr>\n",
       "      <th>2</th>\n",
       "      <td>0.821870</td>\n",
       "      <td>3.108601</td>\n",
       "      <td>0.115848</td>\n",
       "      <td>4.046319</td>\n",
       "    </tr>\n",
       "    <tr>\n",
       "      <th>3</th>\n",
       "      <td>0.907454</td>\n",
       "      <td>2.903113</td>\n",
       "      <td>-0.102306</td>\n",
       "      <td>3.708261</td>\n",
       "    </tr>\n",
       "    <tr>\n",
       "      <th>4</th>\n",
       "      <td>1.011561</td>\n",
       "      <td>3.010051</td>\n",
       "      <td>0.021578</td>\n",
       "      <td>4.043190</td>\n",
       "    </tr>\n",
       "    <tr>\n",
       "      <th>...</th>\n",
       "      <td>...</td>\n",
       "      <td>...</td>\n",
       "      <td>...</td>\n",
       "      <td>...</td>\n",
       "    </tr>\n",
       "    <tr>\n",
       "      <th>168</th>\n",
       "      <td>-3.004218</td>\n",
       "      <td>-0.110643</td>\n",
       "      <td>0.348029</td>\n",
       "      <td>-2.766832</td>\n",
       "    </tr>\n",
       "    <tr>\n",
       "      <th>169</th>\n",
       "      <td>-2.794128</td>\n",
       "      <td>-0.409127</td>\n",
       "      <td>0.149572</td>\n",
       "      <td>-3.053682</td>\n",
       "    </tr>\n",
       "    <tr>\n",
       "      <th>170</th>\n",
       "      <td>-2.957509</td>\n",
       "      <td>-0.514508</td>\n",
       "      <td>0.038755</td>\n",
       "      <td>-3.433262</td>\n",
       "    </tr>\n",
       "    <tr>\n",
       "      <th>171</th>\n",
       "      <td>-3.363413</td>\n",
       "      <td>-0.186988</td>\n",
       "      <td>0.291694</td>\n",
       "      <td>-3.258708</td>\n",
       "    </tr>\n",
       "    <tr>\n",
       "      <th>172</th>\n",
       "      <td>-3.130506</td>\n",
       "      <td>-0.201780</td>\n",
       "      <td>0.236726</td>\n",
       "      <td>-3.095560</td>\n",
       "    </tr>\n",
       "  </tbody>\n",
       "</table>\n",
       "<p>173 rows × 4 columns</p>\n",
       "</div>"
      ],
      "text/plain": [
       "          PC1       PC2       PC3  growth_indicator\n",
       "0    1.287073  1.974222 -1.031252          2.230043\n",
       "1    1.117672  2.382272 -0.655780          2.844164\n",
       "2    0.821870  3.108601  0.115848          4.046319\n",
       "3    0.907454  2.903113 -0.102306          3.708261\n",
       "4    1.011561  3.010051  0.021578          4.043190\n",
       "..        ...       ...       ...               ...\n",
       "168 -3.004218 -0.110643  0.348029         -2.766832\n",
       "169 -2.794128 -0.409127  0.149572         -3.053682\n",
       "170 -2.957509 -0.514508  0.038755         -3.433262\n",
       "171 -3.363413 -0.186988  0.291694         -3.258708\n",
       "172 -3.130506 -0.201780  0.236726         -3.095560\n",
       "\n",
       "[173 rows x 4 columns]"
      ]
     },
     "execution_count": 19,
     "metadata": {},
     "output_type": "execute_result"
    }
   ],
   "source": [
    "data_pc"
   ]
  },
  {
   "cell_type": "code",
   "execution_count": 20,
   "id": "cf71f040",
   "metadata": {},
   "outputs": [],
   "source": [
    "data_pc['ewma'] = data_pc['growth_indicator'].ewm(span=20).mean()"
   ]
  },
  {
   "cell_type": "code",
   "execution_count": 21,
   "id": "e67fad9b",
   "metadata": {},
   "outputs": [
    {
     "data": {
      "text/html": [
       "<div>\n",
       "<style scoped>\n",
       "    .dataframe tbody tr th:only-of-type {\n",
       "        vertical-align: middle;\n",
       "    }\n",
       "\n",
       "    .dataframe tbody tr th {\n",
       "        vertical-align: top;\n",
       "    }\n",
       "\n",
       "    .dataframe thead th {\n",
       "        text-align: right;\n",
       "    }\n",
       "</style>\n",
       "<table border=\"1\" class=\"dataframe\">\n",
       "  <thead>\n",
       "    <tr style=\"text-align: right;\">\n",
       "      <th></th>\n",
       "      <th>PC1</th>\n",
       "      <th>PC2</th>\n",
       "      <th>PC3</th>\n",
       "      <th>growth_indicator</th>\n",
       "      <th>ewma</th>\n",
       "    </tr>\n",
       "  </thead>\n",
       "  <tbody>\n",
       "    <tr>\n",
       "      <th>0</th>\n",
       "      <td>1.287073</td>\n",
       "      <td>1.974222</td>\n",
       "      <td>-1.031252</td>\n",
       "      <td>2.230043</td>\n",
       "      <td>2.230043</td>\n",
       "    </tr>\n",
       "    <tr>\n",
       "      <th>1</th>\n",
       "      <td>1.117672</td>\n",
       "      <td>2.382272</td>\n",
       "      <td>-0.655780</td>\n",
       "      <td>2.844164</td>\n",
       "      <td>2.552457</td>\n",
       "    </tr>\n",
       "    <tr>\n",
       "      <th>2</th>\n",
       "      <td>0.821870</td>\n",
       "      <td>3.108601</td>\n",
       "      <td>0.115848</td>\n",
       "      <td>4.046319</td>\n",
       "      <td>3.100994</td>\n",
       "    </tr>\n",
       "    <tr>\n",
       "      <th>3</th>\n",
       "      <td>0.907454</td>\n",
       "      <td>2.903113</td>\n",
       "      <td>-0.102306</td>\n",
       "      <td>3.708261</td>\n",
       "      <td>3.276303</td>\n",
       "    </tr>\n",
       "    <tr>\n",
       "      <th>4</th>\n",
       "      <td>1.011561</td>\n",
       "      <td>3.010051</td>\n",
       "      <td>0.021578</td>\n",
       "      <td>4.043190</td>\n",
       "      <td>3.461806</td>\n",
       "    </tr>\n",
       "    <tr>\n",
       "      <th>...</th>\n",
       "      <td>...</td>\n",
       "      <td>...</td>\n",
       "      <td>...</td>\n",
       "      <td>...</td>\n",
       "      <td>...</td>\n",
       "    </tr>\n",
       "    <tr>\n",
       "      <th>168</th>\n",
       "      <td>-3.004218</td>\n",
       "      <td>-0.110643</td>\n",
       "      <td>0.348029</td>\n",
       "      <td>-2.766832</td>\n",
       "      <td>-2.619198</td>\n",
       "    </tr>\n",
       "    <tr>\n",
       "      <th>169</th>\n",
       "      <td>-2.794128</td>\n",
       "      <td>-0.409127</td>\n",
       "      <td>0.149572</td>\n",
       "      <td>-3.053682</td>\n",
       "      <td>-2.660577</td>\n",
       "    </tr>\n",
       "    <tr>\n",
       "      <th>170</th>\n",
       "      <td>-2.957509</td>\n",
       "      <td>-0.514508</td>\n",
       "      <td>0.038755</td>\n",
       "      <td>-3.433262</td>\n",
       "      <td>-2.734166</td>\n",
       "    </tr>\n",
       "    <tr>\n",
       "      <th>171</th>\n",
       "      <td>-3.363413</td>\n",
       "      <td>-0.186988</td>\n",
       "      <td>0.291694</td>\n",
       "      <td>-3.258708</td>\n",
       "      <td>-2.784123</td>\n",
       "    </tr>\n",
       "    <tr>\n",
       "      <th>172</th>\n",
       "      <td>-3.130506</td>\n",
       "      <td>-0.201780</td>\n",
       "      <td>0.236726</td>\n",
       "      <td>-3.095560</td>\n",
       "      <td>-2.813783</td>\n",
       "    </tr>\n",
       "  </tbody>\n",
       "</table>\n",
       "<p>173 rows × 5 columns</p>\n",
       "</div>"
      ],
      "text/plain": [
       "          PC1       PC2       PC3  growth_indicator      ewma\n",
       "0    1.287073  1.974222 -1.031252          2.230043  2.230043\n",
       "1    1.117672  2.382272 -0.655780          2.844164  2.552457\n",
       "2    0.821870  3.108601  0.115848          4.046319  3.100994\n",
       "3    0.907454  2.903113 -0.102306          3.708261  3.276303\n",
       "4    1.011561  3.010051  0.021578          4.043190  3.461806\n",
       "..        ...       ...       ...               ...       ...\n",
       "168 -3.004218 -0.110643  0.348029         -2.766832 -2.619198\n",
       "169 -2.794128 -0.409127  0.149572         -3.053682 -2.660577\n",
       "170 -2.957509 -0.514508  0.038755         -3.433262 -2.734166\n",
       "171 -3.363413 -0.186988  0.291694         -3.258708 -2.784123\n",
       "172 -3.130506 -0.201780  0.236726         -3.095560 -2.813783\n",
       "\n",
       "[173 rows x 5 columns]"
      ]
     },
     "execution_count": 21,
     "metadata": {},
     "output_type": "execute_result"
    }
   ],
   "source": [
    "data_pc"
   ]
  },
  {
   "cell_type": "code",
   "execution_count": 22,
   "id": "0caa84a8",
   "metadata": {},
   "outputs": [
    {
     "data": {
      "text/plain": [
       "<Axes: >"
      ]
     },
     "execution_count": 22,
     "metadata": {},
     "output_type": "execute_result"
    },
    {
     "data": {
      "image/png": "[encoded data removed]",
      "text/plain": [
       "<Figure size 640x480 with 1 Axes>"
      ]
     },
     "metadata": {},
     "output_type": "display_data"
    }
   ],
   "source": [
    "data_pc[['growth_indicator','ewma']].plot()"
   ]
  },
  {
   "cell_type": "code",
   "execution_count": 30,
   "id": "d8916513",
   "metadata": {},
   "outputs": [
    {
     "data": {
      "text/plain": [
       "Explained Variance Ratio    0.3781\n",
       "Name: PC1, dtype: float64"
      ]
     },
     "execution_count": 30,
     "metadata": {},
     "output_type": "execute_result"
    }
   ],
   "source": [
    "pca_result['explained_variance'].loc['PC1']"
   ]
  },
  {
   "cell_type": "code",
   "execution_count": 33,
   "id": "3e4496b0",
   "metadata": {},
   "outputs": [
    {
     "data": {
      "text/html": [
       "<div>\n",
       "<style scoped>\n",
       "    .dataframe tbody tr th:only-of-type {\n",
       "        vertical-align: middle;\n",
       "    }\n",
       "\n",
       "    .dataframe tbody tr th {\n",
       "        vertical-align: top;\n",
       "    }\n",
       "\n",
       "    .dataframe thead th {\n",
       "        text-align: right;\n",
       "    }\n",
       "</style>\n",
       "<table border=\"1\" class=\"dataframe\">\n",
       "  <thead>\n",
       "    <tr style=\"text-align: right;\">\n",
       "      <th></th>\n",
       "      <th>PC1</th>\n",
       "      <th>PC2</th>\n",
       "      <th>PC3</th>\n",
       "      <th>growth_indicator</th>\n",
       "    </tr>\n",
       "  </thead>\n",
       "  <tbody>\n",
       "    <tr>\n",
       "      <th>0</th>\n",
       "      <td>0.210103</td>\n",
       "      <td>-1.073777</td>\n",
       "      <td>-1.455777</td>\n",
       "      <td>NaN</td>\n",
       "    </tr>\n",
       "    <tr>\n",
       "      <th>1</th>\n",
       "      <td>0.445232</td>\n",
       "      <td>-1.554950</td>\n",
       "      <td>-1.265342</td>\n",
       "      <td>NaN</td>\n",
       "    </tr>\n",
       "    <tr>\n",
       "      <th>2</th>\n",
       "      <td>0.810774</td>\n",
       "      <td>-2.425195</td>\n",
       "      <td>-0.800921</td>\n",
       "      <td>NaN</td>\n",
       "    </tr>\n",
       "    <tr>\n",
       "      <th>3</th>\n",
       "      <td>0.660436</td>\n",
       "      <td>-2.191102</td>\n",
       "      <td>-0.970154</td>\n",
       "      <td>NaN</td>\n",
       "    </tr>\n",
       "    <tr>\n",
       "      <th>4</th>\n",
       "      <td>0.701002</td>\n",
       "      <td>-2.398183</td>\n",
       "      <td>-0.927822</td>\n",
       "      <td>NaN</td>\n",
       "    </tr>\n",
       "    <tr>\n",
       "      <th>...</th>\n",
       "      <td>...</td>\n",
       "      <td>...</td>\n",
       "      <td>...</td>\n",
       "      <td>...</td>\n",
       "    </tr>\n",
       "    <tr>\n",
       "      <th>168</th>\n",
       "      <td>2.189377</td>\n",
       "      <td>0.579268</td>\n",
       "      <td>0.905226</td>\n",
       "      <td>NaN</td>\n",
       "    </tr>\n",
       "    <tr>\n",
       "      <th>169</th>\n",
       "      <td>1.951258</td>\n",
       "      <td>0.794795</td>\n",
       "      <td>0.711118</td>\n",
       "      <td>NaN</td>\n",
       "    </tr>\n",
       "    <tr>\n",
       "      <th>170</th>\n",
       "      <td>1.943546</td>\n",
       "      <td>1.023714</td>\n",
       "      <td>0.707615</td>\n",
       "      <td>NaN</td>\n",
       "    </tr>\n",
       "    <tr>\n",
       "      <th>171</th>\n",
       "      <td>2.285253</td>\n",
       "      <td>0.771250</td>\n",
       "      <td>0.905479</td>\n",
       "      <td>NaN</td>\n",
       "    </tr>\n",
       "    <tr>\n",
       "      <th>172</th>\n",
       "      <td>2.178189</td>\n",
       "      <td>0.729217</td>\n",
       "      <td>0.809392</td>\n",
       "      <td>NaN</td>\n",
       "    </tr>\n",
       "  </tbody>\n",
       "</table>\n",
       "<p>173 rows × 4 columns</p>\n",
       "</div>"
      ],
      "text/plain": [
       "          PC1       PC2       PC3  growth_indicator\n",
       "0    0.210103 -1.073777 -1.455777               NaN\n",
       "1    0.445232 -1.554950 -1.265342               NaN\n",
       "2    0.810774 -2.425195 -0.800921               NaN\n",
       "3    0.660436 -2.191102 -0.970154               NaN\n",
       "4    0.701002 -2.398183 -0.927822               NaN\n",
       "..        ...       ...       ...               ...\n",
       "168  2.189377  0.579268  0.905226               NaN\n",
       "169  1.951258  0.794795  0.711118               NaN\n",
       "170  1.943546  1.023714  0.707615               NaN\n",
       "171  2.285253  0.771250  0.905479               NaN\n",
       "172  2.178189  0.729217  0.809392               NaN\n",
       "\n",
       "[173 rows x 4 columns]"
      ]
     },
     "execution_count": 33,
     "metadata": {},
     "output_type": "execute_result"
    }
   ],
   "source": [
    "data_pc"
   ]
  },
  {
   "cell_type": "code",
   "execution_count": null,
   "id": "58734a86",
   "metadata": {},
   "outputs": [
    {
     "name": "stdout",
     "output_type": "stream",
     "text": [
      "dict_keys(['df_scaled', 'cov_matrix', 'eigenvalues', 'eigenvectors', 'explained_variance'])\n"
     ]
    },
    {
     "ename": "AttributeError",
     "evalue": "'numpy.ndarray' object has no attribute 'emw'",
     "output_type": "error",
     "traceback": [
      "\u001b[1;31m---------------------------------------------------------------------------\u001b[0m",
      "\u001b[1;31mAttributeError\u001b[0m                            Traceback (most recent call last)",
      "Cell \u001b[1;32mIn[39], line 15\u001b[0m\n\u001b[0;32m     11\u001b[0m pca_result \u001b[38;5;241m=\u001b[39m pca(temp) \u001b[38;5;66;03m#PCA 진행\u001b[39;00m\n\u001b[0;32m     13\u001b[0m \u001b[38;5;66;03m#pca1의 주성분을 PC1, PC2, PC3로 설정\u001b[39;00m\n\u001b[0;32m     14\u001b[0m \u001b[38;5;66;03m#표준화된 X 랑 eigenvector 곱하기\u001b[39;00m\n\u001b[1;32m---> 15\u001b[0m data_pc \u001b[38;5;241m=\u001b[39m pca_result[\u001b[38;5;124m'\u001b[39m\u001b[38;5;124mdf_scaled\u001b[39m\u001b[38;5;124m'\u001b[39m]\u001b[38;5;241m.\u001b[39memw(span\u001b[38;5;241m=\u001b[39m\u001b[38;5;241m60\u001b[39m)\u001b[38;5;129m@pca_result\u001b[39m[\u001b[38;5;124m'\u001b[39m\u001b[38;5;124meigenvectors\u001b[39m\u001b[38;5;124m'\u001b[39m][[\u001b[38;5;124m'\u001b[39m\u001b[38;5;124mPC1\u001b[39m\u001b[38;5;124m'\u001b[39m, \u001b[38;5;124m'\u001b[39m\u001b[38;5;124mPC2\u001b[39m\u001b[38;5;124m'\u001b[39m, \u001b[38;5;124m'\u001b[39m\u001b[38;5;124mPC3\u001b[39m\u001b[38;5;124m'\u001b[39m]]\n\u001b[0;32m     17\u001b[0m \u001b[38;5;66;03m# Growth indicator 산출하는 부분\u001b[39;00m\n\u001b[0;32m     18\u001b[0m \u001b[38;5;66;03m# 각 지표별 가중치 변경하려면 이 부분 수정하기\u001b[39;00m\n\u001b[0;32m     19\u001b[0m w1 \u001b[38;5;241m=\u001b[39m pca_result[\u001b[38;5;124m'\u001b[39m\u001b[38;5;124mexplained_variance\u001b[39m\u001b[38;5;124m'\u001b[39m][\u001b[38;5;124m'\u001b[39m\u001b[38;5;124mExplained Variance Ratio\u001b[39m\u001b[38;5;124m'\u001b[39m]\u001b[38;5;241m.\u001b[39miloc[\u001b[38;5;241m0\u001b[39m]\n",
      "\u001b[1;31mAttributeError\u001b[0m: 'numpy.ndarray' object has no attribute 'emw'"
     ]
    }
   ],
   "source": [
    "from statsmodels.tsa.ar_model import AutoReg\n",
    "\n",
    "dates = [] #결과저장: 날짜\n",
    "fitted = [] #결과저장: 예측된 growth indicator\n",
    "x_list = ['employ', 'durable', 'dubai', 'y_spd', 'manu_spd', 'bsi_inv'] #대상 변수 바꾸고싶으면 이 부분 수정\n",
    "\n",
    "for i in range(0,len(df2_test.index)):\n",
    "    time = df2_test.index[i] + pd.DateOffset(months=-1) # 예측값 얻고 싶은 날짜\n",
    "    temp = df2['2003-02-01':time] # 데이터셋 이름 바뀌면 이 부분 수정\n",
    "    temp = temp[x_list] #분석 대상 변수들 -> df2에서 가져옴\n",
    "    pca_result = pca(temp) #PCA 진행\n",
    "\n",
    "    #pca1의 주성분을 PC1, PC2, PC3로 설정\n",
    "    #표준화된 X 랑 eigenvector 곱하기\n",
    "    data_pc = pca_result['df_scaled']@pca_result['eigenvectors'][['PC1', 'PC2', 'PC3']]\n",
    "\n",
    "    # Growth indicator 산출하는 부분\n",
    "    # 각 지표별 가중치 변경하려면 이 부분 수정하기\n",
    "    w1 = pca_result['explained_variance']['Explained Variance Ratio'].iloc[0]\n",
    "    w2 = pca_result['explained_variance']['Explained Variance Ratio'].iloc[0]\n",
    "    w3 = pca_result['explained_variance']['Explained Variance Ratio'].iloc[0]\n",
    "\n",
    "    data_pc['growth_indicator'] = data_pc['PC1']*w1 + data_pc['PC2']*w2 + data_pc['PC3']*w3\n",
    "\n",
    "    # AR(1) 모델 피팅\n",
    "    x = data_pc['growth_indicator']\n",
    "    model = AutoReg(x, lags=1)  # 1 시차를 사용하는 AR(1) 모델\n",
    "    model_fitted = model.fit()\n",
    "\n",
    "    # 예측 수행\n",
    "    pred = model_fitted.predict(start=len(x), end=len(x))\n",
    "    dates.append(time + pd.DateOffset(months=1))\n",
    "    fitted.append(pred.values[0])\n",
    "    growth_fitted = pd.DataFrame({'date': dates, 'growth_indicator': fitted})\n",
    "    growth_fitted.set_index('date', inplace=True)\n",
    "    \n",
    "    \n"
   ]
  },
  {
   "cell_type": "code",
   "execution_count": 35,
   "id": "2ea985b4",
   "metadata": {},
   "outputs": [],
   "source": [
    "growth_fitted = pd.DataFrame({'date': dates, 'growth_indicator': fitted})"
   ]
  },
  {
   "cell_type": "code",
   "execution_count": 36,
   "id": "5d064334",
   "metadata": {},
   "outputs": [],
   "source": [
    "growth_fitted.set_index('date', inplace=True)"
   ]
  },
  {
   "cell_type": "code",
   "execution_count": 37,
   "id": "8b3c63e3",
   "metadata": {},
   "outputs": [
    {
     "data": {
      "text/html": [
       "<div>\n",
       "<style scoped>\n",
       "    .dataframe tbody tr th:only-of-type {\n",
       "        vertical-align: middle;\n",
       "    }\n",
       "\n",
       "    .dataframe tbody tr th {\n",
       "        vertical-align: top;\n",
       "    }\n",
       "\n",
       "    .dataframe thead th {\n",
       "        text-align: right;\n",
       "    }\n",
       "</style>\n",
       "<table border=\"1\" class=\"dataframe\">\n",
       "  <thead>\n",
       "    <tr style=\"text-align: right;\">\n",
       "      <th></th>\n",
       "      <th>growth_indicator</th>\n",
       "    </tr>\n",
       "    <tr>\n",
       "      <th>date</th>\n",
       "      <th></th>\n",
       "    </tr>\n",
       "  </thead>\n",
       "  <tbody>\n",
       "    <tr>\n",
       "      <th>2017-07-01</th>\n",
       "      <td>1.406972</td>\n",
       "    </tr>\n",
       "    <tr>\n",
       "      <th>2017-08-01</th>\n",
       "      <td>1.421599</td>\n",
       "    </tr>\n",
       "    <tr>\n",
       "      <th>2017-09-01</th>\n",
       "      <td>1.300421</td>\n",
       "    </tr>\n",
       "    <tr>\n",
       "      <th>2017-10-01</th>\n",
       "      <td>1.505707</td>\n",
       "    </tr>\n",
       "    <tr>\n",
       "      <th>2017-11-01</th>\n",
       "      <td>1.550868</td>\n",
       "    </tr>\n",
       "    <tr>\n",
       "      <th>...</th>\n",
       "      <td>...</td>\n",
       "    </tr>\n",
       "    <tr>\n",
       "      <th>2025-02-01</th>\n",
       "      <td>1.352147</td>\n",
       "    </tr>\n",
       "    <tr>\n",
       "      <th>2025-03-01</th>\n",
       "      <td>1.276364</td>\n",
       "    </tr>\n",
       "    <tr>\n",
       "      <th>2025-04-01</th>\n",
       "      <td>1.041094</td>\n",
       "    </tr>\n",
       "    <tr>\n",
       "      <th>2025-05-01</th>\n",
       "      <td>0.847365</td>\n",
       "    </tr>\n",
       "    <tr>\n",
       "      <th>2025-06-01</th>\n",
       "      <td>0.755190</td>\n",
       "    </tr>\n",
       "  </tbody>\n",
       "</table>\n",
       "<p>96 rows × 1 columns</p>\n",
       "</div>"
      ],
      "text/plain": [
       "            growth_indicator\n",
       "date                        \n",
       "2017-07-01          1.406972\n",
       "2017-08-01          1.421599\n",
       "2017-09-01          1.300421\n",
       "2017-10-01          1.505707\n",
       "2017-11-01          1.550868\n",
       "...                      ...\n",
       "2025-02-01          1.352147\n",
       "2025-03-01          1.276364\n",
       "2025-04-01          1.041094\n",
       "2025-05-01          0.847365\n",
       "2025-06-01          0.755190\n",
       "\n",
       "[96 rows x 1 columns]"
      ]
     },
     "execution_count": 37,
     "metadata": {},
     "output_type": "execute_result"
    }
   ],
   "source": [
    "growth_fitted"
   ]
  },
  {
   "cell_type": "code",
   "execution_count": null,
   "id": "757213a6",
   "metadata": {},
   "outputs": [],
   "source": [
    "growth_fitted.to_csv(dir + '/data/trend_pred1.csv')"
   ]
  }
 ],
 "metadata": {
  "kernelspec": {
   "display_name": "base",
   "language": "python",
   "name": "python3"
  },
  "language_info": {
   "codemirror_mode": {
    "name": "ipython",
    "version": 3
   },
   "file_extension": ".py",
   "mimetype": "text/x-python",
   "name": "python",
   "nbconvert_exporter": "python",
   "pygments_lexer": "ipython3",
   "version": "3.13.5"
  }
 },
 "nbformat": 4,
 "nbformat_minor": 5
}
