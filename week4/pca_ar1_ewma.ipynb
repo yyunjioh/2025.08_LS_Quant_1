{
 "cells": [
  {
   "cell_type": "code",
   "execution_count": null,
   "id": "cf702798",
   "metadata": {},
   "outputs": [],
   "source": [
    "import pandas as pd\n",
    "import numpy as np\n",
    "import matplotlib.pyplot as plt\n",
    "import os\n",
    "dir = os.getcwd()"
   ]
  },
  {
   "cell_type": "code",
   "execution_count": null,
   "id": "8b2687b0",
   "metadata": {},
   "outputs": [],
   "source": [
    "df = pd.read_csv(dir+'/data/merged.csv')"
   ]
  },
  {
   "cell_type": "code",
   "execution_count": null,
   "id": "01f957f1",
   "metadata": {},
   "outputs": [],
   "source": [
    "#날짜를 인덱스로 설정\n",
    "df.set_index('date', inplace=True)\n",
    "df.index = pd.to_datetime(df.index)\n",
    "df1 = df.copy().dropna() #결측치 제거\n",
    "\n",
    "#문자로 된 자료 숫자로 바꿔주기\n",
    "for a in df1.columns:\n",
    "    df1[a] = df1[a].astype('float')\n",
    "    "
   ]
  },
  {
   "cell_type": "code",
   "execution_count": null,
   "id": "2876318a",
   "metadata": {},
   "outputs": [],
   "source": [
    "#장단기 스프레드 // 출하지수-재고지수 스프레드\n",
    "df1['y_spd'] = df1['10y'] - df1['3y']\n",
    "df1['manu_spd'] = df1['shipment'] - df1['inven']\n",
    "df1['manu_ratio'] = (df1['shipment'] / df1['inven'])-1 #스프레드하면 스케일이 약간 애매해져서, 양 지수에 로그취해서 빼줌"
   ]
  },
  {
   "cell_type": "code",
   "execution_count": null,
   "id": "6a7719f3",
   "metadata": {},
   "outputs": [],
   "source": [
    "#설비투자전망지수 대기업+중소기업 평균 산출\n",
    "df1['bsi_inv'] = (df1['bsi_inv_big'] + df1['bsi_inv_small']) / 2"
   ]
  },
  {
   "cell_type": "code",
   "execution_count": null,
   "id": "8e5393af",
   "metadata": {},
   "outputs": [
    {
     "data": {
      "text/plain": [
       "Index(['bsi_inv_big', 'bsi_inv_small', '3y', '10y', 'shipment', 'inven', 'ipi',\n",
       "       'employ', 'durable', 'wti', 'dubai', 'iron', 'copper', 'gold', 'y_spd',\n",
       "       'manu_spd', 'manu_ratio', 'bsi_inv'],\n",
       "      dtype='object')"
      ]
     },
     "metadata": {},
     "output_type": "display_data"
    }
   ],
   "source": [
    "df1.columns"
   ]
  },
  {
   "cell_type": "code",
   "execution_count": null,
   "id": "b0b62a02",
   "metadata": {},
   "outputs": [],
   "source": [
    "#필요없는거 제거\n",
    "df2 = df1.drop(columns=['bsi_inv_big', 'bsi_inv_small','10y', '3y', 'shipment', 'inven',\n",
    "                        'wti','iron', 'copper', 'gold'])"
   ]
  },
  {
   "cell_type": "code",
   "execution_count": null,
   "id": "4884fc60",
   "metadata": {},
   "outputs": [],
   "source": [
    "#샘플기간 분리: 기준일 2017-07-01부터 out of sample\n",
    "df2_train = df2['2003-02-01':'2017-06-01']\n",
    "df2_test = df2['2017-07-01':]"
   ]
  }
 ],
 "metadata": {
  "kernelspec": {
   "display_name": "base",
   "language": "python",
   "name": "python3"
  },
  "language_info": {
   "name": "python",
   "version": "3.13.5"
  }
 },
 "nbformat": 4,
 "nbformat_minor": 5
}
