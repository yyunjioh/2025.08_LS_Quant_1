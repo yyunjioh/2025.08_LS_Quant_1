{
 "cells": [
  {
   "cell_type": "code",
   "execution_count": 151,
   "id": "c17e46e0",
   "metadata": {},
   "outputs": [],
   "source": [
    "import pandas as pd\n",
    "import numpy as np\n",
    "import matplotlib.pyplot as plt\n",
    "import os\n",
    "dir = os.getcwd()"
   ]
  },
  {
   "cell_type": "code",
   "execution_count": 152,
   "id": "f1dbf981",
   "metadata": {},
   "outputs": [],
   "source": [
    "df = pd.read_csv(dir+'/data/merged.csv')"
   ]
  },
  {
   "cell_type": "code",
   "execution_count": 81,
   "id": "39c3b9ce",
   "metadata": {},
   "outputs": [],
   "source": [
    "#날짜를 인덱스로 설정\n",
    "df.set_index('date', inplace=True)\n",
    "df.index = pd.to_datetime(df.index)\n",
    "df1 = df.copy().dropna() #결측치 제거\n",
    "\n",
    "#문자로 된 자료 숫자로 바꿔주기\n",
    "for a in df1.columns:\n",
    "    df1[a] = df1[a].astype('float')\n",
    "    "
   ]
  },
  {
   "cell_type": "code",
   "execution_count": 82,
   "id": "8987e77b",
   "metadata": {},
   "outputs": [],
   "source": [
    "#장단기 스프레드 // 출하지수-재고지수 스프레드\n",
    "df1['y_spd'] = df1['10y'] - df1['3y']\n",
    "df1['manu_spd'] = df1['shipment'] - df1['inven']\n",
    "df1['manu_ratio'] = (df1['shipment'] / df1['inven'])-1 #스프레드하면 스케일이 약간 애매해져서, 양 지수에 로그취해서 빼줌"
   ]
  },
  {
   "cell_type": "code",
   "execution_count": 83,
   "id": "2da01b33",
   "metadata": {},
   "outputs": [],
   "source": [
    "#설비투자전망지수 대기업+중소기업 평균 산출\n",
    "df1['bsi_inv'] = (df1['bsi_inv_big'] + df1['bsi_inv_small']) / 2"
   ]
  },
  {
   "cell_type": "code",
   "execution_count": 84,
   "id": "7d0dd911",
   "metadata": {},
   "outputs": [
    {
     "data": {
      "text/plain": [
       "Index(['bsi_inv_big', 'bsi_inv_small', '3y', '10y', 'shipment', 'inven', 'ipi',\n",
       "       'employ', 'durable', 'wti', 'dubai', 'iron', 'copper', 'gold', 'y_spd',\n",
       "       'manu_spd', 'manu_ratio', 'bsi_inv'],\n",
       "      dtype='object')"
      ]
     },
     "execution_count": 84,
     "metadata": {},
     "output_type": "execute_result"
    }
   ],
   "source": [
    "df1.columns"
   ]
  },
  {
   "cell_type": "code",
   "execution_count": 85,
   "id": "a0ceae43",
   "metadata": {},
   "outputs": [],
   "source": [
    "#필요없는거 제거\n",
    "df2 = df1.drop(columns=['bsi_inv_big', 'bsi_inv_small','10y', '3y', 'shipment', 'inven',\n",
    "                        'wti','iron', 'copper', 'gold'])"
   ]
  },
  {
   "cell_type": "code",
   "execution_count": 86,
   "id": "c5bb4e85",
   "metadata": {},
   "outputs": [],
   "source": [
    "#샘플기간 분리: 기준일 2017-07-01부터 out of sample\n",
    "df2_train = df2['2003-02-01':'2017-06-01']\n",
    "df2_test = df2['2017-07-01':]"
   ]
  },
  {
   "cell_type": "markdown",
   "id": "5c899c23",
   "metadata": {},
   "source": [
    "### 국면 판단 과정\n",
    "매 시점 반복 시행\n",
    "\n",
    "1. t시점까지의 자료 표준화\n",
    "2. PCA 수행\n",
    "3. Growth indicator 산정\n",
    "4. AR(1)으로 t+1시점 fitted value 추정"
   ]
  },
  {
   "cell_type": "markdown",
   "id": "2526b928",
   "metadata": {},
   "source": [
    "### Growth Indicator 산정"
   ]
  },
  {
   "cell_type": "code",
   "execution_count": 87,
   "id": "caa00571",
   "metadata": {},
   "outputs": [
    {
     "data": {
      "text/plain": [
       "DatetimeIndex(['2003-02-01', '2003-03-01', '2003-04-01', '2003-05-01',\n",
       "               '2003-06-01', '2003-07-01', '2003-08-01', '2003-09-01',\n",
       "               '2003-10-01', '2003-11-01',\n",
       "               ...\n",
       "               '2024-09-01', '2024-10-01', '2024-11-01', '2024-12-01',\n",
       "               '2025-01-01', '2025-02-01', '2025-03-01', '2025-04-01',\n",
       "               '2025-05-01', '2025-06-01'],\n",
       "              dtype='datetime64[ns]', name='date', length=269, freq=None)"
      ]
     },
     "execution_count": 87,
     "metadata": {},
     "output_type": "execute_result"
    }
   ],
   "source": [
    "df2.index"
   ]
  },
  {
   "cell_type": "code",
   "execution_count": 88,
   "id": "31ee1ed6",
   "metadata": {},
   "outputs": [],
   "source": [
    "# t 시점의 growth indicator 예측하려고 함\n",
    "# t-1 시점을 지정\n",
    "time = df2_test.index[0] + pd.DateOffset(months=-1) "
   ]
  },
  {
   "cell_type": "code",
   "execution_count": 89,
   "id": "70afda05",
   "metadata": {},
   "outputs": [],
   "source": [
    "#샘플기간 시작일부터 t-1시점까지의 데이터 사용\n",
    "temp = df2['2003-02-01':time]"
   ]
  },
  {
   "cell_type": "code",
   "execution_count": 90,
   "id": "20dc5918",
   "metadata": {},
   "outputs": [],
   "source": [
    "x_list = ['employ', 'durable', 'dubai', 'y_spd', 'manu_spd', 'bsi_inv']"
   ]
  },
  {
   "cell_type": "code",
   "execution_count": 91,
   "id": "b3977106",
   "metadata": {},
   "outputs": [],
   "source": [
    "temp = temp[x_list]"
   ]
  },
  {
   "cell_type": "code",
   "execution_count": 92,
   "id": "30949d21",
   "metadata": {},
   "outputs": [
    {
     "data": {
      "text/html": [
       "<div>\n",
       "<style scoped>\n",
       "    .dataframe tbody tr th:only-of-type {\n",
       "        vertical-align: middle;\n",
       "    }\n",
       "\n",
       "    .dataframe tbody tr th {\n",
       "        vertical-align: top;\n",
       "    }\n",
       "\n",
       "    .dataframe thead th {\n",
       "        text-align: right;\n",
       "    }\n",
       "</style>\n",
       "<table border=\"1\" class=\"dataframe\">\n",
       "  <thead>\n",
       "    <tr style=\"text-align: right;\">\n",
       "      <th></th>\n",
       "      <th>employ</th>\n",
       "      <th>durable</th>\n",
       "      <th>dubai</th>\n",
       "      <th>y_spd</th>\n",
       "      <th>manu_spd</th>\n",
       "      <th>bsi_inv</th>\n",
       "    </tr>\n",
       "    <tr>\n",
       "      <th>date</th>\n",
       "      <th></th>\n",
       "      <th></th>\n",
       "      <th></th>\n",
       "      <th></th>\n",
       "      <th></th>\n",
       "      <th></th>\n",
       "    </tr>\n",
       "  </thead>\n",
       "  <tbody>\n",
       "    <tr>\n",
       "      <th>2003-02-01</th>\n",
       "      <td>59.6</td>\n",
       "      <td>37.2</td>\n",
       "      <td>30.20</td>\n",
       "      <td>0.420</td>\n",
       "      <td>12.570</td>\n",
       "      <td>98.5</td>\n",
       "    </tr>\n",
       "    <tr>\n",
       "      <th>2003-03-01</th>\n",
       "      <td>59.5</td>\n",
       "      <td>36.4</td>\n",
       "      <td>27.52</td>\n",
       "      <td>0.420</td>\n",
       "      <td>12.150</td>\n",
       "      <td>95.0</td>\n",
       "    </tr>\n",
       "    <tr>\n",
       "      <th>2003-04-01</th>\n",
       "      <td>59.2</td>\n",
       "      <td>36.3</td>\n",
       "      <td>23.56</td>\n",
       "      <td>0.430</td>\n",
       "      <td>10.827</td>\n",
       "      <td>89.0</td>\n",
       "    </tr>\n",
       "    <tr>\n",
       "      <th>2003-05-01</th>\n",
       "      <td>59.2</td>\n",
       "      <td>35.9</td>\n",
       "      <td>24.32</td>\n",
       "      <td>0.410</td>\n",
       "      <td>10.881</td>\n",
       "      <td>91.0</td>\n",
       "    </tr>\n",
       "    <tr>\n",
       "      <th>2003-06-01</th>\n",
       "      <td>59.2</td>\n",
       "      <td>34.5</td>\n",
       "      <td>25.67</td>\n",
       "      <td>0.390</td>\n",
       "      <td>12.022</td>\n",
       "      <td>88.5</td>\n",
       "    </tr>\n",
       "    <tr>\n",
       "      <th>...</th>\n",
       "      <td>...</td>\n",
       "      <td>...</td>\n",
       "      <td>...</td>\n",
       "      <td>...</td>\n",
       "      <td>...</td>\n",
       "      <td>...</td>\n",
       "    </tr>\n",
       "    <tr>\n",
       "      <th>2017-02-01</th>\n",
       "      <td>60.8</td>\n",
       "      <td>82.4</td>\n",
       "      <td>54.30</td>\n",
       "      <td>0.498</td>\n",
       "      <td>11.609</td>\n",
       "      <td>93.5</td>\n",
       "    </tr>\n",
       "    <tr>\n",
       "      <th>2017-03-01</th>\n",
       "      <td>60.9</td>\n",
       "      <td>82.7</td>\n",
       "      <td>51.02</td>\n",
       "      <td>0.512</td>\n",
       "      <td>13.381</td>\n",
       "      <td>95.5</td>\n",
       "    </tr>\n",
       "    <tr>\n",
       "      <th>2017-04-01</th>\n",
       "      <td>60.8</td>\n",
       "      <td>84.1</td>\n",
       "      <td>52.55</td>\n",
       "      <td>0.504</td>\n",
       "      <td>11.168</td>\n",
       "      <td>98.0</td>\n",
       "    </tr>\n",
       "    <tr>\n",
       "      <th>2017-05-01</th>\n",
       "      <td>60.8</td>\n",
       "      <td>84.3</td>\n",
       "      <td>50.13</td>\n",
       "      <td>0.567</td>\n",
       "      <td>8.157</td>\n",
       "      <td>97.5</td>\n",
       "    </tr>\n",
       "    <tr>\n",
       "      <th>2017-06-01</th>\n",
       "      <td>60.7</td>\n",
       "      <td>85.1</td>\n",
       "      <td>46.36</td>\n",
       "      <td>0.492</td>\n",
       "      <td>10.113</td>\n",
       "      <td>96.5</td>\n",
       "    </tr>\n",
       "  </tbody>\n",
       "</table>\n",
       "<p>173 rows × 6 columns</p>\n",
       "</div>"
      ],
      "text/plain": [
       "            employ  durable  dubai  y_spd  manu_spd  bsi_inv\n",
       "date                                                        \n",
       "2003-02-01    59.6     37.2  30.20  0.420    12.570     98.5\n",
       "2003-03-01    59.5     36.4  27.52  0.420    12.150     95.0\n",
       "2003-04-01    59.2     36.3  23.56  0.430    10.827     89.0\n",
       "2003-05-01    59.2     35.9  24.32  0.410    10.881     91.0\n",
       "2003-06-01    59.2     34.5  25.67  0.390    12.022     88.5\n",
       "...            ...      ...    ...    ...       ...      ...\n",
       "2017-02-01    60.8     82.4  54.30  0.498    11.609     93.5\n",
       "2017-03-01    60.9     82.7  51.02  0.512    13.381     95.5\n",
       "2017-04-01    60.8     84.1  52.55  0.504    11.168     98.0\n",
       "2017-05-01    60.8     84.3  50.13  0.567     8.157     97.5\n",
       "2017-06-01    60.7     85.1  46.36  0.492    10.113     96.5\n",
       "\n",
       "[173 rows x 6 columns]"
      ]
     },
     "execution_count": 92,
     "metadata": {},
     "output_type": "execute_result"
    }
   ],
   "source": [
    "temp"
   ]
  },
  {
   "cell_type": "code",
   "execution_count": 93,
   "id": "209275eb",
   "metadata": {},
   "outputs": [],
   "source": [
    "from sklearn.preprocessing import StandardScaler\n",
    "#PCA 함수: 데이터프레임을 인풋으로\n",
    "#PCA 결과들을 리스트에 모아서 리턴해줌\n",
    "\n",
    "def pca(x):\n",
    "    '''\n",
    "    데이터프레임을 인풋으로\n",
    "    PCA 결과들을 딕셔너리에 모아서 리턴해줌\n",
    "    딕셔너리 키 목록\n",
    "    1. df_scaled: 표준화된 데이터\n",
    "    2. cov_matrix: 표준화된 데이터의 공분산 행렬\n",
    "    3. eigenvalues_df: eigenvalues\n",
    "    4. eigenvectors_df: eigenvectors\n",
    "    5. explained_variance_ratio_df: 분산 설명비율\n",
    "    '''\n",
    "    scaler = StandardScaler() # standard normal\n",
    "    df_scaled = scaler.fit_transform(x) #데이터 표준화\n",
    "    cov_matrix = np.cov(df_scaled, rowvar=False) #공분산 행렬 계산\n",
    "    eigenvalues, eigenvectors = np.linalg.eig(cov_matrix) #아이겐벡터, 밸류 계산\n",
    "    principal_components = df_scaled.dot(eigenvectors[:, 0])  # 첫 번째 주성분(PC1)\n",
    "\n",
    "    # PC1 방향을 나타내는 벡터\n",
    "    pc1_vector = eigenvectors[:, 0]\n",
    "\n",
    "    #Explained Variance Ratio\n",
    "    explained_variance_ratio = eigenvalues / np.sum(eigenvalues)\n",
    "\n",
    "    #PCA 결과 저장\n",
    "    index = []\n",
    "    for i in range(0,len(x.columns)):\n",
    "        index.append(f'PC{i+1}')\n",
    "\n",
    "    cov_matrix_df = pd.DataFrame(cov_matrix, columns=x.columns, index=x.columns)\n",
    "    eigenvalues_df = pd.DataFrame({'Eigenvalues': eigenvalues}, index=index)\n",
    "    eigenvectors_df = pd.DataFrame(eigenvectors, columns=index,\n",
    "                                index=x.columns)\n",
    "    explained_variance_ratio_df = pd.DataFrame({'Explained Variance Ratio': explained_variance_ratio},\n",
    "                                            index=index)\n",
    "    result = {'df_scaled' : df_scaled,\n",
    "              'cov_matrix' : cov_matrix,\n",
    "              'eigenvalues' : eigenvalues_df,\n",
    "              'eigenvectors' : eigenvectors_df,\n",
    "              'explained_variance' : explained_variance_ratio_df}\n",
    "    print(result.keys())\n",
    "    return result"
   ]
  },
  {
   "cell_type": "code",
   "execution_count": 94,
   "id": "246d47d3",
   "metadata": {},
   "outputs": [
    {
     "name": "stdout",
     "output_type": "stream",
     "text": [
      "dict_keys(['df_scaled', 'cov_matrix', 'eigenvalues', 'eigenvectors', 'explained_variance'])\n"
     ]
    }
   ],
   "source": [
    "pca_result = pca(temp) #PCA 진행"
   ]
  },
  {
   "cell_type": "code",
   "execution_count": 95,
   "id": "b5cb797d",
   "metadata": {},
   "outputs": [
    {
     "data": {
      "text/html": [
       "<div>\n",
       "<style scoped>\n",
       "    .dataframe tbody tr th:only-of-type {\n",
       "        vertical-align: middle;\n",
       "    }\n",
       "\n",
       "    .dataframe tbody tr th {\n",
       "        vertical-align: top;\n",
       "    }\n",
       "\n",
       "    .dataframe thead th {\n",
       "        text-align: right;\n",
       "    }\n",
       "</style>\n",
       "<table border=\"1\" class=\"dataframe\">\n",
       "  <thead>\n",
       "    <tr style=\"text-align: right;\">\n",
       "      <th></th>\n",
       "      <th>Explained Variance Ratio</th>\n",
       "    </tr>\n",
       "  </thead>\n",
       "  <tbody>\n",
       "    <tr>\n",
       "      <th>PC1</th>\n",
       "      <td>0.378100</td>\n",
       "    </tr>\n",
       "    <tr>\n",
       "      <th>PC2</th>\n",
       "      <td>0.281669</td>\n",
       "    </tr>\n",
       "    <tr>\n",
       "      <th>PC3</th>\n",
       "      <td>0.165482</td>\n",
       "    </tr>\n",
       "    <tr>\n",
       "      <th>PC4</th>\n",
       "      <td>0.097004</td>\n",
       "    </tr>\n",
       "    <tr>\n",
       "      <th>PC5</th>\n",
       "      <td>0.032189</td>\n",
       "    </tr>\n",
       "    <tr>\n",
       "      <th>PC6</th>\n",
       "      <td>0.045557</td>\n",
       "    </tr>\n",
       "  </tbody>\n",
       "</table>\n",
       "</div>"
      ],
      "text/plain": [
       "     Explained Variance Ratio\n",
       "PC1                  0.378100\n",
       "PC2                  0.281669\n",
       "PC3                  0.165482\n",
       "PC4                  0.097004\n",
       "PC5                  0.032189\n",
       "PC6                  0.045557"
      ]
     },
     "execution_count": 95,
     "metadata": {},
     "output_type": "execute_result"
    }
   ],
   "source": [
    "pca_result['explained_variance'] #분산기여도 확인"
   ]
  },
  {
   "cell_type": "code",
   "execution_count": 96,
   "id": "a9e314ae",
   "metadata": {},
   "outputs": [],
   "source": [
    "#pca1의 주성분을 PC1, PC2, PC3로 설정\n",
    "#표준화된 X 랑 eigenvector 곱하기\n",
    "data_pc = pca_result['df_scaled']@pca_result['eigenvectors'][['PC1', 'PC2', 'PC3']]"
   ]
  },
  {
   "cell_type": "code",
   "execution_count": 97,
   "id": "ab2fc7d9",
   "metadata": {},
   "outputs": [],
   "source": [
    "# 변동 설명력 기준으로 가중 선정해서 지수 산출 vs 동일가중 산출\n",
    "data_pc['growth_indicator'] = data_pc['PC1'] + data_pc['PC2'] + data_pc['PC3']"
   ]
  },
  {
   "cell_type": "code",
   "execution_count": 98,
   "id": "208f491d",
   "metadata": {},
   "outputs": [
    {
     "data": {
      "text/html": [
       "<div>\n",
       "<style scoped>\n",
       "    .dataframe tbody tr th:only-of-type {\n",
       "        vertical-align: middle;\n",
       "    }\n",
       "\n",
       "    .dataframe tbody tr th {\n",
       "        vertical-align: top;\n",
       "    }\n",
       "\n",
       "    .dataframe thead th {\n",
       "        text-align: right;\n",
       "    }\n",
       "</style>\n",
       "<table border=\"1\" class=\"dataframe\">\n",
       "  <thead>\n",
       "    <tr style=\"text-align: right;\">\n",
       "      <th></th>\n",
       "      <th>PC1</th>\n",
       "      <th>PC2</th>\n",
       "      <th>PC3</th>\n",
       "      <th>growth_indicator</th>\n",
       "    </tr>\n",
       "  </thead>\n",
       "  <tbody>\n",
       "    <tr>\n",
       "      <th>0</th>\n",
       "      <td>0.210103</td>\n",
       "      <td>-1.073777</td>\n",
       "      <td>-1.455777</td>\n",
       "      <td>-2.319451</td>\n",
       "    </tr>\n",
       "    <tr>\n",
       "      <th>1</th>\n",
       "      <td>0.445232</td>\n",
       "      <td>-1.554950</td>\n",
       "      <td>-1.265342</td>\n",
       "      <td>-2.375060</td>\n",
       "    </tr>\n",
       "    <tr>\n",
       "      <th>2</th>\n",
       "      <td>0.810774</td>\n",
       "      <td>-2.425195</td>\n",
       "      <td>-0.800921</td>\n",
       "      <td>-2.415341</td>\n",
       "    </tr>\n",
       "    <tr>\n",
       "      <th>3</th>\n",
       "      <td>0.660436</td>\n",
       "      <td>-2.191102</td>\n",
       "      <td>-0.970154</td>\n",
       "      <td>-2.500820</td>\n",
       "    </tr>\n",
       "    <tr>\n",
       "      <th>4</th>\n",
       "      <td>0.701002</td>\n",
       "      <td>-2.398183</td>\n",
       "      <td>-0.927822</td>\n",
       "      <td>-2.625003</td>\n",
       "    </tr>\n",
       "    <tr>\n",
       "      <th>...</th>\n",
       "      <td>...</td>\n",
       "      <td>...</td>\n",
       "      <td>...</td>\n",
       "      <td>...</td>\n",
       "    </tr>\n",
       "    <tr>\n",
       "      <th>168</th>\n",
       "      <td>2.189377</td>\n",
       "      <td>0.579268</td>\n",
       "      <td>0.905226</td>\n",
       "      <td>3.673871</td>\n",
       "    </tr>\n",
       "    <tr>\n",
       "      <th>169</th>\n",
       "      <td>1.951258</td>\n",
       "      <td>0.794795</td>\n",
       "      <td>0.711118</td>\n",
       "      <td>3.457171</td>\n",
       "    </tr>\n",
       "    <tr>\n",
       "      <th>170</th>\n",
       "      <td>1.943546</td>\n",
       "      <td>1.023714</td>\n",
       "      <td>0.707615</td>\n",
       "      <td>3.674875</td>\n",
       "    </tr>\n",
       "    <tr>\n",
       "      <th>171</th>\n",
       "      <td>2.285253</td>\n",
       "      <td>0.771250</td>\n",
       "      <td>0.905479</td>\n",
       "      <td>3.961981</td>\n",
       "    </tr>\n",
       "    <tr>\n",
       "      <th>172</th>\n",
       "      <td>2.178189</td>\n",
       "      <td>0.729217</td>\n",
       "      <td>0.809392</td>\n",
       "      <td>3.716798</td>\n",
       "    </tr>\n",
       "  </tbody>\n",
       "</table>\n",
       "<p>173 rows × 4 columns</p>\n",
       "</div>"
      ],
      "text/plain": [
       "          PC1       PC2       PC3  growth_indicator\n",
       "0    0.210103 -1.073777 -1.455777         -2.319451\n",
       "1    0.445232 -1.554950 -1.265342         -2.375060\n",
       "2    0.810774 -2.425195 -0.800921         -2.415341\n",
       "3    0.660436 -2.191102 -0.970154         -2.500820\n",
       "4    0.701002 -2.398183 -0.927822         -2.625003\n",
       "..        ...       ...       ...               ...\n",
       "168  2.189377  0.579268  0.905226          3.673871\n",
       "169  1.951258  0.794795  0.711118          3.457171\n",
       "170  1.943546  1.023714  0.707615          3.674875\n",
       "171  2.285253  0.771250  0.905479          3.961981\n",
       "172  2.178189  0.729217  0.809392          3.716798\n",
       "\n",
       "[173 rows x 4 columns]"
      ]
     },
     "execution_count": 98,
     "metadata": {},
     "output_type": "execute_result"
    }
   ],
   "source": [
    "data_pc"
   ]
  },
  {
   "cell_type": "markdown",
   "id": "fb1724e6",
   "metadata": {},
   "source": [
    "### 2. AR(1) 으로 t+1 시점의 Growth indicator 예측"
   ]
  },
  {
   "cell_type": "code",
   "execution_count": null,
   "id": "d3e9139f",
   "metadata": {},
   "outputs": [
    {
     "name": "stdout",
     "output_type": "stream",
     "text": [
      "예측 값: 173    3.721168\n",
      "dtype: float64\n"
     ]
    }
   ],
   "source": [
    "from statsmodels.tsa.ar_model import AutoReg\n",
    "\n",
    "# AR(1) 모델 피팅\n",
    "x = data_pc['growth_indicator']\n",
    "model = AutoReg(x, lags=1)  # 1 시차를 사용하는 AR(1) 모델\n",
    "model_fitted = model.fit()\n",
    "\n",
    "# 예측 수행\n",
    "pred = model_fitted.predict(start=len(x), end=len(x))\n",
    "print(\"예측 값:\", pred)"
   ]
  },
  {
   "cell_type": "markdown",
   "id": "d606aba3",
   "metadata": {},
   "source": [
    "### 해당 과정 쭉 반복"
   ]
  },
  {
   "cell_type": "code",
   "execution_count": 101,
   "id": "944aa931",
   "metadata": {},
   "outputs": [
    {
     "name": "stdout",
     "output_type": "stream",
     "text": [
      "[173    3.721168\n",
      "dtype: float64]\n"
     ]
    }
   ],
   "source": [
    "l = []\n",
    "l.append(pred)\n",
    "print(l)"
   ]
  },
  {
   "cell_type": "code",
   "execution_count": 109,
   "id": "10ac2e8a",
   "metadata": {},
   "outputs": [
    {
     "data": {
      "text/plain": [
       "array([3.72116829])"
      ]
     },
     "execution_count": 109,
     "metadata": {},
     "output_type": "execute_result"
    }
   ],
   "source": [
    "pred.values"
   ]
  },
  {
   "cell_type": "code",
   "execution_count": 100,
   "id": "1ba48c99",
   "metadata": {},
   "outputs": [
    {
     "data": {
      "text/plain": [
       "173    3.721168\n",
       "dtype: float64"
      ]
     },
     "execution_count": 100,
     "metadata": {},
     "output_type": "execute_result"
    }
   ],
   "source": [
    "pred"
   ]
  },
  {
   "cell_type": "code",
   "execution_count": 174,
   "id": "46897d03",
   "metadata": {},
   "outputs": [
    {
     "name": "stdout",
     "output_type": "stream",
     "text": [
      "dict_keys(['df_scaled', 'cov_matrix', 'eigenvalues', 'eigenvectors', 'explained_variance'])\n",
      "dict_keys(['df_scaled', 'cov_matrix', 'eigenvalues', 'eigenvectors', 'explained_variance'])\n",
      "dict_keys(['df_scaled', 'cov_matrix', 'eigenvalues', 'eigenvectors', 'explained_variance'])\n",
      "dict_keys(['df_scaled', 'cov_matrix', 'eigenvalues', 'eigenvectors', 'explained_variance'])\n",
      "dict_keys(['df_scaled', 'cov_matrix', 'eigenvalues', 'eigenvectors', 'explained_variance'])\n",
      "dict_keys(['df_scaled', 'cov_matrix', 'eigenvalues', 'eigenvectors', 'explained_variance'])\n",
      "dict_keys(['df_scaled', 'cov_matrix', 'eigenvalues', 'eigenvectors', 'explained_variance'])\n",
      "dict_keys(['df_scaled', 'cov_matrix', 'eigenvalues', 'eigenvectors', 'explained_variance'])\n",
      "dict_keys(['df_scaled', 'cov_matrix', 'eigenvalues', 'eigenvectors', 'explained_variance'])\n",
      "dict_keys(['df_scaled', 'cov_matrix', 'eigenvalues', 'eigenvectors', 'explained_variance'])\n",
      "dict_keys(['df_scaled', 'cov_matrix', 'eigenvalues', 'eigenvectors', 'explained_variance'])\n",
      "dict_keys(['df_scaled', 'cov_matrix', 'eigenvalues', 'eigenvectors', 'explained_variance'])\n",
      "dict_keys(['df_scaled', 'cov_matrix', 'eigenvalues', 'eigenvectors', 'explained_variance'])\n",
      "dict_keys(['df_scaled', 'cov_matrix', 'eigenvalues', 'eigenvectors', 'explained_variance'])\n",
      "dict_keys(['df_scaled', 'cov_matrix', 'eigenvalues', 'eigenvectors', 'explained_variance'])\n",
      "dict_keys(['df_scaled', 'cov_matrix', 'eigenvalues', 'eigenvectors', 'explained_variance'])\n",
      "dict_keys(['df_scaled', 'cov_matrix', 'eigenvalues', 'eigenvectors', 'explained_variance'])\n",
      "dict_keys(['df_scaled', 'cov_matrix', 'eigenvalues', 'eigenvectors', 'explained_variance'])\n",
      "dict_keys(['df_scaled', 'cov_matrix', 'eigenvalues', 'eigenvectors', 'explained_variance'])\n",
      "dict_keys(['df_scaled', 'cov_matrix', 'eigenvalues', 'eigenvectors', 'explained_variance'])\n",
      "dict_keys(['df_scaled', 'cov_matrix', 'eigenvalues', 'eigenvectors', 'explained_variance'])\n",
      "dict_keys(['df_scaled', 'cov_matrix', 'eigenvalues', 'eigenvectors', 'explained_variance'])\n",
      "dict_keys(['df_scaled', 'cov_matrix', 'eigenvalues', 'eigenvectors', 'explained_variance'])\n",
      "dict_keys(['df_scaled', 'cov_matrix', 'eigenvalues', 'eigenvectors', 'explained_variance'])\n",
      "dict_keys(['df_scaled', 'cov_matrix', 'eigenvalues', 'eigenvectors', 'explained_variance'])\n",
      "dict_keys(['df_scaled', 'cov_matrix', 'eigenvalues', 'eigenvectors', 'explained_variance'])\n",
      "dict_keys(['df_scaled', 'cov_matrix', 'eigenvalues', 'eigenvectors', 'explained_variance'])\n",
      "dict_keys(['df_scaled', 'cov_matrix', 'eigenvalues', 'eigenvectors', 'explained_variance'])\n",
      "dict_keys(['df_scaled', 'cov_matrix', 'eigenvalues', 'eigenvectors', 'explained_variance'])\n",
      "dict_keys(['df_scaled', 'cov_matrix', 'eigenvalues', 'eigenvectors', 'explained_variance'])\n",
      "dict_keys(['df_scaled', 'cov_matrix', 'eigenvalues', 'eigenvectors', 'explained_variance'])\n",
      "dict_keys(['df_scaled', 'cov_matrix', 'eigenvalues', 'eigenvectors', 'explained_variance'])\n",
      "dict_keys(['df_scaled', 'cov_matrix', 'eigenvalues', 'eigenvectors', 'explained_variance'])\n",
      "dict_keys(['df_scaled', 'cov_matrix', 'eigenvalues', 'eigenvectors', 'explained_variance'])\n",
      "dict_keys(['df_scaled', 'cov_matrix', 'eigenvalues', 'eigenvectors', 'explained_variance'])\n",
      "dict_keys(['df_scaled', 'cov_matrix', 'eigenvalues', 'eigenvectors', 'explained_variance'])\n",
      "dict_keys(['df_scaled', 'cov_matrix', 'eigenvalues', 'eigenvectors', 'explained_variance'])\n",
      "dict_keys(['df_scaled', 'cov_matrix', 'eigenvalues', 'eigenvectors', 'explained_variance'])\n",
      "dict_keys(['df_scaled', 'cov_matrix', 'eigenvalues', 'eigenvectors', 'explained_variance'])\n",
      "dict_keys(['df_scaled', 'cov_matrix', 'eigenvalues', 'eigenvectors', 'explained_variance'])\n",
      "dict_keys(['df_scaled', 'cov_matrix', 'eigenvalues', 'eigenvectors', 'explained_variance'])\n",
      "dict_keys(['df_scaled', 'cov_matrix', 'eigenvalues', 'eigenvectors', 'explained_variance'])\n",
      "dict_keys(['df_scaled', 'cov_matrix', 'eigenvalues', 'eigenvectors', 'explained_variance'])\n",
      "dict_keys(['df_scaled', 'cov_matrix', 'eigenvalues', 'eigenvectors', 'explained_variance'])\n",
      "dict_keys(['df_scaled', 'cov_matrix', 'eigenvalues', 'eigenvectors', 'explained_variance'])\n",
      "dict_keys(['df_scaled', 'cov_matrix', 'eigenvalues', 'eigenvectors', 'explained_variance'])\n",
      "dict_keys(['df_scaled', 'cov_matrix', 'eigenvalues', 'eigenvectors', 'explained_variance'])\n",
      "dict_keys(['df_scaled', 'cov_matrix', 'eigenvalues', 'eigenvectors', 'explained_variance'])\n",
      "dict_keys(['df_scaled', 'cov_matrix', 'eigenvalues', 'eigenvectors', 'explained_variance'])\n",
      "dict_keys(['df_scaled', 'cov_matrix', 'eigenvalues', 'eigenvectors', 'explained_variance'])\n",
      "dict_keys(['df_scaled', 'cov_matrix', 'eigenvalues', 'eigenvectors', 'explained_variance'])\n",
      "dict_keys(['df_scaled', 'cov_matrix', 'eigenvalues', 'eigenvectors', 'explained_variance'])\n",
      "dict_keys(['df_scaled', 'cov_matrix', 'eigenvalues', 'eigenvectors', 'explained_variance'])\n",
      "dict_keys(['df_scaled', 'cov_matrix', 'eigenvalues', 'eigenvectors', 'explained_variance'])\n",
      "dict_keys(['df_scaled', 'cov_matrix', 'eigenvalues', 'eigenvectors', 'explained_variance'])\n",
      "dict_keys(['df_scaled', 'cov_matrix', 'eigenvalues', 'eigenvectors', 'explained_variance'])\n",
      "dict_keys(['df_scaled', 'cov_matrix', 'eigenvalues', 'eigenvectors', 'explained_variance'])\n",
      "dict_keys(['df_scaled', 'cov_matrix', 'eigenvalues', 'eigenvectors', 'explained_variance'])\n",
      "dict_keys(['df_scaled', 'cov_matrix', 'eigenvalues', 'eigenvectors', 'explained_variance'])\n",
      "dict_keys(['df_scaled', 'cov_matrix', 'eigenvalues', 'eigenvectors', 'explained_variance'])\n",
      "dict_keys(['df_scaled', 'cov_matrix', 'eigenvalues', 'eigenvectors', 'explained_variance'])\n",
      "dict_keys(['df_scaled', 'cov_matrix', 'eigenvalues', 'eigenvectors', 'explained_variance'])\n",
      "dict_keys(['df_scaled', 'cov_matrix', 'eigenvalues', 'eigenvectors', 'explained_variance'])\n",
      "dict_keys(['df_scaled', 'cov_matrix', 'eigenvalues', 'eigenvectors', 'explained_variance'])\n",
      "dict_keys(['df_scaled', 'cov_matrix', 'eigenvalues', 'eigenvectors', 'explained_variance'])\n",
      "dict_keys(['df_scaled', 'cov_matrix', 'eigenvalues', 'eigenvectors', 'explained_variance'])\n",
      "dict_keys(['df_scaled', 'cov_matrix', 'eigenvalues', 'eigenvectors', 'explained_variance'])\n",
      "dict_keys(['df_scaled', 'cov_matrix', 'eigenvalues', 'eigenvectors', 'explained_variance'])\n",
      "dict_keys(['df_scaled', 'cov_matrix', 'eigenvalues', 'eigenvectors', 'explained_variance'])\n",
      "dict_keys(['df_scaled', 'cov_matrix', 'eigenvalues', 'eigenvectors', 'explained_variance'])\n",
      "dict_keys(['df_scaled', 'cov_matrix', 'eigenvalues', 'eigenvectors', 'explained_variance'])\n",
      "dict_keys(['df_scaled', 'cov_matrix', 'eigenvalues', 'eigenvectors', 'explained_variance'])\n",
      "dict_keys(['df_scaled', 'cov_matrix', 'eigenvalues', 'eigenvectors', 'explained_variance'])\n",
      "dict_keys(['df_scaled', 'cov_matrix', 'eigenvalues', 'eigenvectors', 'explained_variance'])\n",
      "dict_keys(['df_scaled', 'cov_matrix', 'eigenvalues', 'eigenvectors', 'explained_variance'])\n",
      "dict_keys(['df_scaled', 'cov_matrix', 'eigenvalues', 'eigenvectors', 'explained_variance'])\n",
      "dict_keys(['df_scaled', 'cov_matrix', 'eigenvalues', 'eigenvectors', 'explained_variance'])\n",
      "dict_keys(['df_scaled', 'cov_matrix', 'eigenvalues', 'eigenvectors', 'explained_variance'])\n",
      "dict_keys(['df_scaled', 'cov_matrix', 'eigenvalues', 'eigenvectors', 'explained_variance'])\n",
      "dict_keys(['df_scaled', 'cov_matrix', 'eigenvalues', 'eigenvectors', 'explained_variance'])\n",
      "dict_keys(['df_scaled', 'cov_matrix', 'eigenvalues', 'eigenvectors', 'explained_variance'])\n",
      "dict_keys(['df_scaled', 'cov_matrix', 'eigenvalues', 'eigenvectors', 'explained_variance'])\n",
      "dict_keys(['df_scaled', 'cov_matrix', 'eigenvalues', 'eigenvectors', 'explained_variance'])\n",
      "dict_keys(['df_scaled', 'cov_matrix', 'eigenvalues', 'eigenvectors', 'explained_variance'])\n",
      "dict_keys(['df_scaled', 'cov_matrix', 'eigenvalues', 'eigenvectors', 'explained_variance'])\n",
      "dict_keys(['df_scaled', 'cov_matrix', 'eigenvalues', 'eigenvectors', 'explained_variance'])\n",
      "dict_keys(['df_scaled', 'cov_matrix', 'eigenvalues', 'eigenvectors', 'explained_variance'])\n",
      "dict_keys(['df_scaled', 'cov_matrix', 'eigenvalues', 'eigenvectors', 'explained_variance'])\n",
      "dict_keys(['df_scaled', 'cov_matrix', 'eigenvalues', 'eigenvectors', 'explained_variance'])\n",
      "dict_keys(['df_scaled', 'cov_matrix', 'eigenvalues', 'eigenvectors', 'explained_variance'])\n",
      "dict_keys(['df_scaled', 'cov_matrix', 'eigenvalues', 'eigenvectors', 'explained_variance'])\n",
      "dict_keys(['df_scaled', 'cov_matrix', 'eigenvalues', 'eigenvectors', 'explained_variance'])\n",
      "dict_keys(['df_scaled', 'cov_matrix', 'eigenvalues', 'eigenvectors', 'explained_variance'])\n",
      "dict_keys(['df_scaled', 'cov_matrix', 'eigenvalues', 'eigenvectors', 'explained_variance'])\n",
      "dict_keys(['df_scaled', 'cov_matrix', 'eigenvalues', 'eigenvectors', 'explained_variance'])\n",
      "dict_keys(['df_scaled', 'cov_matrix', 'eigenvalues', 'eigenvectors', 'explained_variance'])\n"
     ]
    }
   ],
   "source": [
    "dates = [] #결과저장: 날짜\n",
    "fitted = [] #결과저장: 예측된 growth indicator\n",
    "x_list = ['employ', 'durable', 'dubai', 'y_spd', 'manu_spd', 'bsi_inv'] #대상 변수 바꾸고싶으면 이 부분 수정\n",
    "\n",
    "for i in range(0,len(df2_test.index)):\n",
    "    time = df2_test.index[i] + pd.DateOffset(months=-1) # 예측값 얻고 싶은 날짜\n",
    "    temp = df2['2003-02-01':time] # 데이터셋 이름 바뀌면 이 부분 수정\n",
    "    temp = temp[x_list] #분석 대상 변수들 -> df2에서 가져옴\n",
    "    pca_result = pca(temp) #PCA 진행\n",
    "\n",
    "    #pca1의 주성분을 PC1, PC2, PC3로 설정\n",
    "    #표준화된 X 랑 eigenvector 곱하기\n",
    "    data_pc = pca_result['df_scaled']@pca_result['eigenvectors'][['PC1']]\n",
    "\n",
    "    # Growth indicator 산출하는 부분\n",
    "    # 각 지표별 가중치 변경하려면 이 부분 수정하기\n",
    "\n",
    "    data_pc['growth_indicator'] = data_pc['PC1']\n",
    "\n",
    "    # AR(1) 모델 피팅\n",
    "    x = data_pc['growth_indicator']\n",
    "    model = AutoReg(x, lags=2)  # 1 시차를 사용하는 AR(1) 모델\n",
    "    model_fitted = model.fit()\n",
    "\n",
    "    # 예측 수행\n",
    "    pred = model_fitted.predict(start=len(x), end=len(x))\n",
    "    dates.append(time + pd.DateOffset(months=1))\n",
    "    fitted.append(pred.values[0])\n",
    "    \n"
   ]
  },
  {
   "cell_type": "code",
   "execution_count": 175,
   "id": "ea0b6354",
   "metadata": {},
   "outputs": [],
   "source": [
    "growth_fitted = pd.DataFrame({'date': dates, 'growth_indicator': fitted})"
   ]
  },
  {
   "cell_type": "code",
   "execution_count": 176,
   "id": "c9133e64",
   "metadata": {},
   "outputs": [],
   "source": [
    "growth_fitted.set_index('date', inplace=True)"
   ]
  },
  {
   "cell_type": "code",
   "execution_count": 145,
   "id": "69144404",
   "metadata": {},
   "outputs": [],
   "source": [
    "growth_fitted.to_csv(dir + '/data/trend_pred1.csv')"
   ]
  },
  {
   "cell_type": "code",
   "execution_count": 177,
   "id": "82d1644a",
   "metadata": {},
   "outputs": [
    {
     "data": {
      "text/plain": [
       "<Axes: xlabel='date'>"
      ]
     },
     "execution_count": 177,
     "metadata": {},
     "output_type": "execute_result"
    },
    {
     "data": {
      "image/png": "[encoded data removed]",
      "text/plain": [
       "<Figure size 640x480 with 1 Axes>"
      ]
     },
     "metadata": {},
     "output_type": "display_data"
    }
   ],
   "source": [
    "growth_fitted.plot()"
   ]
  },
  {
   "cell_type": "code",
   "execution_count": 136,
   "id": "09f7825d",
   "metadata": {},
   "outputs": [
    {
     "data": {
      "text/html": [
       "<div>\n",
       "<style scoped>\n",
       "    .dataframe tbody tr th:only-of-type {\n",
       "        vertical-align: middle;\n",
       "    }\n",
       "\n",
       "    .dataframe tbody tr th {\n",
       "        vertical-align: top;\n",
       "    }\n",
       "\n",
       "    .dataframe thead th {\n",
       "        text-align: right;\n",
       "    }\n",
       "</style>\n",
       "<table border=\"1\" class=\"dataframe\">\n",
       "  <thead>\n",
       "    <tr style=\"text-align: right;\">\n",
       "      <th></th>\n",
       "      <th>ipi</th>\n",
       "      <th>employ</th>\n",
       "      <th>durable</th>\n",
       "      <th>dubai</th>\n",
       "      <th>y_spd</th>\n",
       "      <th>manu_spd</th>\n",
       "      <th>manu_ratio</th>\n",
       "      <th>bsi_inv</th>\n",
       "    </tr>\n",
       "    <tr>\n",
       "      <th>date</th>\n",
       "      <th></th>\n",
       "      <th></th>\n",
       "      <th></th>\n",
       "      <th></th>\n",
       "      <th></th>\n",
       "      <th></th>\n",
       "      <th></th>\n",
       "      <th></th>\n",
       "    </tr>\n",
       "  </thead>\n",
       "  <tbody>\n",
       "    <tr>\n",
       "      <th>2003-02-01</th>\n",
       "      <td>61.7</td>\n",
       "      <td>59.6</td>\n",
       "      <td>37.2</td>\n",
       "      <td>30.20</td>\n",
       "      <td>0.420</td>\n",
       "      <td>12.570</td>\n",
       "      <td>0.289371</td>\n",
       "      <td>98.5</td>\n",
       "    </tr>\n",
       "    <tr>\n",
       "      <th>2003-03-01</th>\n",
       "      <td>62.3</td>\n",
       "      <td>59.5</td>\n",
       "      <td>36.4</td>\n",
       "      <td>27.52</td>\n",
       "      <td>0.420</td>\n",
       "      <td>12.150</td>\n",
       "      <td>0.274912</td>\n",
       "      <td>95.0</td>\n",
       "    </tr>\n",
       "    <tr>\n",
       "      <th>2003-04-01</th>\n",
       "      <td>62.4</td>\n",
       "      <td>59.2</td>\n",
       "      <td>36.3</td>\n",
       "      <td>23.56</td>\n",
       "      <td>0.430</td>\n",
       "      <td>10.827</td>\n",
       "      <td>0.241002</td>\n",
       "      <td>89.0</td>\n",
       "    </tr>\n",
       "    <tr>\n",
       "      <th>2003-05-01</th>\n",
       "      <td>62.4</td>\n",
       "      <td>59.2</td>\n",
       "      <td>35.9</td>\n",
       "      <td>24.32</td>\n",
       "      <td>0.410</td>\n",
       "      <td>10.881</td>\n",
       "      <td>0.242885</td>\n",
       "      <td>91.0</td>\n",
       "    </tr>\n",
       "    <tr>\n",
       "      <th>2003-06-01</th>\n",
       "      <td>63.3</td>\n",
       "      <td>59.2</td>\n",
       "      <td>34.5</td>\n",
       "      <td>25.67</td>\n",
       "      <td>0.390</td>\n",
       "      <td>12.022</td>\n",
       "      <td>0.266480</td>\n",
       "      <td>88.5</td>\n",
       "    </tr>\n",
       "    <tr>\n",
       "      <th>...</th>\n",
       "      <td>...</td>\n",
       "      <td>...</td>\n",
       "      <td>...</td>\n",
       "      <td>...</td>\n",
       "      <td>...</td>\n",
       "      <td>...</td>\n",
       "      <td>...</td>\n",
       "      <td>...</td>\n",
       "    </tr>\n",
       "    <tr>\n",
       "      <th>2025-02-01</th>\n",
       "      <td>113.4</td>\n",
       "      <td>63.0</td>\n",
       "      <td>110.6</td>\n",
       "      <td>76.32</td>\n",
       "      <td>0.219</td>\n",
       "      <td>-6.700</td>\n",
       "      <td>-0.062852</td>\n",
       "      <td>89.0</td>\n",
       "    </tr>\n",
       "    <tr>\n",
       "      <th>2025-03-01</th>\n",
       "      <td>114.6</td>\n",
       "      <td>63.0</td>\n",
       "      <td>100.7</td>\n",
       "      <td>72.98</td>\n",
       "      <td>0.205</td>\n",
       "      <td>-3.200</td>\n",
       "      <td>-0.030740</td>\n",
       "      <td>90.0</td>\n",
       "    </tr>\n",
       "    <tr>\n",
       "      <th>2025-04-01</th>\n",
       "      <td>113.8</td>\n",
       "      <td>63.1</td>\n",
       "      <td>99.1</td>\n",
       "      <td>68.49</td>\n",
       "      <td>0.263</td>\n",
       "      <td>-2.200</td>\n",
       "      <td>-0.021154</td>\n",
       "      <td>90.0</td>\n",
       "    </tr>\n",
       "    <tr>\n",
       "      <th>2025-05-01</th>\n",
       "      <td>112.5</td>\n",
       "      <td>62.9</td>\n",
       "      <td>100.5</td>\n",
       "      <td>63.61</td>\n",
       "      <td>0.379</td>\n",
       "      <td>-4.200</td>\n",
       "      <td>-0.040385</td>\n",
       "      <td>90.0</td>\n",
       "    </tr>\n",
       "    <tr>\n",
       "      <th>2025-06-01</th>\n",
       "      <td>113.8</td>\n",
       "      <td>62.8</td>\n",
       "      <td>98.9</td>\n",
       "      <td>69.36</td>\n",
       "      <td>0.401</td>\n",
       "      <td>-2.600</td>\n",
       "      <td>-0.024952</td>\n",
       "      <td>91.5</td>\n",
       "    </tr>\n",
       "  </tbody>\n",
       "</table>\n",
       "<p>269 rows × 8 columns</p>\n",
       "</div>"
      ],
      "text/plain": [
       "              ipi  employ  durable  dubai  y_spd  manu_spd  manu_ratio  \\\n",
       "date                                                                     \n",
       "2003-02-01   61.7    59.6     37.2  30.20  0.420    12.570    0.289371   \n",
       "2003-03-01   62.3    59.5     36.4  27.52  0.420    12.150    0.274912   \n",
       "2003-04-01   62.4    59.2     36.3  23.56  0.430    10.827    0.241002   \n",
       "2003-05-01   62.4    59.2     35.9  24.32  0.410    10.881    0.242885   \n",
       "2003-06-01   63.3    59.2     34.5  25.67  0.390    12.022    0.266480   \n",
       "...           ...     ...      ...    ...    ...       ...         ...   \n",
       "2025-02-01  113.4    63.0    110.6  76.32  0.219    -6.700   -0.062852   \n",
       "2025-03-01  114.6    63.0    100.7  72.98  0.205    -3.200   -0.030740   \n",
       "2025-04-01  113.8    63.1     99.1  68.49  0.263    -2.200   -0.021154   \n",
       "2025-05-01  112.5    62.9    100.5  63.61  0.379    -4.200   -0.040385   \n",
       "2025-06-01  113.8    62.8     98.9  69.36  0.401    -2.600   -0.024952   \n",
       "\n",
       "            bsi_inv  \n",
       "date                 \n",
       "2003-02-01     98.5  \n",
       "2003-03-01     95.0  \n",
       "2003-04-01     89.0  \n",
       "2003-05-01     91.0  \n",
       "2003-06-01     88.5  \n",
       "...             ...  \n",
       "2025-02-01     89.0  \n",
       "2025-03-01     90.0  \n",
       "2025-04-01     90.0  \n",
       "2025-05-01     90.0  \n",
       "2025-06-01     91.5  \n",
       "\n",
       "[269 rows x 8 columns]"
      ]
     },
     "execution_count": 136,
     "metadata": {},
     "output_type": "execute_result"
    }
   ],
   "source": [
    "df2"
   ]
  },
  {
   "cell_type": "code",
   "execution_count": 166,
   "id": "4d07c01e",
   "metadata": {},
   "outputs": [],
   "source": [
    "list_log = ['ipi', 'employ', 'durable', 'dubai', 'bsi_inv']\n",
    "for a in list_log:\n",
    "    df2[a+'_l'] = np.log(df2[a])"
   ]
  },
  {
   "cell_type": "code",
   "execution_count": 167,
   "id": "4bef53db",
   "metadata": {},
   "outputs": [
    {
     "name": "stdout",
     "output_type": "stream",
     "text": [
      "dict_keys(['df_scaled', 'cov_matrix', 'eigenvalues', 'eigenvectors', 'explained_variance'])\n",
      "dict_keys(['df_scaled', 'cov_matrix', 'eigenvalues', 'eigenvectors', 'explained_variance'])\n",
      "dict_keys(['df_scaled', 'cov_matrix', 'eigenvalues', 'eigenvectors', 'explained_variance'])\n",
      "dict_keys(['df_scaled', 'cov_matrix', 'eigenvalues', 'eigenvectors', 'explained_variance'])\n",
      "dict_keys(['df_scaled', 'cov_matrix', 'eigenvalues', 'eigenvectors', 'explained_variance'])\n",
      "dict_keys(['df_scaled', 'cov_matrix', 'eigenvalues', 'eigenvectors', 'explained_variance'])\n",
      "dict_keys(['df_scaled', 'cov_matrix', 'eigenvalues', 'eigenvectors', 'explained_variance'])\n",
      "dict_keys(['df_scaled', 'cov_matrix', 'eigenvalues', 'eigenvectors', 'explained_variance'])\n",
      "dict_keys(['df_scaled', 'cov_matrix', 'eigenvalues', 'eigenvectors', 'explained_variance'])\n",
      "dict_keys(['df_scaled', 'cov_matrix', 'eigenvalues', 'eigenvectors', 'explained_variance'])\n",
      "dict_keys(['df_scaled', 'cov_matrix', 'eigenvalues', 'eigenvectors', 'explained_variance'])\n",
      "dict_keys(['df_scaled', 'cov_matrix', 'eigenvalues', 'eigenvectors', 'explained_variance'])\n",
      "dict_keys(['df_scaled', 'cov_matrix', 'eigenvalues', 'eigenvectors', 'explained_variance'])\n",
      "dict_keys(['df_scaled', 'cov_matrix', 'eigenvalues', 'eigenvectors', 'explained_variance'])\n",
      "dict_keys(['df_scaled', 'cov_matrix', 'eigenvalues', 'eigenvectors', 'explained_variance'])\n",
      "dict_keys(['df_scaled', 'cov_matrix', 'eigenvalues', 'eigenvectors', 'explained_variance'])\n",
      "dict_keys(['df_scaled', 'cov_matrix', 'eigenvalues', 'eigenvectors', 'explained_variance'])\n",
      "dict_keys(['df_scaled', 'cov_matrix', 'eigenvalues', 'eigenvectors', 'explained_variance'])\n",
      "dict_keys(['df_scaled', 'cov_matrix', 'eigenvalues', 'eigenvectors', 'explained_variance'])\n",
      "dict_keys(['df_scaled', 'cov_matrix', 'eigenvalues', 'eigenvectors', 'explained_variance'])\n",
      "dict_keys(['df_scaled', 'cov_matrix', 'eigenvalues', 'eigenvectors', 'explained_variance'])\n",
      "dict_keys(['df_scaled', 'cov_matrix', 'eigenvalues', 'eigenvectors', 'explained_variance'])\n",
      "dict_keys(['df_scaled', 'cov_matrix', 'eigenvalues', 'eigenvectors', 'explained_variance'])\n",
      "dict_keys(['df_scaled', 'cov_matrix', 'eigenvalues', 'eigenvectors', 'explained_variance'])\n",
      "dict_keys(['df_scaled', 'cov_matrix', 'eigenvalues', 'eigenvectors', 'explained_variance'])\n",
      "dict_keys(['df_scaled', 'cov_matrix', 'eigenvalues', 'eigenvectors', 'explained_variance'])\n",
      "dict_keys(['df_scaled', 'cov_matrix', 'eigenvalues', 'eigenvectors', 'explained_variance'])\n",
      "dict_keys(['df_scaled', 'cov_matrix', 'eigenvalues', 'eigenvectors', 'explained_variance'])\n",
      "dict_keys(['df_scaled', 'cov_matrix', 'eigenvalues', 'eigenvectors', 'explained_variance'])\n",
      "dict_keys(['df_scaled', 'cov_matrix', 'eigenvalues', 'eigenvectors', 'explained_variance'])\n",
      "dict_keys(['df_scaled', 'cov_matrix', 'eigenvalues', 'eigenvectors', 'explained_variance'])\n",
      "dict_keys(['df_scaled', 'cov_matrix', 'eigenvalues', 'eigenvectors', 'explained_variance'])\n",
      "dict_keys(['df_scaled', 'cov_matrix', 'eigenvalues', 'eigenvectors', 'explained_variance'])\n",
      "dict_keys(['df_scaled', 'cov_matrix', 'eigenvalues', 'eigenvectors', 'explained_variance'])\n",
      "dict_keys(['df_scaled', 'cov_matrix', 'eigenvalues', 'eigenvectors', 'explained_variance'])\n",
      "dict_keys(['df_scaled', 'cov_matrix', 'eigenvalues', 'eigenvectors', 'explained_variance'])\n",
      "dict_keys(['df_scaled', 'cov_matrix', 'eigenvalues', 'eigenvectors', 'explained_variance'])\n",
      "dict_keys(['df_scaled', 'cov_matrix', 'eigenvalues', 'eigenvectors', 'explained_variance'])\n",
      "dict_keys(['df_scaled', 'cov_matrix', 'eigenvalues', 'eigenvectors', 'explained_variance'])\n",
      "dict_keys(['df_scaled', 'cov_matrix', 'eigenvalues', 'eigenvectors', 'explained_variance'])\n",
      "dict_keys(['df_scaled', 'cov_matrix', 'eigenvalues', 'eigenvectors', 'explained_variance'])\n",
      "dict_keys(['df_scaled', 'cov_matrix', 'eigenvalues', 'eigenvectors', 'explained_variance'])\n",
      "dict_keys(['df_scaled', 'cov_matrix', 'eigenvalues', 'eigenvectors', 'explained_variance'])\n",
      "dict_keys(['df_scaled', 'cov_matrix', 'eigenvalues', 'eigenvectors', 'explained_variance'])\n",
      "dict_keys(['df_scaled', 'cov_matrix', 'eigenvalues', 'eigenvectors', 'explained_variance'])\n",
      "dict_keys(['df_scaled', 'cov_matrix', 'eigenvalues', 'eigenvectors', 'explained_variance'])\n",
      "dict_keys(['df_scaled', 'cov_matrix', 'eigenvalues', 'eigenvectors', 'explained_variance'])\n",
      "dict_keys(['df_scaled', 'cov_matrix', 'eigenvalues', 'eigenvectors', 'explained_variance'])\n",
      "dict_keys(['df_scaled', 'cov_matrix', 'eigenvalues', 'eigenvectors', 'explained_variance'])\n",
      "dict_keys(['df_scaled', 'cov_matrix', 'eigenvalues', 'eigenvectors', 'explained_variance'])\n",
      "dict_keys(['df_scaled', 'cov_matrix', 'eigenvalues', 'eigenvectors', 'explained_variance'])\n",
      "dict_keys(['df_scaled', 'cov_matrix', 'eigenvalues', 'eigenvectors', 'explained_variance'])\n",
      "dict_keys(['df_scaled', 'cov_matrix', 'eigenvalues', 'eigenvectors', 'explained_variance'])\n",
      "dict_keys(['df_scaled', 'cov_matrix', 'eigenvalues', 'eigenvectors', 'explained_variance'])\n",
      "dict_keys(['df_scaled', 'cov_matrix', 'eigenvalues', 'eigenvectors', 'explained_variance'])\n",
      "dict_keys(['df_scaled', 'cov_matrix', 'eigenvalues', 'eigenvectors', 'explained_variance'])\n",
      "dict_keys(['df_scaled', 'cov_matrix', 'eigenvalues', 'eigenvectors', 'explained_variance'])\n",
      "dict_keys(['df_scaled', 'cov_matrix', 'eigenvalues', 'eigenvectors', 'explained_variance'])\n",
      "dict_keys(['df_scaled', 'cov_matrix', 'eigenvalues', 'eigenvectors', 'explained_variance'])\n",
      "dict_keys(['df_scaled', 'cov_matrix', 'eigenvalues', 'eigenvectors', 'explained_variance'])\n",
      "dict_keys(['df_scaled', 'cov_matrix', 'eigenvalues', 'eigenvectors', 'explained_variance'])\n",
      "dict_keys(['df_scaled', 'cov_matrix', 'eigenvalues', 'eigenvectors', 'explained_variance'])\n",
      "dict_keys(['df_scaled', 'cov_matrix', 'eigenvalues', 'eigenvectors', 'explained_variance'])\n",
      "dict_keys(['df_scaled', 'cov_matrix', 'eigenvalues', 'eigenvectors', 'explained_variance'])\n",
      "dict_keys(['df_scaled', 'cov_matrix', 'eigenvalues', 'eigenvectors', 'explained_variance'])\n",
      "dict_keys(['df_scaled', 'cov_matrix', 'eigenvalues', 'eigenvectors', 'explained_variance'])\n",
      "dict_keys(['df_scaled', 'cov_matrix', 'eigenvalues', 'eigenvectors', 'explained_variance'])\n",
      "dict_keys(['df_scaled', 'cov_matrix', 'eigenvalues', 'eigenvectors', 'explained_variance'])\n",
      "dict_keys(['df_scaled', 'cov_matrix', 'eigenvalues', 'eigenvectors', 'explained_variance'])\n",
      "dict_keys(['df_scaled', 'cov_matrix', 'eigenvalues', 'eigenvectors', 'explained_variance'])\n",
      "dict_keys(['df_scaled', 'cov_matrix', 'eigenvalues', 'eigenvectors', 'explained_variance'])\n",
      "dict_keys(['df_scaled', 'cov_matrix', 'eigenvalues', 'eigenvectors', 'explained_variance'])\n",
      "dict_keys(['df_scaled', 'cov_matrix', 'eigenvalues', 'eigenvectors', 'explained_variance'])\n",
      "dict_keys(['df_scaled', 'cov_matrix', 'eigenvalues', 'eigenvectors', 'explained_variance'])\n",
      "dict_keys(['df_scaled', 'cov_matrix', 'eigenvalues', 'eigenvectors', 'explained_variance'])\n",
      "dict_keys(['df_scaled', 'cov_matrix', 'eigenvalues', 'eigenvectors', 'explained_variance'])\n",
      "dict_keys(['df_scaled', 'cov_matrix', 'eigenvalues', 'eigenvectors', 'explained_variance'])\n",
      "dict_keys(['df_scaled', 'cov_matrix', 'eigenvalues', 'eigenvectors', 'explained_variance'])\n",
      "dict_keys(['df_scaled', 'cov_matrix', 'eigenvalues', 'eigenvectors', 'explained_variance'])\n",
      "dict_keys(['df_scaled', 'cov_matrix', 'eigenvalues', 'eigenvectors', 'explained_variance'])\n",
      "dict_keys(['df_scaled', 'cov_matrix', 'eigenvalues', 'eigenvectors', 'explained_variance'])\n",
      "dict_keys(['df_scaled', 'cov_matrix', 'eigenvalues', 'eigenvectors', 'explained_variance'])\n",
      "dict_keys(['df_scaled', 'cov_matrix', 'eigenvalues', 'eigenvectors', 'explained_variance'])\n",
      "dict_keys(['df_scaled', 'cov_matrix', 'eigenvalues', 'eigenvectors', 'explained_variance'])\n",
      "dict_keys(['df_scaled', 'cov_matrix', 'eigenvalues', 'eigenvectors', 'explained_variance'])\n",
      "dict_keys(['df_scaled', 'cov_matrix', 'eigenvalues', 'eigenvectors', 'explained_variance'])\n",
      "dict_keys(['df_scaled', 'cov_matrix', 'eigenvalues', 'eigenvectors', 'explained_variance'])\n",
      "dict_keys(['df_scaled', 'cov_matrix', 'eigenvalues', 'eigenvectors', 'explained_variance'])\n",
      "dict_keys(['df_scaled', 'cov_matrix', 'eigenvalues', 'eigenvectors', 'explained_variance'])\n",
      "dict_keys(['df_scaled', 'cov_matrix', 'eigenvalues', 'eigenvectors', 'explained_variance'])\n",
      "dict_keys(['df_scaled', 'cov_matrix', 'eigenvalues', 'eigenvectors', 'explained_variance'])\n",
      "dict_keys(['df_scaled', 'cov_matrix', 'eigenvalues', 'eigenvectors', 'explained_variance'])\n",
      "dict_keys(['df_scaled', 'cov_matrix', 'eigenvalues', 'eigenvectors', 'explained_variance'])\n",
      "dict_keys(['df_scaled', 'cov_matrix', 'eigenvalues', 'eigenvectors', 'explained_variance'])\n",
      "dict_keys(['df_scaled', 'cov_matrix', 'eigenvalues', 'eigenvectors', 'explained_variance'])\n",
      "dict_keys(['df_scaled', 'cov_matrix', 'eigenvalues', 'eigenvectors', 'explained_variance'])\n"
     ]
    }
   ],
   "source": [
    "dates = [] #결과저장: 날짜\n",
    "fitted = [] #결과저장: 예측된 growth indicator\n",
    "x_list = ['employ_l', 'durable_l', 'dubai_l', 'y_spd', 'manu_spd', 'bsi_inv_l'] #대상 변수 바꾸고싶으면 이 부분 수정\n",
    "\n",
    "for i in range(0,len(df2_test.index)):\n",
    "    time = df2_test.index[i] + pd.DateOffset(months=-1) # 예측값 얻고 싶은 날짜\n",
    "    temp = df2['2003-02-01':time] # 데이터셋 이름 바뀌면 이 부분 수정\n",
    "    temp = temp[x_list] #분석 대상 변수들 -> df2에서 가져옴\n",
    "    pca_result = pca(temp) #PCA 진행\n",
    "\n",
    "    #pca1의 주성분을 PC1, PC2, PC3로 설정\n",
    "    #표준화된 X 랑 eigenvector 곱하기\n",
    "    data_pc = pca_result['df_scaled']@pca_result['eigenvectors'][['PC1', 'PC2', 'PC3']]\n",
    "\n",
    "    # Growth indicator 산출하는 부분\n",
    "    # 각 지표별 가중치 변경하려면 이 부분 수정하기\n",
    "    \n",
    "    data_pc['growth_indicator'] = data_pc['PC1'] + data_pc['PC2'] + data_pc['PC3']\n",
    "\n",
    "    # AR(1) 모델 피팅\n",
    "    x = data_pc['growth_indicator']\n",
    "    model = AutoReg(x, lags=1)  # 1 시차를 사용하는 AR(1) 모델\n",
    "    model_fitted = model.fit()\n",
    "\n",
    "    # 예측 수행\n",
    "    pred = model_fitted.predict(start=len(x), end=len(x))\n",
    "    dates.append(time + pd.DateOffset(months=1))\n",
    "    fitted.append(pred.values[0])\n",
    "    \n"
   ]
  },
  {
   "cell_type": "code",
   "execution_count": 168,
   "id": "ab4f40b0",
   "metadata": {},
   "outputs": [],
   "source": [
    "growth_fitted = pd.DataFrame({'date': dates, 'growth_indicator': fitted})\n",
    "growth_fitted.set_index('date', inplace=True)"
   ]
  },
  {
   "cell_type": "code",
   "execution_count": 169,
   "id": "e85434ab",
   "metadata": {},
   "outputs": [
    {
     "data": {
      "text/plain": [
       "<Axes: xlabel='date'>"
      ]
     },
     "execution_count": 169,
     "metadata": {},
     "output_type": "execute_result"
    },
    {
     "data": {
      "image/png": "[encoded data removed]",
      "text/plain": [
       "<Figure size 640x480 with 1 Axes>"
      ]
     },
     "metadata": {},
     "output_type": "display_data"
    }
   ],
   "source": [
    "growth_fitted.plot()"
   ]
  },
  {
   "cell_type": "code",
   "execution_count": 141,
   "id": "a88e374c",
   "metadata": {},
   "outputs": [],
   "source": [
    "growth_fitted.to_csv(dir + '/data/trend_pred2.csv')"
   ]
  },
  {
   "cell_type": "code",
   "execution_count": null,
   "id": "c9114563",
   "metadata": {},
   "outputs": [],
   "source": []
  }
 ],
 "metadata": {
  "kernelspec": {
   "display_name": "base",
   "language": "python",
   "name": "python3"
  },
  "language_info": {
   "codemirror_mode": {
    "name": "ipython",
    "version": 3
   },
   "file_extension": ".py",
   "mimetype": "text/x-python",
   "name": "python",
   "nbconvert_exporter": "python",
   "pygments_lexer": "ipython3",
   "version": "3.13.5"
  }
 },
 "nbformat": 4,
 "nbformat_minor": 5
}
