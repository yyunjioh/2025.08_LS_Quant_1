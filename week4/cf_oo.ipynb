{
 "cells": [
  {
   "cell_type": "code",
   "execution_count": 42,
   "id": "5c141739",
   "metadata": {},
   "outputs": [],
   "source": [
    "import pandas as pd\n",
    "import numpy as np\n",
    "import matplotlib.pyplot as plt\n",
    "import os\n",
    "import statsmodels.api as sm\n",
    "dir = os.getcwd()"
   ]
  },
  {
   "cell_type": "code",
   "execution_count": 21,
   "id": "b89466bb",
   "metadata": {},
   "outputs": [],
   "source": [
    "df = pd.read_csv(dir+'/data/merged.csv')"
   ]
  },
  {
   "cell_type": "code",
   "execution_count": 22,
   "id": "dc52d2e0",
   "metadata": {},
   "outputs": [],
   "source": [
    "#날짜를 인덱스로 설정\n",
    "df.set_index('date', inplace=True)\n",
    "df.index = pd.to_datetime(df.index)\n",
    "df1 = df.copy().dropna() #결측치 제거\n",
    "\n",
    "#문자로 된 자료 숫자로 바꿔주기\n",
    "for a in df1.columns:\n",
    "    df1[a] = df1[a].astype('float')\n",
    "    "
   ]
  },
  {
   "cell_type": "code",
   "execution_count": 23,
   "id": "7a381edc",
   "metadata": {},
   "outputs": [],
   "source": [
    "#장단기 스프레드 // 출하지수-재고지수 스프레드\n",
    "df1['y_spd'] = df1['10y'] - df1['3y']\n",
    "df1['manu_spd'] = df1['shipment'] - df1['inven']\n",
    "df1['manu_ratio'] = (df1['shipment'] / df1['inven'])-1 #스프레드하면 스케일이 약간 애매해져서, 양 지수에 로그취해서 빼줌"
   ]
  },
  {
   "cell_type": "code",
   "execution_count": 24,
   "id": "588eea8c",
   "metadata": {},
   "outputs": [],
   "source": [
    "#설비투자전망지수 대기업+중소기업 평균 산출\n",
    "df1['bsi_inv'] = (df1['bsi_inv_big'] + df1['bsi_inv_small']) / 2"
   ]
  },
  {
   "cell_type": "code",
   "execution_count": 25,
   "id": "f267dbd7",
   "metadata": {},
   "outputs": [
    {
     "data": {
      "text/plain": [
       "Index(['bsi_inv_big', 'bsi_inv_small', '3y', '10y', 'shipment', 'inven', 'ipi',\n",
       "       'employ', 'durable', 'wti', 'dubai', 'iron', 'copper', 'gold', 'y_spd',\n",
       "       'manu_spd', 'manu_ratio', 'bsi_inv'],\n",
       "      dtype='object')"
      ]
     },
     "execution_count": 25,
     "metadata": {},
     "output_type": "execute_result"
    }
   ],
   "source": [
    "df1.columns"
   ]
  },
  {
   "cell_type": "code",
   "execution_count": 26,
   "id": "3341de7b",
   "metadata": {},
   "outputs": [],
   "source": [
    "#필요없는거 제거\n",
    "df2 = df1.drop(columns=['bsi_inv_big', 'bsi_inv_small','10y', '3y', 'shipment', 'inven',\n",
    "                        'wti','iron', 'copper', 'gold'])"
   ]
  },
  {
   "cell_type": "code",
   "execution_count": 27,
   "id": "1bdf9487",
   "metadata": {},
   "outputs": [],
   "source": [
    "#샘플기간 분리: 기준일 2017-07-01부터 out of sample\n",
    "df2_train = df2['2003-02-01':'2017-06-01']\n",
    "df2_test = df2['2017-07-01':]"
   ]
  },
  {
   "cell_type": "markdown",
   "id": "59bb686a",
   "metadata": {},
   "source": [
    "### 국면 판단 과정\n",
    "매 시점 반복 시행\n",
    "\n",
    "1. t시점까지의 자료 표준화\n",
    "2. PCA 수행\n",
    "3. Growth indicator 산정\n",
    "4. AR(1)으로 t+1시점 fitted value 추정"
   ]
  },
  {
   "cell_type": "markdown",
   "id": "cffdf3cd",
   "metadata": {},
   "source": [
    "### In-sample 기간 CF 사이클"
   ]
  },
  {
   "cell_type": "code",
   "execution_count": 62,
   "id": "5021d1c1",
   "metadata": {},
   "outputs": [
    {
     "data": {
      "text/plain": [
       "DatetimeIndex(['2003-02-01', '2003-03-01', '2003-04-01', '2003-05-01',\n",
       "               '2003-06-01', '2003-07-01', '2003-08-01', '2003-09-01',\n",
       "               '2003-10-01', '2003-11-01',\n",
       "               ...\n",
       "               '2024-09-01', '2024-10-01', '2024-11-01', '2024-12-01',\n",
       "               '2025-01-01', '2025-02-01', '2025-03-01', '2025-04-01',\n",
       "               '2025-05-01', '2025-06-01'],\n",
       "              dtype='datetime64[ns]', name='date', length=269, freq=None)"
      ]
     },
     "execution_count": 62,
     "metadata": {},
     "output_type": "execute_result"
    }
   ],
   "source": [
    "df2.index"
   ]
  },
  {
   "cell_type": "code",
   "execution_count": 63,
   "id": "6054d006",
   "metadata": {},
   "outputs": [],
   "source": [
    "# t 시점의 growth indicator 예측하려고 함\n",
    "# t-1 시점을 지정\n",
    "time = df2_test.index[0] + pd.DateOffset(months=-1) "
   ]
  },
  {
   "cell_type": "code",
   "execution_count": 64,
   "id": "882f7811",
   "metadata": {},
   "outputs": [],
   "source": [
    "#샘플기간 시작일부터 t-1시점까지의 데이터 사용\n",
    "temp = df2['2003-02-01':time]"
   ]
  },
  {
   "cell_type": "code",
   "execution_count": 65,
   "id": "8a67ad63",
   "metadata": {},
   "outputs": [],
   "source": [
    "x_list = ['employ', 'durable', 'dubai', 'y_spd', 'manu_spd', 'bsi_inv']"
   ]
  },
  {
   "cell_type": "code",
   "execution_count": 66,
   "id": "172d7298",
   "metadata": {},
   "outputs": [],
   "source": [
    "temp = temp[x_list]"
   ]
  },
  {
   "cell_type": "code",
   "execution_count": 67,
   "id": "981a1089",
   "metadata": {},
   "outputs": [
    {
     "data": {
      "text/html": [
       "<div>\n",
       "<style scoped>\n",
       "    .dataframe tbody tr th:only-of-type {\n",
       "        vertical-align: middle;\n",
       "    }\n",
       "\n",
       "    .dataframe tbody tr th {\n",
       "        vertical-align: top;\n",
       "    }\n",
       "\n",
       "    .dataframe thead th {\n",
       "        text-align: right;\n",
       "    }\n",
       "</style>\n",
       "<table border=\"1\" class=\"dataframe\">\n",
       "  <thead>\n",
       "    <tr style=\"text-align: right;\">\n",
       "      <th></th>\n",
       "      <th>employ</th>\n",
       "      <th>durable</th>\n",
       "      <th>dubai</th>\n",
       "      <th>y_spd</th>\n",
       "      <th>manu_spd</th>\n",
       "      <th>bsi_inv</th>\n",
       "    </tr>\n",
       "    <tr>\n",
       "      <th>date</th>\n",
       "      <th></th>\n",
       "      <th></th>\n",
       "      <th></th>\n",
       "      <th></th>\n",
       "      <th></th>\n",
       "      <th></th>\n",
       "    </tr>\n",
       "  </thead>\n",
       "  <tbody>\n",
       "    <tr>\n",
       "      <th>2003-02-01</th>\n",
       "      <td>59.6</td>\n",
       "      <td>37.2</td>\n",
       "      <td>30.20</td>\n",
       "      <td>0.420</td>\n",
       "      <td>12.570</td>\n",
       "      <td>98.5</td>\n",
       "    </tr>\n",
       "    <tr>\n",
       "      <th>2003-03-01</th>\n",
       "      <td>59.5</td>\n",
       "      <td>36.4</td>\n",
       "      <td>27.52</td>\n",
       "      <td>0.420</td>\n",
       "      <td>12.150</td>\n",
       "      <td>95.0</td>\n",
       "    </tr>\n",
       "    <tr>\n",
       "      <th>2003-04-01</th>\n",
       "      <td>59.2</td>\n",
       "      <td>36.3</td>\n",
       "      <td>23.56</td>\n",
       "      <td>0.430</td>\n",
       "      <td>10.827</td>\n",
       "      <td>89.0</td>\n",
       "    </tr>\n",
       "    <tr>\n",
       "      <th>2003-05-01</th>\n",
       "      <td>59.2</td>\n",
       "      <td>35.9</td>\n",
       "      <td>24.32</td>\n",
       "      <td>0.410</td>\n",
       "      <td>10.881</td>\n",
       "      <td>91.0</td>\n",
       "    </tr>\n",
       "    <tr>\n",
       "      <th>2003-06-01</th>\n",
       "      <td>59.2</td>\n",
       "      <td>34.5</td>\n",
       "      <td>25.67</td>\n",
       "      <td>0.390</td>\n",
       "      <td>12.022</td>\n",
       "      <td>88.5</td>\n",
       "    </tr>\n",
       "    <tr>\n",
       "      <th>...</th>\n",
       "      <td>...</td>\n",
       "      <td>...</td>\n",
       "      <td>...</td>\n",
       "      <td>...</td>\n",
       "      <td>...</td>\n",
       "      <td>...</td>\n",
       "    </tr>\n",
       "    <tr>\n",
       "      <th>2017-02-01</th>\n",
       "      <td>60.8</td>\n",
       "      <td>82.4</td>\n",
       "      <td>54.30</td>\n",
       "      <td>0.498</td>\n",
       "      <td>11.609</td>\n",
       "      <td>93.5</td>\n",
       "    </tr>\n",
       "    <tr>\n",
       "      <th>2017-03-01</th>\n",
       "      <td>60.9</td>\n",
       "      <td>82.7</td>\n",
       "      <td>51.02</td>\n",
       "      <td>0.512</td>\n",
       "      <td>13.381</td>\n",
       "      <td>95.5</td>\n",
       "    </tr>\n",
       "    <tr>\n",
       "      <th>2017-04-01</th>\n",
       "      <td>60.8</td>\n",
       "      <td>84.1</td>\n",
       "      <td>52.55</td>\n",
       "      <td>0.504</td>\n",
       "      <td>11.168</td>\n",
       "      <td>98.0</td>\n",
       "    </tr>\n",
       "    <tr>\n",
       "      <th>2017-05-01</th>\n",
       "      <td>60.8</td>\n",
       "      <td>84.3</td>\n",
       "      <td>50.13</td>\n",
       "      <td>0.567</td>\n",
       "      <td>8.157</td>\n",
       "      <td>97.5</td>\n",
       "    </tr>\n",
       "    <tr>\n",
       "      <th>2017-06-01</th>\n",
       "      <td>60.7</td>\n",
       "      <td>85.1</td>\n",
       "      <td>46.36</td>\n",
       "      <td>0.492</td>\n",
       "      <td>10.113</td>\n",
       "      <td>96.5</td>\n",
       "    </tr>\n",
       "  </tbody>\n",
       "</table>\n",
       "<p>173 rows × 6 columns</p>\n",
       "</div>"
      ],
      "text/plain": [
       "            employ  durable  dubai  y_spd  manu_spd  bsi_inv\n",
       "date                                                        \n",
       "2003-02-01    59.6     37.2  30.20  0.420    12.570     98.5\n",
       "2003-03-01    59.5     36.4  27.52  0.420    12.150     95.0\n",
       "2003-04-01    59.2     36.3  23.56  0.430    10.827     89.0\n",
       "2003-05-01    59.2     35.9  24.32  0.410    10.881     91.0\n",
       "2003-06-01    59.2     34.5  25.67  0.390    12.022     88.5\n",
       "...            ...      ...    ...    ...       ...      ...\n",
       "2017-02-01    60.8     82.4  54.30  0.498    11.609     93.5\n",
       "2017-03-01    60.9     82.7  51.02  0.512    13.381     95.5\n",
       "2017-04-01    60.8     84.1  52.55  0.504    11.168     98.0\n",
       "2017-05-01    60.8     84.3  50.13  0.567     8.157     97.5\n",
       "2017-06-01    60.7     85.1  46.36  0.492    10.113     96.5\n",
       "\n",
       "[173 rows x 6 columns]"
      ]
     },
     "execution_count": 67,
     "metadata": {},
     "output_type": "execute_result"
    }
   ],
   "source": [
    "temp"
   ]
  },
  {
   "cell_type": "code",
   "execution_count": 68,
   "id": "91dcc8e7",
   "metadata": {},
   "outputs": [],
   "source": [
    "from sklearn.preprocessing import StandardScaler\n",
    "#PCA 함수: 데이터프레임을 인풋으로\n",
    "#PCA 결과들을 리스트에 모아서 리턴해줌\n",
    "\n",
    "def pca(x):\n",
    "    '''\n",
    "    데이터프레임을 인풋으로\n",
    "    PCA 결과들을 딕셔너리에 모아서 리턴해줌\n",
    "    딕셔너리 키 목록\n",
    "    1. df_scaled: 표준화된 데이터\n",
    "    2. cov_matrix: 표준화된 데이터의 공분산 행렬\n",
    "    3. eigenvalues_df: eigenvalues\n",
    "    4. eigenvectors_df: eigenvectors\n",
    "    5. explained_variance_ratio_df: 분산 설명비율\n",
    "    '''\n",
    "    scaler = StandardScaler() # standard normal\n",
    "    df_scaled = scaler.fit_transform(x) #데이터 표준화\n",
    "    cov_matrix = np.cov(df_scaled, rowvar=False) #공분산 행렬 계산\n",
    "    eigenvalues, eigenvectors = np.linalg.eig(cov_matrix) #아이겐벡터, 밸류 계산\n",
    "    principal_components = df_scaled.dot(eigenvectors[:, 0])  # 첫 번째 주성분(PC1)\n",
    "\n",
    "    # PC1 방향을 나타내는 벡터\n",
    "    pc1_vector = eigenvectors[:, 0]\n",
    "\n",
    "    #Explained Variance Ratio\n",
    "    explained_variance_ratio = eigenvalues / np.sum(eigenvalues)\n",
    "\n",
    "    #PCA 결과 저장\n",
    "    index = []\n",
    "    for i in range(0,len(x.columns)):\n",
    "        index.append(f'PC{i+1}')\n",
    "\n",
    "    cov_matrix_df = pd.DataFrame(cov_matrix, columns=x.columns, index=x.columns)\n",
    "    eigenvalues_df = pd.DataFrame({'Eigenvalues': eigenvalues}, index=index)\n",
    "    eigenvectors_df = pd.DataFrame(eigenvectors, columns=index,\n",
    "                                index=x.columns)\n",
    "    explained_variance_ratio_df = pd.DataFrame({'Explained Variance Ratio': explained_variance_ratio},\n",
    "                                            index=index)\n",
    "    result = {'df_scaled' : df_scaled,\n",
    "              'cov_matrix' : cov_matrix,\n",
    "              'eigenvalues' : eigenvalues_df,\n",
    "              'eigenvectors' : eigenvectors_df,\n",
    "              'explained_variance' : explained_variance_ratio_df}\n",
    "    print(result.keys())\n",
    "    return result"
   ]
  },
  {
   "cell_type": "code",
   "execution_count": 69,
   "id": "05088cc9",
   "metadata": {},
   "outputs": [
    {
     "name": "stdout",
     "output_type": "stream",
     "text": [
      "dict_keys(['df_scaled', 'cov_matrix', 'eigenvalues', 'eigenvectors', 'explained_variance'])\n"
     ]
    }
   ],
   "source": [
    "pca_result = pca(temp) #PCA 진행"
   ]
  },
  {
   "cell_type": "code",
   "execution_count": 70,
   "id": "35a1542b",
   "metadata": {},
   "outputs": [
    {
     "data": {
      "text/html": [
       "<div>\n",
       "<style scoped>\n",
       "    .dataframe tbody tr th:only-of-type {\n",
       "        vertical-align: middle;\n",
       "    }\n",
       "\n",
       "    .dataframe tbody tr th {\n",
       "        vertical-align: top;\n",
       "    }\n",
       "\n",
       "    .dataframe thead th {\n",
       "        text-align: right;\n",
       "    }\n",
       "</style>\n",
       "<table border=\"1\" class=\"dataframe\">\n",
       "  <thead>\n",
       "    <tr style=\"text-align: right;\">\n",
       "      <th></th>\n",
       "      <th>Explained Variance Ratio</th>\n",
       "    </tr>\n",
       "  </thead>\n",
       "  <tbody>\n",
       "    <tr>\n",
       "      <th>PC1</th>\n",
       "      <td>0.378100</td>\n",
       "    </tr>\n",
       "    <tr>\n",
       "      <th>PC2</th>\n",
       "      <td>0.281669</td>\n",
       "    </tr>\n",
       "    <tr>\n",
       "      <th>PC3</th>\n",
       "      <td>0.165482</td>\n",
       "    </tr>\n",
       "    <tr>\n",
       "      <th>PC4</th>\n",
       "      <td>0.097004</td>\n",
       "    </tr>\n",
       "    <tr>\n",
       "      <th>PC5</th>\n",
       "      <td>0.032189</td>\n",
       "    </tr>\n",
       "    <tr>\n",
       "      <th>PC6</th>\n",
       "      <td>0.045557</td>\n",
       "    </tr>\n",
       "  </tbody>\n",
       "</table>\n",
       "</div>"
      ],
      "text/plain": [
       "     Explained Variance Ratio\n",
       "PC1                  0.378100\n",
       "PC2                  0.281669\n",
       "PC3                  0.165482\n",
       "PC4                  0.097004\n",
       "PC5                  0.032189\n",
       "PC6                  0.045557"
      ]
     },
     "execution_count": 70,
     "metadata": {},
     "output_type": "execute_result"
    }
   ],
   "source": [
    "pca_result['explained_variance'] #분산기여도 확인"
   ]
  },
  {
   "cell_type": "code",
   "execution_count": 71,
   "id": "d4ccd809",
   "metadata": {},
   "outputs": [],
   "source": [
    "#pca1의 주성분을 PC1, PC2, PC3로 설정\n",
    "#표준화된 X 랑 eigenvector 곱하기\n",
    "data_pc = pca_result['df_scaled']@pca_result['eigenvectors'][['PC1', 'PC2', 'PC3']]"
   ]
  },
  {
   "cell_type": "code",
   "execution_count": 72,
   "id": "2c1d853e",
   "metadata": {},
   "outputs": [],
   "source": [
    "# 변동 설명력 기준으로 가중 선정해서 지수 산출 vs 동일가중 산출\n",
    "data_pc['growth_indicator'] = data_pc['PC1'] + data_pc['PC2'] + data_pc['PC3']"
   ]
  },
  {
   "cell_type": "code",
   "execution_count": 73,
   "id": "ecdd01c6",
   "metadata": {},
   "outputs": [
    {
     "data": {
      "text/html": [
       "<div>\n",
       "<style scoped>\n",
       "    .dataframe tbody tr th:only-of-type {\n",
       "        vertical-align: middle;\n",
       "    }\n",
       "\n",
       "    .dataframe tbody tr th {\n",
       "        vertical-align: top;\n",
       "    }\n",
       "\n",
       "    .dataframe thead th {\n",
       "        text-align: right;\n",
       "    }\n",
       "</style>\n",
       "<table border=\"1\" class=\"dataframe\">\n",
       "  <thead>\n",
       "    <tr style=\"text-align: right;\">\n",
       "      <th></th>\n",
       "      <th>PC1</th>\n",
       "      <th>PC2</th>\n",
       "      <th>PC3</th>\n",
       "      <th>growth_indicator</th>\n",
       "    </tr>\n",
       "  </thead>\n",
       "  <tbody>\n",
       "    <tr>\n",
       "      <th>0</th>\n",
       "      <td>0.210103</td>\n",
       "      <td>-1.073777</td>\n",
       "      <td>-1.455777</td>\n",
       "      <td>-2.319451</td>\n",
       "    </tr>\n",
       "    <tr>\n",
       "      <th>1</th>\n",
       "      <td>0.445232</td>\n",
       "      <td>-1.554950</td>\n",
       "      <td>-1.265342</td>\n",
       "      <td>-2.375060</td>\n",
       "    </tr>\n",
       "    <tr>\n",
       "      <th>2</th>\n",
       "      <td>0.810774</td>\n",
       "      <td>-2.425195</td>\n",
       "      <td>-0.800921</td>\n",
       "      <td>-2.415341</td>\n",
       "    </tr>\n",
       "    <tr>\n",
       "      <th>3</th>\n",
       "      <td>0.660436</td>\n",
       "      <td>-2.191102</td>\n",
       "      <td>-0.970154</td>\n",
       "      <td>-2.500820</td>\n",
       "    </tr>\n",
       "    <tr>\n",
       "      <th>4</th>\n",
       "      <td>0.701002</td>\n",
       "      <td>-2.398183</td>\n",
       "      <td>-0.927822</td>\n",
       "      <td>-2.625003</td>\n",
       "    </tr>\n",
       "    <tr>\n",
       "      <th>...</th>\n",
       "      <td>...</td>\n",
       "      <td>...</td>\n",
       "      <td>...</td>\n",
       "      <td>...</td>\n",
       "    </tr>\n",
       "    <tr>\n",
       "      <th>168</th>\n",
       "      <td>2.189377</td>\n",
       "      <td>0.579268</td>\n",
       "      <td>0.905226</td>\n",
       "      <td>3.673871</td>\n",
       "    </tr>\n",
       "    <tr>\n",
       "      <th>169</th>\n",
       "      <td>1.951258</td>\n",
       "      <td>0.794795</td>\n",
       "      <td>0.711118</td>\n",
       "      <td>3.457171</td>\n",
       "    </tr>\n",
       "    <tr>\n",
       "      <th>170</th>\n",
       "      <td>1.943546</td>\n",
       "      <td>1.023714</td>\n",
       "      <td>0.707615</td>\n",
       "      <td>3.674875</td>\n",
       "    </tr>\n",
       "    <tr>\n",
       "      <th>171</th>\n",
       "      <td>2.285253</td>\n",
       "      <td>0.771250</td>\n",
       "      <td>0.905479</td>\n",
       "      <td>3.961981</td>\n",
       "    </tr>\n",
       "    <tr>\n",
       "      <th>172</th>\n",
       "      <td>2.178189</td>\n",
       "      <td>0.729217</td>\n",
       "      <td>0.809392</td>\n",
       "      <td>3.716798</td>\n",
       "    </tr>\n",
       "  </tbody>\n",
       "</table>\n",
       "<p>173 rows × 4 columns</p>\n",
       "</div>"
      ],
      "text/plain": [
       "          PC1       PC2       PC3  growth_indicator\n",
       "0    0.210103 -1.073777 -1.455777         -2.319451\n",
       "1    0.445232 -1.554950 -1.265342         -2.375060\n",
       "2    0.810774 -2.425195 -0.800921         -2.415341\n",
       "3    0.660436 -2.191102 -0.970154         -2.500820\n",
       "4    0.701002 -2.398183 -0.927822         -2.625003\n",
       "..        ...       ...       ...               ...\n",
       "168  2.189377  0.579268  0.905226          3.673871\n",
       "169  1.951258  0.794795  0.711118          3.457171\n",
       "170  1.943546  1.023714  0.707615          3.674875\n",
       "171  2.285253  0.771250  0.905479          3.961981\n",
       "172  2.178189  0.729217  0.809392          3.716798\n",
       "\n",
       "[173 rows x 4 columns]"
      ]
     },
     "execution_count": 73,
     "metadata": {},
     "output_type": "execute_result"
    }
   ],
   "source": [
    "data_pc"
   ]
  },
  {
   "cell_type": "code",
   "execution_count": 74,
   "id": "ec8eb238",
   "metadata": {},
   "outputs": [],
   "source": [
    "data_pc.index = temp.index"
   ]
  },
  {
   "cell_type": "code",
   "execution_count": 75,
   "id": "e9aac506",
   "metadata": {},
   "outputs": [
    {
     "data": {
      "text/html": [
       "<div>\n",
       "<style scoped>\n",
       "    .dataframe tbody tr th:only-of-type {\n",
       "        vertical-align: middle;\n",
       "    }\n",
       "\n",
       "    .dataframe tbody tr th {\n",
       "        vertical-align: top;\n",
       "    }\n",
       "\n",
       "    .dataframe thead th {\n",
       "        text-align: right;\n",
       "    }\n",
       "</style>\n",
       "<table border=\"1\" class=\"dataframe\">\n",
       "  <thead>\n",
       "    <tr style=\"text-align: right;\">\n",
       "      <th></th>\n",
       "      <th>PC1</th>\n",
       "      <th>PC2</th>\n",
       "      <th>PC3</th>\n",
       "      <th>growth_indicator</th>\n",
       "    </tr>\n",
       "    <tr>\n",
       "      <th>date</th>\n",
       "      <th></th>\n",
       "      <th></th>\n",
       "      <th></th>\n",
       "      <th></th>\n",
       "    </tr>\n",
       "  </thead>\n",
       "  <tbody>\n",
       "    <tr>\n",
       "      <th>2003-02-01</th>\n",
       "      <td>0.210103</td>\n",
       "      <td>-1.073777</td>\n",
       "      <td>-1.455777</td>\n",
       "      <td>-2.319451</td>\n",
       "    </tr>\n",
       "    <tr>\n",
       "      <th>2003-03-01</th>\n",
       "      <td>0.445232</td>\n",
       "      <td>-1.554950</td>\n",
       "      <td>-1.265342</td>\n",
       "      <td>-2.375060</td>\n",
       "    </tr>\n",
       "    <tr>\n",
       "      <th>2003-04-01</th>\n",
       "      <td>0.810774</td>\n",
       "      <td>-2.425195</td>\n",
       "      <td>-0.800921</td>\n",
       "      <td>-2.415341</td>\n",
       "    </tr>\n",
       "    <tr>\n",
       "      <th>2003-05-01</th>\n",
       "      <td>0.660436</td>\n",
       "      <td>-2.191102</td>\n",
       "      <td>-0.970154</td>\n",
       "      <td>-2.500820</td>\n",
       "    </tr>\n",
       "    <tr>\n",
       "      <th>2003-06-01</th>\n",
       "      <td>0.701002</td>\n",
       "      <td>-2.398183</td>\n",
       "      <td>-0.927822</td>\n",
       "      <td>-2.625003</td>\n",
       "    </tr>\n",
       "    <tr>\n",
       "      <th>...</th>\n",
       "      <td>...</td>\n",
       "      <td>...</td>\n",
       "      <td>...</td>\n",
       "      <td>...</td>\n",
       "    </tr>\n",
       "    <tr>\n",
       "      <th>2017-02-01</th>\n",
       "      <td>2.189377</td>\n",
       "      <td>0.579268</td>\n",
       "      <td>0.905226</td>\n",
       "      <td>3.673871</td>\n",
       "    </tr>\n",
       "    <tr>\n",
       "      <th>2017-03-01</th>\n",
       "      <td>1.951258</td>\n",
       "      <td>0.794795</td>\n",
       "      <td>0.711118</td>\n",
       "      <td>3.457171</td>\n",
       "    </tr>\n",
       "    <tr>\n",
       "      <th>2017-04-01</th>\n",
       "      <td>1.943546</td>\n",
       "      <td>1.023714</td>\n",
       "      <td>0.707615</td>\n",
       "      <td>3.674875</td>\n",
       "    </tr>\n",
       "    <tr>\n",
       "      <th>2017-05-01</th>\n",
       "      <td>2.285253</td>\n",
       "      <td>0.771250</td>\n",
       "      <td>0.905479</td>\n",
       "      <td>3.961981</td>\n",
       "    </tr>\n",
       "    <tr>\n",
       "      <th>2017-06-01</th>\n",
       "      <td>2.178189</td>\n",
       "      <td>0.729217</td>\n",
       "      <td>0.809392</td>\n",
       "      <td>3.716798</td>\n",
       "    </tr>\n",
       "  </tbody>\n",
       "</table>\n",
       "<p>173 rows × 4 columns</p>\n",
       "</div>"
      ],
      "text/plain": [
       "                 PC1       PC2       PC3  growth_indicator\n",
       "date                                                      \n",
       "2003-02-01  0.210103 -1.073777 -1.455777         -2.319451\n",
       "2003-03-01  0.445232 -1.554950 -1.265342         -2.375060\n",
       "2003-04-01  0.810774 -2.425195 -0.800921         -2.415341\n",
       "2003-05-01  0.660436 -2.191102 -0.970154         -2.500820\n",
       "2003-06-01  0.701002 -2.398183 -0.927822         -2.625003\n",
       "...              ...       ...       ...               ...\n",
       "2017-02-01  2.189377  0.579268  0.905226          3.673871\n",
       "2017-03-01  1.951258  0.794795  0.711118          3.457171\n",
       "2017-04-01  1.943546  1.023714  0.707615          3.674875\n",
       "2017-05-01  2.285253  0.771250  0.905479          3.961981\n",
       "2017-06-01  2.178189  0.729217  0.809392          3.716798\n",
       "\n",
       "[173 rows x 4 columns]"
      ]
     },
     "execution_count": 75,
     "metadata": {},
     "output_type": "execute_result"
    }
   ],
   "source": [
    "data_pc"
   ]
  },
  {
   "cell_type": "code",
   "execution_count": 76,
   "id": "e6daf2b4",
   "metadata": {},
   "outputs": [],
   "source": [
    "data_pc['cycle'], data_pc['trend'] = sm.tsa.filters.cffilter(\n",
    "    data_pc['growth_indicator'], low=18, high=96, drift=True\n",
    "    )"
   ]
  },
  {
   "cell_type": "code",
   "execution_count": 77,
   "id": "f37db4b5",
   "metadata": {},
   "outputs": [
    {
     "data": {
      "text/plain": [
       "<Axes: xlabel='date'>"
      ]
     },
     "execution_count": 77,
     "metadata": {},
     "output_type": "execute_result"
    },
    {
     "data": {
      "image/png": "[encoded data removed]",
      "text/plain": [
       "<Figure size 640x480 with 1 Axes>"
      ]
     },
     "metadata": {},
     "output_type": "display_data"
    }
   ],
   "source": [
    "data_pc['cycle'].plot()"
   ]
  },
  {
   "cell_type": "code",
   "execution_count": 46,
   "id": "bc721af1",
   "metadata": {},
   "outputs": [
    {
     "data": {
      "text/plain": [
       "np.float64(-0.30337561630650156)"
      ]
     },
     "execution_count": 46,
     "metadata": {},
     "output_type": "execute_result"
    }
   ],
   "source": [
    "data_pc['cycle'].iloc[-1]"
   ]
  },
  {
   "cell_type": "code",
   "execution_count": 49,
   "id": "f899e8a3",
   "metadata": {},
   "outputs": [
    {
     "name": "stdout",
     "output_type": "stream",
     "text": [
      "dict_keys(['df_scaled', 'cov_matrix', 'eigenvalues', 'eigenvectors', 'explained_variance'])\n",
      "dict_keys(['df_scaled', 'cov_matrix', 'eigenvalues', 'eigenvectors', 'explained_variance'])\n",
      "dict_keys(['df_scaled', 'cov_matrix', 'eigenvalues', 'eigenvectors', 'explained_variance'])\n",
      "dict_keys(['df_scaled', 'cov_matrix', 'eigenvalues', 'eigenvectors', 'explained_variance'])\n",
      "dict_keys(['df_scaled', 'cov_matrix', 'eigenvalues', 'eigenvectors', 'explained_variance'])\n",
      "dict_keys(['df_scaled', 'cov_matrix', 'eigenvalues', 'eigenvectors', 'explained_variance'])\n",
      "dict_keys(['df_scaled', 'cov_matrix', 'eigenvalues', 'eigenvectors', 'explained_variance'])\n",
      "dict_keys(['df_scaled', 'cov_matrix', 'eigenvalues', 'eigenvectors', 'explained_variance'])\n",
      "dict_keys(['df_scaled', 'cov_matrix', 'eigenvalues', 'eigenvectors', 'explained_variance'])\n",
      "dict_keys(['df_scaled', 'cov_matrix', 'eigenvalues', 'eigenvectors', 'explained_variance'])\n",
      "dict_keys(['df_scaled', 'cov_matrix', 'eigenvalues', 'eigenvectors', 'explained_variance'])\n",
      "dict_keys(['df_scaled', 'cov_matrix', 'eigenvalues', 'eigenvectors', 'explained_variance'])\n",
      "dict_keys(['df_scaled', 'cov_matrix', 'eigenvalues', 'eigenvectors', 'explained_variance'])\n",
      "dict_keys(['df_scaled', 'cov_matrix', 'eigenvalues', 'eigenvectors', 'explained_variance'])\n",
      "dict_keys(['df_scaled', 'cov_matrix', 'eigenvalues', 'eigenvectors', 'explained_variance'])\n",
      "dict_keys(['df_scaled', 'cov_matrix', 'eigenvalues', 'eigenvectors', 'explained_variance'])\n",
      "dict_keys(['df_scaled', 'cov_matrix', 'eigenvalues', 'eigenvectors', 'explained_variance'])\n",
      "dict_keys(['df_scaled', 'cov_matrix', 'eigenvalues', 'eigenvectors', 'explained_variance'])\n",
      "dict_keys(['df_scaled', 'cov_matrix', 'eigenvalues', 'eigenvectors', 'explained_variance'])\n",
      "dict_keys(['df_scaled', 'cov_matrix', 'eigenvalues', 'eigenvectors', 'explained_variance'])\n",
      "dict_keys(['df_scaled', 'cov_matrix', 'eigenvalues', 'eigenvectors', 'explained_variance'])\n",
      "dict_keys(['df_scaled', 'cov_matrix', 'eigenvalues', 'eigenvectors', 'explained_variance'])\n",
      "dict_keys(['df_scaled', 'cov_matrix', 'eigenvalues', 'eigenvectors', 'explained_variance'])\n",
      "dict_keys(['df_scaled', 'cov_matrix', 'eigenvalues', 'eigenvectors', 'explained_variance'])\n",
      "dict_keys(['df_scaled', 'cov_matrix', 'eigenvalues', 'eigenvectors', 'explained_variance'])\n",
      "dict_keys(['df_scaled', 'cov_matrix', 'eigenvalues', 'eigenvectors', 'explained_variance'])\n",
      "dict_keys(['df_scaled', 'cov_matrix', 'eigenvalues', 'eigenvectors', 'explained_variance'])\n",
      "dict_keys(['df_scaled', 'cov_matrix', 'eigenvalues', 'eigenvectors', 'explained_variance'])\n",
      "dict_keys(['df_scaled', 'cov_matrix', 'eigenvalues', 'eigenvectors', 'explained_variance'])\n",
      "dict_keys(['df_scaled', 'cov_matrix', 'eigenvalues', 'eigenvectors', 'explained_variance'])\n",
      "dict_keys(['df_scaled', 'cov_matrix', 'eigenvalues', 'eigenvectors', 'explained_variance'])\n",
      "dict_keys(['df_scaled', 'cov_matrix', 'eigenvalues', 'eigenvectors', 'explained_variance'])\n",
      "dict_keys(['df_scaled', 'cov_matrix', 'eigenvalues', 'eigenvectors', 'explained_variance'])\n",
      "dict_keys(['df_scaled', 'cov_matrix', 'eigenvalues', 'eigenvectors', 'explained_variance'])\n",
      "dict_keys(['df_scaled', 'cov_matrix', 'eigenvalues', 'eigenvectors', 'explained_variance'])\n",
      "dict_keys(['df_scaled', 'cov_matrix', 'eigenvalues', 'eigenvectors', 'explained_variance'])\n",
      "dict_keys(['df_scaled', 'cov_matrix', 'eigenvalues', 'eigenvectors', 'explained_variance'])\n",
      "dict_keys(['df_scaled', 'cov_matrix', 'eigenvalues', 'eigenvectors', 'explained_variance'])\n",
      "dict_keys(['df_scaled', 'cov_matrix', 'eigenvalues', 'eigenvectors', 'explained_variance'])\n",
      "dict_keys(['df_scaled', 'cov_matrix', 'eigenvalues', 'eigenvectors', 'explained_variance'])\n",
      "dict_keys(['df_scaled', 'cov_matrix', 'eigenvalues', 'eigenvectors', 'explained_variance'])\n",
      "dict_keys(['df_scaled', 'cov_matrix', 'eigenvalues', 'eigenvectors', 'explained_variance'])\n",
      "dict_keys(['df_scaled', 'cov_matrix', 'eigenvalues', 'eigenvectors', 'explained_variance'])\n",
      "dict_keys(['df_scaled', 'cov_matrix', 'eigenvalues', 'eigenvectors', 'explained_variance'])\n",
      "dict_keys(['df_scaled', 'cov_matrix', 'eigenvalues', 'eigenvectors', 'explained_variance'])\n",
      "dict_keys(['df_scaled', 'cov_matrix', 'eigenvalues', 'eigenvectors', 'explained_variance'])\n",
      "dict_keys(['df_scaled', 'cov_matrix', 'eigenvalues', 'eigenvectors', 'explained_variance'])\n",
      "dict_keys(['df_scaled', 'cov_matrix', 'eigenvalues', 'eigenvectors', 'explained_variance'])\n",
      "dict_keys(['df_scaled', 'cov_matrix', 'eigenvalues', 'eigenvectors', 'explained_variance'])\n",
      "dict_keys(['df_scaled', 'cov_matrix', 'eigenvalues', 'eigenvectors', 'explained_variance'])\n",
      "dict_keys(['df_scaled', 'cov_matrix', 'eigenvalues', 'eigenvectors', 'explained_variance'])\n",
      "dict_keys(['df_scaled', 'cov_matrix', 'eigenvalues', 'eigenvectors', 'explained_variance'])\n",
      "dict_keys(['df_scaled', 'cov_matrix', 'eigenvalues', 'eigenvectors', 'explained_variance'])\n",
      "dict_keys(['df_scaled', 'cov_matrix', 'eigenvalues', 'eigenvectors', 'explained_variance'])\n",
      "dict_keys(['df_scaled', 'cov_matrix', 'eigenvalues', 'eigenvectors', 'explained_variance'])\n",
      "dict_keys(['df_scaled', 'cov_matrix', 'eigenvalues', 'eigenvectors', 'explained_variance'])\n",
      "dict_keys(['df_scaled', 'cov_matrix', 'eigenvalues', 'eigenvectors', 'explained_variance'])\n",
      "dict_keys(['df_scaled', 'cov_matrix', 'eigenvalues', 'eigenvectors', 'explained_variance'])\n",
      "dict_keys(['df_scaled', 'cov_matrix', 'eigenvalues', 'eigenvectors', 'explained_variance'])\n",
      "dict_keys(['df_scaled', 'cov_matrix', 'eigenvalues', 'eigenvectors', 'explained_variance'])\n",
      "dict_keys(['df_scaled', 'cov_matrix', 'eigenvalues', 'eigenvectors', 'explained_variance'])\n",
      "dict_keys(['df_scaled', 'cov_matrix', 'eigenvalues', 'eigenvectors', 'explained_variance'])\n",
      "dict_keys(['df_scaled', 'cov_matrix', 'eigenvalues', 'eigenvectors', 'explained_variance'])\n",
      "dict_keys(['df_scaled', 'cov_matrix', 'eigenvalues', 'eigenvectors', 'explained_variance'])\n",
      "dict_keys(['df_scaled', 'cov_matrix', 'eigenvalues', 'eigenvectors', 'explained_variance'])\n",
      "dict_keys(['df_scaled', 'cov_matrix', 'eigenvalues', 'eigenvectors', 'explained_variance'])\n",
      "dict_keys(['df_scaled', 'cov_matrix', 'eigenvalues', 'eigenvectors', 'explained_variance'])\n",
      "dict_keys(['df_scaled', 'cov_matrix', 'eigenvalues', 'eigenvectors', 'explained_variance'])\n",
      "dict_keys(['df_scaled', 'cov_matrix', 'eigenvalues', 'eigenvectors', 'explained_variance'])\n",
      "dict_keys(['df_scaled', 'cov_matrix', 'eigenvalues', 'eigenvectors', 'explained_variance'])\n",
      "dict_keys(['df_scaled', 'cov_matrix', 'eigenvalues', 'eigenvectors', 'explained_variance'])\n",
      "dict_keys(['df_scaled', 'cov_matrix', 'eigenvalues', 'eigenvectors', 'explained_variance'])\n",
      "dict_keys(['df_scaled', 'cov_matrix', 'eigenvalues', 'eigenvectors', 'explained_variance'])\n",
      "dict_keys(['df_scaled', 'cov_matrix', 'eigenvalues', 'eigenvectors', 'explained_variance'])\n",
      "dict_keys(['df_scaled', 'cov_matrix', 'eigenvalues', 'eigenvectors', 'explained_variance'])\n",
      "dict_keys(['df_scaled', 'cov_matrix', 'eigenvalues', 'eigenvectors', 'explained_variance'])\n",
      "dict_keys(['df_scaled', 'cov_matrix', 'eigenvalues', 'eigenvectors', 'explained_variance'])\n",
      "dict_keys(['df_scaled', 'cov_matrix', 'eigenvalues', 'eigenvectors', 'explained_variance'])\n",
      "dict_keys(['df_scaled', 'cov_matrix', 'eigenvalues', 'eigenvectors', 'explained_variance'])\n",
      "dict_keys(['df_scaled', 'cov_matrix', 'eigenvalues', 'eigenvectors', 'explained_variance'])\n",
      "dict_keys(['df_scaled', 'cov_matrix', 'eigenvalues', 'eigenvectors', 'explained_variance'])\n",
      "dict_keys(['df_scaled', 'cov_matrix', 'eigenvalues', 'eigenvectors', 'explained_variance'])\n",
      "dict_keys(['df_scaled', 'cov_matrix', 'eigenvalues', 'eigenvectors', 'explained_variance'])\n",
      "dict_keys(['df_scaled', 'cov_matrix', 'eigenvalues', 'eigenvectors', 'explained_variance'])\n",
      "dict_keys(['df_scaled', 'cov_matrix', 'eigenvalues', 'eigenvectors', 'explained_variance'])\n",
      "dict_keys(['df_scaled', 'cov_matrix', 'eigenvalues', 'eigenvectors', 'explained_variance'])\n",
      "dict_keys(['df_scaled', 'cov_matrix', 'eigenvalues', 'eigenvectors', 'explained_variance'])\n",
      "dict_keys(['df_scaled', 'cov_matrix', 'eigenvalues', 'eigenvectors', 'explained_variance'])\n",
      "dict_keys(['df_scaled', 'cov_matrix', 'eigenvalues', 'eigenvectors', 'explained_variance'])\n",
      "dict_keys(['df_scaled', 'cov_matrix', 'eigenvalues', 'eigenvectors', 'explained_variance'])\n",
      "dict_keys(['df_scaled', 'cov_matrix', 'eigenvalues', 'eigenvectors', 'explained_variance'])\n",
      "dict_keys(['df_scaled', 'cov_matrix', 'eigenvalues', 'eigenvectors', 'explained_variance'])\n",
      "dict_keys(['df_scaled', 'cov_matrix', 'eigenvalues', 'eigenvectors', 'explained_variance'])\n",
      "dict_keys(['df_scaled', 'cov_matrix', 'eigenvalues', 'eigenvectors', 'explained_variance'])\n",
      "dict_keys(['df_scaled', 'cov_matrix', 'eigenvalues', 'eigenvectors', 'explained_variance'])\n",
      "dict_keys(['df_scaled', 'cov_matrix', 'eigenvalues', 'eigenvectors', 'explained_variance'])\n"
     ]
    }
   ],
   "source": [
    "dates = [] #결과저장: 날짜\n",
    "filtered = [] #결과저장: 예측된 growth indicator\n",
    "x_list = ['employ', 'durable', 'dubai', 'y_spd', 'manu_spd', 'bsi_inv'] #대상 변수 바꾸고싶으면 이 부분 수정\n",
    "\n",
    "for i in range(0,len(df2_test.index)):\n",
    "    time = df2_test.index[i] # 예측값 얻고 싶은 날짜\n",
    "    temp = df2['2003-02-01':time] # 데이터셋 이름 바뀌면 이 부분 수정\n",
    "    temp = temp[x_list] #분석 대상 변수들 -> df2에서 가져옴\n",
    "    pca_result = pca(temp) #PCA 진행\n",
    "\n",
    "    #pca1의 주성분을 PC1, PC2, PC3로 설정\n",
    "    #표준화된 X 랑 eigenvector 곱하기\n",
    "    data_pc = pca_result['df_scaled']@pca_result['eigenvectors'][['PC1', 'PC2', 'PC3']]\n",
    "\n",
    "    # Growth indicator 산출하는 부분\n",
    "    # 각 지표별 가중치 변경하려면 이 부분 수정하기\n",
    "\n",
    "    data_pc['growth_indicator'] = data_pc['PC1'] + data_pc['PC2'] + data_pc['PC3']\n",
    "    data_pc['cycle'], data_pc['trend'] = sm.tsa.filters.cffilter(\n",
    "    data_pc['growth_indicator'], low=18, high=96, drift=True\n",
    "    )\n",
    "    dates.append(time)\n",
    "    filtered.append(data_pc['cycle'].iloc[-1])\n",
    "    \n"
   ]
  },
  {
   "cell_type": "code",
   "execution_count": 50,
   "id": "d6b1149d",
   "metadata": {},
   "outputs": [
    {
     "data": {
      "text/plain": [
       "[Timestamp('2017-07-01 00:00:00'),\n",
       " Timestamp('2017-08-01 00:00:00'),\n",
       " Timestamp('2017-09-01 00:00:00'),\n",
       " Timestamp('2017-10-01 00:00:00'),\n",
       " Timestamp('2017-11-01 00:00:00'),\n",
       " Timestamp('2017-12-01 00:00:00'),\n",
       " Timestamp('2018-01-01 00:00:00'),\n",
       " Timestamp('2018-02-01 00:00:00'),\n",
       " Timestamp('2018-03-01 00:00:00'),\n",
       " Timestamp('2018-04-01 00:00:00'),\n",
       " Timestamp('2018-05-01 00:00:00'),\n",
       " Timestamp('2018-06-01 00:00:00'),\n",
       " Timestamp('2018-07-01 00:00:00'),\n",
       " Timestamp('2018-08-01 00:00:00'),\n",
       " Timestamp('2018-09-01 00:00:00'),\n",
       " Timestamp('2018-10-01 00:00:00'),\n",
       " Timestamp('2018-11-01 00:00:00'),\n",
       " Timestamp('2018-12-01 00:00:00'),\n",
       " Timestamp('2019-01-01 00:00:00'),\n",
       " Timestamp('2019-02-01 00:00:00'),\n",
       " Timestamp('2019-03-01 00:00:00'),\n",
       " Timestamp('2019-04-01 00:00:00'),\n",
       " Timestamp('2019-05-01 00:00:00'),\n",
       " Timestamp('2019-06-01 00:00:00'),\n",
       " Timestamp('2019-07-01 00:00:00'),\n",
       " Timestamp('2019-08-01 00:00:00'),\n",
       " Timestamp('2019-09-01 00:00:00'),\n",
       " Timestamp('2019-10-01 00:00:00'),\n",
       " Timestamp('2019-11-01 00:00:00'),\n",
       " Timestamp('2019-12-01 00:00:00'),\n",
       " Timestamp('2020-01-01 00:00:00'),\n",
       " Timestamp('2020-02-01 00:00:00'),\n",
       " Timestamp('2020-03-01 00:00:00'),\n",
       " Timestamp('2020-04-01 00:00:00'),\n",
       " Timestamp('2020-05-01 00:00:00'),\n",
       " Timestamp('2020-06-01 00:00:00'),\n",
       " Timestamp('2020-07-01 00:00:00'),\n",
       " Timestamp('2020-08-01 00:00:00'),\n",
       " Timestamp('2020-09-01 00:00:00'),\n",
       " Timestamp('2020-10-01 00:00:00'),\n",
       " Timestamp('2020-11-01 00:00:00'),\n",
       " Timestamp('2020-12-01 00:00:00'),\n",
       " Timestamp('2021-01-01 00:00:00'),\n",
       " Timestamp('2021-02-01 00:00:00'),\n",
       " Timestamp('2021-03-01 00:00:00'),\n",
       " Timestamp('2021-04-01 00:00:00'),\n",
       " Timestamp('2021-05-01 00:00:00'),\n",
       " Timestamp('2021-06-01 00:00:00'),\n",
       " Timestamp('2021-07-01 00:00:00'),\n",
       " Timestamp('2021-08-01 00:00:00'),\n",
       " Timestamp('2021-09-01 00:00:00'),\n",
       " Timestamp('2021-10-01 00:00:00'),\n",
       " Timestamp('2021-11-01 00:00:00'),\n",
       " Timestamp('2021-12-01 00:00:00'),\n",
       " Timestamp('2022-01-01 00:00:00'),\n",
       " Timestamp('2022-02-01 00:00:00'),\n",
       " Timestamp('2022-03-01 00:00:00'),\n",
       " Timestamp('2022-04-01 00:00:00'),\n",
       " Timestamp('2022-05-01 00:00:00'),\n",
       " Timestamp('2022-06-01 00:00:00'),\n",
       " Timestamp('2022-07-01 00:00:00'),\n",
       " Timestamp('2022-08-01 00:00:00'),\n",
       " Timestamp('2022-09-01 00:00:00'),\n",
       " Timestamp('2022-10-01 00:00:00'),\n",
       " Timestamp('2022-11-01 00:00:00'),\n",
       " Timestamp('2022-12-01 00:00:00'),\n",
       " Timestamp('2023-01-01 00:00:00'),\n",
       " Timestamp('2023-02-01 00:00:00'),\n",
       " Timestamp('2023-03-01 00:00:00'),\n",
       " Timestamp('2023-04-01 00:00:00'),\n",
       " Timestamp('2023-05-01 00:00:00'),\n",
       " Timestamp('2023-06-01 00:00:00'),\n",
       " Timestamp('2023-07-01 00:00:00'),\n",
       " Timestamp('2023-08-01 00:00:00'),\n",
       " Timestamp('2023-09-01 00:00:00'),\n",
       " Timestamp('2023-10-01 00:00:00'),\n",
       " Timestamp('2023-11-01 00:00:00'),\n",
       " Timestamp('2023-12-01 00:00:00'),\n",
       " Timestamp('2024-01-01 00:00:00'),\n",
       " Timestamp('2024-02-01 00:00:00'),\n",
       " Timestamp('2024-03-01 00:00:00'),\n",
       " Timestamp('2024-04-01 00:00:00'),\n",
       " Timestamp('2024-05-01 00:00:00'),\n",
       " Timestamp('2024-06-01 00:00:00'),\n",
       " Timestamp('2024-07-01 00:00:00'),\n",
       " Timestamp('2024-08-01 00:00:00'),\n",
       " Timestamp('2024-09-01 00:00:00'),\n",
       " Timestamp('2024-10-01 00:00:00'),\n",
       " Timestamp('2024-11-01 00:00:00'),\n",
       " Timestamp('2024-12-01 00:00:00'),\n",
       " Timestamp('2025-01-01 00:00:00'),\n",
       " Timestamp('2025-02-01 00:00:00'),\n",
       " Timestamp('2025-03-01 00:00:00'),\n",
       " Timestamp('2025-04-01 00:00:00'),\n",
       " Timestamp('2025-05-01 00:00:00'),\n",
       " Timestamp('2025-06-01 00:00:00')]"
      ]
     },
     "execution_count": 50,
     "metadata": {},
     "output_type": "execute_result"
    }
   ],
   "source": [
    "dates"
   ]
  },
  {
   "cell_type": "code",
   "execution_count": 51,
   "id": "672176d2",
   "metadata": {},
   "outputs": [],
   "source": [
    "growth_filtered = pd.DataFrame({'date': dates, 'growth_indicator': filtered})\n",
    "growth_filtered.set_index('date', inplace=True)"
   ]
  },
  {
   "cell_type": "code",
   "execution_count": 52,
   "id": "2568241b",
   "metadata": {},
   "outputs": [
    {
     "data": {
      "text/plain": [
       "<Axes: xlabel='date'>"
      ]
     },
     "execution_count": 52,
     "metadata": {},
     "output_type": "execute_result"
    },
    {
     "data": {
      "image/png": "[encoded data removed]",
      "text/plain": [
       "<Figure size 640x480 with 1 Axes>"
      ]
     },
     "metadata": {},
     "output_type": "display_data"
    }
   ],
   "source": [
    "growth_filtered.plot()"
   ]
  },
  {
   "cell_type": "code",
   "execution_count": 79,
   "id": "a037cb8d",
   "metadata": {},
   "outputs": [],
   "source": [
    "example = pd.concat([data_pc['cycle'], growth_filtered['growth_indicator']])"
   ]
  },
  {
   "cell_type": "code",
   "execution_count": 80,
   "id": "b042ddea",
   "metadata": {},
   "outputs": [
    {
     "data": {
      "text/plain": [
       "<Axes: xlabel='date'>"
      ]
     },
     "execution_count": 80,
     "metadata": {},
     "output_type": "execute_result"
    },
    {
     "data": {
      "image/png": "[encoded data removed]",
      "text/plain": [
       "<Figure size 640x480 with 1 Axes>"
      ]
     },
     "metadata": {},
     "output_type": "display_data"
    }
   ],
   "source": [
    "example.plot()"
   ]
  },
  {
   "cell_type": "code",
   "execution_count": 84,
   "id": "4b4b3d0c",
   "metadata": {},
   "outputs": [
    {
     "data": {
      "text/plain": [
       "Text(0.5, 1.0, '추세 판단 결과')"
      ]
     },
     "execution_count": 84,
     "metadata": {},
     "output_type": "execute_result"
    },
    {
     "data": {
      "image/png": "[encoded data removed]",
      "text/plain": [
       "<Figure size 640x480 with 1 Axes>"
      ]
     },
     "metadata": {},
     "output_type": "display_data"
    }
   ],
   "source": [
    "plt.rcParams['font.family'] = 'Malgun Gothic'\n",
    "plt.rcParams['axes.unicode_minus'] = False \n",
    "date = example.index\n",
    "y = example\n",
    "\n",
    "fig, ax1 = plt.subplots()\n",
    "ax1.plot(date, y)\n",
    "ax1.axvspan('2003-02-01', '2005-04-01', color='red', alpha=0.3)\n",
    "ax1.axvspan('2008-01-01', '2009-02-01', color='red', alpha=0.3)\n",
    "ax1.axvspan('2011-11-01', '2013-03-01', color='red', alpha=0.3)\n",
    "ax1.axvspan('2017-09-01', '2020-05-01', color='red', alpha=0.3)\n",
    "\n",
    "plt.xticks(date[::60])\n",
    "plt.title('추세 판단 결과')"
   ]
  },
  {
   "cell_type": "code",
   "execution_count": 61,
   "id": "7f91d9e3",
   "metadata": {},
   "outputs": [
    {
     "data": {
      "text/html": [
       "<div>\n",
       "<style scoped>\n",
       "    .dataframe tbody tr th:only-of-type {\n",
       "        vertical-align: middle;\n",
       "    }\n",
       "\n",
       "    .dataframe tbody tr th {\n",
       "        vertical-align: top;\n",
       "    }\n",
       "\n",
       "    .dataframe thead th {\n",
       "        text-align: right;\n",
       "    }\n",
       "</style>\n",
       "<table border=\"1\" class=\"dataframe\">\n",
       "  <thead>\n",
       "    <tr style=\"text-align: right;\">\n",
       "      <th></th>\n",
       "      <th>PC1</th>\n",
       "      <th>PC2</th>\n",
       "      <th>PC3</th>\n",
       "      <th>growth_indicator</th>\n",
       "      <th>cycle</th>\n",
       "      <th>trend</th>\n",
       "    </tr>\n",
       "  </thead>\n",
       "  <tbody>\n",
       "    <tr>\n",
       "      <th>0</th>\n",
       "      <td>-1.393744</td>\n",
       "      <td>-0.846188</td>\n",
       "      <td>0.562419</td>\n",
       "      <td>-1.677512</td>\n",
       "      <td>-0.065025</td>\n",
       "      <td>-1.612487</td>\n",
       "    </tr>\n",
       "    <tr>\n",
       "      <th>1</th>\n",
       "      <td>-1.241599</td>\n",
       "      <td>-1.374872</td>\n",
       "      <td>0.461940</td>\n",
       "      <td>-2.154531</td>\n",
       "      <td>-0.206534</td>\n",
       "      <td>-1.960207</td>\n",
       "    </tr>\n",
       "    <tr>\n",
       "      <th>2</th>\n",
       "      <td>-0.998065</td>\n",
       "      <td>-2.289271</td>\n",
       "      <td>0.384452</td>\n",
       "      <td>-2.902884</td>\n",
       "      <td>-0.351171</td>\n",
       "      <td>-2.576134</td>\n",
       "    </tr>\n",
       "    <tr>\n",
       "      <th>3</th>\n",
       "      <td>-1.095090</td>\n",
       "      <td>-2.000108</td>\n",
       "      <td>0.489665</td>\n",
       "      <td>-2.605533</td>\n",
       "      <td>-0.495642</td>\n",
       "      <td>-2.146522</td>\n",
       "    </tr>\n",
       "    <tr>\n",
       "      <th>4</th>\n",
       "      <td>-1.009340</td>\n",
       "      <td>-2.244337</td>\n",
       "      <td>0.289786</td>\n",
       "      <td>-2.963891</td>\n",
       "      <td>-0.636526</td>\n",
       "      <td>-2.376206</td>\n",
       "    </tr>\n",
       "    <tr>\n",
       "      <th>...</th>\n",
       "      <td>...</td>\n",
       "      <td>...</td>\n",
       "      <td>...</td>\n",
       "      <td>...</td>\n",
       "      <td>...</td>\n",
       "      <td>...</td>\n",
       "    </tr>\n",
       "    <tr>\n",
       "      <th>264</th>\n",
       "      <td>3.425842</td>\n",
       "      <td>-0.141257</td>\n",
       "      <td>-0.716711</td>\n",
       "      <td>2.567874</td>\n",
       "      <td>-0.595614</td>\n",
       "      <td>-0.060081</td>\n",
       "    </tr>\n",
       "    <tr>\n",
       "      <th>265</th>\n",
       "      <td>3.017608</td>\n",
       "      <td>-0.090146</td>\n",
       "      <td>-0.839753</td>\n",
       "      <td>2.087708</td>\n",
       "      <td>-0.752710</td>\n",
       "      <td>-0.395360</td>\n",
       "    </tr>\n",
       "    <tr>\n",
       "      <th>266</th>\n",
       "      <td>2.903827</td>\n",
       "      <td>-0.258955</td>\n",
       "      <td>-0.951564</td>\n",
       "      <td>1.693308</td>\n",
       "      <td>-0.891693</td>\n",
       "      <td>-0.662989</td>\n",
       "    </tr>\n",
       "    <tr>\n",
       "      <th>267</th>\n",
       "      <td>2.781010</td>\n",
       "      <td>-0.550524</td>\n",
       "      <td>-0.732208</td>\n",
       "      <td>1.498279</td>\n",
       "      <td>-1.007131</td>\n",
       "      <td>-0.754790</td>\n",
       "    </tr>\n",
       "    <tr>\n",
       "      <th>268</th>\n",
       "      <td>2.520935</td>\n",
       "      <td>-0.219475</td>\n",
       "      <td>-0.706561</td>\n",
       "      <td>1.594898</td>\n",
       "      <td>-1.095039</td>\n",
       "      <td>-0.582474</td>\n",
       "    </tr>\n",
       "  </tbody>\n",
       "</table>\n",
       "<p>269 rows × 6 columns</p>\n",
       "</div>"
      ],
      "text/plain": [
       "          PC1       PC2       PC3  growth_indicator     cycle     trend\n",
       "0   -1.393744 -0.846188  0.562419         -1.677512 -0.065025 -1.612487\n",
       "1   -1.241599 -1.374872  0.461940         -2.154531 -0.206534 -1.960207\n",
       "2   -0.998065 -2.289271  0.384452         -2.902884 -0.351171 -2.576134\n",
       "3   -1.095090 -2.000108  0.489665         -2.605533 -0.495642 -2.146522\n",
       "4   -1.009340 -2.244337  0.289786         -2.963891 -0.636526 -2.376206\n",
       "..        ...       ...       ...               ...       ...       ...\n",
       "264  3.425842 -0.141257 -0.716711          2.567874 -0.595614 -0.060081\n",
       "265  3.017608 -0.090146 -0.839753          2.087708 -0.752710 -0.395360\n",
       "266  2.903827 -0.258955 -0.951564          1.693308 -0.891693 -0.662989\n",
       "267  2.781010 -0.550524 -0.732208          1.498279 -1.007131 -0.754790\n",
       "268  2.520935 -0.219475 -0.706561          1.594898 -1.095039 -0.582474\n",
       "\n",
       "[269 rows x 6 columns]"
      ]
     },
     "execution_count": 61,
     "metadata": {},
     "output_type": "execute_result"
    }
   ],
   "source": [
    "data_pc"
   ]
  },
  {
   "cell_type": "code",
   "execution_count": 59,
   "id": "b3411594",
   "metadata": {},
   "outputs": [
    {
     "data": {
      "text/plain": [
       "DatetimeIndex(['2003-02-01', '2003-03-01', '2003-04-01', '2003-05-01',\n",
       "               '2003-06-01', '2003-07-01', '2003-08-01', '2003-09-01',\n",
       "               '2003-10-01', '2003-11-01',\n",
       "               ...\n",
       "               '2016-09-01', '2016-10-01', '2016-11-01', '2016-12-01',\n",
       "               '2017-01-01', '2017-02-01', '2017-03-01', '2017-04-01',\n",
       "               '2017-05-01', '2017-06-01'],\n",
       "              dtype='datetime64[ns]', name='date', length=173, freq=None)"
      ]
     },
     "execution_count": 59,
     "metadata": {},
     "output_type": "execute_result"
    }
   ],
   "source": [
    "df2['2003-02-01':'2017-06-01'].index"
   ]
  },
  {
   "cell_type": "code",
   "execution_count": null,
   "id": "7a8010d9",
   "metadata": {},
   "outputs": [],
   "source": []
  }
 ],
 "metadata": {
  "kernelspec": {
   "display_name": "base",
   "language": "python",
   "name": "python3"
  },
  "language_info": {
   "codemirror_mode": {
    "name": "ipython",
    "version": 3
   },
   "file_extension": ".py",
   "mimetype": "text/x-python",
   "name": "python",
   "nbconvert_exporter": "python",
   "pygments_lexer": "ipython3",
   "version": "3.13.5"
  }
 },
 "nbformat": 4,
 "nbformat_minor": 5
}
