{
 "cells": [
  {
   "cell_type": "code",
   "execution_count": null,
   "id": "63d334a7",
   "metadata": {},
   "outputs": [],
   "source": [
    "import pandas as pd\n",
    "import numpy as np\n",
    "import matplotlib.pyplot as plt\n",
    "import os\n",
    "from sklearn.preprocessing import StandardScaler\n",
    "from sklearn.decomposition import PCA\n",
    "from statsmodels.tsa.filters import cf_filter\n",
    "dir = os.getcwd()"
   ]
  },
  {
   "cell_type": "code",
   "execution_count": null,
   "id": "a4cb1094",
   "metadata": {},
   "outputs": [],
   "source": [
    "#PCA 함수\n",
    "scaler = StandardScaler() # standard normal\n",
    "df_scaled = scaler.fit_transform(x) #데이터 표준화\n",
    "cov_matrix = np.cov(df_scaled, rowvar=False) #공분산 행렬 계산\n",
    "eigenvalues, eigenvectors = np.linalg.eig(cov_matrix) #아이겐벡터, 밸류 계산\n",
    "principal_components = df_scaled.dot(eigenvectors[:, 0])  # 첫 번째 주성분(PC1)\n",
    "\n",
    "# PC1 방향을 나타내는 벡터\n",
    "pc1_vector = eigenvectors[:, 0]\n",
    "\n",
    "#Explained Variance Ratio\n",
    "explained_variance_ratio = eigenvalues / np.sum(eigenvalues)\n",
    "\n",
    "#PCA 결과 저장\n",
    "index = []\n",
    "for i in range(0,len(x.columns)):\n",
    "    index.append(f'PC{i+1}')\n",
    "\n",
    "cov_matrix_df = pd.DataFrame(cov_matrix, columns=x.columns, index=x.columns)\n",
    "eigenvalues_df = pd.DataFrame({'Eigenvalues': eigenvalues}, index=index)\n",
    "eigenvectors_df = pd.DataFrame(eigenvectors, columns=index,\n",
    "                                index=x.columns)\n",
    "explained_variance_ratio_df = pd.DataFrame({'Explained Variance Ratio': explained_variance_ratio},\n",
    "                                            index=index)\n",
    "result = {'df_scaled' : df_scaled,\n",
    "              'cov_matrix' : cov_matrix,\n",
    "              'eigenvalues' : eigenvalues_df,\n",
    "              'eigenvectors' : eigenvectors_df,\n",
    "              'explained_variance' : explained_variance_ratio_df}\n",
    "print(result.keys())"
   ]
  }
 ],
 "metadata": {
  "kernelspec": {
   "display_name": "base",
   "language": "python",
   "name": "python3"
  },
  "language_info": {
   "name": "python",
   "version": "3.13.5"
  }
 },
 "nbformat": 4,
 "nbformat_minor": 5
}
