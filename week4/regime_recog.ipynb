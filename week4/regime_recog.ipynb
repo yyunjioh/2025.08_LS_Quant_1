{
 "cells": [
  {
   "cell_type": "code",
   "execution_count": 1,
   "id": "345b180e",
   "metadata": {},
   "outputs": [],
   "source": [
    "import pandas as pd\n",
    "import numpy as np\n",
    "import matplotlib.pyplot as plt\n",
    "import os\n",
    "from sklearn.preprocessing import StandardScaler\n",
    "from sklearn.decomposition import PCA\n",
    "from statsmodels.tsa.filters import cf_filter\n",
    "dir = os.getcwd()"
   ]
  },
  {
   "cell_type": "markdown",
   "id": "0cc8916a",
   "metadata": {},
   "source": [
    "## 파이프라인\n",
    "1. 샘플기간 PCA 후 성장지표 산정\n",
    "\n",
    "1. 테스트기간 한 시점 추가될 때 마다 PCA 새로 진행 + 성장지표 새로 산정\n",
    "\n",
    "1. new 성장지표 시계열로 CF 필터 적용\n",
    "\n",
    "1. 국면 판단 진행: 결과 저장\n",
    "\n",
    "-> 이 과정 쭉 반복"
   ]
  },
  {
   "cell_type": "code",
   "execution_count": 2,
   "id": "b03899de",
   "metadata": {},
   "outputs": [],
   "source": [
    "df = pd.read_csv(dir+'/data/merged.csv')\n",
    "\n",
    "#날짜를 인덱스로 설정\n",
    "df.set_index('date', inplace=True)\n",
    "df.index = pd.to_datetime(df.index)\n",
    "df1 = df.copy().dropna() #결측치 제거\n",
    "\n",
    "#문자로 된 자료 숫자로 바꿔주기\n",
    "for a in df1.columns:\n",
    "    df1[a] = df1[a].astype('float')\n",
    "\n",
    "\n",
    "#장단기 스프레드 // 출하지수-재고지수 스프레드\n",
    "df1['y_spd'] = df1['10y'] - df1['3y']\n",
    "df1['manu_spd'] = df1['shipment'] - df1['inven']\n",
    "df1['manu_ratio'] = (df1['shipment'] / df1['inven'])-1 #스프레드하면 스케일이 약간 애매해져서, 양 지수에 로그취해서 빼줌\n",
    "\n",
    "#설비투자전망지수 대기업+중소기업 평균 산출\n",
    "df1['bsi_inv'] = (df1['bsi_inv_big'] + df1['bsi_inv_small']) / 2\n",
    "\n",
    "#필요없는거 제거\n",
    "df2 = df1.drop(columns=['bsi_inv_big', 'bsi_inv_small','10y', '3y', 'shipment', 'inven',\n",
    "                        'wti','iron', 'copper', 'gold'])\n",
    "\n",
    "#샘플기간 분리: 기준일 2017-07-01부터 out of sample\n",
    "df2_train = df2['2003-02-01':'2017-06-01']\n",
    "df2_test = df2['2017-07-01':]\n",
    "\n",
    "\n",
    "#로그 씌우기\n",
    "list_log = ['employ', 'durable', 'dubai', 'bsi_inv']\n",
    "for a in list_log:\n",
    "    df2[a+'_l'] = np.log(df2[a])"
   ]
  },
  {
   "cell_type": "code",
   "execution_count": 3,
   "id": "190bc19e",
   "metadata": {},
   "outputs": [],
   "source": [
    "df2[['y_spd', 'manu_ratio', 'bsi_inv_l', 'employ_l', 'durable_l', 'dubai_l']].to_csv('log_merged.csv')"
   ]
  },
  {
   "cell_type": "code",
   "execution_count": 4,
   "id": "da17fad3",
   "metadata": {},
   "outputs": [],
   "source": [
    "df2 = df2[['y_spd', 'manu_ratio', 'bsi_inv_l', 'employ_l', 'durable_l', 'dubai_l']]\n",
    "\n",
    "df2_train = df2['2003-02-01':'2017-06-01']\n",
    "df2_test = df2['2017-07-01':]"
   ]
  },
  {
   "cell_type": "code",
   "execution_count": 5,
   "id": "98d660bf",
   "metadata": {},
   "outputs": [],
   "source": [
    "def pca(x):\n",
    "    '''\n",
    "    데이터프레임을 인풋으로\n",
    "    PCA 결과들을 딕셔너리에 모아서 리턴해줌\n",
    "    딕셔너리 키 목록\n",
    "    1. df_scaled: 표준화된 데이터\n",
    "    2. cov_matrix: 표준화된 데이터의 공분산 행렬\n",
    "    3. eigenvalues_df: eigenvalues\n",
    "    4. eigenvectors_df: eigenvectors\n",
    "    5. explained_variance_ratio_df: 분산 설명비율\n",
    "    '''\n",
    "    scaler = StandardScaler() # standard normal\n",
    "    df_scaled = scaler.fit_transform(x) #데이터 표준화\n",
    "    cov_matrix = np.cov(df_scaled, rowvar=False) #공분산 행렬 계산\n",
    "    eigenvalues, eigenvectors = np.linalg.eig(cov_matrix) #아이겐벡터, 밸류 계산\n",
    "    principal_components = df_scaled.dot(eigenvectors[:, 0])  # 첫 번째 주성분(PC1)\n",
    "\n",
    "    # PC1 방향을 나타내는 벡터\n",
    "    pc1_vector = eigenvectors[:, 0]\n",
    "\n",
    "    #Explained Variance Ratio\n",
    "    explained_variance_ratio = eigenvalues / np.sum(eigenvalues)\n",
    "\n",
    "    #PCA 결과 저장\n",
    "    index = []\n",
    "    for i in range(0,len(x.columns)):\n",
    "        index.append(f'PC{i+1}')\n",
    "\n",
    "    cov_matrix_df = pd.DataFrame(cov_matrix, columns=x.columns, index=x.columns)\n",
    "    eigenvalues_df = pd.DataFrame({'Eigenvalues': eigenvalues}, index=index)\n",
    "    eigenvectors_df = pd.DataFrame(eigenvectors, columns=index,\n",
    "                                index=x.columns)\n",
    "    explained_variance_ratio_df = pd.DataFrame({'Explained Variance Ratio': explained_variance_ratio},\n",
    "                                            index=index)\n",
    "    result = {'df_scaled' : df_scaled,\n",
    "              'cov_matrix' : cov_matrix,\n",
    "              'eigenvalues' : eigenvalues_df,\n",
    "              'eigenvectors' : eigenvectors_df,\n",
    "              'explained_variance' : explained_variance_ratio_df}\n",
    "    print(result.keys())\n",
    "    return result"
   ]
  },
  {
   "cell_type": "code",
   "execution_count": 6,
   "id": "1efedd2d",
   "metadata": {},
   "outputs": [],
   "source": [
    "CF_LOW, CF_HIGH = 18, 96\n",
    "CF_DRIFT = True  # 랜덤워크+드리프트 가정\n",
    "\n",
    "def cf_cycle(series, low=CF_LOW, high=CF_HIGH, drift=CF_DRIFT):\n",
    "    s = pd.to_numeric(series, errors='coerce')\n",
    "    cyc, _trend = cf_filter.cffilter(s, low=low, high=high, drift=drift)\n",
    "    return pd.Series(cyc, index=s.index, name=series.name)\n",
    "\n",
    "def zscore(series):\n",
    "    mu, sd = series.mean(), series.std(ddof=0)\n",
    "    return (series - mu) / sd"
   ]
  },
  {
   "cell_type": "code",
   "execution_count": 7,
   "id": "baa1da52",
   "metadata": {},
   "outputs": [],
   "source": [
    "cf_ex = cf_filter.cffilter(df2_train, low=18, high=96, drift=True)[0]"
   ]
  },
  {
   "cell_type": "code",
   "execution_count": 8,
   "id": "ae3ec2db",
   "metadata": {},
   "outputs": [
    {
     "data": {
      "text/plain": [
       "pandas.core.frame.DataFrame"
      ]
     },
     "execution_count": 8,
     "metadata": {},
     "output_type": "execute_result"
    }
   ],
   "source": [
    "type(cf_ex)\n"
   ]
  },
  {
   "cell_type": "code",
   "execution_count": 9,
   "id": "01cb1faa",
   "metadata": {},
   "outputs": [],
   "source": [
    "# === 블록13: 2연속 규칙 기반 실시간 극점 탐지(룩어헤드 無, 수정판) ===\n",
    "def detect_extrema_rule2(series: pd.Series,\n",
    "                         halflife: float = 0.0,   # 0이면 스무딩 없음\n",
    "                         min_gap: int = 4,        # 극점 간 최소 간격(개월)\n",
    "                         prom_k: float = 0.0,     # 프로미넌스: 과거 σ의 k배 이상만 채택(0이면 미적용)\n",
    "                         roll_std_win: int = 24,  # σ 계산 창\n",
    "                         deadband_k: float = 0.0, # 변화가 너무 미세하면 0으로 취급(Δ의 σ 대비 k배)\n",
    "                         deadband_win: int = 12):\n",
    "    \"\"\"\n",
    "    피크 at t   : Δ_{t-2} > 0  and Δ_{t-1} < 0 and Δ_{t} < 0\n",
    "    트로프 at t : Δ_{t-2} < 0  and Δ_{t-1} > 0 and Δ_{t} > 0\n",
    "    확정 시점은 t (두 번째 감소/증가가 관측된 달). 미래 정보 사용 없음.\n",
    "    \"\"\"\n",
    "    x = series.ewm(halflife=halflife, adjust=False).mean() if (halflife and halflife > 0) else series.copy()\n",
    "\n",
    "    d = x.diff()\n",
    "\n",
    "    # 데드밴드: Δ의 롤링 표준편차 기반 임계값\n",
    "    if deadband_k > 0:\n",
    "        d_std = d.rolling(deadband_win, min_periods=max(4, deadband_win//3)).std()\n",
    "        thr = deadband_k * d_std\n",
    "        # 부호 결정\n",
    "        sign = np.where(d > thr,  1, np.where(d < -thr, -1, 0))\n",
    "    else:\n",
    "        sign = np.sign(d.values)\n",
    "\n",
    "    sign = pd.Series(sign, index=d.index)\n",
    "\n",
    "    # 프로미넌스 계산용 과거 σ\n",
    "    roll_std = x.rolling(roll_std_win, min_periods=max(6, roll_std_win//3)).std()\n",
    "\n",
    "    events = []\n",
    "    last_idx = -10_000\n",
    "    last_peak_level = None\n",
    "    last_trough_level = None\n",
    "\n",
    "    for i in range(2, len(x)):\n",
    "        # 최소 간격\n",
    "        if i - last_idx < min_gap:\n",
    "            continue\n",
    "\n",
    "        s2 = sign.iloc[i-2]  # Δ_{t-2}\n",
    "        s1 = sign.iloc[i-1]  # Δ_{t-1}\n",
    "        s0 = sign.iloc[i]    # Δ_{t}\n",
    "\n",
    "        is_peak   = (s2 > 0) and (s1 < 0) and (s0 < 0)\n",
    "        is_trough = (s2 < 0) and (s1 > 0) and (s0 > 0)\n",
    "        if not (is_peak or is_trough):\n",
    "            continue\n",
    "\n",
    "        # 프로미넌스 필터\n",
    "        if prom_k > 0:\n",
    "            sigma_t = float(roll_std.iloc[:i].iloc[-1]) if not roll_std.iloc[:i].empty else float(x.std())\n",
    "            sigma_t = sigma_t if sigma_t > 0 else float(x.std())\n",
    "            if is_peak and (last_trough_level is not None):\n",
    "                if (x.iloc[i] - last_trough_level) < prom_k * sigma_t:\n",
    "                    continue\n",
    "            if is_trough and (last_peak_level is not None):\n",
    "                if (last_peak_level - x.iloc[i]) < prom_k * sigma_t:\n",
    "                    continue\n",
    "\n",
    "        ev_type = \"peak\" if is_peak else \"trough\"\n",
    "        events.append({\"date\": x.index[i], \"type\": ev_type, \"level\": float(x.iloc[i])})\n",
    "        last_idx = i\n",
    "        if is_peak:\n",
    "            last_peak_level = float(x.iloc[i])\n",
    "        else:\n",
    "            last_trough_level = float(x.iloc[i])\n",
    "\n",
    "    events_df = pd.DataFrame(events).set_index(\"date\") if events else pd.DataFrame(columns=[\"type\",\"level\"])\n",
    "    out = {\n",
    "        \"series_used\": x,\n",
    "        \"diff\": d,\n",
    "        \"events_df\": events_df\n",
    "    }\n",
    "    return out"
   ]
  },
  {
   "cell_type": "code",
   "execution_count": 10,
   "id": "862556ec",
   "metadata": {},
   "outputs": [],
   "source": [
    "cf_cycle = cf_filter.cffilter(df2_test, low=18, high=96, drift=True)[0]"
   ]
  },
  {
   "cell_type": "code",
   "execution_count": 11,
   "id": "7371eb71",
   "metadata": {},
   "outputs": [
    {
     "data": {
      "text/html": [
       "<div>\n",
       "<style scoped>\n",
       "    .dataframe tbody tr th:only-of-type {\n",
       "        vertical-align: middle;\n",
       "    }\n",
       "\n",
       "    .dataframe tbody tr th {\n",
       "        vertical-align: top;\n",
       "    }\n",
       "\n",
       "    .dataframe thead th {\n",
       "        text-align: right;\n",
       "    }\n",
       "</style>\n",
       "<table border=\"1\" class=\"dataframe\">\n",
       "  <thead>\n",
       "    <tr style=\"text-align: right;\">\n",
       "      <th></th>\n",
       "      <th>y_spd_cycle</th>\n",
       "      <th>manu_ratio_cycle</th>\n",
       "      <th>bsi_inv_l_cycle</th>\n",
       "      <th>employ_l_cycle</th>\n",
       "      <th>durable_l_cycle</th>\n",
       "      <th>dubai_l_cycle</th>\n",
       "    </tr>\n",
       "    <tr>\n",
       "      <th>date</th>\n",
       "      <th></th>\n",
       "      <th></th>\n",
       "      <th></th>\n",
       "      <th></th>\n",
       "      <th></th>\n",
       "      <th></th>\n",
       "    </tr>\n",
       "  </thead>\n",
       "  <tbody>\n",
       "    <tr>\n",
       "      <th>2017-07-01</th>\n",
       "      <td>0.001600</td>\n",
       "      <td>0.013025</td>\n",
       "      <td>0.010430</td>\n",
       "      <td>0.005078</td>\n",
       "      <td>-0.008805</td>\n",
       "      <td>0.005758</td>\n",
       "    </tr>\n",
       "    <tr>\n",
       "      <th>2017-08-01</th>\n",
       "      <td>-0.000155</td>\n",
       "      <td>0.012737</td>\n",
       "      <td>0.014004</td>\n",
       "      <td>0.005590</td>\n",
       "      <td>-0.006775</td>\n",
       "      <td>0.040110</td>\n",
       "    </tr>\n",
       "    <tr>\n",
       "      <th>2017-09-01</th>\n",
       "      <td>-0.000796</td>\n",
       "      <td>0.011431</td>\n",
       "      <td>0.017195</td>\n",
       "      <td>0.005981</td>\n",
       "      <td>-0.004410</td>\n",
       "      <td>0.076190</td>\n",
       "    </tr>\n",
       "    <tr>\n",
       "      <th>2017-10-01</th>\n",
       "      <td>-0.000558</td>\n",
       "      <td>0.009059</td>\n",
       "      <td>0.019622</td>\n",
       "      <td>0.006214</td>\n",
       "      <td>-0.001898</td>\n",
       "      <td>0.112097</td>\n",
       "    </tr>\n",
       "    <tr>\n",
       "      <th>2017-11-01</th>\n",
       "      <td>0.000160</td>\n",
       "      <td>0.005669</td>\n",
       "      <td>0.020964</td>\n",
       "      <td>0.006260</td>\n",
       "      <td>0.000552</td>\n",
       "      <td>0.145986</td>\n",
       "    </tr>\n",
       "    <tr>\n",
       "      <th>...</th>\n",
       "      <td>...</td>\n",
       "      <td>...</td>\n",
       "      <td>...</td>\n",
       "      <td>...</td>\n",
       "      <td>...</td>\n",
       "      <td>...</td>\n",
       "    </tr>\n",
       "    <tr>\n",
       "      <th>2025-02-01</th>\n",
       "      <td>-0.003843</td>\n",
       "      <td>0.008800</td>\n",
       "      <td>-0.015983</td>\n",
       "      <td>-0.001472</td>\n",
       "      <td>-0.010279</td>\n",
       "      <td>-0.098007</td>\n",
       "    </tr>\n",
       "    <tr>\n",
       "      <th>2025-03-01</th>\n",
       "      <td>0.024009</td>\n",
       "      <td>0.014038</td>\n",
       "      <td>-0.019124</td>\n",
       "      <td>-0.001714</td>\n",
       "      <td>-0.007621</td>\n",
       "      <td>-0.113026</td>\n",
       "    </tr>\n",
       "    <tr>\n",
       "      <th>2025-04-01</th>\n",
       "      <td>0.050828</td>\n",
       "      <td>0.019757</td>\n",
       "      <td>-0.020771</td>\n",
       "      <td>-0.001918</td>\n",
       "      <td>-0.005634</td>\n",
       "      <td>-0.122883</td>\n",
       "    </tr>\n",
       "    <tr>\n",
       "      <th>2025-05-01</th>\n",
       "      <td>0.075503</td>\n",
       "      <td>0.025622</td>\n",
       "      <td>-0.020831</td>\n",
       "      <td>-0.002093</td>\n",
       "      <td>-0.004341</td>\n",
       "      <td>-0.127540</td>\n",
       "    </tr>\n",
       "    <tr>\n",
       "      <th>2025-06-01</th>\n",
       "      <td>0.097080</td>\n",
       "      <td>0.031256</td>\n",
       "      <td>-0.019367</td>\n",
       "      <td>-0.002248</td>\n",
       "      <td>-0.003707</td>\n",
       "      <td>-0.127373</td>\n",
       "    </tr>\n",
       "  </tbody>\n",
       "</table>\n",
       "<p>96 rows × 6 columns</p>\n",
       "</div>"
      ],
      "text/plain": [
       "            y_spd_cycle  manu_ratio_cycle  bsi_inv_l_cycle  employ_l_cycle  \\\n",
       "date                                                                         \n",
       "2017-07-01     0.001600          0.013025         0.010430        0.005078   \n",
       "2017-08-01    -0.000155          0.012737         0.014004        0.005590   \n",
       "2017-09-01    -0.000796          0.011431         0.017195        0.005981   \n",
       "2017-10-01    -0.000558          0.009059         0.019622        0.006214   \n",
       "2017-11-01     0.000160          0.005669         0.020964        0.006260   \n",
       "...                 ...               ...              ...             ...   \n",
       "2025-02-01    -0.003843          0.008800        -0.015983       -0.001472   \n",
       "2025-03-01     0.024009          0.014038        -0.019124       -0.001714   \n",
       "2025-04-01     0.050828          0.019757        -0.020771       -0.001918   \n",
       "2025-05-01     0.075503          0.025622        -0.020831       -0.002093   \n",
       "2025-06-01     0.097080          0.031256        -0.019367       -0.002248   \n",
       "\n",
       "            durable_l_cycle  dubai_l_cycle  \n",
       "date                                        \n",
       "2017-07-01        -0.008805       0.005758  \n",
       "2017-08-01        -0.006775       0.040110  \n",
       "2017-09-01        -0.004410       0.076190  \n",
       "2017-10-01        -0.001898       0.112097  \n",
       "2017-11-01         0.000552       0.145986  \n",
       "...                     ...            ...  \n",
       "2025-02-01        -0.010279      -0.098007  \n",
       "2025-03-01        -0.007621      -0.113026  \n",
       "2025-04-01        -0.005634      -0.122883  \n",
       "2025-05-01        -0.004341      -0.127540  \n",
       "2025-06-01        -0.003707      -0.127373  \n",
       "\n",
       "[96 rows x 6 columns]"
      ]
     },
     "execution_count": 11,
     "metadata": {},
     "output_type": "execute_result"
    }
   ],
   "source": [
    "cf_cycle"
   ]
  },
  {
   "cell_type": "code",
   "execution_count": 73,
   "id": "16a01ddc",
   "metadata": {},
   "outputs": [
    {
     "name": "stdout",
     "output_type": "stream",
     "text": [
      "dict_keys(['df_scaled', 'cov_matrix', 'eigenvalues', 'eigenvectors', 'explained_variance'])\n",
      "dict_keys(['df_scaled', 'cov_matrix', 'eigenvalues', 'eigenvectors', 'explained_variance'])\n",
      "dict_keys(['df_scaled', 'cov_matrix', 'eigenvalues', 'eigenvectors', 'explained_variance'])\n",
      "dict_keys(['df_scaled', 'cov_matrix', 'eigenvalues', 'eigenvectors', 'explained_variance'])\n",
      "dict_keys(['df_scaled', 'cov_matrix', 'eigenvalues', 'eigenvectors', 'explained_variance'])\n",
      "dict_keys(['df_scaled', 'cov_matrix', 'eigenvalues', 'eigenvectors', 'explained_variance'])\n",
      "dict_keys(['df_scaled', 'cov_matrix', 'eigenvalues', 'eigenvectors', 'explained_variance'])\n",
      "dict_keys(['df_scaled', 'cov_matrix', 'eigenvalues', 'eigenvectors', 'explained_variance'])\n",
      "dict_keys(['df_scaled', 'cov_matrix', 'eigenvalues', 'eigenvectors', 'explained_variance'])\n",
      "dict_keys(['df_scaled', 'cov_matrix', 'eigenvalues', 'eigenvectors', 'explained_variance'])\n",
      "dict_keys(['df_scaled', 'cov_matrix', 'eigenvalues', 'eigenvectors', 'explained_variance'])\n",
      "dict_keys(['df_scaled', 'cov_matrix', 'eigenvalues', 'eigenvectors', 'explained_variance'])\n",
      "dict_keys(['df_scaled', 'cov_matrix', 'eigenvalues', 'eigenvectors', 'explained_variance'])\n",
      "dict_keys(['df_scaled', 'cov_matrix', 'eigenvalues', 'eigenvectors', 'explained_variance'])\n",
      "dict_keys(['df_scaled', 'cov_matrix', 'eigenvalues', 'eigenvectors', 'explained_variance'])\n",
      "dict_keys(['df_scaled', 'cov_matrix', 'eigenvalues', 'eigenvectors', 'explained_variance'])\n",
      "dict_keys(['df_scaled', 'cov_matrix', 'eigenvalues', 'eigenvectors', 'explained_variance'])\n",
      "dict_keys(['df_scaled', 'cov_matrix', 'eigenvalues', 'eigenvectors', 'explained_variance'])\n",
      "dict_keys(['df_scaled', 'cov_matrix', 'eigenvalues', 'eigenvectors', 'explained_variance'])\n",
      "dict_keys(['df_scaled', 'cov_matrix', 'eigenvalues', 'eigenvectors', 'explained_variance'])\n",
      "dict_keys(['df_scaled', 'cov_matrix', 'eigenvalues', 'eigenvectors', 'explained_variance'])\n",
      "dict_keys(['df_scaled', 'cov_matrix', 'eigenvalues', 'eigenvectors', 'explained_variance'])\n",
      "dict_keys(['df_scaled', 'cov_matrix', 'eigenvalues', 'eigenvectors', 'explained_variance'])\n",
      "dict_keys(['df_scaled', 'cov_matrix', 'eigenvalues', 'eigenvectors', 'explained_variance'])\n",
      "dict_keys(['df_scaled', 'cov_matrix', 'eigenvalues', 'eigenvectors', 'explained_variance'])\n",
      "dict_keys(['df_scaled', 'cov_matrix', 'eigenvalues', 'eigenvectors', 'explained_variance'])\n",
      "dict_keys(['df_scaled', 'cov_matrix', 'eigenvalues', 'eigenvectors', 'explained_variance'])\n",
      "dict_keys(['df_scaled', 'cov_matrix', 'eigenvalues', 'eigenvectors', 'explained_variance'])\n",
      "dict_keys(['df_scaled', 'cov_matrix', 'eigenvalues', 'eigenvectors', 'explained_variance'])\n",
      "dict_keys(['df_scaled', 'cov_matrix', 'eigenvalues', 'eigenvectors', 'explained_variance'])\n",
      "dict_keys(['df_scaled', 'cov_matrix', 'eigenvalues', 'eigenvectors', 'explained_variance'])\n",
      "dict_keys(['df_scaled', 'cov_matrix', 'eigenvalues', 'eigenvectors', 'explained_variance'])\n",
      "dict_keys(['df_scaled', 'cov_matrix', 'eigenvalues', 'eigenvectors', 'explained_variance'])\n",
      "dict_keys(['df_scaled', 'cov_matrix', 'eigenvalues', 'eigenvectors', 'explained_variance'])\n",
      "dict_keys(['df_scaled', 'cov_matrix', 'eigenvalues', 'eigenvectors', 'explained_variance'])\n",
      "dict_keys(['df_scaled', 'cov_matrix', 'eigenvalues', 'eigenvectors', 'explained_variance'])\n",
      "dict_keys(['df_scaled', 'cov_matrix', 'eigenvalues', 'eigenvectors', 'explained_variance'])\n",
      "dict_keys(['df_scaled', 'cov_matrix', 'eigenvalues', 'eigenvectors', 'explained_variance'])\n",
      "dict_keys(['df_scaled', 'cov_matrix', 'eigenvalues', 'eigenvectors', 'explained_variance'])\n",
      "dict_keys(['df_scaled', 'cov_matrix', 'eigenvalues', 'eigenvectors', 'explained_variance'])\n",
      "dict_keys(['df_scaled', 'cov_matrix', 'eigenvalues', 'eigenvectors', 'explained_variance'])\n",
      "dict_keys(['df_scaled', 'cov_matrix', 'eigenvalues', 'eigenvectors', 'explained_variance'])\n",
      "dict_keys(['df_scaled', 'cov_matrix', 'eigenvalues', 'eigenvectors', 'explained_variance'])\n",
      "dict_keys(['df_scaled', 'cov_matrix', 'eigenvalues', 'eigenvectors', 'explained_variance'])\n",
      "dict_keys(['df_scaled', 'cov_matrix', 'eigenvalues', 'eigenvectors', 'explained_variance'])\n",
      "dict_keys(['df_scaled', 'cov_matrix', 'eigenvalues', 'eigenvectors', 'explained_variance'])\n",
      "dict_keys(['df_scaled', 'cov_matrix', 'eigenvalues', 'eigenvectors', 'explained_variance'])\n",
      "dict_keys(['df_scaled', 'cov_matrix', 'eigenvalues', 'eigenvectors', 'explained_variance'])\n",
      "dict_keys(['df_scaled', 'cov_matrix', 'eigenvalues', 'eigenvectors', 'explained_variance'])\n",
      "dict_keys(['df_scaled', 'cov_matrix', 'eigenvalues', 'eigenvectors', 'explained_variance'])\n",
      "dict_keys(['df_scaled', 'cov_matrix', 'eigenvalues', 'eigenvectors', 'explained_variance'])\n",
      "dict_keys(['df_scaled', 'cov_matrix', 'eigenvalues', 'eigenvectors', 'explained_variance'])\n",
      "dict_keys(['df_scaled', 'cov_matrix', 'eigenvalues', 'eigenvectors', 'explained_variance'])\n",
      "dict_keys(['df_scaled', 'cov_matrix', 'eigenvalues', 'eigenvectors', 'explained_variance'])\n",
      "dict_keys(['df_scaled', 'cov_matrix', 'eigenvalues', 'eigenvectors', 'explained_variance'])\n",
      "dict_keys(['df_scaled', 'cov_matrix', 'eigenvalues', 'eigenvectors', 'explained_variance'])\n",
      "dict_keys(['df_scaled', 'cov_matrix', 'eigenvalues', 'eigenvectors', 'explained_variance'])\n",
      "dict_keys(['df_scaled', 'cov_matrix', 'eigenvalues', 'eigenvectors', 'explained_variance'])\n",
      "dict_keys(['df_scaled', 'cov_matrix', 'eigenvalues', 'eigenvectors', 'explained_variance'])\n",
      "dict_keys(['df_scaled', 'cov_matrix', 'eigenvalues', 'eigenvectors', 'explained_variance'])\n",
      "dict_keys(['df_scaled', 'cov_matrix', 'eigenvalues', 'eigenvectors', 'explained_variance'])\n",
      "dict_keys(['df_scaled', 'cov_matrix', 'eigenvalues', 'eigenvectors', 'explained_variance'])\n",
      "dict_keys(['df_scaled', 'cov_matrix', 'eigenvalues', 'eigenvectors', 'explained_variance'])\n",
      "dict_keys(['df_scaled', 'cov_matrix', 'eigenvalues', 'eigenvectors', 'explained_variance'])\n",
      "dict_keys(['df_scaled', 'cov_matrix', 'eigenvalues', 'eigenvectors', 'explained_variance'])\n",
      "dict_keys(['df_scaled', 'cov_matrix', 'eigenvalues', 'eigenvectors', 'explained_variance'])\n",
      "dict_keys(['df_scaled', 'cov_matrix', 'eigenvalues', 'eigenvectors', 'explained_variance'])\n",
      "dict_keys(['df_scaled', 'cov_matrix', 'eigenvalues', 'eigenvectors', 'explained_variance'])\n",
      "dict_keys(['df_scaled', 'cov_matrix', 'eigenvalues', 'eigenvectors', 'explained_variance'])\n",
      "dict_keys(['df_scaled', 'cov_matrix', 'eigenvalues', 'eigenvectors', 'explained_variance'])\n",
      "dict_keys(['df_scaled', 'cov_matrix', 'eigenvalues', 'eigenvectors', 'explained_variance'])\n",
      "dict_keys(['df_scaled', 'cov_matrix', 'eigenvalues', 'eigenvectors', 'explained_variance'])\n",
      "dict_keys(['df_scaled', 'cov_matrix', 'eigenvalues', 'eigenvectors', 'explained_variance'])\n",
      "dict_keys(['df_scaled', 'cov_matrix', 'eigenvalues', 'eigenvectors', 'explained_variance'])\n",
      "dict_keys(['df_scaled', 'cov_matrix', 'eigenvalues', 'eigenvectors', 'explained_variance'])\n",
      "dict_keys(['df_scaled', 'cov_matrix', 'eigenvalues', 'eigenvectors', 'explained_variance'])\n",
      "dict_keys(['df_scaled', 'cov_matrix', 'eigenvalues', 'eigenvectors', 'explained_variance'])\n",
      "dict_keys(['df_scaled', 'cov_matrix', 'eigenvalues', 'eigenvectors', 'explained_variance'])\n",
      "dict_keys(['df_scaled', 'cov_matrix', 'eigenvalues', 'eigenvectors', 'explained_variance'])\n",
      "dict_keys(['df_scaled', 'cov_matrix', 'eigenvalues', 'eigenvectors', 'explained_variance'])\n",
      "dict_keys(['df_scaled', 'cov_matrix', 'eigenvalues', 'eigenvectors', 'explained_variance'])\n",
      "dict_keys(['df_scaled', 'cov_matrix', 'eigenvalues', 'eigenvectors', 'explained_variance'])\n",
      "dict_keys(['df_scaled', 'cov_matrix', 'eigenvalues', 'eigenvectors', 'explained_variance'])\n",
      "dict_keys(['df_scaled', 'cov_matrix', 'eigenvalues', 'eigenvectors', 'explained_variance'])\n",
      "dict_keys(['df_scaled', 'cov_matrix', 'eigenvalues', 'eigenvectors', 'explained_variance'])\n",
      "dict_keys(['df_scaled', 'cov_matrix', 'eigenvalues', 'eigenvectors', 'explained_variance'])\n",
      "dict_keys(['df_scaled', 'cov_matrix', 'eigenvalues', 'eigenvectors', 'explained_variance'])\n",
      "dict_keys(['df_scaled', 'cov_matrix', 'eigenvalues', 'eigenvectors', 'explained_variance'])\n",
      "dict_keys(['df_scaled', 'cov_matrix', 'eigenvalues', 'eigenvectors', 'explained_variance'])\n",
      "dict_keys(['df_scaled', 'cov_matrix', 'eigenvalues', 'eigenvectors', 'explained_variance'])\n",
      "dict_keys(['df_scaled', 'cov_matrix', 'eigenvalues', 'eigenvectors', 'explained_variance'])\n",
      "dict_keys(['df_scaled', 'cov_matrix', 'eigenvalues', 'eigenvectors', 'explained_variance'])\n",
      "dict_keys(['df_scaled', 'cov_matrix', 'eigenvalues', 'eigenvectors', 'explained_variance'])\n",
      "dict_keys(['df_scaled', 'cov_matrix', 'eigenvalues', 'eigenvectors', 'explained_variance'])\n",
      "dict_keys(['df_scaled', 'cov_matrix', 'eigenvalues', 'eigenvectors', 'explained_variance'])\n",
      "dict_keys(['df_scaled', 'cov_matrix', 'eigenvalues', 'eigenvectors', 'explained_variance'])\n"
     ]
    }
   ],
   "source": [
    "dates = [] #결과저장: 날짜\n",
    "states = [] #결과저장: 예측된 Regime State\n",
    "dates_detected = []\n",
    "types_detected = []\n",
    "\n",
    "\n",
    "for i in range(0,len(df2_test.index)):\n",
    "    time = df2_test.index[i] # 예측값 얻고 싶은 날짜\n",
    "    temp = df2['2003-02-01':time] # 데이터셋 이름 바뀌면 이 부분 수정\n",
    "    \n",
    "    \n",
    "    #cf필터 적용\n",
    "    cf_cycles = cf_filter.cffilter(temp, low=18, high=96, drift=True)[0]\n",
    "\n",
    "    #PCA 진행\n",
    "    pca_result = pca(cf_cycles) \n",
    "\n",
    "    #pca1의 주성분을 PC1, PC2, PC3로 설정\n",
    "    #표준화된 X 랑 eigenvector 곱하기\n",
    "    data_pc = pca_result['df_scaled']@pca_result['eigenvectors'][['PC1', 'PC2', 'PC3']]\n",
    "    data_pc.index = temp.index\n",
    "    # Growth indicator 산출하는 부분\n",
    "    # 각 지표별 가중치 변경하려면 이 부분 수정하기\n",
    "    w0 = pca_result['explained_variance']['Explained Variance Ratio'].iloc[0]\n",
    "    w1 = pca_result['explained_variance']['Explained Variance Ratio'].iloc[0]\n",
    "    w2 = pca_result['explained_variance']['Explained Variance Ratio'].iloc[0]\n",
    "\n",
    "    data_pc['growth_indicator'] = data_pc['PC1']*w0 + data_pc['PC2']*w1 + data_pc['PC3']*w2\n",
    "\n",
    "    regime_result = detect_extrema_rule2(data_pc['growth_indicator'])\n",
    "\n",
    "    dates.append(time)\n",
    "    states.append(regime_result['events_df'])\n",
    "    regime_result['events_df'].index = pd.to_datetime(regime_result['events_df'].index)\n",
    "    \n",
    "    target_dates = [time, time + pd.DateOffset(months=-1), time + pd.DateOffset(months=-2)]\n",
    "    for a in target_dates:\n",
    "        if a in regime_result['events_df'].index:\n",
    "            date = pd.to_datetime(a)\n",
    "            dates_detected.append(date)\n",
    "            types_detected.append(regime_result['events_df'].iloc[-1]['type'])\n",
    "            # types_detected.append(regime_result['events_df'])\n",
    "    \n"
   ]
  },
  {
   "cell_type": "code",
   "execution_count": 74,
   "id": "b3281d72",
   "metadata": {},
   "outputs": [
    {
     "data": {
      "text/plain": [
       "[Timestamp('2018-12-01 00:00:00'),\n",
       " Timestamp('2019-08-01 00:00:00'),\n",
       " Timestamp('2019-08-01 00:00:00'),\n",
       " Timestamp('2019-09-01 00:00:00'),\n",
       " Timestamp('2019-09-01 00:00:00'),\n",
       " Timestamp('2020-12-01 00:00:00'),\n",
       " Timestamp('2020-12-01 00:00:00'),\n",
       " Timestamp('2022-09-01 00:00:00'),\n",
       " Timestamp('2022-10-01 00:00:00'),\n",
       " Timestamp('2022-11-01 00:00:00'),\n",
       " Timestamp('2022-11-01 00:00:00'),\n",
       " Timestamp('2024-01-01 00:00:00'),\n",
       " Timestamp('2024-01-01 00:00:00'),\n",
       " Timestamp('2024-06-01 00:00:00'),\n",
       " Timestamp('2024-05-01 00:00:00'),\n",
       " Timestamp('2025-01-01 00:00:00')]"
      ]
     },
     "execution_count": 74,
     "metadata": {},
     "output_type": "execute_result"
    }
   ],
   "source": [
    "dates_detected"
   ]
  },
  {
   "cell_type": "code",
   "execution_count": 76,
   "id": "00ebc8a2",
   "metadata": {},
   "outputs": [
    {
     "data": {
      "text/plain": [
       "['trough',\n",
       " 'trough',\n",
       " 'trough',\n",
       " 'peak',\n",
       " 'peak',\n",
       " 'peak',\n",
       " 'peak',\n",
       " 'peak',\n",
       " 'trough',\n",
       " 'peak',\n",
       " 'trough',\n",
       " 'trough',\n",
       " 'trough',\n",
       " 'trough',\n",
       " 'trough',\n",
       " 'trough']"
      ]
     },
     "execution_count": 76,
     "metadata": {},
     "output_type": "execute_result"
    }
   ],
   "source": [
    "types_detected"
   ]
  },
  {
   "cell_type": "code",
   "execution_count": 96,
   "id": "65625de0",
   "metadata": {},
   "outputs": [],
   "source": [
    "detection_result = pd.DataFrame({'date': dates_detected, 'type': types_detected})"
   ]
  },
  {
   "cell_type": "code",
   "execution_count": 85,
   "id": "6cf2140a",
   "metadata": {},
   "outputs": [],
   "source": [
    "detection_result.set_index('date', inplace=True)"
   ]
  },
  {
   "cell_type": "code",
   "execution_count": 98,
   "id": "48c3c0b2",
   "metadata": {},
   "outputs": [],
   "source": [
    "detection_result = detection_result.drop_duplicates('date')"
   ]
  },
  {
   "cell_type": "code",
   "execution_count": 99,
   "id": "8160673c",
   "metadata": {},
   "outputs": [],
   "source": [
    "detection_result.set_index('date', inplace=True)"
   ]
  },
  {
   "cell_type": "code",
   "execution_count": null,
   "id": "226d6a78",
   "metadata": {},
   "outputs": [],
   "source": [
    "pd.DataFrame"
   ]
  },
  {
   "cell_type": "code",
   "execution_count": 60,
   "id": "73260180",
   "metadata": {},
   "outputs": [
    {
     "data": {
      "text/plain": [
       "DatetimeIndex(['2004-07-01', '2005-03-01', '2005-12-01', '2007-02-01',\n",
       "               '2007-10-01', '2008-08-01', '2009-12-01', '2012-05-01',\n",
       "               '2014-03-01', '2014-11-01', '2015-08-01', '2016-06-01',\n",
       "               '2017-06-01', '2019-11-01', '2021-05-01', '2023-04-01'],\n",
       "              dtype='datetime64[ns]', name='date', freq=None)"
      ]
     },
     "execution_count": 60,
     "metadata": {},
     "output_type": "execute_result"
    }
   ],
   "source": [
    "regime_result['events_df'].index"
   ]
  },
  {
   "cell_type": "code",
   "execution_count": 13,
   "id": "92c1e314",
   "metadata": {},
   "outputs": [
    {
     "data": {
      "text/plain": [
       "Timestamp('2025-05-01 00:00:00')"
      ]
     },
     "execution_count": 13,
     "metadata": {},
     "output_type": "execute_result"
    }
   ],
   "source": [
    "time + pd.DateOffset(months=-1)"
   ]
  },
  {
   "cell_type": "code",
   "execution_count": 14,
   "id": "96fd66d3",
   "metadata": {},
   "outputs": [
    {
     "data": {
      "text/plain": [
       "pandas.core.indexes.datetimes.DatetimeIndex"
      ]
     },
     "execution_count": 14,
     "metadata": {},
     "output_type": "execute_result"
    }
   ],
   "source": [
    "type(regime_result['events_df'].index)"
   ]
  },
  {
   "cell_type": "code",
   "execution_count": 15,
   "id": "9fb8e32d",
   "metadata": {},
   "outputs": [
    {
     "data": {
      "text/plain": [
       "96"
      ]
     },
     "execution_count": 15,
     "metadata": {},
     "output_type": "execute_result"
    }
   ],
   "source": [
    "len(states)"
   ]
  },
  {
   "cell_type": "code",
   "execution_count": 16,
   "id": "be35c79b",
   "metadata": {},
   "outputs": [
    {
     "data": {
      "text/plain": [
       "date\n",
       "2003-02-01     61.7\n",
       "2003-03-01     62.3\n",
       "2003-04-01     62.4\n",
       "2003-05-01     62.4\n",
       "2003-06-01     63.3\n",
       "              ...  \n",
       "2025-02-01    113.4\n",
       "2025-03-01    114.6\n",
       "2025-04-01    113.8\n",
       "2025-05-01    112.5\n",
       "2025-06-01    113.8\n",
       "Name: ipi, Length: 269, dtype: float64"
      ]
     },
     "execution_count": 16,
     "metadata": {},
     "output_type": "execute_result"
    }
   ],
   "source": [
    "df1['ipi']"
   ]
  },
  {
   "cell_type": "code",
   "execution_count": 17,
   "id": "fcb9883c",
   "metadata": {},
   "outputs": [
    {
     "data": {
      "text/plain": [
       "date\n",
       "2003-02-01    0.066374\n",
       "2003-03-01    0.149489\n",
       "2003-04-01    0.241202\n",
       "2003-05-01    0.334590\n",
       "2003-06-01    0.422297\n",
       "                ...   \n",
       "2025-02-01   -1.078051\n",
       "2025-03-01   -1.146372\n",
       "2025-04-01   -1.177804\n",
       "2025-05-01   -1.177535\n",
       "2025-06-01   -1.152154\n",
       "Name: ipi_cycle, Length: 269, dtype: float64"
      ]
     },
     "execution_count": 17,
     "metadata": {},
     "output_type": "execute_result"
    }
   ],
   "source": [
    "cf_filter.cffilter(df1['ipi'], low=18, high=96, drift=True)[0]"
   ]
  },
  {
   "cell_type": "code",
   "execution_count": 18,
   "id": "42da0e5a",
   "metadata": {},
   "outputs": [
    {
     "data": {
      "text/plain": [
       "[Timestamp('2025-06-01 00:00:00'),\n",
       " Timestamp('2025-05-01 00:00:00'),\n",
       " Timestamp('2025-04-01 00:00:00')]"
      ]
     },
     "execution_count": 18,
     "metadata": {},
     "output_type": "execute_result"
    }
   ],
   "source": [
    "target_dates"
   ]
  },
  {
   "cell_type": "code",
   "execution_count": 19,
   "id": "346d0f08",
   "metadata": {},
   "outputs": [
    {
     "data": {
      "text/plain": [
       "[Timestamp('2018-12-01 00:00:00'),\n",
       " Timestamp('2019-08-01 00:00:00'),\n",
       " Timestamp('2019-08-01 00:00:00'),\n",
       " Timestamp('2019-09-01 00:00:00'),\n",
       " Timestamp('2019-09-01 00:00:00'),\n",
       " Timestamp('2020-12-01 00:00:00'),\n",
       " Timestamp('2020-12-01 00:00:00'),\n",
       " Timestamp('2022-09-01 00:00:00'),\n",
       " Timestamp('2022-10-01 00:00:00'),\n",
       " Timestamp('2022-11-01 00:00:00'),\n",
       " Timestamp('2022-11-01 00:00:00'),\n",
       " Timestamp('2024-01-01 00:00:00'),\n",
       " Timestamp('2024-01-01 00:00:00'),\n",
       " Timestamp('2024-06-01 00:00:00'),\n",
       " Timestamp('2024-05-01 00:00:00'),\n",
       " Timestamp('2025-01-01 00:00:00')]"
      ]
     },
     "execution_count": 19,
     "metadata": {},
     "output_type": "execute_result"
    }
   ],
   "source": [
    "dates_detected"
   ]
  },
  {
   "cell_type": "code",
   "execution_count": 20,
   "id": "1ee30442",
   "metadata": {},
   "outputs": [],
   "source": [
    "dates_detected_u = list(dict.fromkeys(dates_detected))"
   ]
  },
  {
   "cell_type": "code",
   "execution_count": 21,
   "id": "a0ad00af",
   "metadata": {},
   "outputs": [],
   "source": [
    "a = pd.Series(dates_detected)"
   ]
  },
  {
   "cell_type": "code",
   "execution_count": 22,
   "id": "6d8fff7d",
   "metadata": {},
   "outputs": [],
   "source": [
    "dates_detected = pd.Series(dates_detected).unique"
   ]
  },
  {
   "cell_type": "code",
   "execution_count": 23,
   "id": "775549cd",
   "metadata": {},
   "outputs": [
    {
     "data": {
      "text/plain": [
       "<bound method Series.unique of 0    2018-12-01\n",
       "1    2019-08-01\n",
       "2    2019-08-01\n",
       "3    2019-09-01\n",
       "4    2019-09-01\n",
       "5    2020-12-01\n",
       "6    2020-12-01\n",
       "7    2022-09-01\n",
       "8    2022-10-01\n",
       "9    2022-11-01\n",
       "10   2022-11-01\n",
       "11   2024-01-01\n",
       "12   2024-01-01\n",
       "13   2024-06-01\n",
       "14   2024-05-01\n",
       "15   2025-01-01\n",
       "dtype: datetime64[ns]>"
      ]
     },
     "execution_count": 23,
     "metadata": {},
     "output_type": "execute_result"
    }
   ],
   "source": [
    "dates_detected"
   ]
  },
  {
   "cell_type": "code",
   "execution_count": 24,
   "id": "d7fda474",
   "metadata": {},
   "outputs": [
    {
     "data": {
      "text/plain": [
       "<bound method Series.unique of 0    2018-12-01\n",
       "1    2019-08-01\n",
       "2    2019-08-01\n",
       "3    2019-09-01\n",
       "4    2019-09-01\n",
       "5    2020-12-01\n",
       "6    2020-12-01\n",
       "7    2022-09-01\n",
       "8    2022-10-01\n",
       "9    2022-11-01\n",
       "10   2022-11-01\n",
       "11   2024-01-01\n",
       "12   2024-01-01\n",
       "13   2024-06-01\n",
       "14   2024-05-01\n",
       "15   2025-01-01\n",
       "dtype: datetime64[ns]>"
      ]
     },
     "execution_count": 24,
     "metadata": {},
     "output_type": "execute_result"
    }
   ],
   "source": [
    "dates_detected"
   ]
  },
  {
   "cell_type": "code",
   "execution_count": 30,
   "id": "d8d91b4d",
   "metadata": {},
   "outputs": [
    {
     "data": {
      "text/plain": [
       "pandas.core.series.Series"
      ]
     },
     "execution_count": 30,
     "metadata": {},
     "output_type": "execute_result"
    }
   ],
   "source": [
    "type(ipi)"
   ]
  },
  {
   "cell_type": "code",
   "execution_count": 32,
   "id": "8069a4cb",
   "metadata": {},
   "outputs": [
    {
     "data": {
      "text/plain": [
       "date\n",
       "2025-06-01   -1.152154\n",
       "2025-05-01   -1.177535\n",
       "2025-04-01   -1.177804\n",
       "Name: ipi_cycle, dtype: float64"
      ]
     },
     "execution_count": 32,
     "metadata": {},
     "output_type": "execute_result"
    }
   ],
   "source": [
    "ipi[target_dates]"
   ]
  },
  {
   "cell_type": "code",
   "execution_count": 100,
   "id": "b5a190db",
   "metadata": {},
   "outputs": [
    {
     "data": {
      "text/html": [
       "<div>\n",
       "<style scoped>\n",
       "    .dataframe tbody tr th:only-of-type {\n",
       "        vertical-align: middle;\n",
       "    }\n",
       "\n",
       "    .dataframe tbody tr th {\n",
       "        vertical-align: top;\n",
       "    }\n",
       "\n",
       "    .dataframe thead th {\n",
       "        text-align: right;\n",
       "    }\n",
       "</style>\n",
       "<table border=\"1\" class=\"dataframe\">\n",
       "  <thead>\n",
       "    <tr style=\"text-align: right;\">\n",
       "      <th></th>\n",
       "      <th>type</th>\n",
       "    </tr>\n",
       "    <tr>\n",
       "      <th>date</th>\n",
       "      <th></th>\n",
       "    </tr>\n",
       "  </thead>\n",
       "  <tbody>\n",
       "    <tr>\n",
       "      <th>2018-12-01</th>\n",
       "      <td>trough</td>\n",
       "    </tr>\n",
       "    <tr>\n",
       "      <th>2019-08-01</th>\n",
       "      <td>trough</td>\n",
       "    </tr>\n",
       "    <tr>\n",
       "      <th>2019-09-01</th>\n",
       "      <td>peak</td>\n",
       "    </tr>\n",
       "    <tr>\n",
       "      <th>2020-12-01</th>\n",
       "      <td>peak</td>\n",
       "    </tr>\n",
       "    <tr>\n",
       "      <th>2022-09-01</th>\n",
       "      <td>peak</td>\n",
       "    </tr>\n",
       "    <tr>\n",
       "      <th>2022-10-01</th>\n",
       "      <td>trough</td>\n",
       "    </tr>\n",
       "    <tr>\n",
       "      <th>2022-11-01</th>\n",
       "      <td>peak</td>\n",
       "    </tr>\n",
       "    <tr>\n",
       "      <th>2024-01-01</th>\n",
       "      <td>trough</td>\n",
       "    </tr>\n",
       "    <tr>\n",
       "      <th>2024-06-01</th>\n",
       "      <td>trough</td>\n",
       "    </tr>\n",
       "    <tr>\n",
       "      <th>2024-05-01</th>\n",
       "      <td>trough</td>\n",
       "    </tr>\n",
       "    <tr>\n",
       "      <th>2025-01-01</th>\n",
       "      <td>trough</td>\n",
       "    </tr>\n",
       "  </tbody>\n",
       "</table>\n",
       "</div>"
      ],
      "text/plain": [
       "              type\n",
       "date              \n",
       "2018-12-01  trough\n",
       "2019-08-01  trough\n",
       "2019-09-01    peak\n",
       "2020-12-01    peak\n",
       "2022-09-01    peak\n",
       "2022-10-01  trough\n",
       "2022-11-01    peak\n",
       "2024-01-01  trough\n",
       "2024-06-01  trough\n",
       "2024-05-01  trough\n",
       "2025-01-01  trough"
      ]
     },
     "execution_count": 100,
     "metadata": {},
     "output_type": "execute_result"
    }
   ],
   "source": [
    "detection_result"
   ]
  },
  {
   "cell_type": "code",
   "execution_count": 104,
   "id": "fc67cae6",
   "metadata": {},
   "outputs": [
    {
     "data": {
      "text/plain": [
       "array(['trough', 'trough', 'trough', 'trough', 'trough', 'trough',\n",
       "       'trough'], dtype=object)"
      ]
     },
     "execution_count": 104,
     "metadata": {},
     "output_type": "execute_result"
    }
   ],
   "source": [
    "trough.values"
   ]
  },
  {
   "cell_type": "code",
   "execution_count": 107,
   "id": "e362ba03",
   "metadata": {},
   "outputs": [
    {
     "data": {
      "text/plain": [
       "<matplotlib.legend.Legend at 0x20058f1ae40>"
      ]
     },
     "execution_count": 107,
     "metadata": {},
     "output_type": "execute_result"
    },
    {
     "data": {
      "image/png": "[encoded data removed]",
      "text/plain": [
       "<Figure size 640x480 with 1 Axes>"
      ]
     },
     "metadata": {},
     "output_type": "display_data"
    }
   ],
   "source": [
    "ipi = cf_filter.cffilter(df1['ipi'], low=18, high=96, drift=True)[0]\n",
    "plt.plot(ipi)\n",
    "peak = detection_result['type'].loc[detection_result['type']=='peak']\n",
    "trough = detection_result['type'].loc[detection_result['type']=='trough']\n",
    "\n",
    "plt.scatter(trough.index, ipi.loc[trough.index], color='green',label='trough')\n",
    "plt.scatter(peak.index, ipi.loc[peak.index], color='red',label='peak')\n",
    "plt.legend()\n"
   ]
  },
  {
   "cell_type": "code",
   "execution_count": null,
   "id": "06b6acf0",
   "metadata": {},
   "outputs": [],
   "source": []
  }
 ],
 "metadata": {
  "kernelspec": {
   "display_name": "base",
   "language": "python",
   "name": "python3"
  },
  "language_info": {
   "codemirror_mode": {
    "name": "ipython",
    "version": 3
   },
   "file_extension": ".py",
   "mimetype": "text/x-python",
   "name": "python",
   "nbconvert_exporter": "python",
   "pygments_lexer": "ipython3",
   "version": "3.13.5"
  }
 },
 "nbformat": 4,
 "nbformat_minor": 5
}
