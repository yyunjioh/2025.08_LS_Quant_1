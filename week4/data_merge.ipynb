{
 "cells": [
  {
   "cell_type": "code",
   "execution_count": 2,
   "id": "c6fd036b",
   "metadata": {},
   "outputs": [],
   "source": [
    "import pandas as pd\n",
    "import numpy as np\n",
    "import matplotlib.pyplot as plt\n",
    "import os"
   ]
  },
  {
   "cell_type": "code",
   "execution_count": 3,
   "id": "fe4f4624",
   "metadata": {},
   "outputs": [
    {
     "data": {
      "text/plain": [
       "'c:\\\\Users\\\\tmdal\\\\ls_quant1\\\\week3\\\\2025.08_LS_Quant_1\\\\week4'"
      ]
     },
     "execution_count": 3,
     "metadata": {},
     "output_type": "execute_result"
    }
   ],
   "source": [
    "os.getcwd()"
   ]
  },
  {
   "cell_type": "code",
   "execution_count": 5,
   "id": "ad66b393",
   "metadata": {},
   "outputs": [
    {
     "data": {
      "text/plain": [
       "['bsi_inv.csv',\n",
       " 'commodity.csv',\n",
       " 'durable.csv',\n",
       " 'employ.csv',\n",
       " 'export.csv',\n",
       " 'ipi.csv',\n",
       " 'manu_spread.csv',\n",
       " 'oecd_cli_aus.csv',\n",
       " 'oecd_cli_bra.csv',\n",
       " 'oecd_cli_can.csv',\n",
       " 'oecd_cli_chn.csv',\n",
       " 'oecd_cli_esp.csv',\n",
       " 'oecd_cli_frc.csv',\n",
       " 'oecd_cli_g20.csv',\n",
       " 'oecd_cli_g7.csv',\n",
       " 'oecd_cli_ger.csv',\n",
       " 'oecd_cli_idn.csv',\n",
       " 'oecd_cli_ind.csv',\n",
       " 'oecd_cli_ita.csv',\n",
       " 'oecd_cli_jap.csv',\n",
       " 'oecd_cli_kor.csv',\n",
       " 'oecd_cli_mex.csv',\n",
       " 'oecd_cli_nafta.csv',\n",
       " 'oecd_cli_tur.csv',\n",
       " 'oecd_cli_uk.csv',\n",
       " 'oecd_cli_usa.csv',\n",
       " 'yield_spread.csv']"
      ]
     },
     "execution_count": 5,
     "metadata": {},
     "output_type": "execute_result"
    }
   ],
   "source": [
    "dir = os.getcwd()\n",
    "os.listdir(dir+'/data')"
   ]
  },
  {
   "cell_type": "code",
   "execution_count": 6,
   "id": "290e80c8",
   "metadata": {},
   "outputs": [],
   "source": [
    "bsi_inv = pd.read_csv(dir + '/data/bsi_inv.csv')"
   ]
  },
  {
   "cell_type": "code",
   "execution_count": 7,
   "id": "8f258514",
   "metadata": {},
   "outputs": [
    {
     "data": {
      "text/html": [
       "<div>\n",
       "<style scoped>\n",
       "    .dataframe tbody tr th:only-of-type {\n",
       "        vertical-align: middle;\n",
       "    }\n",
       "\n",
       "    .dataframe tbody tr th {\n",
       "        vertical-align: top;\n",
       "    }\n",
       "\n",
       "    .dataframe thead th {\n",
       "        text-align: right;\n",
       "    }\n",
       "</style>\n",
       "<table border=\"1\" class=\"dataframe\">\n",
       "  <thead>\n",
       "    <tr style=\"text-align: right;\">\n",
       "      <th></th>\n",
       "      <th>시점</th>\n",
       "      <th>설비투자전망BSI 5)</th>\n",
       "      <th>설비투자전망BSI 5).1</th>\n",
       "    </tr>\n",
       "  </thead>\n",
       "  <tbody>\n",
       "    <tr>\n",
       "      <th>0</th>\n",
       "      <td>시점</td>\n",
       "      <td>대 기 업</td>\n",
       "      <td>중소기업</td>\n",
       "    </tr>\n",
       "    <tr>\n",
       "      <th>1</th>\n",
       "      <td>2003.02</td>\n",
       "      <td>99</td>\n",
       "      <td>98</td>\n",
       "    </tr>\n",
       "    <tr>\n",
       "      <th>2</th>\n",
       "      <td>2003.03</td>\n",
       "      <td>95</td>\n",
       "      <td>95</td>\n",
       "    </tr>\n",
       "    <tr>\n",
       "      <th>3</th>\n",
       "      <td>2003.04</td>\n",
       "      <td>87</td>\n",
       "      <td>91</td>\n",
       "    </tr>\n",
       "    <tr>\n",
       "      <th>4</th>\n",
       "      <td>2003.05</td>\n",
       "      <td>91</td>\n",
       "      <td>91</td>\n",
       "    </tr>\n",
       "    <tr>\n",
       "      <th>...</th>\n",
       "      <td>...</td>\n",
       "      <td>...</td>\n",
       "      <td>...</td>\n",
       "    </tr>\n",
       "    <tr>\n",
       "      <th>267</th>\n",
       "      <td>2025.04</td>\n",
       "      <td>94</td>\n",
       "      <td>86</td>\n",
       "    </tr>\n",
       "    <tr>\n",
       "      <th>268</th>\n",
       "      <td>2025.05</td>\n",
       "      <td>94</td>\n",
       "      <td>86</td>\n",
       "    </tr>\n",
       "    <tr>\n",
       "      <th>269</th>\n",
       "      <td>2025.06</td>\n",
       "      <td>97</td>\n",
       "      <td>86</td>\n",
       "    </tr>\n",
       "    <tr>\n",
       "      <th>270</th>\n",
       "      <td>2025.07</td>\n",
       "      <td>95</td>\n",
       "      <td>87</td>\n",
       "    </tr>\n",
       "    <tr>\n",
       "      <th>271</th>\n",
       "      <td>2025.08</td>\n",
       "      <td>91</td>\n",
       "      <td>85</td>\n",
       "    </tr>\n",
       "  </tbody>\n",
       "</table>\n",
       "<p>272 rows × 3 columns</p>\n",
       "</div>"
      ],
      "text/plain": [
       "          시점 설비투자전망BSI 5) 설비투자전망BSI 5).1\n",
       "0         시점        대 기 업           중소기업\n",
       "1    2003.02           99             98\n",
       "2    2003.03           95             95\n",
       "3    2003.04           87             91\n",
       "4    2003.05           91             91\n",
       "..       ...          ...            ...\n",
       "267  2025.04           94             86\n",
       "268  2025.05           94             86\n",
       "269  2025.06           97             86\n",
       "270  2025.07           95             87\n",
       "271  2025.08           91             85\n",
       "\n",
       "[272 rows x 3 columns]"
      ]
     },
     "execution_count": 7,
     "metadata": {},
     "output_type": "execute_result"
    }
   ],
   "source": [
    "bsi_inv"
   ]
  },
  {
   "cell_type": "code",
   "execution_count": 8,
   "id": "b98c3789",
   "metadata": {},
   "outputs": [],
   "source": [
    "bsi_inv = bsi_inv.iloc[1:]"
   ]
  },
  {
   "cell_type": "code",
   "execution_count": 11,
   "id": "0ccb7ff2",
   "metadata": {},
   "outputs": [],
   "source": [
    "# 날짜/BSI설비투자전망 대기업/BSI설비투자전망 중소기업\n",
    "bsi_inv.columns = ['date', 'bsi_inv_big', 'bsi_inv_small']"
   ]
  },
  {
   "cell_type": "code",
   "execution_count": 12,
   "id": "1cc54d60",
   "metadata": {},
   "outputs": [],
   "source": [
    "bsi_inv.set_index('date', inplace=True)"
   ]
  },
  {
   "cell_type": "code",
   "execution_count": 13,
   "id": "b3fab6f6",
   "metadata": {},
   "outputs": [
    {
     "data": {
      "text/html": [
       "<div>\n",
       "<style scoped>\n",
       "    .dataframe tbody tr th:only-of-type {\n",
       "        vertical-align: middle;\n",
       "    }\n",
       "\n",
       "    .dataframe tbody tr th {\n",
       "        vertical-align: top;\n",
       "    }\n",
       "\n",
       "    .dataframe thead th {\n",
       "        text-align: right;\n",
       "    }\n",
       "</style>\n",
       "<table border=\"1\" class=\"dataframe\">\n",
       "  <thead>\n",
       "    <tr style=\"text-align: right;\">\n",
       "      <th></th>\n",
       "      <th>bsi_inv_big</th>\n",
       "      <th>bsi_inv_small</th>\n",
       "    </tr>\n",
       "    <tr>\n",
       "      <th>date</th>\n",
       "      <th></th>\n",
       "      <th></th>\n",
       "    </tr>\n",
       "  </thead>\n",
       "  <tbody>\n",
       "    <tr>\n",
       "      <th>2003.02</th>\n",
       "      <td>99</td>\n",
       "      <td>98</td>\n",
       "    </tr>\n",
       "    <tr>\n",
       "      <th>2003.03</th>\n",
       "      <td>95</td>\n",
       "      <td>95</td>\n",
       "    </tr>\n",
       "    <tr>\n",
       "      <th>2003.04</th>\n",
       "      <td>87</td>\n",
       "      <td>91</td>\n",
       "    </tr>\n",
       "    <tr>\n",
       "      <th>2003.05</th>\n",
       "      <td>91</td>\n",
       "      <td>91</td>\n",
       "    </tr>\n",
       "    <tr>\n",
       "      <th>2003.06</th>\n",
       "      <td>87</td>\n",
       "      <td>90</td>\n",
       "    </tr>\n",
       "    <tr>\n",
       "      <th>...</th>\n",
       "      <td>...</td>\n",
       "      <td>...</td>\n",
       "    </tr>\n",
       "    <tr>\n",
       "      <th>2025.04</th>\n",
       "      <td>94</td>\n",
       "      <td>86</td>\n",
       "    </tr>\n",
       "    <tr>\n",
       "      <th>2025.05</th>\n",
       "      <td>94</td>\n",
       "      <td>86</td>\n",
       "    </tr>\n",
       "    <tr>\n",
       "      <th>2025.06</th>\n",
       "      <td>97</td>\n",
       "      <td>86</td>\n",
       "    </tr>\n",
       "    <tr>\n",
       "      <th>2025.07</th>\n",
       "      <td>95</td>\n",
       "      <td>87</td>\n",
       "    </tr>\n",
       "    <tr>\n",
       "      <th>2025.08</th>\n",
       "      <td>91</td>\n",
       "      <td>85</td>\n",
       "    </tr>\n",
       "  </tbody>\n",
       "</table>\n",
       "<p>271 rows × 2 columns</p>\n",
       "</div>"
      ],
      "text/plain": [
       "        bsi_inv_big bsi_inv_small\n",
       "date                             \n",
       "2003.02          99            98\n",
       "2003.03          95            95\n",
       "2003.04          87            91\n",
       "2003.05          91            91\n",
       "2003.06          87            90\n",
       "...             ...           ...\n",
       "2025.04          94            86\n",
       "2025.05          94            86\n",
       "2025.06          97            86\n",
       "2025.07          95            87\n",
       "2025.08          91            85\n",
       "\n",
       "[271 rows x 2 columns]"
      ]
     },
     "execution_count": 13,
     "metadata": {},
     "output_type": "execute_result"
    }
   ],
   "source": [
    "bsi_inv"
   ]
  },
  {
   "cell_type": "code",
   "execution_count": 14,
   "id": "07953956",
   "metadata": {},
   "outputs": [
    {
     "data": {
      "text/plain": [
       "['bsi_inv.csv',\n",
       " 'commodity.csv',\n",
       " 'durable.csv',\n",
       " 'employ.csv',\n",
       " 'export.csv',\n",
       " 'ipi.csv',\n",
       " 'manu_spread.csv',\n",
       " 'oecd_cli_aus.csv',\n",
       " 'oecd_cli_bra.csv',\n",
       " 'oecd_cli_can.csv',\n",
       " 'oecd_cli_chn.csv',\n",
       " 'oecd_cli_esp.csv',\n",
       " 'oecd_cli_frc.csv',\n",
       " 'oecd_cli_g20.csv',\n",
       " 'oecd_cli_g7.csv',\n",
       " 'oecd_cli_ger.csv',\n",
       " 'oecd_cli_idn.csv',\n",
       " 'oecd_cli_ind.csv',\n",
       " 'oecd_cli_ita.csv',\n",
       " 'oecd_cli_jap.csv',\n",
       " 'oecd_cli_kor.csv',\n",
       " 'oecd_cli_mex.csv',\n",
       " 'oecd_cli_nafta.csv',\n",
       " 'oecd_cli_tur.csv',\n",
       " 'oecd_cli_uk.csv',\n",
       " 'oecd_cli_usa.csv',\n",
       " 'yield_spread.csv']"
      ]
     },
     "execution_count": 14,
     "metadata": {},
     "output_type": "execute_result"
    }
   ],
   "source": [
    "os.listdir(dir+'/data')"
   ]
  },
  {
   "cell_type": "code",
   "execution_count": 19,
   "id": "dc0fa74f",
   "metadata": {},
   "outputs": [],
   "source": [
    "comm = pd.read_csv(dir + '/data/commodity.csv')\n",
    "comm.dropna(inplace=True)"
   ]
  },
  {
   "cell_type": "code",
   "execution_count": 20,
   "id": "566188cf",
   "metadata": {},
   "outputs": [
    {
     "data": {
      "text/html": [
       "<div>\n",
       "<style scoped>\n",
       "    .dataframe tbody tr th:only-of-type {\n",
       "        vertical-align: middle;\n",
       "    }\n",
       "\n",
       "    .dataframe tbody tr th {\n",
       "        vertical-align: top;\n",
       "    }\n",
       "\n",
       "    .dataframe thead th {\n",
       "        text-align: right;\n",
       "    }\n",
       "</style>\n",
       "<table border=\"1\" class=\"dataframe\">\n",
       "  <thead>\n",
       "    <tr style=\"text-align: right;\">\n",
       "      <th></th>\n",
       "      <th>변환</th>\n",
       "      <th>원자료</th>\n",
       "      <th>원자료.1</th>\n",
       "      <th>원자료.2</th>\n",
       "      <th>원자료.3</th>\n",
       "      <th>원자료.4</th>\n",
       "    </tr>\n",
       "  </thead>\n",
       "  <tbody>\n",
       "    <tr>\n",
       "      <th>36</th>\n",
       "      <td>1990/01</td>\n",
       "      <td>22.60</td>\n",
       "      <td>17.50</td>\n",
       "      <td>14.05</td>\n",
       "      <td>2,365.56</td>\n",
       "      <td>409.82</td>\n",
       "    </tr>\n",
       "    <tr>\n",
       "      <th>37</th>\n",
       "      <td>1990/02</td>\n",
       "      <td>22.20</td>\n",
       "      <td>16.68</td>\n",
       "      <td>14.05</td>\n",
       "      <td>2,358.94</td>\n",
       "      <td>417.18</td>\n",
       "    </tr>\n",
       "    <tr>\n",
       "      <th>38</th>\n",
       "      <td>1990/03</td>\n",
       "      <td>20.44</td>\n",
       "      <td>15.76</td>\n",
       "      <td>14.05</td>\n",
       "      <td>2,625.70</td>\n",
       "      <td>392.70</td>\n",
       "    </tr>\n",
       "    <tr>\n",
       "      <th>39</th>\n",
       "      <td>1990/04</td>\n",
       "      <td>18.53</td>\n",
       "      <td>14.25</td>\n",
       "      <td>14.05</td>\n",
       "      <td>2,685.23</td>\n",
       "      <td>374.29</td>\n",
       "    </tr>\n",
       "    <tr>\n",
       "      <th>40</th>\n",
       "      <td>1990/05</td>\n",
       "      <td>18.44</td>\n",
       "      <td>14.65</td>\n",
       "      <td>14.05</td>\n",
       "      <td>2,740.34</td>\n",
       "      <td>369.20</td>\n",
       "    </tr>\n",
       "    <tr>\n",
       "      <th>...</th>\n",
       "      <td>...</td>\n",
       "      <td>...</td>\n",
       "      <td>...</td>\n",
       "      <td>...</td>\n",
       "      <td>...</td>\n",
       "      <td>...</td>\n",
       "    </tr>\n",
       "    <tr>\n",
       "      <th>457</th>\n",
       "      <td>2025/02</td>\n",
       "      <td>71.54</td>\n",
       "      <td>76.32</td>\n",
       "      <td>108.20</td>\n",
       "      <td>9,330.98</td>\n",
       "      <td>2,894.38</td>\n",
       "    </tr>\n",
       "    <tr>\n",
       "      <th>458</th>\n",
       "      <td>2025/03</td>\n",
       "      <td>68.24</td>\n",
       "      <td>72.98</td>\n",
       "      <td>103.65</td>\n",
       "      <td>9,735.82</td>\n",
       "      <td>2,986.26</td>\n",
       "    </tr>\n",
       "    <tr>\n",
       "      <th>459</th>\n",
       "      <td>2025/04</td>\n",
       "      <td>63.61</td>\n",
       "      <td>68.49</td>\n",
       "      <td>100.91</td>\n",
       "      <td>9,172.70</td>\n",
       "      <td>3,222.01</td>\n",
       "    </tr>\n",
       "    <tr>\n",
       "      <th>460</th>\n",
       "      <td>2025/05</td>\n",
       "      <td>62.20</td>\n",
       "      <td>63.61</td>\n",
       "      <td>100.27</td>\n",
       "      <td>9,531.20</td>\n",
       "      <td>3,288.01</td>\n",
       "    </tr>\n",
       "    <tr>\n",
       "      <th>461</th>\n",
       "      <td>2025/06</td>\n",
       "      <td>68.54</td>\n",
       "      <td>69.36</td>\n",
       "      <td>96.17</td>\n",
       "      <td>9,835.07</td>\n",
       "      <td>3,351.86</td>\n",
       "    </tr>\n",
       "  </tbody>\n",
       "</table>\n",
       "<p>426 rows × 6 columns</p>\n",
       "</div>"
      ],
      "text/plain": [
       "          변환    원자료  원자료.1   원자료.2     원자료.3     원자료.4\n",
       "36   1990/01  22.60  17.50   14.05  2,365.56    409.82\n",
       "37   1990/02  22.20  16.68   14.05  2,358.94    417.18\n",
       "38   1990/03  20.44  15.76   14.05  2,625.70    392.70\n",
       "39   1990/04  18.53  14.25   14.05  2,685.23    374.29\n",
       "40   1990/05  18.44  14.65   14.05  2,740.34    369.20\n",
       "..       ...    ...    ...     ...       ...       ...\n",
       "457  2025/02  71.54  76.32  108.20  9,330.98  2,894.38\n",
       "458  2025/03  68.24  72.98  103.65  9,735.82  2,986.26\n",
       "459  2025/04  63.61  68.49  100.91  9,172.70  3,222.01\n",
       "460  2025/05  62.20  63.61  100.27  9,531.20  3,288.01\n",
       "461  2025/06  68.54  69.36   96.17  9,835.07  3,351.86\n",
       "\n",
       "[426 rows x 6 columns]"
      ]
     },
     "execution_count": 20,
     "metadata": {},
     "output_type": "execute_result"
    }
   ],
   "source": [
    "comm"
   ]
  },
  {
   "cell_type": "code",
   "execution_count": 21,
   "id": "6878b383",
   "metadata": {},
   "outputs": [],
   "source": [
    "# 날짜(date)/wti/dubai/철광석/구리/금\n",
    "comm.columns = ['date', 'wti', 'dubai', 'iron', 'copper', 'gold']"
   ]
  },
  {
   "cell_type": "code",
   "execution_count": 22,
   "id": "99bb74fc",
   "metadata": {},
   "outputs": [],
   "source": [
    "comm.set_index('date', inplace=True)"
   ]
  },
  {
   "cell_type": "code",
   "execution_count": 24,
   "id": "1994791b",
   "metadata": {},
   "outputs": [
    {
     "name": "stdout",
     "output_type": "stream",
     "text": [
      "<class 'pandas.core.frame.DataFrame'>\n",
      "Index: 426 entries, 1990/01 to 2025/06\n",
      "Data columns (total 5 columns):\n",
      " #   Column  Non-Null Count  Dtype  \n",
      "---  ------  --------------  -----  \n",
      " 0   wti     426 non-null    float64\n",
      " 1   dubai   426 non-null    float64\n",
      " 2   iron    426 non-null    float64\n",
      " 3   copper  426 non-null    object \n",
      " 4   gold    426 non-null    object \n",
      "dtypes: float64(3), object(2)\n",
      "memory usage: 36.1+ KB\n"
     ]
    }
   ],
   "source": [
    "comm.info()"
   ]
  },
  {
   "cell_type": "code",
   "execution_count": 30,
   "id": "91a8fccc",
   "metadata": {},
   "outputs": [],
   "source": [
    "comm['copper'] = comm['copper'].str.replace(',', '').astype('float')"
   ]
  },
  {
   "cell_type": "code",
   "execution_count": 31,
   "id": "77cdcd89",
   "metadata": {},
   "outputs": [],
   "source": [
    "comm['gold'] = comm['gold'].str.replace(',', '').astype('float')"
   ]
  },
  {
   "cell_type": "code",
   "execution_count": 32,
   "id": "18c11698",
   "metadata": {},
   "outputs": [
    {
     "name": "stdout",
     "output_type": "stream",
     "text": [
      "<class 'pandas.core.frame.DataFrame'>\n",
      "Index: 426 entries, 1990/01 to 2025/06\n",
      "Data columns (total 5 columns):\n",
      " #   Column  Non-Null Count  Dtype  \n",
      "---  ------  --------------  -----  \n",
      " 0   wti     426 non-null    float64\n",
      " 1   dubai   426 non-null    float64\n",
      " 2   iron    426 non-null    float64\n",
      " 3   copper  426 non-null    float64\n",
      " 4   gold    426 non-null    float64\n",
      "dtypes: float64(5)\n",
      "memory usage: 36.1+ KB\n"
     ]
    }
   ],
   "source": [
    "comm.info()"
   ]
  },
  {
   "cell_type": "code",
   "execution_count": 34,
   "id": "48c9bfb3",
   "metadata": {},
   "outputs": [
    {
     "data": {
      "text/plain": [
       "['bsi_inv.csv',\n",
       " 'commodity.csv',\n",
       " 'durable.csv',\n",
       " 'employ.csv',\n",
       " 'export.csv',\n",
       " 'ipi.csv',\n",
       " 'manu_spread.csv',\n",
       " 'oecd_cli_aus.csv',\n",
       " 'oecd_cli_bra.csv',\n",
       " 'oecd_cli_can.csv',\n",
       " 'oecd_cli_chn.csv',\n",
       " 'oecd_cli_esp.csv',\n",
       " 'oecd_cli_frc.csv',\n",
       " 'oecd_cli_g20.csv',\n",
       " 'oecd_cli_g7.csv',\n",
       " 'oecd_cli_ger.csv',\n",
       " 'oecd_cli_idn.csv',\n",
       " 'oecd_cli_ind.csv',\n",
       " 'oecd_cli_ita.csv',\n",
       " 'oecd_cli_jap.csv',\n",
       " 'oecd_cli_kor.csv',\n",
       " 'oecd_cli_mex.csv',\n",
       " 'oecd_cli_nafta.csv',\n",
       " 'oecd_cli_tur.csv',\n",
       " 'oecd_cli_uk.csv',\n",
       " 'oecd_cli_usa.csv',\n",
       " 'yield_spread.csv']"
      ]
     },
     "execution_count": 34,
     "metadata": {},
     "output_type": "execute_result"
    }
   ],
   "source": [
    "os.listdir(dir + '/data')"
   ]
  },
  {
   "cell_type": "code",
   "execution_count": 44,
   "id": "df748bae",
   "metadata": {},
   "outputs": [],
   "source": [
    "dur = pd.read_csv(dir + '/data/durable.csv')"
   ]
  },
  {
   "cell_type": "code",
   "execution_count": 45,
   "id": "d6669bef",
   "metadata": {},
   "outputs": [
    {
     "name": "stderr",
     "output_type": "stream",
     "text": [
      "C:\\Users\\tmdal\\AppData\\Local\\Temp\\ipykernel_24572\\4005282206.py:1: FutureWarning: ChainedAssignmentError: behaviour will change in pandas 3.0!\n",
      "You are setting values through chained assignment. Currently this works in certain cases, but when using Copy-on-Write (which will become the default behaviour in pandas 3.0) this will never work to update the original DataFrame or Series, because the intermediate object on which we are setting values will behave as a copy.\n",
      "A typical example is when you are setting values in a column of a DataFrame, like:\n",
      "\n",
      "df[\"col\"][row_indexer] = value\n",
      "\n",
      "Use `df.loc[row_indexer, \"col\"] = values` instead, to perform the assignment in a single step and ensure this keeps updating the original `df`.\n",
      "\n",
      "See the caveats in the documentation: https://pandas.pydata.org/pandas-docs/stable/user_guide/indexing.html#returning-a-view-versus-a-copy\n",
      "\n",
      "  dur['시점'].iloc[-2:] = ['2025.05', '2025.06']\n",
      "C:\\Users\\tmdal\\AppData\\Local\\Temp\\ipykernel_24572\\4005282206.py:1: SettingWithCopyWarning: \n",
      "A value is trying to be set on a copy of a slice from a DataFrame\n",
      "\n",
      "See the caveats in the documentation: https://pandas.pydata.org/pandas-docs/stable/user_guide/indexing.html#returning-a-view-versus-a-copy\n",
      "  dur['시점'].iloc[-2:] = ['2025.05', '2025.06']\n"
     ]
    }
   ],
   "source": [
    "dur['시점'].iloc[-2:] = ['2025.05', '2025.06']"
   ]
  },
  {
   "cell_type": "code",
   "execution_count": 46,
   "id": "1e527bc2",
   "metadata": {},
   "outputs": [],
   "source": [
    "# 시점: date, 계절조정지수: durable\n",
    "dur.columns = ['date', 'drop', 'durable']"
   ]
  },
  {
   "cell_type": "code",
   "execution_count": 47,
   "id": "9ebd338f",
   "metadata": {},
   "outputs": [],
   "source": [
    "dur.drop(columns='drop', inplace=True)"
   ]
  },
  {
   "cell_type": "code",
   "execution_count": 49,
   "id": "8a6b0be1",
   "metadata": {},
   "outputs": [],
   "source": [
    "dur.set_index('date', inplace=True)"
   ]
  },
  {
   "cell_type": "code",
   "execution_count": 50,
   "id": "ccdf1922",
   "metadata": {},
   "outputs": [
    {
     "data": {
      "text/html": [
       "<div>\n",
       "<style scoped>\n",
       "    .dataframe tbody tr th:only-of-type {\n",
       "        vertical-align: middle;\n",
       "    }\n",
       "\n",
       "    .dataframe tbody tr th {\n",
       "        vertical-align: top;\n",
       "    }\n",
       "\n",
       "    .dataframe thead th {\n",
       "        text-align: right;\n",
       "    }\n",
       "</style>\n",
       "<table border=\"1\" class=\"dataframe\">\n",
       "  <thead>\n",
       "    <tr style=\"text-align: right;\">\n",
       "      <th></th>\n",
       "      <th>durable</th>\n",
       "    </tr>\n",
       "    <tr>\n",
       "      <th>date</th>\n",
       "      <th></th>\n",
       "    </tr>\n",
       "  </thead>\n",
       "  <tbody>\n",
       "    <tr>\n",
       "      <th>1995.01</th>\n",
       "      <td>26.3</td>\n",
       "    </tr>\n",
       "    <tr>\n",
       "      <th>1995.02</th>\n",
       "      <td>25.8</td>\n",
       "    </tr>\n",
       "    <tr>\n",
       "      <th>1995.03</th>\n",
       "      <td>26.0</td>\n",
       "    </tr>\n",
       "    <tr>\n",
       "      <th>1995.04</th>\n",
       "      <td>26.7</td>\n",
       "    </tr>\n",
       "    <tr>\n",
       "      <th>1995.05</th>\n",
       "      <td>24.7</td>\n",
       "    </tr>\n",
       "    <tr>\n",
       "      <th>...</th>\n",
       "      <td>...</td>\n",
       "    </tr>\n",
       "    <tr>\n",
       "      <th>2025.02</th>\n",
       "      <td>110.6</td>\n",
       "    </tr>\n",
       "    <tr>\n",
       "      <th>2025.03</th>\n",
       "      <td>100.7</td>\n",
       "    </tr>\n",
       "    <tr>\n",
       "      <th>2025.04</th>\n",
       "      <td>99.1</td>\n",
       "    </tr>\n",
       "    <tr>\n",
       "      <th>2025.05</th>\n",
       "      <td>100.5</td>\n",
       "    </tr>\n",
       "    <tr>\n",
       "      <th>2025.06</th>\n",
       "      <td>98.9</td>\n",
       "    </tr>\n",
       "  </tbody>\n",
       "</table>\n",
       "<p>366 rows × 1 columns</p>\n",
       "</div>"
      ],
      "text/plain": [
       "         durable\n",
       "date            \n",
       "1995.01     26.3\n",
       "1995.02     25.8\n",
       "1995.03     26.0\n",
       "1995.04     26.7\n",
       "1995.05     24.7\n",
       "...          ...\n",
       "2025.02    110.6\n",
       "2025.03    100.7\n",
       "2025.04     99.1\n",
       "2025.05    100.5\n",
       "2025.06     98.9\n",
       "\n",
       "[366 rows x 1 columns]"
      ]
     },
     "execution_count": 50,
     "metadata": {},
     "output_type": "execute_result"
    }
   ],
   "source": [
    "dur"
   ]
  },
  {
   "cell_type": "code",
   "execution_count": 51,
   "id": "cfaf4e95",
   "metadata": {},
   "outputs": [
    {
     "data": {
      "text/plain": [
       "['bsi_inv.csv',\n",
       " 'commodity.csv',\n",
       " 'durable.csv',\n",
       " 'employ.csv',\n",
       " 'export.csv',\n",
       " 'ipi.csv',\n",
       " 'manu_spread.csv',\n",
       " 'oecd_cli_aus.csv',\n",
       " 'oecd_cli_bra.csv',\n",
       " 'oecd_cli_can.csv',\n",
       " 'oecd_cli_chn.csv',\n",
       " 'oecd_cli_esp.csv',\n",
       " 'oecd_cli_frc.csv',\n",
       " 'oecd_cli_g20.csv',\n",
       " 'oecd_cli_g7.csv',\n",
       " 'oecd_cli_ger.csv',\n",
       " 'oecd_cli_idn.csv',\n",
       " 'oecd_cli_ind.csv',\n",
       " 'oecd_cli_ita.csv',\n",
       " 'oecd_cli_jap.csv',\n",
       " 'oecd_cli_kor.csv',\n",
       " 'oecd_cli_mex.csv',\n",
       " 'oecd_cli_nafta.csv',\n",
       " 'oecd_cli_tur.csv',\n",
       " 'oecd_cli_uk.csv',\n",
       " 'oecd_cli_usa.csv',\n",
       " 'yield_spread.csv']"
      ]
     },
     "execution_count": 51,
     "metadata": {},
     "output_type": "execute_result"
    }
   ],
   "source": [
    "os.listdir(dir+'/data')"
   ]
  },
  {
   "cell_type": "code",
   "execution_count": 52,
   "id": "872a986d",
   "metadata": {},
   "outputs": [],
   "source": [
    "employ = pd.read_csv(dir + '/data/employ.csv')"
   ]
  },
  {
   "cell_type": "code",
   "execution_count": 54,
   "id": "f9b2c0f1",
   "metadata": {},
   "outputs": [],
   "source": [
    "employ = employ.iloc[1:]"
   ]
  },
  {
   "cell_type": "code",
   "execution_count": 56,
   "id": "4b23b85e",
   "metadata": {},
   "outputs": [],
   "source": [
    "#시점: date, 계: employ\n",
    "employ.columns = ['date', 'employ']"
   ]
  },
  {
   "cell_type": "code",
   "execution_count": 58,
   "id": "cbc5bc83",
   "metadata": {},
   "outputs": [],
   "source": [
    "employ.set_index('date', inplace=True)"
   ]
  },
  {
   "cell_type": "code",
   "execution_count": 59,
   "id": "94272f35",
   "metadata": {},
   "outputs": [
    {
     "data": {
      "text/html": [
       "<div>\n",
       "<style scoped>\n",
       "    .dataframe tbody tr th:only-of-type {\n",
       "        vertical-align: middle;\n",
       "    }\n",
       "\n",
       "    .dataframe tbody tr th {\n",
       "        vertical-align: top;\n",
       "    }\n",
       "\n",
       "    .dataframe thead th {\n",
       "        text-align: right;\n",
       "    }\n",
       "</style>\n",
       "<table border=\"1\" class=\"dataframe\">\n",
       "  <thead>\n",
       "    <tr style=\"text-align: right;\">\n",
       "      <th></th>\n",
       "      <th>employ</th>\n",
       "    </tr>\n",
       "    <tr>\n",
       "      <th>date</th>\n",
       "      <th></th>\n",
       "    </tr>\n",
       "  </thead>\n",
       "  <tbody>\n",
       "    <tr>\n",
       "      <th>1999.06</th>\n",
       "      <td>56.8</td>\n",
       "    </tr>\n",
       "    <tr>\n",
       "      <th>1999.07</th>\n",
       "      <td>56.7</td>\n",
       "    </tr>\n",
       "    <tr>\n",
       "      <th>1999.08</th>\n",
       "      <td>57.3</td>\n",
       "    </tr>\n",
       "    <tr>\n",
       "      <th>1999.09</th>\n",
       "      <td>58.0</td>\n",
       "    </tr>\n",
       "    <tr>\n",
       "      <th>1999.10</th>\n",
       "      <td>58.2</td>\n",
       "    </tr>\n",
       "    <tr>\n",
       "      <th>...</th>\n",
       "      <td>...</td>\n",
       "    </tr>\n",
       "    <tr>\n",
       "      <th>2025.03</th>\n",
       "      <td>63.0</td>\n",
       "    </tr>\n",
       "    <tr>\n",
       "      <th>2025.04</th>\n",
       "      <td>63.1</td>\n",
       "    </tr>\n",
       "    <tr>\n",
       "      <th>2025.05</th>\n",
       "      <td>62.9</td>\n",
       "    </tr>\n",
       "    <tr>\n",
       "      <th>2025.06</th>\n",
       "      <td>62.8</td>\n",
       "    </tr>\n",
       "    <tr>\n",
       "      <th>2025.07</th>\n",
       "      <td>62.8</td>\n",
       "    </tr>\n",
       "  </tbody>\n",
       "</table>\n",
       "<p>314 rows × 1 columns</p>\n",
       "</div>"
      ],
      "text/plain": [
       "        employ\n",
       "date          \n",
       "1999.06   56.8\n",
       "1999.07   56.7\n",
       "1999.08   57.3\n",
       "1999.09   58.0\n",
       "1999.10   58.2\n",
       "...        ...\n",
       "2025.03   63.0\n",
       "2025.04   63.1\n",
       "2025.05   62.9\n",
       "2025.06   62.8\n",
       "2025.07   62.8\n",
       "\n",
       "[314 rows x 1 columns]"
      ]
     },
     "execution_count": 59,
     "metadata": {},
     "output_type": "execute_result"
    }
   ],
   "source": [
    "employ"
   ]
  },
  {
   "cell_type": "code",
   "execution_count": 60,
   "id": "fb2ffb95",
   "metadata": {},
   "outputs": [
    {
     "data": {
      "text/plain": [
       "['bsi_inv.csv',\n",
       " 'commodity.csv',\n",
       " 'durable.csv',\n",
       " 'employ.csv',\n",
       " 'export.csv',\n",
       " 'ipi.csv',\n",
       " 'manu_spread.csv',\n",
       " 'oecd_cli_aus.csv',\n",
       " 'oecd_cli_bra.csv',\n",
       " 'oecd_cli_can.csv',\n",
       " 'oecd_cli_chn.csv',\n",
       " 'oecd_cli_esp.csv',\n",
       " 'oecd_cli_frc.csv',\n",
       " 'oecd_cli_g20.csv',\n",
       " 'oecd_cli_g7.csv',\n",
       " 'oecd_cli_ger.csv',\n",
       " 'oecd_cli_idn.csv',\n",
       " 'oecd_cli_ind.csv',\n",
       " 'oecd_cli_ita.csv',\n",
       " 'oecd_cli_jap.csv',\n",
       " 'oecd_cli_kor.csv',\n",
       " 'oecd_cli_mex.csv',\n",
       " 'oecd_cli_nafta.csv',\n",
       " 'oecd_cli_tur.csv',\n",
       " 'oecd_cli_uk.csv',\n",
       " 'oecd_cli_usa.csv',\n",
       " 'yield_spread.csv']"
      ]
     },
     "execution_count": 60,
     "metadata": {},
     "output_type": "execute_result"
    }
   ],
   "source": [
    "os.listdir(dir+'/data')"
   ]
  },
  {
   "cell_type": "code",
   "execution_count": 62,
   "id": "19619a85",
   "metadata": {},
   "outputs": [],
   "source": [
    "ipi = pd.read_csv(dir+'/data/ipi.csv', encoding='CP949')"
   ]
  },
  {
   "cell_type": "code",
   "execution_count": 64,
   "id": "b6ecee1f",
   "metadata": {},
   "outputs": [
    {
     "name": "stderr",
     "output_type": "stream",
     "text": [
      "C:\\Users\\tmdal\\AppData\\Local\\Temp\\ipykernel_24572\\3607048812.py:1: FutureWarning: ChainedAssignmentError: behaviour will change in pandas 3.0!\n",
      "You are setting values through chained assignment. Currently this works in certain cases, but when using Copy-on-Write (which will become the default behaviour in pandas 3.0) this will never work to update the original DataFrame or Series, because the intermediate object on which we are setting values will behave as a copy.\n",
      "A typical example is when you are setting values in a column of a DataFrame, like:\n",
      "\n",
      "df[\"col\"][row_indexer] = value\n",
      "\n",
      "Use `df.loc[row_indexer, \"col\"] = values` instead, to perform the assignment in a single step and ensure this keeps updating the original `df`.\n",
      "\n",
      "See the caveats in the documentation: https://pandas.pydata.org/pandas-docs/stable/user_guide/indexing.html#returning-a-view-versus-a-copy\n",
      "\n",
      "  ipi['시점'].iloc[-2:] = ['2025.05', '2025.06']\n",
      "C:\\Users\\tmdal\\AppData\\Local\\Temp\\ipykernel_24572\\3607048812.py:1: SettingWithCopyWarning: \n",
      "A value is trying to be set on a copy of a slice from a DataFrame\n",
      "\n",
      "See the caveats in the documentation: https://pandas.pydata.org/pandas-docs/stable/user_guide/indexing.html#returning-a-view-versus-a-copy\n",
      "  ipi['시점'].iloc[-2:] = ['2025.05', '2025.06']\n"
     ]
    }
   ],
   "source": [
    "ipi['시점'].iloc[-2:] = ['2025.05', '2025.06']"
   ]
  },
  {
   "cell_type": "code",
   "execution_count": 66,
   "id": "c8e01935",
   "metadata": {},
   "outputs": [],
   "source": [
    "# 시점: date, 전산업생산지수: ipi\n",
    "ipi.columns = ['date', 'ipi']\n",
    "ipi.set_index('date', inplace=True)"
   ]
  },
  {
   "cell_type": "code",
   "execution_count": 67,
   "id": "093b7ae6",
   "metadata": {},
   "outputs": [
    {
     "data": {
      "text/html": [
       "<div>\n",
       "<style scoped>\n",
       "    .dataframe tbody tr th:only-of-type {\n",
       "        vertical-align: middle;\n",
       "    }\n",
       "\n",
       "    .dataframe tbody tr th {\n",
       "        vertical-align: top;\n",
       "    }\n",
       "\n",
       "    .dataframe thead th {\n",
       "        text-align: right;\n",
       "    }\n",
       "</style>\n",
       "<table border=\"1\" class=\"dataframe\">\n",
       "  <thead>\n",
       "    <tr style=\"text-align: right;\">\n",
       "      <th></th>\n",
       "      <th>ipi</th>\n",
       "    </tr>\n",
       "    <tr>\n",
       "      <th>date</th>\n",
       "      <th></th>\n",
       "    </tr>\n",
       "  </thead>\n",
       "  <tbody>\n",
       "    <tr>\n",
       "      <th>2000.01</th>\n",
       "      <td>52.5</td>\n",
       "    </tr>\n",
       "    <tr>\n",
       "      <th>2000.02</th>\n",
       "      <td>52.6</td>\n",
       "    </tr>\n",
       "    <tr>\n",
       "      <th>2000.03</th>\n",
       "      <td>53.6</td>\n",
       "    </tr>\n",
       "    <tr>\n",
       "      <th>2000.04</th>\n",
       "      <td>53.4</td>\n",
       "    </tr>\n",
       "    <tr>\n",
       "      <th>2000.05</th>\n",
       "      <td>54.9</td>\n",
       "    </tr>\n",
       "    <tr>\n",
       "      <th>...</th>\n",
       "      <td>...</td>\n",
       "    </tr>\n",
       "    <tr>\n",
       "      <th>2025.02</th>\n",
       "      <td>113.4</td>\n",
       "    </tr>\n",
       "    <tr>\n",
       "      <th>2025.03</th>\n",
       "      <td>114.6</td>\n",
       "    </tr>\n",
       "    <tr>\n",
       "      <th>2025.04</th>\n",
       "      <td>113.8</td>\n",
       "    </tr>\n",
       "    <tr>\n",
       "      <th>2025.05</th>\n",
       "      <td>112.5</td>\n",
       "    </tr>\n",
       "    <tr>\n",
       "      <th>2025.06</th>\n",
       "      <td>113.8</td>\n",
       "    </tr>\n",
       "  </tbody>\n",
       "</table>\n",
       "<p>306 rows × 1 columns</p>\n",
       "</div>"
      ],
      "text/plain": [
       "           ipi\n",
       "date          \n",
       "2000.01   52.5\n",
       "2000.02   52.6\n",
       "2000.03   53.6\n",
       "2000.04   53.4\n",
       "2000.05   54.9\n",
       "...        ...\n",
       "2025.02  113.4\n",
       "2025.03  114.6\n",
       "2025.04  113.8\n",
       "2025.05  112.5\n",
       "2025.06  113.8\n",
       "\n",
       "[306 rows x 1 columns]"
      ]
     },
     "execution_count": 67,
     "metadata": {},
     "output_type": "execute_result"
    }
   ],
   "source": [
    "ipi"
   ]
  },
  {
   "cell_type": "code",
   "execution_count": 68,
   "id": "5bc49126",
   "metadata": {},
   "outputs": [
    {
     "data": {
      "text/plain": [
       "['bsi_inv.csv',\n",
       " 'commodity.csv',\n",
       " 'durable.csv',\n",
       " 'employ.csv',\n",
       " 'export.csv',\n",
       " 'ipi.csv',\n",
       " 'manu_spread.csv',\n",
       " 'oecd_cli_aus.csv',\n",
       " 'oecd_cli_bra.csv',\n",
       " 'oecd_cli_can.csv',\n",
       " 'oecd_cli_chn.csv',\n",
       " 'oecd_cli_esp.csv',\n",
       " 'oecd_cli_frc.csv',\n",
       " 'oecd_cli_g20.csv',\n",
       " 'oecd_cli_g7.csv',\n",
       " 'oecd_cli_ger.csv',\n",
       " 'oecd_cli_idn.csv',\n",
       " 'oecd_cli_ind.csv',\n",
       " 'oecd_cli_ita.csv',\n",
       " 'oecd_cli_jap.csv',\n",
       " 'oecd_cli_kor.csv',\n",
       " 'oecd_cli_mex.csv',\n",
       " 'oecd_cli_nafta.csv',\n",
       " 'oecd_cli_tur.csv',\n",
       " 'oecd_cli_uk.csv',\n",
       " 'oecd_cli_usa.csv',\n",
       " 'yield_spread.csv']"
      ]
     },
     "execution_count": 68,
     "metadata": {},
     "output_type": "execute_result"
    }
   ],
   "source": [
    "os.listdir(dir + '/data')"
   ]
  },
  {
   "cell_type": "code",
   "execution_count": 70,
   "id": "f5e5f6ed",
   "metadata": {},
   "outputs": [],
   "source": [
    "manu_spd = pd.read_csv(dir + '/data/manu_spread.csv')"
   ]
  },
  {
   "cell_type": "code",
   "execution_count": 72,
   "id": "f93ca36d",
   "metadata": {},
   "outputs": [
    {
     "data": {
      "text/html": [
       "<div>\n",
       "<style scoped>\n",
       "    .dataframe tbody tr th:only-of-type {\n",
       "        vertical-align: middle;\n",
       "    }\n",
       "\n",
       "    .dataframe tbody tr th {\n",
       "        vertical-align: top;\n",
       "    }\n",
       "\n",
       "    .dataframe thead th {\n",
       "        text-align: right;\n",
       "    }\n",
       "</style>\n",
       "<table border=\"1\" class=\"dataframe\">\n",
       "  <thead>\n",
       "    <tr style=\"text-align: right;\">\n",
       "      <th></th>\n",
       "      <th>시점</th>\n",
       "      <th>전국</th>\n",
       "      <th>전국.1</th>\n",
       "    </tr>\n",
       "  </thead>\n",
       "  <tbody>\n",
       "    <tr>\n",
       "      <th>0</th>\n",
       "      <td>시점</td>\n",
       "      <td>제조업</td>\n",
       "      <td>제조업</td>\n",
       "    </tr>\n",
       "    <tr>\n",
       "      <th>1</th>\n",
       "      <td>시점</td>\n",
       "      <td>생산자제품 출하지수(계절조정)</td>\n",
       "      <td>생산자제품 재고지수(계절조정)</td>\n",
       "    </tr>\n",
       "    <tr>\n",
       "      <th>2</th>\n",
       "      <td>1975.01</td>\n",
       "      <td>-</td>\n",
       "      <td>-</td>\n",
       "    </tr>\n",
       "    <tr>\n",
       "      <th>3</th>\n",
       "      <td>1975.02</td>\n",
       "      <td>-</td>\n",
       "      <td>-</td>\n",
       "    </tr>\n",
       "    <tr>\n",
       "      <th>4</th>\n",
       "      <td>1975.03</td>\n",
       "      <td>-</td>\n",
       "      <td>-</td>\n",
       "    </tr>\n",
       "    <tr>\n",
       "      <th>...</th>\n",
       "      <td>...</td>\n",
       "      <td>...</td>\n",
       "      <td>...</td>\n",
       "    </tr>\n",
       "    <tr>\n",
       "      <th>603</th>\n",
       "      <td>2025.02</td>\n",
       "      <td>99.9</td>\n",
       "      <td>106.6</td>\n",
       "    </tr>\n",
       "    <tr>\n",
       "      <th>604</th>\n",
       "      <td>2025.03</td>\n",
       "      <td>100.9</td>\n",
       "      <td>104.1</td>\n",
       "    </tr>\n",
       "    <tr>\n",
       "      <th>605</th>\n",
       "      <td>2025.04</td>\n",
       "      <td>101.8</td>\n",
       "      <td>104.0</td>\n",
       "    </tr>\n",
       "    <tr>\n",
       "      <th>606</th>\n",
       "      <td>2025.05 p)</td>\n",
       "      <td>99.8</td>\n",
       "      <td>104.0</td>\n",
       "    </tr>\n",
       "    <tr>\n",
       "      <th>607</th>\n",
       "      <td>2025.06 p)</td>\n",
       "      <td>101.6</td>\n",
       "      <td>104.2</td>\n",
       "    </tr>\n",
       "  </tbody>\n",
       "</table>\n",
       "<p>608 rows × 3 columns</p>\n",
       "</div>"
      ],
      "text/plain": [
       "             시점                전국              전국.1\n",
       "0            시점               제조업               제조업\n",
       "1            시점  생산자제품 출하지수(계절조정)  생산자제품 재고지수(계절조정)\n",
       "2       1975.01                 -                 -\n",
       "3       1975.02                 -                 -\n",
       "4       1975.03                 -                 -\n",
       "..          ...               ...               ...\n",
       "603     2025.02              99.9             106.6\n",
       "604     2025.03             100.9             104.1\n",
       "605     2025.04             101.8             104.0\n",
       "606  2025.05 p)              99.8             104.0\n",
       "607  2025.06 p)             101.6             104.2\n",
       "\n",
       "[608 rows x 3 columns]"
      ]
     },
     "execution_count": 72,
     "metadata": {},
     "output_type": "execute_result"
    }
   ],
   "source": [
    "manu_spd"
   ]
  },
  {
   "cell_type": "code",
   "execution_count": 73,
   "id": "1b36debf",
   "metadata": {},
   "outputs": [],
   "source": [
    "manu_spd = manu_spd.iloc[2:]"
   ]
  },
  {
   "cell_type": "code",
   "execution_count": 75,
   "id": "86b0ed99",
   "metadata": {},
   "outputs": [],
   "source": [
    "# 시점: date / 출하지수: shipment / 재고재수: inven\n",
    "manu_spd.columns = ['date', 'shipment', 'inven']"
   ]
  },
  {
   "cell_type": "code",
   "execution_count": 79,
   "id": "360070dd",
   "metadata": {},
   "outputs": [
    {
     "name": "stderr",
     "output_type": "stream",
     "text": [
      "C:\\Users\\tmdal\\AppData\\Local\\Temp\\ipykernel_24572\\2721460796.py:1: FutureWarning: ChainedAssignmentError: behaviour will change in pandas 3.0!\n",
      "You are setting values through chained assignment. Currently this works in certain cases, but when using Copy-on-Write (which will become the default behaviour in pandas 3.0) this will never work to update the original DataFrame or Series, because the intermediate object on which we are setting values will behave as a copy.\n",
      "A typical example is when you are setting values in a column of a DataFrame, like:\n",
      "\n",
      "df[\"col\"][row_indexer] = value\n",
      "\n",
      "Use `df.loc[row_indexer, \"col\"] = values` instead, to perform the assignment in a single step and ensure this keeps updating the original `df`.\n",
      "\n",
      "See the caveats in the documentation: https://pandas.pydata.org/pandas-docs/stable/user_guide/indexing.html#returning-a-view-versus-a-copy\n",
      "\n",
      "  manu_spd['date'].iloc[-2:] = ['2025.05', '2025.06']\n",
      "C:\\Users\\tmdal\\AppData\\Local\\Temp\\ipykernel_24572\\2721460796.py:1: SettingWithCopyWarning: \n",
      "A value is trying to be set on a copy of a slice from a DataFrame\n",
      "\n",
      "See the caveats in the documentation: https://pandas.pydata.org/pandas-docs/stable/user_guide/indexing.html#returning-a-view-versus-a-copy\n",
      "  manu_spd['date'].iloc[-2:] = ['2025.05', '2025.06']\n"
     ]
    }
   ],
   "source": [
    "manu_spd['date'].iloc[-2:] = ['2025.05', '2025.06']"
   ]
  },
  {
   "cell_type": "code",
   "execution_count": 82,
   "id": "593ba2ae",
   "metadata": {},
   "outputs": [],
   "source": [
    "manu_spd.set_index('date', inplace=True)"
   ]
  },
  {
   "cell_type": "code",
   "execution_count": 83,
   "id": "91637b4c",
   "metadata": {},
   "outputs": [
    {
     "data": {
      "text/html": [
       "<div>\n",
       "<style scoped>\n",
       "    .dataframe tbody tr th:only-of-type {\n",
       "        vertical-align: middle;\n",
       "    }\n",
       "\n",
       "    .dataframe tbody tr th {\n",
       "        vertical-align: top;\n",
       "    }\n",
       "\n",
       "    .dataframe thead th {\n",
       "        text-align: right;\n",
       "    }\n",
       "</style>\n",
       "<table border=\"1\" class=\"dataframe\">\n",
       "  <thead>\n",
       "    <tr style=\"text-align: right;\">\n",
       "      <th></th>\n",
       "      <th>shipment</th>\n",
       "      <th>inven</th>\n",
       "    </tr>\n",
       "    <tr>\n",
       "      <th>date</th>\n",
       "      <th></th>\n",
       "      <th></th>\n",
       "    </tr>\n",
       "  </thead>\n",
       "  <tbody>\n",
       "    <tr>\n",
       "      <th>1975.01</th>\n",
       "      <td>-</td>\n",
       "      <td>-</td>\n",
       "    </tr>\n",
       "    <tr>\n",
       "      <th>1975.02</th>\n",
       "      <td>-</td>\n",
       "      <td>-</td>\n",
       "    </tr>\n",
       "    <tr>\n",
       "      <th>1975.03</th>\n",
       "      <td>-</td>\n",
       "      <td>-</td>\n",
       "    </tr>\n",
       "    <tr>\n",
       "      <th>1975.04</th>\n",
       "      <td>-</td>\n",
       "      <td>-</td>\n",
       "    </tr>\n",
       "    <tr>\n",
       "      <th>1975.05</th>\n",
       "      <td>-</td>\n",
       "      <td>-</td>\n",
       "    </tr>\n",
       "    <tr>\n",
       "      <th>...</th>\n",
       "      <td>...</td>\n",
       "      <td>...</td>\n",
       "    </tr>\n",
       "    <tr>\n",
       "      <th>2025.02</th>\n",
       "      <td>99.9</td>\n",
       "      <td>106.6</td>\n",
       "    </tr>\n",
       "    <tr>\n",
       "      <th>2025.03</th>\n",
       "      <td>100.9</td>\n",
       "      <td>104.1</td>\n",
       "    </tr>\n",
       "    <tr>\n",
       "      <th>2025.04</th>\n",
       "      <td>101.8</td>\n",
       "      <td>104.0</td>\n",
       "    </tr>\n",
       "    <tr>\n",
       "      <th>2025.05</th>\n",
       "      <td>99.8</td>\n",
       "      <td>104.0</td>\n",
       "    </tr>\n",
       "    <tr>\n",
       "      <th>2025.06</th>\n",
       "      <td>101.6</td>\n",
       "      <td>104.2</td>\n",
       "    </tr>\n",
       "  </tbody>\n",
       "</table>\n",
       "<p>606 rows × 2 columns</p>\n",
       "</div>"
      ],
      "text/plain": [
       "        shipment  inven\n",
       "date                   \n",
       "1975.01        -      -\n",
       "1975.02        -      -\n",
       "1975.03        -      -\n",
       "1975.04        -      -\n",
       "1975.05        -      -\n",
       "...          ...    ...\n",
       "2025.02     99.9  106.6\n",
       "2025.03    100.9  104.1\n",
       "2025.04    101.8  104.0\n",
       "2025.05     99.8  104.0\n",
       "2025.06    101.6  104.2\n",
       "\n",
       "[606 rows x 2 columns]"
      ]
     },
     "execution_count": 83,
     "metadata": {},
     "output_type": "execute_result"
    }
   ],
   "source": [
    "manu_spd"
   ]
  },
  {
   "cell_type": "code",
   "execution_count": 84,
   "id": "4baaad48",
   "metadata": {},
   "outputs": [
    {
     "data": {
      "text/plain": [
       "['bsi_inv.csv',\n",
       " 'commodity.csv',\n",
       " 'durable.csv',\n",
       " 'employ.csv',\n",
       " 'export.csv',\n",
       " 'ipi.csv',\n",
       " 'manu_spread.csv',\n",
       " 'oecd_cli_aus.csv',\n",
       " 'oecd_cli_bra.csv',\n",
       " 'oecd_cli_can.csv',\n",
       " 'oecd_cli_chn.csv',\n",
       " 'oecd_cli_esp.csv',\n",
       " 'oecd_cli_frc.csv',\n",
       " 'oecd_cli_g20.csv',\n",
       " 'oecd_cli_g7.csv',\n",
       " 'oecd_cli_ger.csv',\n",
       " 'oecd_cli_idn.csv',\n",
       " 'oecd_cli_ind.csv',\n",
       " 'oecd_cli_ita.csv',\n",
       " 'oecd_cli_jap.csv',\n",
       " 'oecd_cli_kor.csv',\n",
       " 'oecd_cli_mex.csv',\n",
       " 'oecd_cli_nafta.csv',\n",
       " 'oecd_cli_tur.csv',\n",
       " 'oecd_cli_uk.csv',\n",
       " 'oecd_cli_usa.csv',\n",
       " 'yield_spread.csv']"
      ]
     },
     "execution_count": 84,
     "metadata": {},
     "output_type": "execute_result"
    }
   ],
   "source": [
    "os.listdir(dir+'/data')"
   ]
  },
  {
   "cell_type": "code",
   "execution_count": 85,
   "id": "7537b6f4",
   "metadata": {},
   "outputs": [],
   "source": [
    "y_spd = pd.read_csv(dir+'/data/yield_spread.csv')"
   ]
  },
  {
   "cell_type": "code",
   "execution_count": 87,
   "id": "7f772940",
   "metadata": {},
   "outputs": [],
   "source": [
    "#변환: date, 10년물 10y, 3년물: 3y\n",
    "y_spd.columns = ['date', '3y', '10y']"
   ]
  },
  {
   "cell_type": "code",
   "execution_count": 88,
   "id": "665ad8e9",
   "metadata": {},
   "outputs": [],
   "source": [
    "y_spd.set_index('date', inplace=True)"
   ]
  },
  {
   "cell_type": "code",
   "execution_count": 89,
   "id": "d6c923a9",
   "metadata": {},
   "outputs": [
    {
     "data": {
      "text/html": [
       "<div>\n",
       "<style scoped>\n",
       "    .dataframe tbody tr th:only-of-type {\n",
       "        vertical-align: middle;\n",
       "    }\n",
       "\n",
       "    .dataframe tbody tr th {\n",
       "        vertical-align: top;\n",
       "    }\n",
       "\n",
       "    .dataframe thead th {\n",
       "        text-align: right;\n",
       "    }\n",
       "</style>\n",
       "<table border=\"1\" class=\"dataframe\">\n",
       "  <thead>\n",
       "    <tr style=\"text-align: right;\">\n",
       "      <th></th>\n",
       "      <th>3y</th>\n",
       "      <th>10y</th>\n",
       "    </tr>\n",
       "    <tr>\n",
       "      <th>date</th>\n",
       "      <th></th>\n",
       "      <th></th>\n",
       "    </tr>\n",
       "  </thead>\n",
       "  <tbody>\n",
       "    <tr>\n",
       "      <th>1987/01</th>\n",
       "      <td>NaN</td>\n",
       "      <td>NaN</td>\n",
       "    </tr>\n",
       "    <tr>\n",
       "      <th>1987/02</th>\n",
       "      <td>NaN</td>\n",
       "      <td>NaN</td>\n",
       "    </tr>\n",
       "    <tr>\n",
       "      <th>1987/03</th>\n",
       "      <td>NaN</td>\n",
       "      <td>NaN</td>\n",
       "    </tr>\n",
       "    <tr>\n",
       "      <th>1987/04</th>\n",
       "      <td>NaN</td>\n",
       "      <td>NaN</td>\n",
       "    </tr>\n",
       "    <tr>\n",
       "      <th>1987/05</th>\n",
       "      <td>NaN</td>\n",
       "      <td>NaN</td>\n",
       "    </tr>\n",
       "    <tr>\n",
       "      <th>...</th>\n",
       "      <td>...</td>\n",
       "      <td>...</td>\n",
       "    </tr>\n",
       "    <tr>\n",
       "      <th>2025/03</th>\n",
       "      <td>2.590</td>\n",
       "      <td>2.795</td>\n",
       "    </tr>\n",
       "    <tr>\n",
       "      <th>2025/04</th>\n",
       "      <td>2.395</td>\n",
       "      <td>2.658</td>\n",
       "    </tr>\n",
       "    <tr>\n",
       "      <th>2025/05</th>\n",
       "      <td>2.331</td>\n",
       "      <td>2.710</td>\n",
       "    </tr>\n",
       "    <tr>\n",
       "      <th>2025/06</th>\n",
       "      <td>2.441</td>\n",
       "      <td>2.842</td>\n",
       "    </tr>\n",
       "    <tr>\n",
       "      <th>2025/07</th>\n",
       "      <td>2.465</td>\n",
       "      <td>2.840</td>\n",
       "    </tr>\n",
       "  </tbody>\n",
       "</table>\n",
       "<p>463 rows × 2 columns</p>\n",
       "</div>"
      ],
      "text/plain": [
       "            3y    10y\n",
       "date                 \n",
       "1987/01    NaN    NaN\n",
       "1987/02    NaN    NaN\n",
       "1987/03    NaN    NaN\n",
       "1987/04    NaN    NaN\n",
       "1987/05    NaN    NaN\n",
       "...        ...    ...\n",
       "2025/03  2.590  2.795\n",
       "2025/04  2.395  2.658\n",
       "2025/05  2.331  2.710\n",
       "2025/06  2.441  2.842\n",
       "2025/07  2.465  2.840\n",
       "\n",
       "[463 rows x 2 columns]"
      ]
     },
     "execution_count": 89,
     "metadata": {},
     "output_type": "execute_result"
    }
   ],
   "source": [
    "y_spd"
   ]
  },
  {
   "cell_type": "code",
   "execution_count": 92,
   "id": "ed82a021",
   "metadata": {},
   "outputs": [
    {
     "data": {
      "text/plain": [
       "Index(['1987/01', '1987/02', '1987/03', '1987/04', '1987/05', '1987/06',\n",
       "       '1987/07', '1987/08', '1987/09', '1987/10',\n",
       "       ...\n",
       "       '2024/10', '2024/11', '2024/12', '2025/01', '2025/02', '2025/03',\n",
       "       '2025/04', '2025/05', '2025/06', '2025/07'],\n",
       "      dtype='object', name='date', length=463)"
      ]
     },
     "execution_count": 92,
     "metadata": {},
     "output_type": "execute_result"
    }
   ],
   "source": [
    "y_spd.index"
   ]
  },
  {
   "cell_type": "code",
   "execution_count": 95,
   "id": "9b7b3dbe",
   "metadata": {},
   "outputs": [
    {
     "name": "stderr",
     "output_type": "stream",
     "text": [
      "C:\\Users\\tmdal\\AppData\\Local\\Temp\\ipykernel_24572\\2291454449.py:1: UserWarning: Could not infer format, so each element will be parsed individually, falling back to `dateutil`. To ensure parsing is consistent and as-expected, please specify a format.\n",
      "  y_spd.index = pd.to_datetime(y_spd.index)\n"
     ]
    }
   ],
   "source": [
    "y_spd.index = pd.to_datetime(y_spd.index)"
   ]
  },
  {
   "cell_type": "code",
   "execution_count": 96,
   "id": "c86e44f7",
   "metadata": {},
   "outputs": [
    {
     "name": "stderr",
     "output_type": "stream",
     "text": [
      "C:\\Users\\tmdal\\AppData\\Local\\Temp\\ipykernel_24572\\157257416.py:1: UserWarning: Could not infer format, so each element will be parsed individually, falling back to `dateutil`. To ensure parsing is consistent and as-expected, please specify a format.\n",
      "  manu_spd.index = pd.to_datetime(manu_spd.index)\n"
     ]
    }
   ],
   "source": [
    "manu_spd.index = pd.to_datetime(manu_spd.index)"
   ]
  },
  {
   "cell_type": "code",
   "execution_count": 97,
   "id": "bec3a887",
   "metadata": {},
   "outputs": [
    {
     "name": "stderr",
     "output_type": "stream",
     "text": [
      "C:\\Users\\tmdal\\AppData\\Local\\Temp\\ipykernel_24572\\1755448571.py:1: UserWarning: Could not infer format, so each element will be parsed individually, falling back to `dateutil`. To ensure parsing is consistent and as-expected, please specify a format.\n",
      "  ipi.index = pd.to_datetime(ipi.index)\n"
     ]
    }
   ],
   "source": [
    "ipi.index = pd.to_datetime(ipi.index)"
   ]
  },
  {
   "cell_type": "code",
   "execution_count": 98,
   "id": "2e072f08",
   "metadata": {},
   "outputs": [
    {
     "name": "stderr",
     "output_type": "stream",
     "text": [
      "C:\\Users\\tmdal\\AppData\\Local\\Temp\\ipykernel_24572\\1152427311.py:1: UserWarning: Could not infer format, so each element will be parsed individually, falling back to `dateutil`. To ensure parsing is consistent and as-expected, please specify a format.\n",
      "  employ.index = pd.to_datetime(employ.index)\n"
     ]
    }
   ],
   "source": [
    "employ.index = pd.to_datetime(employ.index)"
   ]
  },
  {
   "cell_type": "code",
   "execution_count": 99,
   "id": "2c8adb17",
   "metadata": {},
   "outputs": [
    {
     "name": "stderr",
     "output_type": "stream",
     "text": [
      "C:\\Users\\tmdal\\AppData\\Local\\Temp\\ipykernel_24572\\1811867070.py:1: UserWarning: Could not infer format, so each element will be parsed individually, falling back to `dateutil`. To ensure parsing is consistent and as-expected, please specify a format.\n",
      "  dur.index = pd.to_datetime(dur.index)\n"
     ]
    }
   ],
   "source": [
    "dur.index = pd.to_datetime(dur.index)"
   ]
  },
  {
   "cell_type": "code",
   "execution_count": 100,
   "id": "60f66ce6",
   "metadata": {},
   "outputs": [
    {
     "name": "stderr",
     "output_type": "stream",
     "text": [
      "C:\\Users\\tmdal\\AppData\\Local\\Temp\\ipykernel_24572\\1195058923.py:1: UserWarning: Could not infer format, so each element will be parsed individually, falling back to `dateutil`. To ensure parsing is consistent and as-expected, please specify a format.\n",
      "  comm.index = pd.to_datetime(comm.index)\n"
     ]
    }
   ],
   "source": [
    "comm.index = pd.to_datetime(comm.index)"
   ]
  },
  {
   "cell_type": "code",
   "execution_count": 101,
   "id": "34231483",
   "metadata": {},
   "outputs": [
    {
     "name": "stderr",
     "output_type": "stream",
     "text": [
      "C:\\Users\\tmdal\\AppData\\Local\\Temp\\ipykernel_24572\\761656239.py:1: UserWarning: Could not infer format, so each element will be parsed individually, falling back to `dateutil`. To ensure parsing is consistent and as-expected, please specify a format.\n",
      "  bsi_inv.index = pd.to_datetime(bsi_inv.index)\n"
     ]
    }
   ],
   "source": [
    "bsi_inv.index = pd.to_datetime(bsi_inv.index)"
   ]
  },
  {
   "cell_type": "code",
   "execution_count": 121,
   "id": "db44ddff",
   "metadata": {},
   "outputs": [
    {
     "name": "stdout",
     "output_type": "stream",
     "text": [
      "DatetimeIndex(['1990-01-01', '1990-02-01', '1990-03-01', '1990-04-01',\n",
      "               '1990-05-01', '1990-06-01', '1990-07-01', '1990-08-01',\n",
      "               '1990-09-01', '1990-10-01',\n",
      "               ...\n",
      "               '2024-09-01', '2024-10-01', '2024-11-01', '2024-12-01',\n",
      "               '2025-01-01', '2025-02-01', '2025-03-01', '2025-04-01',\n",
      "               '2025-05-01', '2025-06-01'],\n",
      "              dtype='datetime64[ns]', name='date', length=426, freq=None)\n",
      "DatetimeIndex(['1995-01-01', '1995-02-01', '1995-03-01', '1995-04-01',\n",
      "               '1995-05-01', '1995-06-01', '1995-07-01', '1995-08-01',\n",
      "               '1995-09-01', '1995-10-01',\n",
      "               ...\n",
      "               '2024-09-01', '2024-10-01', '2024-11-01', '2024-12-01',\n",
      "               '2025-01-01', '2025-02-01', '2025-03-01', '2025-04-01',\n",
      "               '2025-05-01', '2025-06-01'],\n",
      "              dtype='datetime64[ns]', name='date', length=366, freq=None)\n",
      "DatetimeIndex(['1999-06-01', '1999-07-01', '1999-08-01', '1999-09-01',\n",
      "               '1999-10-01', '1999-11-01', '1999-12-01', '2000-01-01',\n",
      "               '2000-02-01', '2000-03-01',\n",
      "               ...\n",
      "               '2024-10-01', '2024-11-01', '2024-12-01', '2025-01-01',\n",
      "               '2025-02-01', '2025-03-01', '2025-04-01', '2025-05-01',\n",
      "               '2025-06-01', '2025-07-01'],\n",
      "              dtype='datetime64[ns]', name='date', length=314, freq=None)\n",
      "DatetimeIndex(['2000-01-01', '2000-02-01', '2000-03-01', '2000-04-01',\n",
      "               '2000-05-01', '2000-06-01', '2000-07-01', '2000-08-01',\n",
      "               '2000-09-01', '2000-10-01',\n",
      "               ...\n",
      "               '2024-09-01', '2024-10-01', '2024-11-01', '2024-12-01',\n",
      "               '2025-01-01', '2025-02-01', '2025-03-01', '2025-04-01',\n",
      "               '2025-05-01', '2025-06-01'],\n",
      "              dtype='datetime64[ns]', name='date', length=306, freq=None)\n",
      "DatetimeIndex(['1987-01-01', '1987-02-01', '1987-03-01', '1987-04-01',\n",
      "               '1987-05-01', '1987-06-01', '1987-07-01', '1987-08-01',\n",
      "               '1987-09-01', '1987-10-01',\n",
      "               ...\n",
      "               '2024-10-01', '2024-11-01', '2024-12-01', '2025-01-01',\n",
      "               '2025-02-01', '2025-03-01', '2025-04-01', '2025-05-01',\n",
      "               '2025-06-01', '2025-07-01'],\n",
      "              dtype='datetime64[ns]', name='date', length=463, freq=None)\n",
      "DatetimeIndex(['1975-01-01', '1975-02-01', '1975-03-01', '1975-04-01',\n",
      "               '1975-05-01', '1975-06-01', '1975-07-01', '1975-08-01',\n",
      "               '1975-09-01', '1975-10-01',\n",
      "               ...\n",
      "               '2024-09-01', '2024-10-01', '2024-11-01', '2024-12-01',\n",
      "               '2025-01-01', '2025-02-01', '2025-03-01', '2025-04-01',\n",
      "               '2025-05-01', '2025-06-01'],\n",
      "              dtype='datetime64[ns]', name='date', length=606, freq=None)\n"
     ]
    }
   ],
   "source": [
    "dlist = [comm, dur, employ, ipi, y_spd, manu_spd]\n",
    "temp = bsi_inv\n",
    "for a in dlist:\n",
    "    print(a.index)"
   ]
  },
  {
   "cell_type": "code",
   "execution_count": 123,
   "id": "c95434ba",
   "metadata": {},
   "outputs": [
    {
     "data": {
      "text/plain": [
       "'c:\\\\Users\\\\tmdal\\\\ls_quant1\\\\week3\\\\2025.08_LS_Quant_1\\\\week4'"
      ]
     },
     "execution_count": 123,
     "metadata": {},
     "output_type": "execute_result"
    }
   ],
   "source": [
    "os.getcwd()"
   ]
  },
  {
   "cell_type": "code",
   "execution_count": 125,
   "id": "e4579f9a",
   "metadata": {},
   "outputs": [],
   "source": [
    "temp = bsi_inv.join(y_spd, how='outer')"
   ]
  },
  {
   "cell_type": "code",
   "execution_count": 126,
   "id": "05605fb4",
   "metadata": {},
   "outputs": [],
   "source": [
    "temp = temp.join(manu_spd, how='outer')"
   ]
  },
  {
   "cell_type": "code",
   "execution_count": 135,
   "id": "8b9c6c6f",
   "metadata": {},
   "outputs": [],
   "source": [
    "temp = temp.join(comm, how='outer')"
   ]
  },
  {
   "cell_type": "code",
   "execution_count": 137,
   "id": "bbb03288",
   "metadata": {},
   "outputs": [],
   "source": [
    "temp.to_csv(dir+'/data/merged.csv')"
   ]
  }
 ],
 "metadata": {
  "kernelspec": {
   "display_name": "base",
   "language": "python",
   "name": "python3"
  },
  "language_info": {
   "codemirror_mode": {
    "name": "ipython",
    "version": 3
   },
   "file_extension": ".py",
   "mimetype": "text/x-python",
   "name": "python",
   "nbconvert_exporter": "python",
   "pygments_lexer": "ipython3",
   "version": "3.13.5"
  }
 },
 "nbformat": 4,
 "nbformat_minor": 5
}
