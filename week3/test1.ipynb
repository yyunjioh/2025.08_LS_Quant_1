{
 "cells": [
  {
   "cell_type": "code",
   "execution_count": 1,
   "id": "69174f77",
   "metadata": {},
   "outputs": [
    {
     "data": {
      "text/plain": [
       "['bsi.csv', 'cbsi.csv', 'gdp.csv', 'test1.ipynb']"
      ]
     },
     "execution_count": 1,
     "metadata": {},
     "output_type": "execute_result"
    }
   ],
   "source": [
    "from statsmodels.tsa.stattools import adfuller\n",
    "import pandas as pd\n",
    "import numpy as np\n",
    "import os \n",
    "os.listdir()"
   ]
  },
  {
   "cell_type": "code",
   "execution_count": 2,
   "id": "a7e95eb3",
   "metadata": {},
   "outputs": [
    {
     "data": {
      "text/plain": [
       "'c:\\\\Users\\\\tmdal\\\\ls_quant1\\\\week3'"
      ]
     },
     "execution_count": 2,
     "metadata": {},
     "output_type": "execute_result"
    }
   ],
   "source": [
    "os.getcwd()"
   ]
  },
  {
   "cell_type": "code",
   "execution_count": 21,
   "id": "78395d68",
   "metadata": {},
   "outputs": [],
   "source": [
    "gdp = pd.read_csv('gdp.csv')\n",
    "cbsi = pd.read_csv('cbsi.csv')\n",
    "ipi = pd.read_csv('ipi.csv')"
   ]
  },
  {
   "cell_type": "code",
   "execution_count": 26,
   "id": "d578ee61",
   "metadata": {},
   "outputs": [
    {
     "data": {
      "text/html": [
       "<div>\n",
       "<style scoped>\n",
       "    .dataframe tbody tr th:only-of-type {\n",
       "        vertical-align: middle;\n",
       "    }\n",
       "\n",
       "    .dataframe tbody tr th {\n",
       "        vertical-align: top;\n",
       "    }\n",
       "\n",
       "    .dataframe thead th {\n",
       "        text-align: right;\n",
       "    }\n",
       "</style>\n",
       "<table border=\"1\" class=\"dataframe\">\n",
       "  <thead>\n",
       "    <tr style=\"text-align: right;\">\n",
       "      <th></th>\n",
       "      <th>통계표</th>\n",
       "      <th>계정항목</th>\n",
       "      <th>구분코드</th>\n",
       "      <th>단위</th>\n",
       "      <th>변환</th>\n",
       "      <th>2000/01</th>\n",
       "      <th>2000/02</th>\n",
       "      <th>2000/03</th>\n",
       "      <th>2000/04</th>\n",
       "      <th>2000/05</th>\n",
       "      <th>...</th>\n",
       "      <th>2024/09</th>\n",
       "      <th>2024/10</th>\n",
       "      <th>2024/11</th>\n",
       "      <th>2024/12</th>\n",
       "      <th>2025/01</th>\n",
       "      <th>2025/02</th>\n",
       "      <th>2025/03</th>\n",
       "      <th>2025/04</th>\n",
       "      <th>2025/05</th>\n",
       "      <th>2025/06</th>\n",
       "    </tr>\n",
       "  </thead>\n",
       "  <tbody>\n",
       "    <tr>\n",
       "      <th>0</th>\n",
       "      <td>8.1.4. 전산업생산지수(농림어업제외)</td>\n",
       "      <td>전산업생산지수(농림어업 제외)</td>\n",
       "      <td>계절조정</td>\n",
       "      <td>2020=100</td>\n",
       "      <td>원자료</td>\n",
       "      <td>52.5</td>\n",
       "      <td>52.6</td>\n",
       "      <td>53.6</td>\n",
       "      <td>53.4</td>\n",
       "      <td>54.9</td>\n",
       "      <td>...</td>\n",
       "      <td>113.2</td>\n",
       "      <td>113.8</td>\n",
       "      <td>112.4</td>\n",
       "      <td>114.4</td>\n",
       "      <td>112.6</td>\n",
       "      <td>113.4</td>\n",
       "      <td>114.6</td>\n",
       "      <td>113.8</td>\n",
       "      <td>112.5</td>\n",
       "      <td>113.8</td>\n",
       "    </tr>\n",
       "  </tbody>\n",
       "</table>\n",
       "<p>1 rows × 311 columns</p>\n",
       "</div>"
      ],
      "text/plain": [
       "                      통계표              계정항목  구분코드        단위   변환  2000/01  \\\n",
       "0  8.1.4. 전산업생산지수(농림어업제외)  전산업생산지수(농림어업 제외)  계절조정  2020=100  원자료     52.5   \n",
       "\n",
       "   2000/02  2000/03  2000/04  2000/05  ...  2024/09  2024/10  2024/11  \\\n",
       "0     52.6     53.6     53.4     54.9  ...    113.2    113.8    112.4   \n",
       "\n",
       "   2024/12  2025/01  2025/02  2025/03  2025/04  2025/05  2025/06  \n",
       "0    114.4    112.6    113.4    114.6    113.8    112.5    113.8  \n",
       "\n",
       "[1 rows x 311 columns]"
      ]
     },
     "execution_count": 26,
     "metadata": {},
     "output_type": "execute_result"
    }
   ],
   "source": [
    "ipi.head()"
   ]
  },
  {
   "cell_type": "code",
   "execution_count": 27,
   "id": "dd08d215",
   "metadata": {},
   "outputs": [
    {
     "data": {
      "text/plain": [
       "Index(['통계표', '계정항목', '구분코드', '단위', '변환', '2000/01', '2000/02', '2000/03',\n",
       "       '2000/04', '2000/05',\n",
       "       ...\n",
       "       '2024/09', '2024/10', '2024/11', '2024/12', '2025/01', '2025/02',\n",
       "       '2025/03', '2025/04', '2025/05', '2025/06'],\n",
       "      dtype='object', length=311)"
      ]
     },
     "execution_count": 27,
     "metadata": {},
     "output_type": "execute_result"
    }
   ],
   "source": [
    "ipi.columns"
   ]
  },
  {
   "cell_type": "code",
   "execution_count": 33,
   "id": "abb10932",
   "metadata": {},
   "outputs": [
    {
     "data": {
      "text/plain": [
       "Index(['통계표', '업종코드', 'BSI코드', '단위', '변환', '2003/01', '2003/02', '2003/03',\n",
       "       '2003/04', '2003/05',\n",
       "       ...\n",
       "       '2024/11', '2024/12', '2025/01', '2025/02', '2025/03', '2025/04',\n",
       "       '2025/05', '2025/06', '2025/07', '2025/08'],\n",
       "      dtype='object', length=277)"
      ]
     },
     "execution_count": 33,
     "metadata": {},
     "output_type": "execute_result"
    }
   ],
   "source": [
    "cbsi.columns"
   ]
  },
  {
   "cell_type": "code",
   "execution_count": 28,
   "id": "886269b0",
   "metadata": {},
   "outputs": [],
   "source": [
    "# 얘네 없애기\n",
    "cols_to_drop = ['통계표', '계정항목', '구분코드', '단위', '변환']\n",
    "ipi = ipi.drop(columns=cols_to_drop)"
   ]
  },
  {
   "cell_type": "code",
   "execution_count": 34,
   "id": "48f886a8",
   "metadata": {},
   "outputs": [],
   "source": [
    "cols_to_drop = ['통계표', '업종코드', 'BSI코드', '단위', '변환']\n",
    "cbsi = cbsi.drop(columns=cols_to_drop)"
   ]
  },
  {
   "cell_type": "code",
   "execution_count": 29,
   "id": "fbcc2fab",
   "metadata": {},
   "outputs": [
    {
     "data": {
      "text/plain": [
       "Index(['2000/01', '2000/02', '2000/03', '2000/04', '2000/05', '2000/06',\n",
       "       '2000/07', '2000/08', '2000/09', '2000/10',\n",
       "       ...\n",
       "       '2024/09', '2024/10', '2024/11', '2024/12', '2025/01', '2025/02',\n",
       "       '2025/03', '2025/04', '2025/05', '2025/06'],\n",
       "      dtype='object', length=306)"
      ]
     },
     "execution_count": 29,
     "metadata": {},
     "output_type": "execute_result"
    }
   ],
   "source": [
    "ipi.columns"
   ]
  },
  {
   "cell_type": "code",
   "execution_count": 35,
   "id": "04f246b6",
   "metadata": {},
   "outputs": [
    {
     "data": {
      "text/plain": [
       "Index(['2003/01', '2003/02', '2003/03', '2003/04', '2003/05', '2003/06',\n",
       "       '2003/07', '2003/08', '2003/09', '2003/10',\n",
       "       ...\n",
       "       '2024/11', '2024/12', '2025/01', '2025/02', '2025/03', '2025/04',\n",
       "       '2025/05', '2025/06', '2025/07', '2025/08'],\n",
       "      dtype='object', length=272)"
      ]
     },
     "execution_count": 35,
     "metadata": {},
     "output_type": "execute_result"
    }
   ],
   "source": [
    "cbsi.columns"
   ]
  },
  {
   "cell_type": "code",
   "execution_count": 30,
   "id": "558bf5f7",
   "metadata": {},
   "outputs": [],
   "source": [
    "ipi = ipi.transpose()"
   ]
  },
  {
   "cell_type": "code",
   "execution_count": 36,
   "id": "7ea03b1f",
   "metadata": {},
   "outputs": [],
   "source": [
    "cbsi = cbsi.transpose()"
   ]
  },
  {
   "cell_type": "code",
   "execution_count": 40,
   "id": "ef5460f5",
   "metadata": {},
   "outputs": [
    {
     "data": {
      "text/plain": [
       "RangeIndex(start=0, stop=1, step=1)"
      ]
     },
     "execution_count": 40,
     "metadata": {},
     "output_type": "execute_result"
    }
   ],
   "source": [
    "ipi.columns"
   ]
  },
  {
   "cell_type": "code",
   "execution_count": 31,
   "id": "e50bc595",
   "metadata": {},
   "outputs": [],
   "source": [
    "ipi.dropna(inplace=True)"
   ]
  },
  {
   "cell_type": "code",
   "execution_count": 43,
   "id": "7d1ada6c",
   "metadata": {},
   "outputs": [],
   "source": [
    "ipi.columns = ['ipi']"
   ]
  },
  {
   "cell_type": "code",
   "execution_count": 46,
   "id": "eeebe845",
   "metadata": {},
   "outputs": [
    {
     "data": {
      "text/html": [
       "<div>\n",
       "<style scoped>\n",
       "    .dataframe tbody tr th:only-of-type {\n",
       "        vertical-align: middle;\n",
       "    }\n",
       "\n",
       "    .dataframe tbody tr th {\n",
       "        vertical-align: top;\n",
       "    }\n",
       "\n",
       "    .dataframe thead th {\n",
       "        text-align: right;\n",
       "    }\n",
       "</style>\n",
       "<table border=\"1\" class=\"dataframe\">\n",
       "  <thead>\n",
       "    <tr style=\"text-align: right;\">\n",
       "      <th></th>\n",
       "      <th>0</th>\n",
       "      <th>1</th>\n",
       "      <th>2</th>\n",
       "      <th>3</th>\n",
       "      <th>4</th>\n",
       "      <th>5</th>\n",
       "      <th>6</th>\n",
       "      <th>7</th>\n",
       "      <th>8</th>\n",
       "      <th>9</th>\n",
       "    </tr>\n",
       "  </thead>\n",
       "  <tbody>\n",
       "    <tr>\n",
       "      <th>2003/01</th>\n",
       "      <td>NaN</td>\n",
       "      <td>NaN</td>\n",
       "      <td>NaN</td>\n",
       "      <td>NaN</td>\n",
       "      <td>NaN</td>\n",
       "      <td>NaN</td>\n",
       "      <td>NaN</td>\n",
       "      <td>NaN</td>\n",
       "      <td>NaN</td>\n",
       "      <td>NaN</td>\n",
       "    </tr>\n",
       "    <tr>\n",
       "      <th>2003/02</th>\n",
       "      <td>103.5</td>\n",
       "      <td>104.1</td>\n",
       "      <td>103.9</td>\n",
       "      <td>106.0</td>\n",
       "      <td>105.1</td>\n",
       "      <td>100.8</td>\n",
       "      <td>102.1</td>\n",
       "      <td>105.9</td>\n",
       "      <td>103.8</td>\n",
       "      <td>99.2</td>\n",
       "    </tr>\n",
       "    <tr>\n",
       "      <th>2003/03</th>\n",
       "      <td>104.5</td>\n",
       "      <td>106.6</td>\n",
       "      <td>103.4</td>\n",
       "      <td>109.0</td>\n",
       "      <td>107.4</td>\n",
       "      <td>104.0</td>\n",
       "      <td>104.8</td>\n",
       "      <td>107.8</td>\n",
       "      <td>103.6</td>\n",
       "      <td>99.6</td>\n",
       "    </tr>\n",
       "    <tr>\n",
       "      <th>2003/04</th>\n",
       "      <td>92.1</td>\n",
       "      <td>95.7</td>\n",
       "      <td>97.3</td>\n",
       "      <td>96.7</td>\n",
       "      <td>98.0</td>\n",
       "      <td>88.0</td>\n",
       "      <td>97.7</td>\n",
       "      <td>95.6</td>\n",
       "      <td>90.1</td>\n",
       "      <td>87.3</td>\n",
       "    </tr>\n",
       "    <tr>\n",
       "      <th>2003/05</th>\n",
       "      <td>99.1</td>\n",
       "      <td>100.3</td>\n",
       "      <td>103.4</td>\n",
       "      <td>100.6</td>\n",
       "      <td>102.2</td>\n",
       "      <td>93.6</td>\n",
       "      <td>102.4</td>\n",
       "      <td>99.4</td>\n",
       "      <td>98.9</td>\n",
       "      <td>94.5</td>\n",
       "    </tr>\n",
       "    <tr>\n",
       "      <th>...</th>\n",
       "      <td>...</td>\n",
       "      <td>...</td>\n",
       "      <td>...</td>\n",
       "      <td>...</td>\n",
       "      <td>...</td>\n",
       "      <td>...</td>\n",
       "      <td>...</td>\n",
       "      <td>...</td>\n",
       "      <td>...</td>\n",
       "      <td>...</td>\n",
       "    </tr>\n",
       "    <tr>\n",
       "      <th>2025/04</th>\n",
       "      <td>85.6</td>\n",
       "      <td>89.9</td>\n",
       "      <td>94.1</td>\n",
       "      <td>85.6</td>\n",
       "      <td>91.2</td>\n",
       "      <td>86.6</td>\n",
       "      <td>94.0</td>\n",
       "      <td>88.4</td>\n",
       "      <td>82.4</td>\n",
       "      <td>86.7</td>\n",
       "    </tr>\n",
       "    <tr>\n",
       "      <th>2025/05</th>\n",
       "      <td>86.3</td>\n",
       "      <td>90.0</td>\n",
       "      <td>92.7</td>\n",
       "      <td>87.7</td>\n",
       "      <td>91.4</td>\n",
       "      <td>86.8</td>\n",
       "      <td>93.8</td>\n",
       "      <td>87.9</td>\n",
       "      <td>83.8</td>\n",
       "      <td>87.2</td>\n",
       "    </tr>\n",
       "    <tr>\n",
       "      <th>2025/06</th>\n",
       "      <td>89.5</td>\n",
       "      <td>93.1</td>\n",
       "      <td>95.0</td>\n",
       "      <td>91.0</td>\n",
       "      <td>96.0</td>\n",
       "      <td>85.1</td>\n",
       "      <td>97.9</td>\n",
       "      <td>90.5</td>\n",
       "      <td>87.1</td>\n",
       "      <td>89.0</td>\n",
       "    </tr>\n",
       "    <tr>\n",
       "      <th>2025/07</th>\n",
       "      <td>89.4</td>\n",
       "      <td>93.4</td>\n",
       "      <td>94.5</td>\n",
       "      <td>91.3</td>\n",
       "      <td>95.1</td>\n",
       "      <td>85.8</td>\n",
       "      <td>96.7</td>\n",
       "      <td>90.9</td>\n",
       "      <td>86.7</td>\n",
       "      <td>89.2</td>\n",
       "    </tr>\n",
       "    <tr>\n",
       "      <th>2025/08</th>\n",
       "      <td>88.4</td>\n",
       "      <td>91.0</td>\n",
       "      <td>93.8</td>\n",
       "      <td>87.6</td>\n",
       "      <td>92.8</td>\n",
       "      <td>84.8</td>\n",
       "      <td>96.9</td>\n",
       "      <td>87.2</td>\n",
       "      <td>86.8</td>\n",
       "      <td>88.6</td>\n",
       "    </tr>\n",
       "  </tbody>\n",
       "</table>\n",
       "<p>272 rows × 10 columns</p>\n",
       "</div>"
      ],
      "text/plain": [
       "             0      1      2      3      4      5      6      7      8     9\n",
       "2003/01    NaN    NaN    NaN    NaN    NaN    NaN    NaN    NaN    NaN   NaN\n",
       "2003/02  103.5  104.1  103.9  106.0  105.1  100.8  102.1  105.9  103.8  99.2\n",
       "2003/03  104.5  106.6  103.4  109.0  107.4  104.0  104.8  107.8  103.6  99.6\n",
       "2003/04   92.1   95.7   97.3   96.7   98.0   88.0   97.7   95.6   90.1  87.3\n",
       "2003/05   99.1  100.3  103.4  100.6  102.2   93.6  102.4   99.4   98.9  94.5\n",
       "...        ...    ...    ...    ...    ...    ...    ...    ...    ...   ...\n",
       "2025/04   85.6   89.9   94.1   85.6   91.2   86.6   94.0   88.4   82.4  86.7\n",
       "2025/05   86.3   90.0   92.7   87.7   91.4   86.8   93.8   87.9   83.8  87.2\n",
       "2025/06   89.5   93.1   95.0   91.0   96.0   85.1   97.9   90.5   87.1  89.0\n",
       "2025/07   89.4   93.4   94.5   91.3   95.1   85.8   96.7   90.9   86.7  89.2\n",
       "2025/08   88.4   91.0   93.8   87.6   92.8   84.8   96.9   87.2   86.8  88.6\n",
       "\n",
       "[272 rows x 10 columns]"
      ]
     },
     "execution_count": 46,
     "metadata": {},
     "output_type": "execute_result"
    }
   ],
   "source": [
    "cbsi"
   ]
  },
  {
   "cell_type": "code",
   "execution_count": 47,
   "id": "8e6d584b",
   "metadata": {},
   "outputs": [],
   "source": [
    "new_col = ['전산업', '제조업', '대기업', '중소기업', '중화학공업', '경공업', '수출기업', '내수기업', '비제조업', '서비스업']\n",
    "cbsi.columns = new_col\n"
   ]
  },
  {
   "cell_type": "code",
   "execution_count": 49,
   "id": "9f809c8f",
   "metadata": {},
   "outputs": [],
   "source": [
    "df = ipi.join(cbsi, how='right')"
   ]
  },
  {
   "cell_type": "code",
   "execution_count": 50,
   "id": "c1d47834",
   "metadata": {},
   "outputs": [],
   "source": [
    "df = df.dropna()"
   ]
  },
  {
   "cell_type": "code",
   "execution_count": 51,
   "id": "c8f453ad",
   "metadata": {},
   "outputs": [
    {
     "data": {
      "text/html": [
       "<div>\n",
       "<style scoped>\n",
       "    .dataframe tbody tr th:only-of-type {\n",
       "        vertical-align: middle;\n",
       "    }\n",
       "\n",
       "    .dataframe tbody tr th {\n",
       "        vertical-align: top;\n",
       "    }\n",
       "\n",
       "    .dataframe thead th {\n",
       "        text-align: right;\n",
       "    }\n",
       "</style>\n",
       "<table border=\"1\" class=\"dataframe\">\n",
       "  <thead>\n",
       "    <tr style=\"text-align: right;\">\n",
       "      <th></th>\n",
       "      <th>ipi</th>\n",
       "      <th>전산업</th>\n",
       "      <th>제조업</th>\n",
       "      <th>대기업</th>\n",
       "      <th>중소기업</th>\n",
       "      <th>중화학공업</th>\n",
       "      <th>경공업</th>\n",
       "      <th>수출기업</th>\n",
       "      <th>내수기업</th>\n",
       "      <th>비제조업</th>\n",
       "      <th>서비스업</th>\n",
       "    </tr>\n",
       "  </thead>\n",
       "  <tbody>\n",
       "    <tr>\n",
       "      <th>2003/02</th>\n",
       "      <td>61.7</td>\n",
       "      <td>103.5</td>\n",
       "      <td>104.1</td>\n",
       "      <td>103.9</td>\n",
       "      <td>106.0</td>\n",
       "      <td>105.1</td>\n",
       "      <td>100.8</td>\n",
       "      <td>102.1</td>\n",
       "      <td>105.9</td>\n",
       "      <td>103.8</td>\n",
       "      <td>99.2</td>\n",
       "    </tr>\n",
       "    <tr>\n",
       "      <th>2003/03</th>\n",
       "      <td>62.3</td>\n",
       "      <td>104.5</td>\n",
       "      <td>106.6</td>\n",
       "      <td>103.4</td>\n",
       "      <td>109.0</td>\n",
       "      <td>107.4</td>\n",
       "      <td>104.0</td>\n",
       "      <td>104.8</td>\n",
       "      <td>107.8</td>\n",
       "      <td>103.6</td>\n",
       "      <td>99.6</td>\n",
       "    </tr>\n",
       "    <tr>\n",
       "      <th>2003/04</th>\n",
       "      <td>62.4</td>\n",
       "      <td>92.1</td>\n",
       "      <td>95.7</td>\n",
       "      <td>97.3</td>\n",
       "      <td>96.7</td>\n",
       "      <td>98.0</td>\n",
       "      <td>88.0</td>\n",
       "      <td>97.7</td>\n",
       "      <td>95.6</td>\n",
       "      <td>90.1</td>\n",
       "      <td>87.3</td>\n",
       "    </tr>\n",
       "    <tr>\n",
       "      <th>2003/05</th>\n",
       "      <td>62.4</td>\n",
       "      <td>99.1</td>\n",
       "      <td>100.3</td>\n",
       "      <td>103.4</td>\n",
       "      <td>100.6</td>\n",
       "      <td>102.2</td>\n",
       "      <td>93.6</td>\n",
       "      <td>102.4</td>\n",
       "      <td>99.4</td>\n",
       "      <td>98.9</td>\n",
       "      <td>94.5</td>\n",
       "    </tr>\n",
       "    <tr>\n",
       "      <th>2003/06</th>\n",
       "      <td>63.3</td>\n",
       "      <td>96.6</td>\n",
       "      <td>97.4</td>\n",
       "      <td>96.3</td>\n",
       "      <td>99.2</td>\n",
       "      <td>98.2</td>\n",
       "      <td>94.3</td>\n",
       "      <td>96.2</td>\n",
       "      <td>98.1</td>\n",
       "      <td>96.8</td>\n",
       "      <td>92.5</td>\n",
       "    </tr>\n",
       "    <tr>\n",
       "      <th>...</th>\n",
       "      <td>...</td>\n",
       "      <td>...</td>\n",
       "      <td>...</td>\n",
       "      <td>...</td>\n",
       "      <td>...</td>\n",
       "      <td>...</td>\n",
       "      <td>...</td>\n",
       "      <td>...</td>\n",
       "      <td>...</td>\n",
       "      <td>...</td>\n",
       "      <td>...</td>\n",
       "    </tr>\n",
       "    <tr>\n",
       "      <th>2025/02</th>\n",
       "      <td>113.4</td>\n",
       "      <td>85.4</td>\n",
       "      <td>89.1</td>\n",
       "      <td>93.4</td>\n",
       "      <td>84.5</td>\n",
       "      <td>90.2</td>\n",
       "      <td>84.6</td>\n",
       "      <td>93.0</td>\n",
       "      <td>88.0</td>\n",
       "      <td>82.6</td>\n",
       "      <td>87.1</td>\n",
       "    </tr>\n",
       "    <tr>\n",
       "      <th>2025/03</th>\n",
       "      <td>114.6</td>\n",
       "      <td>88.0</td>\n",
       "      <td>91.1</td>\n",
       "      <td>94.5</td>\n",
       "      <td>87.6</td>\n",
       "      <td>92.2</td>\n",
       "      <td>87.6</td>\n",
       "      <td>95.3</td>\n",
       "      <td>89.7</td>\n",
       "      <td>85.8</td>\n",
       "      <td>90.5</td>\n",
       "    </tr>\n",
       "    <tr>\n",
       "      <th>2025/04</th>\n",
       "      <td>113.8</td>\n",
       "      <td>85.6</td>\n",
       "      <td>89.9</td>\n",
       "      <td>94.1</td>\n",
       "      <td>85.6</td>\n",
       "      <td>91.2</td>\n",
       "      <td>86.6</td>\n",
       "      <td>94.0</td>\n",
       "      <td>88.4</td>\n",
       "      <td>82.4</td>\n",
       "      <td>86.7</td>\n",
       "    </tr>\n",
       "    <tr>\n",
       "      <th>2025/05</th>\n",
       "      <td>112.5</td>\n",
       "      <td>86.3</td>\n",
       "      <td>90.0</td>\n",
       "      <td>92.7</td>\n",
       "      <td>87.7</td>\n",
       "      <td>91.4</td>\n",
       "      <td>86.8</td>\n",
       "      <td>93.8</td>\n",
       "      <td>87.9</td>\n",
       "      <td>83.8</td>\n",
       "      <td>87.2</td>\n",
       "    </tr>\n",
       "    <tr>\n",
       "      <th>2025/06</th>\n",
       "      <td>113.8</td>\n",
       "      <td>89.5</td>\n",
       "      <td>93.1</td>\n",
       "      <td>95.0</td>\n",
       "      <td>91.0</td>\n",
       "      <td>96.0</td>\n",
       "      <td>85.1</td>\n",
       "      <td>97.9</td>\n",
       "      <td>90.5</td>\n",
       "      <td>87.1</td>\n",
       "      <td>89.0</td>\n",
       "    </tr>\n",
       "  </tbody>\n",
       "</table>\n",
       "<p>269 rows × 11 columns</p>\n",
       "</div>"
      ],
      "text/plain": [
       "           ipi    전산업    제조업    대기업   중소기업  중화학공업    경공업   수출기업   내수기업   비제조업  \\\n",
       "2003/02   61.7  103.5  104.1  103.9  106.0  105.1  100.8  102.1  105.9  103.8   \n",
       "2003/03   62.3  104.5  106.6  103.4  109.0  107.4  104.0  104.8  107.8  103.6   \n",
       "2003/04   62.4   92.1   95.7   97.3   96.7   98.0   88.0   97.7   95.6   90.1   \n",
       "2003/05   62.4   99.1  100.3  103.4  100.6  102.2   93.6  102.4   99.4   98.9   \n",
       "2003/06   63.3   96.6   97.4   96.3   99.2   98.2   94.3   96.2   98.1   96.8   \n",
       "...        ...    ...    ...    ...    ...    ...    ...    ...    ...    ...   \n",
       "2025/02  113.4   85.4   89.1   93.4   84.5   90.2   84.6   93.0   88.0   82.6   \n",
       "2025/03  114.6   88.0   91.1   94.5   87.6   92.2   87.6   95.3   89.7   85.8   \n",
       "2025/04  113.8   85.6   89.9   94.1   85.6   91.2   86.6   94.0   88.4   82.4   \n",
       "2025/05  112.5   86.3   90.0   92.7   87.7   91.4   86.8   93.8   87.9   83.8   \n",
       "2025/06  113.8   89.5   93.1   95.0   91.0   96.0   85.1   97.9   90.5   87.1   \n",
       "\n",
       "         서비스업  \n",
       "2003/02  99.2  \n",
       "2003/03  99.6  \n",
       "2003/04  87.3  \n",
       "2003/05  94.5  \n",
       "2003/06  92.5  \n",
       "...       ...  \n",
       "2025/02  87.1  \n",
       "2025/03  90.5  \n",
       "2025/04  86.7  \n",
       "2025/05  87.2  \n",
       "2025/06  89.0  \n",
       "\n",
       "[269 rows x 11 columns]"
      ]
     },
     "execution_count": 51,
     "metadata": {},
     "output_type": "execute_result"
    }
   ],
   "source": [
    "df"
   ]
  },
  {
   "cell_type": "code",
   "execution_count": 52,
   "id": "369fc3af",
   "metadata": {},
   "outputs": [],
   "source": [
    "#adf 테스트\n",
    "def adf_test(timeseries, title):\n",
    "    \"\"\"ADF 테스트 수행 및 결과 해석\"\"\"\n",
    "    result = adfuller(timeseries, autolag='AIC')\n",
    "    \n",
    "    print(f'=== {title} ADF Test 결과 ===')\n",
    "    print(f'ADF Statistic: {result[0]:.6f}')\n",
    "    print(f'p-value: {result[1]:.6f}')\n",
    "    print(f'Critical Values:')\n",
    "    for key, value in result[4].items():\n",
    "        print(f'\\t{key}: {value:.3f}')\n",
    "    \n",
    "    if result[1] <= 0.05:\n",
    "        print(\"결과: 정상적(Stationary) - 귀무가설 기각\")\n",
    "    else:\n",
    "        print(\"결과: 비정상적(Non-stationary) - 귀무가설 채택\")\n",
    "    print()"
   ]
  },
  {
   "cell_type": "code",
   "execution_count": 53,
   "id": "2eaac000",
   "metadata": {},
   "outputs": [
    {
     "name": "stdout",
     "output_type": "stream",
     "text": [
      "=== ipi ADF Test 결과 ===\n",
      "ADF Statistic: -1.142188\n",
      "p-value: 0.697958\n",
      "Critical Values:\n",
      "\t1%: -3.456\n",
      "\t5%: -2.873\n",
      "\t10%: -2.573\n",
      "결과: 비정상적(Non-stationary) - 귀무가설 채택\n",
      "\n"
     ]
    }
   ],
   "source": [
    "adf_test(df['ipi'], 'ipi')"
   ]
  },
  {
   "cell_type": "code",
   "execution_count": 54,
   "id": "d171a92f",
   "metadata": {},
   "outputs": [],
   "source": [
    "df['ipi_2'] = df['ipi'].diff()"
   ]
  },
  {
   "cell_type": "code",
   "execution_count": 57,
   "id": "08dc72c4",
   "metadata": {},
   "outputs": [
    {
     "name": "stdout",
     "output_type": "stream",
     "text": [
      "=== ipi ADF Test 결과 ===\n",
      "ADF Statistic: -7.043191\n",
      "p-value: 0.000000\n",
      "Critical Values:\n",
      "\t1%: -3.456\n",
      "\t5%: -2.873\n",
      "\t10%: -2.573\n",
      "결과: 정상적(Stationary) - 귀무가설 기각\n",
      "\n"
     ]
    }
   ],
   "source": [
    "adf_test(df['ipi_2'].dropna(), 'ipi')"
   ]
  },
  {
   "cell_type": "code",
   "execution_count": 58,
   "id": "352ffc01",
   "metadata": {},
   "outputs": [
    {
     "name": "stdout",
     "output_type": "stream",
     "text": [
      "=== cbsi_전산업 ADF Test 결과 ===\n",
      "ADF Statistic: -3.338768\n",
      "p-value: 0.013232\n",
      "Critical Values:\n",
      "\t1%: -3.456\n",
      "\t5%: -2.873\n",
      "\t10%: -2.573\n",
      "결과: 정상적(Stationary) - 귀무가설 기각\n",
      "\n"
     ]
    }
   ],
   "source": [
    "adf_test(df['전산업'], 'cbsi_전산업')"
   ]
  },
  {
   "cell_type": "code",
   "execution_count": 73,
   "id": "f1a6fec7",
   "metadata": {},
   "outputs": [],
   "source": [
    "#R-squared랑 RMSE\n",
    "import numpy as np\n",
    "import statsmodels.api as sm\n",
    "from statsmodels.formula.api import ols\n",
    "from scipy import stats\n",
    "import matplotlib.pyplot as plt"
   ]
  },
  {
   "cell_type": "code",
   "execution_count": 74,
   "id": "5b7cab26",
   "metadata": {},
   "outputs": [],
   "source": [
    "reg1 = sm.OLS(df['ipi_2'], df['전산업'], missing='drop').fit()"
   ]
  },
  {
   "cell_type": "code",
   "execution_count": 77,
   "id": "d0dcdcce",
   "metadata": {},
   "outputs": [
    {
     "data": {
      "text/html": [
       "<table class=\"simpletable\">\n",
       "<caption>OLS Regression Results</caption>\n",
       "<tr>\n",
       "  <th>Dep. Variable:</th>          <td>ipi_2</td>      <th>  R-squared (uncentered):</th>      <td>   0.030</td>\n",
       "</tr>\n",
       "<tr>\n",
       "  <th>Model:</th>                   <td>OLS</td>       <th>  Adj. R-squared (uncentered):</th> <td>   0.027</td>\n",
       "</tr>\n",
       "<tr>\n",
       "  <th>Method:</th>             <td>Least Squares</td>  <th>  F-statistic:       </th>          <td>   8.362</td>\n",
       "</tr>\n",
       "<tr>\n",
       "  <th>Date:</th>             <td>Sat, 16 Aug 2025</td> <th>  Prob (F-statistic):</th>           <td>0.00415</td>\n",
       "</tr>\n",
       "<tr>\n",
       "  <th>Time:</th>                 <td>17:01:10</td>     <th>  Log-Likelihood:    </th>          <td> -408.93</td>\n",
       "</tr>\n",
       "<tr>\n",
       "  <th>No. Observations:</th>      <td>   268</td>      <th>  AIC:               </th>          <td>   819.9</td>\n",
       "</tr>\n",
       "<tr>\n",
       "  <th>Df Residuals:</th>          <td>   267</td>      <th>  BIC:               </th>          <td>   823.4</td>\n",
       "</tr>\n",
       "<tr>\n",
       "  <th>Df Model:</th>              <td>     1</td>      <th>                     </th>              <td> </td>   \n",
       "</tr>\n",
       "<tr>\n",
       "  <th>Covariance Type:</th>      <td>nonrobust</td>    <th>                     </th>              <td> </td>   \n",
       "</tr>\n",
       "</table>\n",
       "<table class=\"simpletable\">\n",
       "<tr>\n",
       "   <td></td>      <th>coef</th>     <th>std err</th>      <th>t</th>      <th>P>|t|</th>  <th>[0.025</th>    <th>0.975]</th>  \n",
       "</tr>\n",
       "<tr>\n",
       "  <th>전산업</th> <td>    0.0020</td> <td>    0.001</td> <td>    2.892</td> <td> 0.004</td> <td>    0.001</td> <td>    0.003</td>\n",
       "</tr>\n",
       "</table>\n",
       "<table class=\"simpletable\">\n",
       "<tr>\n",
       "  <th>Omnibus:</th>       <td> 5.298</td> <th>  Durbin-Watson:     </th> <td>   2.568</td>\n",
       "</tr>\n",
       "<tr>\n",
       "  <th>Prob(Omnibus):</th> <td> 0.071</td> <th>  Jarque-Bera (JB):  </th> <td>   6.056</td>\n",
       "</tr>\n",
       "<tr>\n",
       "  <th>Skew:</th>          <td>-0.184</td> <th>  Prob(JB):          </th> <td>  0.0484</td>\n",
       "</tr>\n",
       "<tr>\n",
       "  <th>Kurtosis:</th>      <td> 3.638</td> <th>  Cond. No.          </th> <td>    1.00</td>\n",
       "</tr>\n",
       "</table><br/><br/>Notes:<br/>[1] R² is computed without centering (uncentered) since the model does not contain a constant.<br/>[2] Standard Errors assume that the covariance matrix of the errors is correctly specified."
      ],
      "text/latex": [
       "\\begin{center}\n",
       "\\begin{tabular}{lclc}\n",
       "\\toprule\n",
       "\\textbf{Dep. Variable:}    &      ipi\\_2      & \\textbf{  R-squared (uncentered):}      &     0.030   \\\\\n",
       "\\textbf{Model:}            &       OLS        & \\textbf{  Adj. R-squared (uncentered):} &     0.027   \\\\\n",
       "\\textbf{Method:}           &  Least Squares   & \\textbf{  F-statistic:       }          &     8.362   \\\\\n",
       "\\textbf{Date:}             & Sat, 16 Aug 2025 & \\textbf{  Prob (F-statistic):}          &  0.00415    \\\\\n",
       "\\textbf{Time:}             &     17:01:10     & \\textbf{  Log-Likelihood:    }          &   -408.93   \\\\\n",
       "\\textbf{No. Observations:} &         268      & \\textbf{  AIC:               }          &     819.9   \\\\\n",
       "\\textbf{Df Residuals:}     &         267      & \\textbf{  BIC:               }          &     823.4   \\\\\n",
       "\\textbf{Df Model:}         &           1      & \\textbf{                     }          &             \\\\\n",
       "\\textbf{Covariance Type:}  &    nonrobust     & \\textbf{                     }          &             \\\\\n",
       "\\bottomrule\n",
       "\\end{tabular}\n",
       "\\begin{tabular}{lcccccc}\n",
       "             & \\textbf{coef} & \\textbf{std err} & \\textbf{t} & \\textbf{P$> |$t$|$} & \\textbf{[0.025} & \\textbf{0.975]}  \\\\\n",
       "\\midrule\n",
       "\\textbf{전산업} &       0.0020  &        0.001     &     2.892  &         0.004        &        0.001    &        0.003     \\\\\n",
       "\\bottomrule\n",
       "\\end{tabular}\n",
       "\\begin{tabular}{lclc}\n",
       "\\textbf{Omnibus:}       &  5.298 & \\textbf{  Durbin-Watson:     } &    2.568  \\\\\n",
       "\\textbf{Prob(Omnibus):} &  0.071 & \\textbf{  Jarque-Bera (JB):  } &    6.056  \\\\\n",
       "\\textbf{Skew:}          & -0.184 & \\textbf{  Prob(JB):          } &   0.0484  \\\\\n",
       "\\textbf{Kurtosis:}      &  3.638 & \\textbf{  Cond. No.          } &     1.00  \\\\\n",
       "\\bottomrule\n",
       "\\end{tabular}\n",
       "%\\caption{OLS Regression Results}\n",
       "\\end{center}\n",
       "\n",
       "Notes: \\newline\n",
       " [1] R² is computed without centering (uncentered) since the model does not contain a constant. \\newline\n",
       " [2] Standard Errors assume that the covariance matrix of the errors is correctly specified."
      ],
      "text/plain": [
       "<class 'statsmodels.iolib.summary.Summary'>\n",
       "\"\"\"\n",
       "                                 OLS Regression Results                                \n",
       "=======================================================================================\n",
       "Dep. Variable:                  ipi_2   R-squared (uncentered):                   0.030\n",
       "Model:                            OLS   Adj. R-squared (uncentered):              0.027\n",
       "Method:                 Least Squares   F-statistic:                              8.362\n",
       "Date:                Sat, 16 Aug 2025   Prob (F-statistic):                     0.00415\n",
       "Time:                        17:01:10   Log-Likelihood:                         -408.93\n",
       "No. Observations:                 268   AIC:                                      819.9\n",
       "Df Residuals:                     267   BIC:                                      823.4\n",
       "Df Model:                           1                                                  \n",
       "Covariance Type:            nonrobust                                                  \n",
       "==============================================================================\n",
       "                 coef    std err          t      P>|t|      [0.025      0.975]\n",
       "------------------------------------------------------------------------------\n",
       "전산업            0.0020      0.001      2.892      0.004       0.001       0.003\n",
       "==============================================================================\n",
       "Omnibus:                        5.298   Durbin-Watson:                   2.568\n",
       "Prob(Omnibus):                  0.071   Jarque-Bera (JB):                6.056\n",
       "Skew:                          -0.184   Prob(JB):                       0.0484\n",
       "Kurtosis:                       3.638   Cond. No.                         1.00\n",
       "==============================================================================\n",
       "\n",
       "Notes:\n",
       "[1] R² is computed without centering (uncentered) since the model does not contain a constant.\n",
       "[2] Standard Errors assume that the covariance matrix of the errors is correctly specified.\n",
       "\"\"\""
      ]
     },
     "execution_count": 77,
     "metadata": {},
     "output_type": "execute_result"
    }
   ],
   "source": [
    "reg1.summary()"
   ]
  },
  {
   "cell_type": "code",
   "execution_count": 79,
   "id": "9fc8a1aa",
   "metadata": {},
   "outputs": [],
   "source": [
    "df.to_csv('ipi_cbsi.csv') # ipi 1차차분해서 정상시계열로 변환"
   ]
  },
  {
   "cell_type": "code",
   "execution_count": 80,
   "id": "b7f208da",
   "metadata": {},
   "outputs": [
    {
     "data": {
      "text/plain": [
       "전산업    0.001969\n",
       "dtype: float64"
      ]
     },
     "execution_count": 80,
     "metadata": {},
     "output_type": "execute_result"
    }
   ],
   "source": [
    "reg1.params"
   ]
  },
  {
   "cell_type": "code",
   "execution_count": 81,
   "id": "a537d3be",
   "metadata": {},
   "outputs": [
    {
     "data": {
      "text/plain": [
       "['cbsi.csv',\n",
       " 'gdp.csv',\n",
       " 'ipi.csv',\n",
       " 'ipi_cbsi.csv',\n",
       " 'test1.ipynb',\n",
       " 'your_data.xlsx',\n",
       " '어음교환 및 부도_16175009.csv']"
      ]
     },
     "execution_count": 81,
     "metadata": {},
     "output_type": "execute_result"
    }
   ],
   "source": [
    "os.listdir()"
   ]
  },
  {
   "cell_type": "code",
   "execution_count": 82,
   "id": "544bded7",
   "metadata": {},
   "outputs": [],
   "source": [
    "oo = pd.read_csv('어음교환 및 부도_16175009.csv')"
   ]
  },
  {
   "cell_type": "code",
   "execution_count": 83,
   "id": "73b8ffb3",
   "metadata": {},
   "outputs": [
    {
     "data": {
      "text/plain": [
       "Index(['통계표', '계정항목', '단위', '변환', '1960/01', '1960/02', '1960/03', '1960/04',\n",
       "       '1960/05', '1960/06',\n",
       "       ...\n",
       "       '2024/09', '2024/10', '2024/11', '2024/12', '2025/01', '2025/02',\n",
       "       '2025/03', '2025/04', '2025/05', '2025/06'],\n",
       "      dtype='object', length=790)"
      ]
     },
     "execution_count": 83,
     "metadata": {},
     "output_type": "execute_result"
    }
   ],
   "source": [
    "oo.columns"
   ]
  },
  {
   "cell_type": "code",
   "execution_count": 84,
   "id": "a511e2c6",
   "metadata": {},
   "outputs": [],
   "source": [
    "cols_to_drop = ['통계표', '계정항목', '단위', '변환']\n",
    "oo = oo.drop(columns=cols_to_drop)"
   ]
  },
  {
   "cell_type": "code",
   "execution_count": 85,
   "id": "afaee202",
   "metadata": {},
   "outputs": [
    {
     "data": {
      "text/html": [
       "<div>\n",
       "<style scoped>\n",
       "    .dataframe tbody tr th:only-of-type {\n",
       "        vertical-align: middle;\n",
       "    }\n",
       "\n",
       "    .dataframe tbody tr th {\n",
       "        vertical-align: top;\n",
       "    }\n",
       "\n",
       "    .dataframe thead th {\n",
       "        text-align: right;\n",
       "    }\n",
       "</style>\n",
       "<table border=\"1\" class=\"dataframe\">\n",
       "  <thead>\n",
       "    <tr style=\"text-align: right;\">\n",
       "      <th></th>\n",
       "      <th>1960/01</th>\n",
       "      <th>1960/02</th>\n",
       "      <th>1960/03</th>\n",
       "      <th>1960/04</th>\n",
       "      <th>1960/05</th>\n",
       "      <th>1960/06</th>\n",
       "      <th>1960/07</th>\n",
       "      <th>1960/08</th>\n",
       "      <th>1960/09</th>\n",
       "      <th>1960/10</th>\n",
       "      <th>...</th>\n",
       "      <th>2024/09</th>\n",
       "      <th>2024/10</th>\n",
       "      <th>2024/11</th>\n",
       "      <th>2024/12</th>\n",
       "      <th>2025/01</th>\n",
       "      <th>2025/02</th>\n",
       "      <th>2025/03</th>\n",
       "      <th>2025/04</th>\n",
       "      <th>2025/05</th>\n",
       "      <th>2025/06</th>\n",
       "    </tr>\n",
       "  </thead>\n",
       "  <tbody>\n",
       "    <tr>\n",
       "      <th>0</th>\n",
       "      <td>1.38</td>\n",
       "      <td>1.23</td>\n",
       "      <td>1.19</td>\n",
       "      <td>1.81</td>\n",
       "      <td>1.77</td>\n",
       "      <td>1.67</td>\n",
       "      <td>1.68</td>\n",
       "      <td>1.41</td>\n",
       "      <td>1.25</td>\n",
       "      <td>1.85</td>\n",
       "      <td>...</td>\n",
       "      <td>0.05</td>\n",
       "      <td>0.05</td>\n",
       "      <td>0.07</td>\n",
       "      <td>0.07</td>\n",
       "      <td>0.06</td>\n",
       "      <td>0.05</td>\n",
       "      <td>0.08</td>\n",
       "      <td>0.06</td>\n",
       "      <td>0.08</td>\n",
       "      <td>0.08</td>\n",
       "    </tr>\n",
       "    <tr>\n",
       "      <th>1</th>\n",
       "      <td>0.65</td>\n",
       "      <td>0.50</td>\n",
       "      <td>0.58</td>\n",
       "      <td>0.83</td>\n",
       "      <td>0.91</td>\n",
       "      <td>0.83</td>\n",
       "      <td>0.72</td>\n",
       "      <td>0.59</td>\n",
       "      <td>0.49</td>\n",
       "      <td>0.73</td>\n",
       "      <td>...</td>\n",
       "      <td>0.21</td>\n",
       "      <td>0.22</td>\n",
       "      <td>0.34</td>\n",
       "      <td>0.19</td>\n",
       "      <td>0.06</td>\n",
       "      <td>0.04</td>\n",
       "      <td>0.19</td>\n",
       "      <td>0.23</td>\n",
       "      <td>0.40</td>\n",
       "      <td>0.24</td>\n",
       "    </tr>\n",
       "    <tr>\n",
       "      <th>2</th>\n",
       "      <td>NaN</td>\n",
       "      <td>NaN</td>\n",
       "      <td>NaN</td>\n",
       "      <td>NaN</td>\n",
       "      <td>NaN</td>\n",
       "      <td>NaN</td>\n",
       "      <td>NaN</td>\n",
       "      <td>NaN</td>\n",
       "      <td>NaN</td>\n",
       "      <td>NaN</td>\n",
       "      <td>...</td>\n",
       "      <td>0.07</td>\n",
       "      <td>0.11</td>\n",
       "      <td>0.21</td>\n",
       "      <td>0.12</td>\n",
       "      <td>0.06</td>\n",
       "      <td>0.04</td>\n",
       "      <td>0.07</td>\n",
       "      <td>0.06</td>\n",
       "      <td>0.24</td>\n",
       "      <td>0.11</td>\n",
       "    </tr>\n",
       "    <tr>\n",
       "      <th>3</th>\n",
       "      <td>NaN</td>\n",
       "      <td>NaN</td>\n",
       "      <td>NaN</td>\n",
       "      <td>NaN</td>\n",
       "      <td>NaN</td>\n",
       "      <td>NaN</td>\n",
       "      <td>NaN</td>\n",
       "      <td>NaN</td>\n",
       "      <td>NaN</td>\n",
       "      <td>NaN</td>\n",
       "      <td>...</td>\n",
       "      <td>NaN</td>\n",
       "      <td>NaN</td>\n",
       "      <td>NaN</td>\n",
       "      <td>NaN</td>\n",
       "      <td>NaN</td>\n",
       "      <td>NaN</td>\n",
       "      <td>NaN</td>\n",
       "      <td>NaN</td>\n",
       "      <td>NaN</td>\n",
       "      <td>NaN</td>\n",
       "    </tr>\n",
       "  </tbody>\n",
       "</table>\n",
       "<p>4 rows × 786 columns</p>\n",
       "</div>"
      ],
      "text/plain": [
       "   1960/01  1960/02  1960/03  1960/04  1960/05  1960/06  1960/07  1960/08  \\\n",
       "0     1.38     1.23     1.19     1.81     1.77     1.67     1.68     1.41   \n",
       "1     0.65     0.50     0.58     0.83     0.91     0.83     0.72     0.59   \n",
       "2      NaN      NaN      NaN      NaN      NaN      NaN      NaN      NaN   \n",
       "3      NaN      NaN      NaN      NaN      NaN      NaN      NaN      NaN   \n",
       "\n",
       "   1960/09  1960/10  ...  2024/09  2024/10  2024/11  2024/12  2025/01  \\\n",
       "0     1.25     1.85  ...     0.05     0.05     0.07     0.07     0.06   \n",
       "1     0.49     0.73  ...     0.21     0.22     0.34     0.19     0.06   \n",
       "2      NaN      NaN  ...     0.07     0.11     0.21     0.12     0.06   \n",
       "3      NaN      NaN  ...      NaN      NaN      NaN      NaN      NaN   \n",
       "\n",
       "   2025/02  2025/03  2025/04  2025/05  2025/06  \n",
       "0     0.05     0.08     0.06     0.08     0.08  \n",
       "1     0.04     0.19     0.23     0.40     0.24  \n",
       "2     0.04     0.07     0.06     0.24     0.11  \n",
       "3      NaN      NaN      NaN      NaN      NaN  \n",
       "\n",
       "[4 rows x 786 columns]"
      ]
     },
     "execution_count": 85,
     "metadata": {},
     "output_type": "execute_result"
    }
   ],
   "source": [
    "oo.head()"
   ]
  },
  {
   "cell_type": "code",
   "execution_count": 86,
   "id": "8ec868b1",
   "metadata": {},
   "outputs": [],
   "source": [
    "oo = oo.transpose()"
   ]
  },
  {
   "cell_type": "code",
   "execution_count": 104,
   "id": "3e6f69db",
   "metadata": {},
   "outputs": [
    {
     "data": {
      "text/plain": [
       "<Axes: >"
      ]
     },
     "execution_count": 104,
     "metadata": {},
     "output_type": "execute_result"
    },
    {
     "data": {
      "image/png": "[encoded data removed]",
      "text/plain": [
       "<Figure size 640x480 with 1 Axes>"
      ]
     },
     "metadata": {},
     "output_type": "display_data"
    }
   ],
   "source": [
    "oo[0].plot()"
   ]
  },
  {
   "cell_type": "code",
   "execution_count": 91,
   "id": "40bcdf8e",
   "metadata": {},
   "outputs": [
    {
     "data": {
      "text/plain": [
       "<Axes: >"
      ]
     },
     "execution_count": 91,
     "metadata": {},
     "output_type": "execute_result"
    },
    {
     "data": {
      "image/png": "[encoded data removed]",
      "text/plain": [
       "<Figure size 640x480 with 1 Axes>"
      ]
     },
     "metadata": {},
     "output_type": "display_data"
    }
   ],
   "source": [
    "oo[1].plot()"
   ]
  },
  {
   "cell_type": "markdown",
   "id": "01f41bed",
   "metadata": {},
   "source": [
    "### 전산업생산지수(IPI)는 GDP 의 프록시가 될 수 있을까?"
   ]
  },
  {
   "cell_type": "code",
   "execution_count": 110,
   "id": "3d9c0255",
   "metadata": {},
   "outputs": [],
   "source": [
    "gdp = pd.read_csv('gdp.csv')"
   ]
  },
  {
   "cell_type": "code",
   "execution_count": 111,
   "id": "f5806bbb",
   "metadata": {},
   "outputs": [
    {
     "data": {
      "text/plain": [
       "Index(['통계표', '계정항목', '단위', '변환', '2000/Q1', '2000/Q2', '2000/Q3', '2000/Q4',\n",
       "       '2001/Q1', '2001/Q2',\n",
       "       ...\n",
       "       '2023/Q1', '2023/Q2', '2023/Q3', '2023/Q4', '2024/Q1', '2024/Q2',\n",
       "       '2024/Q3', '2024/Q4', '2025/Q1', '2025/Q2'],\n",
       "      dtype='object', length=106)"
      ]
     },
     "execution_count": 111,
     "metadata": {},
     "output_type": "execute_result"
    }
   ],
   "source": [
    "gdp.columns"
   ]
  },
  {
   "cell_type": "code",
   "execution_count": 112,
   "id": "0cacee9c",
   "metadata": {},
   "outputs": [],
   "source": [
    "cols_to_drop = ['통계표', '계정항목', '단위', '변환']\n",
    "gdp = gdp.drop(columns=cols_to_drop)"
   ]
  },
  {
   "cell_type": "code",
   "execution_count": 113,
   "id": "ee4d3f67",
   "metadata": {},
   "outputs": [],
   "source": [
    "gdp = gdp.transpose()"
   ]
  },
  {
   "cell_type": "code",
   "execution_count": 114,
   "id": "bc46540f",
   "metadata": {},
   "outputs": [
    {
     "data": {
      "text/html": [
       "<div>\n",
       "<style scoped>\n",
       "    .dataframe tbody tr th:only-of-type {\n",
       "        vertical-align: middle;\n",
       "    }\n",
       "\n",
       "    .dataframe tbody tr th {\n",
       "        vertical-align: top;\n",
       "    }\n",
       "\n",
       "    .dataframe thead th {\n",
       "        text-align: right;\n",
       "    }\n",
       "</style>\n",
       "<table border=\"1\" class=\"dataframe\">\n",
       "  <thead>\n",
       "    <tr style=\"text-align: right;\">\n",
       "      <th></th>\n",
       "      <th>0</th>\n",
       "    </tr>\n",
       "  </thead>\n",
       "  <tbody>\n",
       "    <tr>\n",
       "      <th>2000/Q1</th>\n",
       "      <td>2.0</td>\n",
       "    </tr>\n",
       "    <tr>\n",
       "      <th>2000/Q2</th>\n",
       "      <td>1.5</td>\n",
       "    </tr>\n",
       "    <tr>\n",
       "      <th>2000/Q3</th>\n",
       "      <td>2.7</td>\n",
       "    </tr>\n",
       "    <tr>\n",
       "      <th>2000/Q4</th>\n",
       "      <td>-0.3</td>\n",
       "    </tr>\n",
       "    <tr>\n",
       "      <th>2001/Q1</th>\n",
       "      <td>1.0</td>\n",
       "    </tr>\n",
       "    <tr>\n",
       "      <th>...</th>\n",
       "      <td>...</td>\n",
       "    </tr>\n",
       "    <tr>\n",
       "      <th>2024/Q2</th>\n",
       "      <td>-0.2</td>\n",
       "    </tr>\n",
       "    <tr>\n",
       "      <th>2024/Q3</th>\n",
       "      <td>0.1</td>\n",
       "    </tr>\n",
       "    <tr>\n",
       "      <th>2024/Q4</th>\n",
       "      <td>0.1</td>\n",
       "    </tr>\n",
       "    <tr>\n",
       "      <th>2025/Q1</th>\n",
       "      <td>-0.2</td>\n",
       "    </tr>\n",
       "    <tr>\n",
       "      <th>2025/Q2</th>\n",
       "      <td>0.6</td>\n",
       "    </tr>\n",
       "  </tbody>\n",
       "</table>\n",
       "<p>102 rows × 1 columns</p>\n",
       "</div>"
      ],
      "text/plain": [
       "           0\n",
       "2000/Q1  2.0\n",
       "2000/Q2  1.5\n",
       "2000/Q3  2.7\n",
       "2000/Q4 -0.3\n",
       "2001/Q1  1.0\n",
       "...      ...\n",
       "2024/Q2 -0.2\n",
       "2024/Q3  0.1\n",
       "2024/Q4  0.1\n",
       "2025/Q1 -0.2\n",
       "2025/Q2  0.6\n",
       "\n",
       "[102 rows x 1 columns]"
      ]
     },
     "execution_count": 114,
     "metadata": {},
     "output_type": "execute_result"
    }
   ],
   "source": [
    "gdp"
   ]
  },
  {
   "cell_type": "code",
   "execution_count": 100,
   "id": "5aedb605",
   "metadata": {},
   "outputs": [
    {
     "data": {
      "text/plain": [
       "<Axes: >"
      ]
     },
     "execution_count": 100,
     "metadata": {},
     "output_type": "execute_result"
    },
    {
     "data": {
      "image/png": "[encoded data removed]",
      "text/plain": [
       "<Figure size 640x480 with 1 Axes>"
      ]
     },
     "metadata": {},
     "output_type": "display_data"
    }
   ],
   "source": [
    "gdp.plot()"
   ]
  },
  {
   "cell_type": "code",
   "execution_count": 116,
   "id": "14fdccd0",
   "metadata": {},
   "outputs": [],
   "source": [
    "gdp.columns = ['gdp']"
   ]
  },
  {
   "cell_type": "code",
   "execution_count": 105,
   "id": "32e47173",
   "metadata": {},
   "outputs": [
    {
     "data": {
      "text/plain": [
       "Index(['통계표', '계정항목', '구분코드', '단위', '변환', '2000/Q1', '2000/Q2', '2000/Q3',\n",
       "       '2000/Q4', '2001/Q1',\n",
       "       ...\n",
       "       '2023/Q1', '2023/Q2', '2023/Q3', '2023/Q4', '2024/Q1', '2024/Q2',\n",
       "       '2024/Q3', '2024/Q4', '2025/Q1', '2025/Q2'],\n",
       "      dtype='object', length=107)"
      ]
     },
     "execution_count": 105,
     "metadata": {},
     "output_type": "execute_result"
    }
   ],
   "source": [
    "ipi_q = pd.read_csv('ipi_q.csv')\n",
    "ipi_q.columns"
   ]
  },
  {
   "cell_type": "code",
   "execution_count": 106,
   "id": "dc1d9621",
   "metadata": {},
   "outputs": [],
   "source": [
    "cd = ['통계표', '계정항목', '구분코드', '단위', '변환']\n",
    "ipi_q = ipi_q.drop(columns=cd)"
   ]
  },
  {
   "cell_type": "code",
   "execution_count": 107,
   "id": "b6e91a74",
   "metadata": {},
   "outputs": [],
   "source": [
    "ipi_q = ipi_q.transpose()"
   ]
  },
  {
   "cell_type": "code",
   "execution_count": 117,
   "id": "d3dd5065",
   "metadata": {},
   "outputs": [],
   "source": [
    "g_and_i = gdp.join(ipi_q, how='right')"
   ]
  },
  {
   "cell_type": "code",
   "execution_count": 118,
   "id": "0cc55bd9",
   "metadata": {},
   "outputs": [
    {
     "data": {
      "text/html": [
       "<div>\n",
       "<style scoped>\n",
       "    .dataframe tbody tr th:only-of-type {\n",
       "        vertical-align: middle;\n",
       "    }\n",
       "\n",
       "    .dataframe tbody tr th {\n",
       "        vertical-align: top;\n",
       "    }\n",
       "\n",
       "    .dataframe thead th {\n",
       "        text-align: right;\n",
       "    }\n",
       "</style>\n",
       "<table border=\"1\" class=\"dataframe\">\n",
       "  <thead>\n",
       "    <tr style=\"text-align: right;\">\n",
       "      <th></th>\n",
       "      <th>gdp</th>\n",
       "      <th>0</th>\n",
       "    </tr>\n",
       "  </thead>\n",
       "  <tbody>\n",
       "    <tr>\n",
       "      <th>2000/Q1</th>\n",
       "      <td>2.0</td>\n",
       "      <td>52.9</td>\n",
       "    </tr>\n",
       "    <tr>\n",
       "      <th>2000/Q2</th>\n",
       "      <td>1.5</td>\n",
       "      <td>54.5</td>\n",
       "    </tr>\n",
       "    <tr>\n",
       "      <th>2000/Q3</th>\n",
       "      <td>2.7</td>\n",
       "      <td>55.3</td>\n",
       "    </tr>\n",
       "    <tr>\n",
       "      <th>2000/Q4</th>\n",
       "      <td>-0.3</td>\n",
       "      <td>54.3</td>\n",
       "    </tr>\n",
       "    <tr>\n",
       "      <th>2001/Q1</th>\n",
       "      <td>1.0</td>\n",
       "      <td>54.9</td>\n",
       "    </tr>\n",
       "    <tr>\n",
       "      <th>...</th>\n",
       "      <td>...</td>\n",
       "      <td>...</td>\n",
       "    </tr>\n",
       "    <tr>\n",
       "      <th>2024/Q2</th>\n",
       "      <td>-0.2</td>\n",
       "      <td>113.5</td>\n",
       "    </tr>\n",
       "    <tr>\n",
       "      <th>2024/Q3</th>\n",
       "      <td>0.1</td>\n",
       "      <td>113.0</td>\n",
       "    </tr>\n",
       "    <tr>\n",
       "      <th>2024/Q4</th>\n",
       "      <td>0.1</td>\n",
       "      <td>113.5</td>\n",
       "    </tr>\n",
       "    <tr>\n",
       "      <th>2025/Q1</th>\n",
       "      <td>-0.2</td>\n",
       "      <td>113.5</td>\n",
       "    </tr>\n",
       "    <tr>\n",
       "      <th>2025/Q2</th>\n",
       "      <td>0.6</td>\n",
       "      <td>113.4</td>\n",
       "    </tr>\n",
       "  </tbody>\n",
       "</table>\n",
       "<p>102 rows × 2 columns</p>\n",
       "</div>"
      ],
      "text/plain": [
       "         gdp      0\n",
       "2000/Q1  2.0   52.9\n",
       "2000/Q2  1.5   54.5\n",
       "2000/Q3  2.7   55.3\n",
       "2000/Q4 -0.3   54.3\n",
       "2001/Q1  1.0   54.9\n",
       "...      ...    ...\n",
       "2024/Q2 -0.2  113.5\n",
       "2024/Q3  0.1  113.0\n",
       "2024/Q4  0.1  113.5\n",
       "2025/Q1 -0.2  113.5\n",
       "2025/Q2  0.6  113.4\n",
       "\n",
       "[102 rows x 2 columns]"
      ]
     },
     "execution_count": 118,
     "metadata": {},
     "output_type": "execute_result"
    }
   ],
   "source": [
    "g_and_i"
   ]
  },
  {
   "cell_type": "code",
   "execution_count": 128,
   "id": "9308c399",
   "metadata": {},
   "outputs": [],
   "source": [
    "g_and_i['ipi_2'] = g_and_i[0].pct_change().mul(100)"
   ]
  },
  {
   "cell_type": "code",
   "execution_count": 129,
   "id": "62ca7423",
   "metadata": {},
   "outputs": [
    {
     "data": {
      "text/html": [
       "<div>\n",
       "<style scoped>\n",
       "    .dataframe tbody tr th:only-of-type {\n",
       "        vertical-align: middle;\n",
       "    }\n",
       "\n",
       "    .dataframe tbody tr th {\n",
       "        vertical-align: top;\n",
       "    }\n",
       "\n",
       "    .dataframe thead th {\n",
       "        text-align: right;\n",
       "    }\n",
       "</style>\n",
       "<table border=\"1\" class=\"dataframe\">\n",
       "  <thead>\n",
       "    <tr style=\"text-align: right;\">\n",
       "      <th></th>\n",
       "      <th>gdp</th>\n",
       "      <th>0</th>\n",
       "      <th>ipi_2</th>\n",
       "    </tr>\n",
       "  </thead>\n",
       "  <tbody>\n",
       "    <tr>\n",
       "      <th>2000/Q1</th>\n",
       "      <td>2.0</td>\n",
       "      <td>52.9</td>\n",
       "      <td>NaN</td>\n",
       "    </tr>\n",
       "    <tr>\n",
       "      <th>2000/Q2</th>\n",
       "      <td>1.5</td>\n",
       "      <td>54.5</td>\n",
       "      <td>3.024575</td>\n",
       "    </tr>\n",
       "    <tr>\n",
       "      <th>2000/Q3</th>\n",
       "      <td>2.7</td>\n",
       "      <td>55.3</td>\n",
       "      <td>1.467890</td>\n",
       "    </tr>\n",
       "    <tr>\n",
       "      <th>2000/Q4</th>\n",
       "      <td>-0.3</td>\n",
       "      <td>54.3</td>\n",
       "      <td>-1.808318</td>\n",
       "    </tr>\n",
       "    <tr>\n",
       "      <th>2001/Q1</th>\n",
       "      <td>1.0</td>\n",
       "      <td>54.9</td>\n",
       "      <td>1.104972</td>\n",
       "    </tr>\n",
       "    <tr>\n",
       "      <th>...</th>\n",
       "      <td>...</td>\n",
       "      <td>...</td>\n",
       "      <td>...</td>\n",
       "    </tr>\n",
       "    <tr>\n",
       "      <th>2024/Q2</th>\n",
       "      <td>-0.2</td>\n",
       "      <td>113.5</td>\n",
       "      <td>0.000000</td>\n",
       "    </tr>\n",
       "    <tr>\n",
       "      <th>2024/Q3</th>\n",
       "      <td>0.1</td>\n",
       "      <td>113.0</td>\n",
       "      <td>-0.440529</td>\n",
       "    </tr>\n",
       "    <tr>\n",
       "      <th>2024/Q4</th>\n",
       "      <td>0.1</td>\n",
       "      <td>113.5</td>\n",
       "      <td>0.442478</td>\n",
       "    </tr>\n",
       "    <tr>\n",
       "      <th>2025/Q1</th>\n",
       "      <td>-0.2</td>\n",
       "      <td>113.5</td>\n",
       "      <td>0.000000</td>\n",
       "    </tr>\n",
       "    <tr>\n",
       "      <th>2025/Q2</th>\n",
       "      <td>0.6</td>\n",
       "      <td>113.4</td>\n",
       "      <td>-0.088106</td>\n",
       "    </tr>\n",
       "  </tbody>\n",
       "</table>\n",
       "<p>102 rows × 3 columns</p>\n",
       "</div>"
      ],
      "text/plain": [
       "         gdp      0     ipi_2\n",
       "2000/Q1  2.0   52.9       NaN\n",
       "2000/Q2  1.5   54.5  3.024575\n",
       "2000/Q3  2.7   55.3  1.467890\n",
       "2000/Q4 -0.3   54.3 -1.808318\n",
       "2001/Q1  1.0   54.9  1.104972\n",
       "...      ...    ...       ...\n",
       "2024/Q2 -0.2  113.5  0.000000\n",
       "2024/Q3  0.1  113.0 -0.440529\n",
       "2024/Q4  0.1  113.5  0.442478\n",
       "2025/Q1 -0.2  113.5  0.000000\n",
       "2025/Q2  0.6  113.4 -0.088106\n",
       "\n",
       "[102 rows x 3 columns]"
      ]
     },
     "execution_count": 129,
     "metadata": {},
     "output_type": "execute_result"
    }
   ],
   "source": [
    "g_and_i"
   ]
  },
  {
   "cell_type": "code",
   "execution_count": 131,
   "id": "88d5122d",
   "metadata": {},
   "outputs": [
    {
     "data": {
      "text/plain": [
       "<Axes: >"
      ]
     },
     "execution_count": 131,
     "metadata": {},
     "output_type": "execute_result"
    },
    {
     "data": {
      "image/png": "[encoded data removed]",
      "text/plain": [
       "<Figure size 640x480 with 1 Axes>"
      ]
     },
     "metadata": {},
     "output_type": "display_data"
    }
   ],
   "source": [
    "g_and_i[['gdp', 'ipi_2']].plot()"
   ]
  },
  {
   "cell_type": "code",
   "execution_count": 126,
   "id": "550dbd76",
   "metadata": {},
   "outputs": [
    {
     "data": {
      "text/plain": [
       "array([[ 1., nan],\n",
       "       [nan, nan]])"
      ]
     },
     "execution_count": 126,
     "metadata": {},
     "output_type": "execute_result"
    }
   ],
   "source": [
    "np.corrcoef(g_and_i['gdp'], g_and_i['ipi_2'])"
   ]
  },
  {
   "cell_type": "code",
   "execution_count": 132,
   "id": "3cbce2de",
   "metadata": {},
   "outputs": [],
   "source": [
    "reg1 = sm.OLS(g_and_i['gdp'], g_and_i['ipi_2'], missing='drop').fit()"
   ]
  },
  {
   "cell_type": "code",
   "execution_count": 133,
   "id": "1554964e",
   "metadata": {},
   "outputs": [
    {
     "data": {
      "text/html": [
       "<table class=\"simpletable\">\n",
       "<caption>OLS Regression Results</caption>\n",
       "<tr>\n",
       "  <th>Dep. Variable:</th>           <td>gdp</td>       <th>  R-squared (uncentered):</th>      <td>   0.700</td>\n",
       "</tr>\n",
       "<tr>\n",
       "  <th>Model:</th>                   <td>OLS</td>       <th>  Adj. R-squared (uncentered):</th> <td>   0.697</td>\n",
       "</tr>\n",
       "<tr>\n",
       "  <th>Method:</th>             <td>Least Squares</td>  <th>  F-statistic:       </th>          <td>   233.7</td>\n",
       "</tr>\n",
       "<tr>\n",
       "  <th>Date:</th>             <td>Sat, 16 Aug 2025</td> <th>  Prob (F-statistic):</th>          <td>6.42e-28</td>\n",
       "</tr>\n",
       "<tr>\n",
       "  <th>Time:</th>                 <td>18:18:11</td>     <th>  Log-Likelihood:    </th>          <td> -105.65</td>\n",
       "</tr>\n",
       "<tr>\n",
       "  <th>No. Observations:</th>      <td>   101</td>      <th>  AIC:               </th>          <td>   213.3</td>\n",
       "</tr>\n",
       "<tr>\n",
       "  <th>Df Residuals:</th>          <td>   100</td>      <th>  BIC:               </th>          <td>   215.9</td>\n",
       "</tr>\n",
       "<tr>\n",
       "  <th>Df Model:</th>              <td>     1</td>      <th>                     </th>              <td> </td>   \n",
       "</tr>\n",
       "<tr>\n",
       "  <th>Covariance Type:</th>      <td>nonrobust</td>    <th>                     </th>              <td> </td>   \n",
       "</tr>\n",
       "</table>\n",
       "<table class=\"simpletable\">\n",
       "<tr>\n",
       "    <td></td>       <th>coef</th>     <th>std err</th>      <th>t</th>      <th>P>|t|</th>  <th>[0.025</th>    <th>0.975]</th>  \n",
       "</tr>\n",
       "<tr>\n",
       "  <th>ipi_2</th> <td>    0.6929</td> <td>    0.045</td> <td>   15.288</td> <td> 0.000</td> <td>    0.603</td> <td>    0.783</td>\n",
       "</tr>\n",
       "</table>\n",
       "<table class=\"simpletable\">\n",
       "<tr>\n",
       "  <th>Omnibus:</th>       <td>13.705</td> <th>  Durbin-Watson:     </th> <td>   1.813</td>\n",
       "</tr>\n",
       "<tr>\n",
       "  <th>Prob(Omnibus):</th> <td> 0.001</td> <th>  Jarque-Bera (JB):  </th> <td>  20.075</td>\n",
       "</tr>\n",
       "<tr>\n",
       "  <th>Skew:</th>          <td>-0.626</td> <th>  Prob(JB):          </th> <td>4.37e-05</td>\n",
       "</tr>\n",
       "<tr>\n",
       "  <th>Kurtosis:</th>      <td> 4.790</td> <th>  Cond. No.          </th> <td>    1.00</td>\n",
       "</tr>\n",
       "</table><br/><br/>Notes:<br/>[1] R² is computed without centering (uncentered) since the model does not contain a constant.<br/>[2] Standard Errors assume that the covariance matrix of the errors is correctly specified."
      ],
      "text/latex": [
       "\\begin{center}\n",
       "\\begin{tabular}{lclc}\n",
       "\\toprule\n",
       "\\textbf{Dep. Variable:}    &       gdp        & \\textbf{  R-squared (uncentered):}      &     0.700   \\\\\n",
       "\\textbf{Model:}            &       OLS        & \\textbf{  Adj. R-squared (uncentered):} &     0.697   \\\\\n",
       "\\textbf{Method:}           &  Least Squares   & \\textbf{  F-statistic:       }          &     233.7   \\\\\n",
       "\\textbf{Date:}             & Sat, 16 Aug 2025 & \\textbf{  Prob (F-statistic):}          &  6.42e-28   \\\\\n",
       "\\textbf{Time:}             &     18:18:11     & \\textbf{  Log-Likelihood:    }          &   -105.65   \\\\\n",
       "\\textbf{No. Observations:} &         101      & \\textbf{  AIC:               }          &     213.3   \\\\\n",
       "\\textbf{Df Residuals:}     &         100      & \\textbf{  BIC:               }          &     215.9   \\\\\n",
       "\\textbf{Df Model:}         &           1      & \\textbf{                     }          &             \\\\\n",
       "\\textbf{Covariance Type:}  &    nonrobust     & \\textbf{                     }          &             \\\\\n",
       "\\bottomrule\n",
       "\\end{tabular}\n",
       "\\begin{tabular}{lcccccc}\n",
       "                & \\textbf{coef} & \\textbf{std err} & \\textbf{t} & \\textbf{P$> |$t$|$} & \\textbf{[0.025} & \\textbf{0.975]}  \\\\\n",
       "\\midrule\n",
       "\\textbf{ipi\\_2} &       0.6929  &        0.045     &    15.288  &         0.000        &        0.603    &        0.783     \\\\\n",
       "\\bottomrule\n",
       "\\end{tabular}\n",
       "\\begin{tabular}{lclc}\n",
       "\\textbf{Omnibus:}       & 13.705 & \\textbf{  Durbin-Watson:     } &    1.813  \\\\\n",
       "\\textbf{Prob(Omnibus):} &  0.001 & \\textbf{  Jarque-Bera (JB):  } &   20.075  \\\\\n",
       "\\textbf{Skew:}          & -0.626 & \\textbf{  Prob(JB):          } & 4.37e-05  \\\\\n",
       "\\textbf{Kurtosis:}      &  4.790 & \\textbf{  Cond. No.          } &     1.00  \\\\\n",
       "\\bottomrule\n",
       "\\end{tabular}\n",
       "%\\caption{OLS Regression Results}\n",
       "\\end{center}\n",
       "\n",
       "Notes: \\newline\n",
       " [1] R² is computed without centering (uncentered) since the model does not contain a constant. \\newline\n",
       " [2] Standard Errors assume that the covariance matrix of the errors is correctly specified."
      ],
      "text/plain": [
       "<class 'statsmodels.iolib.summary.Summary'>\n",
       "\"\"\"\n",
       "                                 OLS Regression Results                                \n",
       "=======================================================================================\n",
       "Dep. Variable:                    gdp   R-squared (uncentered):                   0.700\n",
       "Model:                            OLS   Adj. R-squared (uncentered):              0.697\n",
       "Method:                 Least Squares   F-statistic:                              233.7\n",
       "Date:                Sat, 16 Aug 2025   Prob (F-statistic):                    6.42e-28\n",
       "Time:                        18:18:11   Log-Likelihood:                         -105.65\n",
       "No. Observations:                 101   AIC:                                      213.3\n",
       "Df Residuals:                     100   BIC:                                      215.9\n",
       "Df Model:                           1                                                  \n",
       "Covariance Type:            nonrobust                                                  \n",
       "==============================================================================\n",
       "                 coef    std err          t      P>|t|      [0.025      0.975]\n",
       "------------------------------------------------------------------------------\n",
       "ipi_2          0.6929      0.045     15.288      0.000       0.603       0.783\n",
       "==============================================================================\n",
       "Omnibus:                       13.705   Durbin-Watson:                   1.813\n",
       "Prob(Omnibus):                  0.001   Jarque-Bera (JB):               20.075\n",
       "Skew:                          -0.626   Prob(JB):                     4.37e-05\n",
       "Kurtosis:                       4.790   Cond. No.                         1.00\n",
       "==============================================================================\n",
       "\n",
       "Notes:\n",
       "[1] R² is computed without centering (uncentered) since the model does not contain a constant.\n",
       "[2] Standard Errors assume that the covariance matrix of the errors is correctly specified.\n",
       "\"\"\""
      ]
     },
     "execution_count": 133,
     "metadata": {},
     "output_type": "execute_result"
    }
   ],
   "source": [
    "reg1.summary()"
   ]
  },
  {
   "cell_type": "markdown",
   "id": "9960f62b",
   "metadata": {},
   "source": [
    "### BK 필터 적용"
   ]
  },
  {
   "cell_type": "code",
   "execution_count": 206,
   "id": "7e12871c",
   "metadata": {},
   "outputs": [],
   "source": [
    "import statsmodels.api as sm"
   ]
  },
  {
   "cell_type": "code",
   "execution_count": 137,
   "id": "5c25d996",
   "metadata": {},
   "outputs": [
    {
     "data": {
      "text/plain": [
       "Index(['통계표', '계정항목', '단위', '변환', '2000/Q1', '2000/Q2', '2000/Q3', '2000/Q4',\n",
       "       '2001/Q1', '2001/Q2',\n",
       "       ...\n",
       "       '2023/Q1', '2023/Q2', '2023/Q3', '2023/Q4', '2024/Q1', '2024/Q2',\n",
       "       '2024/Q3', '2024/Q4', '2025/Q1', '2025/Q2'],\n",
       "      dtype='object', length=106)"
      ]
     },
     "execution_count": 137,
     "metadata": {},
     "output_type": "execute_result"
    }
   ],
   "source": [
    "real_gdp = pd.read_csv('real_gdp.csv')\n",
    "real_gdp.columns"
   ]
  },
  {
   "cell_type": "code",
   "execution_count": 138,
   "id": "de75d509",
   "metadata": {},
   "outputs": [],
   "source": [
    "cd = ['통계표', '계정항목', '단위', '변환']\n",
    "real_gdp.drop(columns=cd, inplace=True)\n",
    "real_gdp = real_gdp.T"
   ]
  },
  {
   "cell_type": "code",
   "execution_count": 140,
   "id": "cd04fa1a",
   "metadata": {},
   "outputs": [],
   "source": [
    "real_gdp.columns = ['real_gdp']"
   ]
  },
  {
   "cell_type": "code",
   "execution_count": 148,
   "id": "34c5d907",
   "metadata": {},
   "outputs": [],
   "source": [
    "real_gdp['real_gdp'] = real_gdp['real_gdp'].str.replace(',', '')"
   ]
  },
  {
   "cell_type": "code",
   "execution_count": 150,
   "id": "18d3cb96",
   "metadata": {},
   "outputs": [],
   "source": [
    "real_gdp['real_gdp'] = real_gdp['real_gdp'].astype('float')"
   ]
  },
  {
   "cell_type": "code",
   "execution_count": 152,
   "id": "bf4c6423",
   "metadata": {},
   "outputs": [],
   "source": [
    "real_gdp['l_gdp'] = np.log(real_gdp['real_gdp'])"
   ]
  },
  {
   "cell_type": "code",
   "execution_count": 166,
   "id": "85939928",
   "metadata": {},
   "outputs": [],
   "source": [
    "# --- 3. Applying the Band-Pass Filter ---\n",
    "\n",
    "# The original documents specified a cycle of 6 to 32 quarters.\n",
    "# Since the data is monthly:\n",
    "# Low period: 6 quarters * 3 months/quarter = 18 months\n",
    "# High period: 32 quarters * 3 months/quarter = 96 months\n",
    "# The statsmodels `bkfilter` uses these periods for its low and high parameters.\n",
    "real_gdp['gdp_filtered'] = sm.tsa.filters.bkfilter(\n",
    "    real_gdp['l_gdp'],\n",
    "    low=6,\n",
    "    high=32,\n",
    "    K=4  # K is the lead/lag length of the filter, 12 is common for monthly data\n",
    ")"
   ]
  },
  {
   "cell_type": "code",
   "execution_count": 167,
   "id": "416d1a55",
   "metadata": {},
   "outputs": [
    {
     "data": {
      "text/plain": [
       "<Axes: >"
      ]
     },
     "execution_count": 167,
     "metadata": {},
     "output_type": "execute_result"
    },
    {
     "data": {
      "image/png": "[encoded data removed]",
      "text/plain": [
       "<Figure size 640x480 with 1 Axes>"
      ]
     },
     "metadata": {},
     "output_type": "display_data"
    }
   ],
   "source": [
    "real_gdp['gdp_filtered'].plot()"
   ]
  },
  {
   "cell_type": "code",
   "execution_count": 160,
   "id": "80daee74",
   "metadata": {},
   "outputs": [
    {
     "data": {
      "text/html": [
       "<div>\n",
       "<style scoped>\n",
       "    .dataframe tbody tr th:only-of-type {\n",
       "        vertical-align: middle;\n",
       "    }\n",
       "\n",
       "    .dataframe tbody tr th {\n",
       "        vertical-align: top;\n",
       "    }\n",
       "\n",
       "    .dataframe thead th {\n",
       "        text-align: right;\n",
       "    }\n",
       "</style>\n",
       "<table border=\"1\" class=\"dataframe\">\n",
       "  <thead>\n",
       "    <tr style=\"text-align: right;\">\n",
       "      <th></th>\n",
       "      <th>ipi</th>\n",
       "    </tr>\n",
       "  </thead>\n",
       "  <tbody>\n",
       "    <tr>\n",
       "      <th>2000/01</th>\n",
       "      <td>52.5</td>\n",
       "    </tr>\n",
       "    <tr>\n",
       "      <th>2000/02</th>\n",
       "      <td>52.6</td>\n",
       "    </tr>\n",
       "    <tr>\n",
       "      <th>2000/03</th>\n",
       "      <td>53.6</td>\n",
       "    </tr>\n",
       "    <tr>\n",
       "      <th>2000/04</th>\n",
       "      <td>53.4</td>\n",
       "    </tr>\n",
       "    <tr>\n",
       "      <th>2000/05</th>\n",
       "      <td>54.9</td>\n",
       "    </tr>\n",
       "    <tr>\n",
       "      <th>...</th>\n",
       "      <td>...</td>\n",
       "    </tr>\n",
       "    <tr>\n",
       "      <th>2025/02</th>\n",
       "      <td>113.4</td>\n",
       "    </tr>\n",
       "    <tr>\n",
       "      <th>2025/03</th>\n",
       "      <td>114.6</td>\n",
       "    </tr>\n",
       "    <tr>\n",
       "      <th>2025/04</th>\n",
       "      <td>113.8</td>\n",
       "    </tr>\n",
       "    <tr>\n",
       "      <th>2025/05</th>\n",
       "      <td>112.5</td>\n",
       "    </tr>\n",
       "    <tr>\n",
       "      <th>2025/06</th>\n",
       "      <td>113.8</td>\n",
       "    </tr>\n",
       "  </tbody>\n",
       "</table>\n",
       "<p>306 rows × 1 columns</p>\n",
       "</div>"
      ],
      "text/plain": [
       "           ipi\n",
       "2000/01   52.5\n",
       "2000/02   52.6\n",
       "2000/03   53.6\n",
       "2000/04   53.4\n",
       "2000/05   54.9\n",
       "...        ...\n",
       "2025/02  113.4\n",
       "2025/03  114.6\n",
       "2025/04  113.8\n",
       "2025/05  112.5\n",
       "2025/06  113.8\n",
       "\n",
       "[306 rows x 1 columns]"
      ]
     },
     "execution_count": 160,
     "metadata": {},
     "output_type": "execute_result"
    }
   ],
   "source": [
    "ipi"
   ]
  },
  {
   "cell_type": "code",
   "execution_count": 171,
   "id": "b8b550fe",
   "metadata": {},
   "outputs": [],
   "source": [
    "g_and_i['l_ipi'] = np.log(g_and_i[0])"
   ]
  },
  {
   "cell_type": "code",
   "execution_count": 172,
   "id": "93470c49",
   "metadata": {},
   "outputs": [
    {
     "data": {
      "text/html": [
       "<div>\n",
       "<style scoped>\n",
       "    .dataframe tbody tr th:only-of-type {\n",
       "        vertical-align: middle;\n",
       "    }\n",
       "\n",
       "    .dataframe tbody tr th {\n",
       "        vertical-align: top;\n",
       "    }\n",
       "\n",
       "    .dataframe thead th {\n",
       "        text-align: right;\n",
       "    }\n",
       "</style>\n",
       "<table border=\"1\" class=\"dataframe\">\n",
       "  <thead>\n",
       "    <tr style=\"text-align: right;\">\n",
       "      <th></th>\n",
       "      <th>gdp</th>\n",
       "      <th>0</th>\n",
       "      <th>ipi_2</th>\n",
       "      <th>l_ipi</th>\n",
       "    </tr>\n",
       "  </thead>\n",
       "  <tbody>\n",
       "    <tr>\n",
       "      <th>2000/Q1</th>\n",
       "      <td>2.0</td>\n",
       "      <td>52.9</td>\n",
       "      <td>NaN</td>\n",
       "      <td>3.968403</td>\n",
       "    </tr>\n",
       "    <tr>\n",
       "      <th>2000/Q2</th>\n",
       "      <td>1.5</td>\n",
       "      <td>54.5</td>\n",
       "      <td>3.024575</td>\n",
       "      <td>3.998201</td>\n",
       "    </tr>\n",
       "    <tr>\n",
       "      <th>2000/Q3</th>\n",
       "      <td>2.7</td>\n",
       "      <td>55.3</td>\n",
       "      <td>1.467890</td>\n",
       "      <td>4.012773</td>\n",
       "    </tr>\n",
       "    <tr>\n",
       "      <th>2000/Q4</th>\n",
       "      <td>-0.3</td>\n",
       "      <td>54.3</td>\n",
       "      <td>-1.808318</td>\n",
       "      <td>3.994524</td>\n",
       "    </tr>\n",
       "    <tr>\n",
       "      <th>2001/Q1</th>\n",
       "      <td>1.0</td>\n",
       "      <td>54.9</td>\n",
       "      <td>1.104972</td>\n",
       "      <td>4.005513</td>\n",
       "    </tr>\n",
       "    <tr>\n",
       "      <th>...</th>\n",
       "      <td>...</td>\n",
       "      <td>...</td>\n",
       "      <td>...</td>\n",
       "      <td>...</td>\n",
       "    </tr>\n",
       "    <tr>\n",
       "      <th>2024/Q2</th>\n",
       "      <td>-0.2</td>\n",
       "      <td>113.5</td>\n",
       "      <td>0.000000</td>\n",
       "      <td>4.731803</td>\n",
       "    </tr>\n",
       "    <tr>\n",
       "      <th>2024/Q3</th>\n",
       "      <td>0.1</td>\n",
       "      <td>113.0</td>\n",
       "      <td>-0.440529</td>\n",
       "      <td>4.727388</td>\n",
       "    </tr>\n",
       "    <tr>\n",
       "      <th>2024/Q4</th>\n",
       "      <td>0.1</td>\n",
       "      <td>113.5</td>\n",
       "      <td>0.442478</td>\n",
       "      <td>4.731803</td>\n",
       "    </tr>\n",
       "    <tr>\n",
       "      <th>2025/Q1</th>\n",
       "      <td>-0.2</td>\n",
       "      <td>113.5</td>\n",
       "      <td>0.000000</td>\n",
       "      <td>4.731803</td>\n",
       "    </tr>\n",
       "    <tr>\n",
       "      <th>2025/Q2</th>\n",
       "      <td>0.6</td>\n",
       "      <td>113.4</td>\n",
       "      <td>-0.088106</td>\n",
       "      <td>4.730921</td>\n",
       "    </tr>\n",
       "  </tbody>\n",
       "</table>\n",
       "<p>102 rows × 4 columns</p>\n",
       "</div>"
      ],
      "text/plain": [
       "         gdp      0     ipi_2     l_ipi\n",
       "2000/Q1  2.0   52.9       NaN  3.968403\n",
       "2000/Q2  1.5   54.5  3.024575  3.998201\n",
       "2000/Q3  2.7   55.3  1.467890  4.012773\n",
       "2000/Q4 -0.3   54.3 -1.808318  3.994524\n",
       "2001/Q1  1.0   54.9  1.104972  4.005513\n",
       "...      ...    ...       ...       ...\n",
       "2024/Q2 -0.2  113.5  0.000000  4.731803\n",
       "2024/Q3  0.1  113.0 -0.440529  4.727388\n",
       "2024/Q4  0.1  113.5  0.442478  4.731803\n",
       "2025/Q1 -0.2  113.5  0.000000  4.731803\n",
       "2025/Q2  0.6  113.4 -0.088106  4.730921\n",
       "\n",
       "[102 rows x 4 columns]"
      ]
     },
     "execution_count": 172,
     "metadata": {},
     "output_type": "execute_result"
    }
   ],
   "source": [
    "g_and_i"
   ]
  },
  {
   "cell_type": "code",
   "execution_count": null,
   "id": "e84e29dc",
   "metadata": {},
   "outputs": [
    {
     "ename": "TypeError",
     "evalue": "cffilter() got an unexpected keyword argument 'K'",
     "output_type": "error",
     "traceback": [
      "\u001b[1;31m---------------------------------------------------------------------------\u001b[0m",
      "\u001b[1;31mTypeError\u001b[0m                                 Traceback (most recent call last)",
      "Cell \u001b[1;32mIn[202], line 1\u001b[0m\n\u001b[1;32m----> 1\u001b[0m g_and_i[\u001b[38;5;124m'\u001b[39m\u001b[38;5;124mipi_filtered\u001b[39m\u001b[38;5;124m'\u001b[39m] \u001b[38;5;241m=\u001b[39m sm\u001b[38;5;241m.\u001b[39mtsa\u001b[38;5;241m.\u001b[39mfilters\u001b[38;5;241m.\u001b[39mcffilter(\n\u001b[0;32m      2\u001b[0m     g_and_i[\u001b[38;5;124m'\u001b[39m\u001b[38;5;124ml_ipi\u001b[39m\u001b[38;5;124m'\u001b[39m],\n\u001b[0;32m      3\u001b[0m     low\u001b[38;5;241m=\u001b[39m\u001b[38;5;241m6\u001b[39m,\n\u001b[0;32m      4\u001b[0m     high\u001b[38;5;241m=\u001b[39m\u001b[38;5;241m32\u001b[39m,\n\u001b[0;32m      5\u001b[0m     K\u001b[38;5;241m=\u001b[39m\u001b[38;5;241m4\u001b[39m  \u001b[38;5;66;03m# K is the lead/lag length of the filter, 12 is common for monthly data\u001b[39;00m\n\u001b[0;32m      6\u001b[0m )\n",
      "\u001b[1;31mTypeError\u001b[0m: cffilter() got an unexpected keyword argument 'K'"
     ]
    }
   ],
   "source": [
    "g_and_i['ipi_filtered'] = sm.tsa.filters.filter(\n",
    "    g_and_i['l_ipi'],\n",
    "    low=6,\n",
    "    high=32,\n",
    "    K=4  # K is the lead/lag length of the filter, 12 is common for monthly data\n",
    ")"
   ]
  },
  {
   "cell_type": "code",
   "execution_count": 193,
   "id": "431199f5",
   "metadata": {},
   "outputs": [
    {
     "data": {
      "text/html": [
       "<div>\n",
       "<style scoped>\n",
       "    .dataframe tbody tr th:only-of-type {\n",
       "        vertical-align: middle;\n",
       "    }\n",
       "\n",
       "    .dataframe tbody tr th {\n",
       "        vertical-align: top;\n",
       "    }\n",
       "\n",
       "    .dataframe thead th {\n",
       "        text-align: right;\n",
       "    }\n",
       "</style>\n",
       "<table border=\"1\" class=\"dataframe\">\n",
       "  <thead>\n",
       "    <tr style=\"text-align: right;\">\n",
       "      <th></th>\n",
       "      <th>gdp</th>\n",
       "      <th>0</th>\n",
       "      <th>ipi_2</th>\n",
       "      <th>l_ipi</th>\n",
       "      <th>ipi_filtered</th>\n",
       "    </tr>\n",
       "  </thead>\n",
       "  <tbody>\n",
       "    <tr>\n",
       "      <th>2000/Q1</th>\n",
       "      <td>2.0</td>\n",
       "      <td>52.9</td>\n",
       "      <td>NaN</td>\n",
       "      <td>3.968403</td>\n",
       "      <td>NaN</td>\n",
       "    </tr>\n",
       "    <tr>\n",
       "      <th>2000/Q2</th>\n",
       "      <td>1.5</td>\n",
       "      <td>54.5</td>\n",
       "      <td>3.024575</td>\n",
       "      <td>3.998201</td>\n",
       "      <td>NaN</td>\n",
       "    </tr>\n",
       "    <tr>\n",
       "      <th>2000/Q3</th>\n",
       "      <td>2.7</td>\n",
       "      <td>55.3</td>\n",
       "      <td>1.467890</td>\n",
       "      <td>4.012773</td>\n",
       "      <td>NaN</td>\n",
       "    </tr>\n",
       "    <tr>\n",
       "      <th>2000/Q4</th>\n",
       "      <td>-0.3</td>\n",
       "      <td>54.3</td>\n",
       "      <td>-1.808318</td>\n",
       "      <td>3.994524</td>\n",
       "      <td>NaN</td>\n",
       "    </tr>\n",
       "    <tr>\n",
       "      <th>2001/Q1</th>\n",
       "      <td>1.0</td>\n",
       "      <td>54.9</td>\n",
       "      <td>1.104972</td>\n",
       "      <td>4.005513</td>\n",
       "      <td>-0.010638</td>\n",
       "    </tr>\n",
       "    <tr>\n",
       "      <th>...</th>\n",
       "      <td>...</td>\n",
       "      <td>...</td>\n",
       "      <td>...</td>\n",
       "      <td>...</td>\n",
       "      <td>...</td>\n",
       "    </tr>\n",
       "    <tr>\n",
       "      <th>2024/Q2</th>\n",
       "      <td>-0.2</td>\n",
       "      <td>113.5</td>\n",
       "      <td>0.000000</td>\n",
       "      <td>4.731803</td>\n",
       "      <td>0.003769</td>\n",
       "    </tr>\n",
       "    <tr>\n",
       "      <th>2024/Q3</th>\n",
       "      <td>0.1</td>\n",
       "      <td>113.0</td>\n",
       "      <td>-0.440529</td>\n",
       "      <td>4.727388</td>\n",
       "      <td>NaN</td>\n",
       "    </tr>\n",
       "    <tr>\n",
       "      <th>2024/Q4</th>\n",
       "      <td>0.1</td>\n",
       "      <td>113.5</td>\n",
       "      <td>0.442478</td>\n",
       "      <td>4.731803</td>\n",
       "      <td>NaN</td>\n",
       "    </tr>\n",
       "    <tr>\n",
       "      <th>2025/Q1</th>\n",
       "      <td>-0.2</td>\n",
       "      <td>113.5</td>\n",
       "      <td>0.000000</td>\n",
       "      <td>4.731803</td>\n",
       "      <td>NaN</td>\n",
       "    </tr>\n",
       "    <tr>\n",
       "      <th>2025/Q2</th>\n",
       "      <td>0.6</td>\n",
       "      <td>113.4</td>\n",
       "      <td>-0.088106</td>\n",
       "      <td>4.730921</td>\n",
       "      <td>NaN</td>\n",
       "    </tr>\n",
       "  </tbody>\n",
       "</table>\n",
       "<p>102 rows × 5 columns</p>\n",
       "</div>"
      ],
      "text/plain": [
       "         gdp      0     ipi_2     l_ipi  ipi_filtered\n",
       "2000/Q1  2.0   52.9       NaN  3.968403           NaN\n",
       "2000/Q2  1.5   54.5  3.024575  3.998201           NaN\n",
       "2000/Q3  2.7   55.3  1.467890  4.012773           NaN\n",
       "2000/Q4 -0.3   54.3 -1.808318  3.994524           NaN\n",
       "2001/Q1  1.0   54.9  1.104972  4.005513     -0.010638\n",
       "...      ...    ...       ...       ...           ...\n",
       "2024/Q2 -0.2  113.5  0.000000  4.731803      0.003769\n",
       "2024/Q3  0.1  113.0 -0.440529  4.727388           NaN\n",
       "2024/Q4  0.1  113.5  0.442478  4.731803           NaN\n",
       "2025/Q1 -0.2  113.5  0.000000  4.731803           NaN\n",
       "2025/Q2  0.6  113.4 -0.088106  4.730921           NaN\n",
       "\n",
       "[102 rows x 5 columns]"
      ]
     },
     "execution_count": 193,
     "metadata": {},
     "output_type": "execute_result"
    }
   ],
   "source": [
    "g_and_i"
   ]
  },
  {
   "cell_type": "code",
   "execution_count": 197,
   "id": "769d460e",
   "metadata": {},
   "outputs": [
    {
     "data": {
      "text/plain": [
       "8"
      ]
     },
     "execution_count": 197,
     "metadata": {},
     "output_type": "execute_result"
    }
   ],
   "source": [
    "sum(g_and_i['ipi_filtered'].isna())"
   ]
  },
  {
   "cell_type": "code",
   "execution_count": 199,
   "id": "517016fa",
   "metadata": {},
   "outputs": [
    {
     "data": {
      "text/html": [
       "<div>\n",
       "<style scoped>\n",
       "    .dataframe tbody tr th:only-of-type {\n",
       "        vertical-align: middle;\n",
       "    }\n",
       "\n",
       "    .dataframe tbody tr th {\n",
       "        vertical-align: top;\n",
       "    }\n",
       "\n",
       "    .dataframe thead th {\n",
       "        text-align: right;\n",
       "    }\n",
       "</style>\n",
       "<table border=\"1\" class=\"dataframe\">\n",
       "  <thead>\n",
       "    <tr style=\"text-align: right;\">\n",
       "      <th></th>\n",
       "      <th>gdp</th>\n",
       "      <th>0</th>\n",
       "      <th>ipi_2</th>\n",
       "      <th>l_ipi</th>\n",
       "      <th>ipi_filtered</th>\n",
       "    </tr>\n",
       "  </thead>\n",
       "  <tbody>\n",
       "    <tr>\n",
       "      <th>2000/Q1</th>\n",
       "      <td>2.0</td>\n",
       "      <td>52.9</td>\n",
       "      <td>NaN</td>\n",
       "      <td>3.968403</td>\n",
       "      <td>NaN</td>\n",
       "    </tr>\n",
       "    <tr>\n",
       "      <th>2000/Q2</th>\n",
       "      <td>1.5</td>\n",
       "      <td>54.5</td>\n",
       "      <td>3.024575</td>\n",
       "      <td>3.998201</td>\n",
       "      <td>NaN</td>\n",
       "    </tr>\n",
       "    <tr>\n",
       "      <th>2000/Q3</th>\n",
       "      <td>2.7</td>\n",
       "      <td>55.3</td>\n",
       "      <td>1.467890</td>\n",
       "      <td>4.012773</td>\n",
       "      <td>NaN</td>\n",
       "    </tr>\n",
       "    <tr>\n",
       "      <th>2000/Q4</th>\n",
       "      <td>-0.3</td>\n",
       "      <td>54.3</td>\n",
       "      <td>-1.808318</td>\n",
       "      <td>3.994524</td>\n",
       "      <td>NaN</td>\n",
       "    </tr>\n",
       "    <tr>\n",
       "      <th>2001/Q1</th>\n",
       "      <td>1.0</td>\n",
       "      <td>54.9</td>\n",
       "      <td>1.104972</td>\n",
       "      <td>4.005513</td>\n",
       "      <td>-0.010638</td>\n",
       "    </tr>\n",
       "    <tr>\n",
       "      <th>2001/Q2</th>\n",
       "      <td>1.5</td>\n",
       "      <td>56.4</td>\n",
       "      <td>2.732240</td>\n",
       "      <td>4.032469</td>\n",
       "      <td>-0.016163</td>\n",
       "    </tr>\n",
       "    <tr>\n",
       "      <th>2001/Q3</th>\n",
       "      <td>1.3</td>\n",
       "      <td>57.0</td>\n",
       "      <td>1.063830</td>\n",
       "      <td>4.043051</td>\n",
       "      <td>-0.011314</td>\n",
       "    </tr>\n",
       "    <tr>\n",
       "      <th>2001/Q4</th>\n",
       "      <td>1.5</td>\n",
       "      <td>57.8</td>\n",
       "      <td>1.403509</td>\n",
       "      <td>4.056989</td>\n",
       "      <td>0.000446</td>\n",
       "    </tr>\n",
       "    <tr>\n",
       "      <th>2002/Q1</th>\n",
       "      <td>2.8</td>\n",
       "      <td>60.0</td>\n",
       "      <td>3.806228</td>\n",
       "      <td>4.094345</td>\n",
       "      <td>0.009418</td>\n",
       "    </tr>\n",
       "    <tr>\n",
       "      <th>2002/Q2</th>\n",
       "      <td>1.9</td>\n",
       "      <td>61.2</td>\n",
       "      <td>2.000000</td>\n",
       "      <td>4.114147</td>\n",
       "      <td>0.014608</td>\n",
       "    </tr>\n",
       "    <tr>\n",
       "      <th>2002/Q3</th>\n",
       "      <td>1.9</td>\n",
       "      <td>62.0</td>\n",
       "      <td>1.307190</td>\n",
       "      <td>4.127134</td>\n",
       "      <td>0.015685</td>\n",
       "    </tr>\n",
       "    <tr>\n",
       "      <th>2002/Q4</th>\n",
       "      <td>0.9</td>\n",
       "      <td>62.2</td>\n",
       "      <td>0.322581</td>\n",
       "      <td>4.130355</td>\n",
       "      <td>0.008584</td>\n",
       "    </tr>\n",
       "    <tr>\n",
       "      <th>2003/Q1</th>\n",
       "      <td>-0.5</td>\n",
       "      <td>62.1</td>\n",
       "      <td>-0.160772</td>\n",
       "      <td>4.128746</td>\n",
       "      <td>-0.002462</td>\n",
       "    </tr>\n",
       "    <tr>\n",
       "      <th>2003/Q2</th>\n",
       "      <td>0.1</td>\n",
       "      <td>62.7</td>\n",
       "      <td>0.966184</td>\n",
       "      <td>4.138361</td>\n",
       "      <td>-0.006277</td>\n",
       "    </tr>\n",
       "    <tr>\n",
       "      <th>2003/Q3</th>\n",
       "      <td>1.6</td>\n",
       "      <td>63.3</td>\n",
       "      <td>0.956938</td>\n",
       "      <td>4.147885</td>\n",
       "      <td>-0.002202</td>\n",
       "    </tr>\n",
       "    <tr>\n",
       "      <th>2003/Q4</th>\n",
       "      <td>2.5</td>\n",
       "      <td>64.2</td>\n",
       "      <td>1.421801</td>\n",
       "      <td>4.162003</td>\n",
       "      <td>0.005206</td>\n",
       "    </tr>\n",
       "    <tr>\n",
       "      <th>2004/Q1</th>\n",
       "      <td>1.4</td>\n",
       "      <td>65.2</td>\n",
       "      <td>1.557632</td>\n",
       "      <td>4.177459</td>\n",
       "      <td>0.005790</td>\n",
       "    </tr>\n",
       "    <tr>\n",
       "      <th>2004/Q2</th>\n",
       "      <td>0.8</td>\n",
       "      <td>65.5</td>\n",
       "      <td>0.460123</td>\n",
       "      <td>4.182050</td>\n",
       "      <td>0.001714</td>\n",
       "    </tr>\n",
       "    <tr>\n",
       "      <th>2004/Q3</th>\n",
       "      <td>0.3</td>\n",
       "      <td>65.1</td>\n",
       "      <td>-0.610687</td>\n",
       "      <td>4.175925</td>\n",
       "      <td>-0.003985</td>\n",
       "    </tr>\n",
       "    <tr>\n",
       "      <th>2004/Q4</th>\n",
       "      <td>0.8</td>\n",
       "      <td>65.2</td>\n",
       "      <td>0.153610</td>\n",
       "      <td>4.177459</td>\n",
       "      <td>-0.009938</td>\n",
       "    </tr>\n",
       "    <tr>\n",
       "      <th>2005/Q1</th>\n",
       "      <td>0.9</td>\n",
       "      <td>67.0</td>\n",
       "      <td>2.760736</td>\n",
       "      <td>4.204693</td>\n",
       "      <td>-0.010844</td>\n",
       "    </tr>\n",
       "    <tr>\n",
       "      <th>2005/Q2</th>\n",
       "      <td>1.9</td>\n",
       "      <td>67.4</td>\n",
       "      <td>0.597015</td>\n",
       "      <td>4.210645</td>\n",
       "      <td>-0.005588</td>\n",
       "    </tr>\n",
       "    <tr>\n",
       "      <th>2005/Q3</th>\n",
       "      <td>1.4</td>\n",
       "      <td>68.3</td>\n",
       "      <td>1.335312</td>\n",
       "      <td>4.223910</td>\n",
       "      <td>0.002345</td>\n",
       "    </tr>\n",
       "    <tr>\n",
       "      <th>2005/Q4</th>\n",
       "      <td>1.1</td>\n",
       "      <td>69.9</td>\n",
       "      <td>2.342606</td>\n",
       "      <td>4.247066</td>\n",
       "      <td>0.001831</td>\n",
       "    </tr>\n",
       "    <tr>\n",
       "      <th>2006/Q1</th>\n",
       "      <td>1.6</td>\n",
       "      <td>70.8</td>\n",
       "      <td>1.287554</td>\n",
       "      <td>4.259859</td>\n",
       "      <td>-0.000253</td>\n",
       "    </tr>\n",
       "    <tr>\n",
       "      <th>2006/Q2</th>\n",
       "      <td>0.7</td>\n",
       "      <td>71.4</td>\n",
       "      <td>0.847458</td>\n",
       "      <td>4.268298</td>\n",
       "      <td>0.000511</td>\n",
       "    </tr>\n",
       "    <tr>\n",
       "      <th>2006/Q3</th>\n",
       "      <td>1.6</td>\n",
       "      <td>71.6</td>\n",
       "      <td>0.280112</td>\n",
       "      <td>4.271095</td>\n",
       "      <td>-0.001854</td>\n",
       "    </tr>\n",
       "    <tr>\n",
       "      <th>2006/Q4</th>\n",
       "      <td>0.8</td>\n",
       "      <td>74.2</td>\n",
       "      <td>3.631285</td>\n",
       "      <td>4.306764</td>\n",
       "      <td>-0.005176</td>\n",
       "    </tr>\n",
       "    <tr>\n",
       "      <th>2007/Q1</th>\n",
       "      <td>1.8</td>\n",
       "      <td>74.5</td>\n",
       "      <td>0.404313</td>\n",
       "      <td>4.310799</td>\n",
       "      <td>-0.003615</td>\n",
       "    </tr>\n",
       "    <tr>\n",
       "      <th>2007/Q2</th>\n",
       "      <td>1.7</td>\n",
       "      <td>75.3</td>\n",
       "      <td>1.073826</td>\n",
       "      <td>4.321480</td>\n",
       "      <td>0.002740</td>\n",
       "    </tr>\n",
       "  </tbody>\n",
       "</table>\n",
       "</div>"
      ],
      "text/plain": [
       "         gdp     0     ipi_2     l_ipi  ipi_filtered\n",
       "2000/Q1  2.0  52.9       NaN  3.968403           NaN\n",
       "2000/Q2  1.5  54.5  3.024575  3.998201           NaN\n",
       "2000/Q3  2.7  55.3  1.467890  4.012773           NaN\n",
       "2000/Q4 -0.3  54.3 -1.808318  3.994524           NaN\n",
       "2001/Q1  1.0  54.9  1.104972  4.005513     -0.010638\n",
       "2001/Q2  1.5  56.4  2.732240  4.032469     -0.016163\n",
       "2001/Q3  1.3  57.0  1.063830  4.043051     -0.011314\n",
       "2001/Q4  1.5  57.8  1.403509  4.056989      0.000446\n",
       "2002/Q1  2.8  60.0  3.806228  4.094345      0.009418\n",
       "2002/Q2  1.9  61.2  2.000000  4.114147      0.014608\n",
       "2002/Q3  1.9  62.0  1.307190  4.127134      0.015685\n",
       "2002/Q4  0.9  62.2  0.322581  4.130355      0.008584\n",
       "2003/Q1 -0.5  62.1 -0.160772  4.128746     -0.002462\n",
       "2003/Q2  0.1  62.7  0.966184  4.138361     -0.006277\n",
       "2003/Q3  1.6  63.3  0.956938  4.147885     -0.002202\n",
       "2003/Q4  2.5  64.2  1.421801  4.162003      0.005206\n",
       "2004/Q1  1.4  65.2  1.557632  4.177459      0.005790\n",
       "2004/Q2  0.8  65.5  0.460123  4.182050      0.001714\n",
       "2004/Q3  0.3  65.1 -0.610687  4.175925     -0.003985\n",
       "2004/Q4  0.8  65.2  0.153610  4.177459     -0.009938\n",
       "2005/Q1  0.9  67.0  2.760736  4.204693     -0.010844\n",
       "2005/Q2  1.9  67.4  0.597015  4.210645     -0.005588\n",
       "2005/Q3  1.4  68.3  1.335312  4.223910      0.002345\n",
       "2005/Q4  1.1  69.9  2.342606  4.247066      0.001831\n",
       "2006/Q1  1.6  70.8  1.287554  4.259859     -0.000253\n",
       "2006/Q2  0.7  71.4  0.847458  4.268298      0.000511\n",
       "2006/Q3  1.6  71.6  0.280112  4.271095     -0.001854\n",
       "2006/Q4  0.8  74.2  3.631285  4.306764     -0.005176\n",
       "2007/Q1  1.8  74.5  0.404313  4.310799     -0.003615\n",
       "2007/Q2  1.7  75.3  1.073826  4.321480      0.002740"
      ]
     },
     "execution_count": 199,
     "metadata": {},
     "output_type": "execute_result"
    }
   ],
   "source": [
    "g_and_i.head(30)"
   ]
  },
  {
   "cell_type": "code",
   "execution_count": 200,
   "id": "bfbdd15e",
   "metadata": {},
   "outputs": [],
   "source": [
    "reg2 = sm.OLS(real_gdp['gdp_filtered'], g_and_i['ipi_filtered'], missing='drop').fit()"
   ]
  },
  {
   "cell_type": "code",
   "execution_count": 201,
   "id": "d69cbe1e",
   "metadata": {},
   "outputs": [
    {
     "data": {
      "text/html": [
       "<table class=\"simpletable\">\n",
       "<caption>OLS Regression Results</caption>\n",
       "<tr>\n",
       "  <th>Dep. Variable:</th>      <td>gdp_filtered</td>   <th>  R-squared (uncentered):</th>      <td>   0.816</td>\n",
       "</tr>\n",
       "<tr>\n",
       "  <th>Model:</th>                   <td>OLS</td>       <th>  Adj. R-squared (uncentered):</th> <td>   0.814</td>\n",
       "</tr>\n",
       "<tr>\n",
       "  <th>Method:</th>             <td>Least Squares</td>  <th>  F-statistic:       </th>          <td>   411.8</td>\n",
       "</tr>\n",
       "<tr>\n",
       "  <th>Date:</th>             <td>Sat, 16 Aug 2025</td> <th>  Prob (F-statistic):</th>          <td>6.32e-36</td>\n",
       "</tr>\n",
       "<tr>\n",
       "  <th>Time:</th>                 <td>19:13:46</td>     <th>  Log-Likelihood:    </th>          <td>  410.19</td>\n",
       "</tr>\n",
       "<tr>\n",
       "  <th>No. Observations:</th>      <td>    94</td>      <th>  AIC:               </th>          <td>  -818.4</td>\n",
       "</tr>\n",
       "<tr>\n",
       "  <th>Df Residuals:</th>          <td>    93</td>      <th>  BIC:               </th>          <td>  -815.8</td>\n",
       "</tr>\n",
       "<tr>\n",
       "  <th>Df Model:</th>              <td>     1</td>      <th>                     </th>              <td> </td>   \n",
       "</tr>\n",
       "<tr>\n",
       "  <th>Covariance Type:</th>      <td>nonrobust</td>    <th>                     </th>              <td> </td>   \n",
       "</tr>\n",
       "</table>\n",
       "<table class=\"simpletable\">\n",
       "<tr>\n",
       "        <td></td>          <th>coef</th>     <th>std err</th>      <th>t</th>      <th>P>|t|</th>  <th>[0.025</th>    <th>0.975]</th>  \n",
       "</tr>\n",
       "<tr>\n",
       "  <th>ipi_filtered</th> <td>    0.6698</td> <td>    0.033</td> <td>   20.292</td> <td> 0.000</td> <td>    0.604</td> <td>    0.735</td>\n",
       "</tr>\n",
       "</table>\n",
       "<table class=\"simpletable\">\n",
       "<tr>\n",
       "  <th>Omnibus:</th>       <td> 2.786</td> <th>  Durbin-Watson:     </th> <td>   0.612</td>\n",
       "</tr>\n",
       "<tr>\n",
       "  <th>Prob(Omnibus):</th> <td> 0.248</td> <th>  Jarque-Bera (JB):  </th> <td>   2.117</td>\n",
       "</tr>\n",
       "<tr>\n",
       "  <th>Skew:</th>          <td>-0.299</td> <th>  Prob(JB):          </th> <td>   0.347</td>\n",
       "</tr>\n",
       "<tr>\n",
       "  <th>Kurtosis:</th>      <td> 3.427</td> <th>  Cond. No.          </th> <td>    1.00</td>\n",
       "</tr>\n",
       "</table><br/><br/>Notes:<br/>[1] R² is computed without centering (uncentered) since the model does not contain a constant.<br/>[2] Standard Errors assume that the covariance matrix of the errors is correctly specified."
      ],
      "text/latex": [
       "\\begin{center}\n",
       "\\begin{tabular}{lclc}\n",
       "\\toprule\n",
       "\\textbf{Dep. Variable:}    &  gdp\\_filtered   & \\textbf{  R-squared (uncentered):}      &     0.816   \\\\\n",
       "\\textbf{Model:}            &       OLS        & \\textbf{  Adj. R-squared (uncentered):} &     0.814   \\\\\n",
       "\\textbf{Method:}           &  Least Squares   & \\textbf{  F-statistic:       }          &     411.8   \\\\\n",
       "\\textbf{Date:}             & Sat, 16 Aug 2025 & \\textbf{  Prob (F-statistic):}          &  6.32e-36   \\\\\n",
       "\\textbf{Time:}             &     19:13:46     & \\textbf{  Log-Likelihood:    }          &    410.19   \\\\\n",
       "\\textbf{No. Observations:} &          94      & \\textbf{  AIC:               }          &    -818.4   \\\\\n",
       "\\textbf{Df Residuals:}     &          93      & \\textbf{  BIC:               }          &    -815.8   \\\\\n",
       "\\textbf{Df Model:}         &           1      & \\textbf{                     }          &             \\\\\n",
       "\\textbf{Covariance Type:}  &    nonrobust     & \\textbf{                     }          &             \\\\\n",
       "\\bottomrule\n",
       "\\end{tabular}\n",
       "\\begin{tabular}{lcccccc}\n",
       "                       & \\textbf{coef} & \\textbf{std err} & \\textbf{t} & \\textbf{P$> |$t$|$} & \\textbf{[0.025} & \\textbf{0.975]}  \\\\\n",
       "\\midrule\n",
       "\\textbf{ipi\\_filtered} &       0.6698  &        0.033     &    20.292  &         0.000        &        0.604    &        0.735     \\\\\n",
       "\\bottomrule\n",
       "\\end{tabular}\n",
       "\\begin{tabular}{lclc}\n",
       "\\textbf{Omnibus:}       &  2.786 & \\textbf{  Durbin-Watson:     } &    0.612  \\\\\n",
       "\\textbf{Prob(Omnibus):} &  0.248 & \\textbf{  Jarque-Bera (JB):  } &    2.117  \\\\\n",
       "\\textbf{Skew:}          & -0.299 & \\textbf{  Prob(JB):          } &    0.347  \\\\\n",
       "\\textbf{Kurtosis:}      &  3.427 & \\textbf{  Cond. No.          } &     1.00  \\\\\n",
       "\\bottomrule\n",
       "\\end{tabular}\n",
       "%\\caption{OLS Regression Results}\n",
       "\\end{center}\n",
       "\n",
       "Notes: \\newline\n",
       " [1] R² is computed without centering (uncentered) since the model does not contain a constant. \\newline\n",
       " [2] Standard Errors assume that the covariance matrix of the errors is correctly specified."
      ],
      "text/plain": [
       "<class 'statsmodels.iolib.summary.Summary'>\n",
       "\"\"\"\n",
       "                                 OLS Regression Results                                \n",
       "=======================================================================================\n",
       "Dep. Variable:           gdp_filtered   R-squared (uncentered):                   0.816\n",
       "Model:                            OLS   Adj. R-squared (uncentered):              0.814\n",
       "Method:                 Least Squares   F-statistic:                              411.8\n",
       "Date:                Sat, 16 Aug 2025   Prob (F-statistic):                    6.32e-36\n",
       "Time:                        19:13:46   Log-Likelihood:                          410.19\n",
       "No. Observations:                  94   AIC:                                     -818.4\n",
       "Df Residuals:                      93   BIC:                                     -815.8\n",
       "Df Model:                           1                                                  \n",
       "Covariance Type:            nonrobust                                                  \n",
       "================================================================================\n",
       "                   coef    std err          t      P>|t|      [0.025      0.975]\n",
       "--------------------------------------------------------------------------------\n",
       "ipi_filtered     0.6698      0.033     20.292      0.000       0.604       0.735\n",
       "==============================================================================\n",
       "Omnibus:                        2.786   Durbin-Watson:                   0.612\n",
       "Prob(Omnibus):                  0.248   Jarque-Bera (JB):                2.117\n",
       "Skew:                          -0.299   Prob(JB):                        0.347\n",
       "Kurtosis:                       3.427   Cond. No.                         1.00\n",
       "==============================================================================\n",
       "\n",
       "Notes:\n",
       "[1] R² is computed without centering (uncentered) since the model does not contain a constant.\n",
       "[2] Standard Errors assume that the covariance matrix of the errors is correctly specified.\n",
       "\"\"\""
      ]
     },
     "execution_count": 201,
     "metadata": {},
     "output_type": "execute_result"
    }
   ],
   "source": [
    "reg2.summary()"
   ]
  },
  {
   "cell_type": "code",
   "execution_count": null,
   "id": "0b0804e6",
   "metadata": {},
   "outputs": [],
   "source": []
  },
  {
   "cell_type": "code",
   "execution_count": null,
   "id": "0f6611ea",
   "metadata": {},
   "outputs": [],
   "source": [
    "pip install statsmod"
   ]
  },
  {
   "cell_type": "code",
   "execution_count": 212,
   "id": "243e3a12",
   "metadata": {},
   "outputs": [
    {
     "ename": "ValueError",
     "evalue": "Length of values (2) does not match length of index (102)",
     "output_type": "error",
     "traceback": [
      "\u001b[1;31m---------------------------------------------------------------------------\u001b[0m",
      "\u001b[1;31mValueError\u001b[0m                                Traceback (most recent call last)",
      "Cell \u001b[1;32mIn[212], line 1\u001b[0m\n\u001b[1;32m----> 1\u001b[0m g_and_i[\u001b[38;5;124m'\u001b[39m\u001b[38;5;124mipi_filtered_2\u001b[39m\u001b[38;5;124m'\u001b[39m] \u001b[38;5;241m=\u001b[39m sm\u001b[38;5;241m.\u001b[39mtsa\u001b[38;5;241m.\u001b[39mfilters\u001b[38;5;241m.\u001b[39mcffilter(\n\u001b[0;32m      2\u001b[0m     g_and_i[\u001b[38;5;124m'\u001b[39m\u001b[38;5;124ml_ipi\u001b[39m\u001b[38;5;124m'\u001b[39m],\n\u001b[0;32m      3\u001b[0m     low\u001b[38;5;241m=\u001b[39m\u001b[38;5;241m6\u001b[39m,\n\u001b[0;32m      4\u001b[0m     high\u001b[38;5;241m=\u001b[39m\u001b[38;5;241m32\u001b[39m,\n\u001b[0;32m      5\u001b[0m     drift\u001b[38;5;241m=\u001b[39m\u001b[38;5;28;01mTrue\u001b[39;00m\u001b[38;5;66;03m# K is the lead/lag length of the filter, 12 is common for monthly data\u001b[39;00m\n\u001b[0;32m      6\u001b[0m )\n",
      "File \u001b[1;32mc:\\Users\\tmdal\\anaconda3\\Lib\\site-packages\\pandas\\core\\frame.py:4311\u001b[0m, in \u001b[0;36mDataFrame.__setitem__\u001b[1;34m(self, key, value)\u001b[0m\n\u001b[0;32m   4308\u001b[0m     \u001b[38;5;28mself\u001b[39m\u001b[38;5;241m.\u001b[39m_setitem_array([key], value)\n\u001b[0;32m   4309\u001b[0m \u001b[38;5;28;01melse\u001b[39;00m:\n\u001b[0;32m   4310\u001b[0m     \u001b[38;5;66;03m# set column\u001b[39;00m\n\u001b[1;32m-> 4311\u001b[0m     \u001b[38;5;28mself\u001b[39m\u001b[38;5;241m.\u001b[39m_set_item(key, value)\n",
      "File \u001b[1;32mc:\\Users\\tmdal\\anaconda3\\Lib\\site-packages\\pandas\\core\\frame.py:4524\u001b[0m, in \u001b[0;36mDataFrame._set_item\u001b[1;34m(self, key, value)\u001b[0m\n\u001b[0;32m   4514\u001b[0m \u001b[38;5;28;01mdef\u001b[39;00m\u001b[38;5;250m \u001b[39m\u001b[38;5;21m_set_item\u001b[39m(\u001b[38;5;28mself\u001b[39m, key, value) \u001b[38;5;241m-\u001b[39m\u001b[38;5;241m>\u001b[39m \u001b[38;5;28;01mNone\u001b[39;00m:\n\u001b[0;32m   4515\u001b[0m \u001b[38;5;250m    \u001b[39m\u001b[38;5;124;03m\"\"\"\u001b[39;00m\n\u001b[0;32m   4516\u001b[0m \u001b[38;5;124;03m    Add series to DataFrame in specified column.\u001b[39;00m\n\u001b[0;32m   4517\u001b[0m \n\u001b[1;32m   (...)\u001b[0m\n\u001b[0;32m   4522\u001b[0m \u001b[38;5;124;03m    ensure homogeneity.\u001b[39;00m\n\u001b[0;32m   4523\u001b[0m \u001b[38;5;124;03m    \"\"\"\u001b[39;00m\n\u001b[1;32m-> 4524\u001b[0m     value, refs \u001b[38;5;241m=\u001b[39m \u001b[38;5;28mself\u001b[39m\u001b[38;5;241m.\u001b[39m_sanitize_column(value)\n\u001b[0;32m   4526\u001b[0m     \u001b[38;5;28;01mif\u001b[39;00m (\n\u001b[0;32m   4527\u001b[0m         key \u001b[38;5;129;01min\u001b[39;00m \u001b[38;5;28mself\u001b[39m\u001b[38;5;241m.\u001b[39mcolumns\n\u001b[0;32m   4528\u001b[0m         \u001b[38;5;129;01mand\u001b[39;00m value\u001b[38;5;241m.\u001b[39mndim \u001b[38;5;241m==\u001b[39m \u001b[38;5;241m1\u001b[39m\n\u001b[0;32m   4529\u001b[0m         \u001b[38;5;129;01mand\u001b[39;00m \u001b[38;5;129;01mnot\u001b[39;00m \u001b[38;5;28misinstance\u001b[39m(value\u001b[38;5;241m.\u001b[39mdtype, ExtensionDtype)\n\u001b[0;32m   4530\u001b[0m     ):\n\u001b[0;32m   4531\u001b[0m         \u001b[38;5;66;03m# broadcast across multiple columns if necessary\u001b[39;00m\n\u001b[0;32m   4532\u001b[0m         \u001b[38;5;28;01mif\u001b[39;00m \u001b[38;5;129;01mnot\u001b[39;00m \u001b[38;5;28mself\u001b[39m\u001b[38;5;241m.\u001b[39mcolumns\u001b[38;5;241m.\u001b[39mis_unique \u001b[38;5;129;01mor\u001b[39;00m \u001b[38;5;28misinstance\u001b[39m(\u001b[38;5;28mself\u001b[39m\u001b[38;5;241m.\u001b[39mcolumns, MultiIndex):\n",
      "File \u001b[1;32mc:\\Users\\tmdal\\anaconda3\\Lib\\site-packages\\pandas\\core\\frame.py:5266\u001b[0m, in \u001b[0;36mDataFrame._sanitize_column\u001b[1;34m(self, value)\u001b[0m\n\u001b[0;32m   5263\u001b[0m     \u001b[38;5;28;01mreturn\u001b[39;00m _reindex_for_setitem(value, \u001b[38;5;28mself\u001b[39m\u001b[38;5;241m.\u001b[39mindex)\n\u001b[0;32m   5265\u001b[0m \u001b[38;5;28;01mif\u001b[39;00m is_list_like(value):\n\u001b[1;32m-> 5266\u001b[0m     com\u001b[38;5;241m.\u001b[39mrequire_length_match(value, \u001b[38;5;28mself\u001b[39m\u001b[38;5;241m.\u001b[39mindex)\n\u001b[0;32m   5267\u001b[0m arr \u001b[38;5;241m=\u001b[39m sanitize_array(value, \u001b[38;5;28mself\u001b[39m\u001b[38;5;241m.\u001b[39mindex, copy\u001b[38;5;241m=\u001b[39m\u001b[38;5;28;01mTrue\u001b[39;00m, allow_2d\u001b[38;5;241m=\u001b[39m\u001b[38;5;28;01mTrue\u001b[39;00m)\n\u001b[0;32m   5268\u001b[0m \u001b[38;5;28;01mif\u001b[39;00m (\n\u001b[0;32m   5269\u001b[0m     \u001b[38;5;28misinstance\u001b[39m(value, Index)\n\u001b[0;32m   5270\u001b[0m     \u001b[38;5;129;01mand\u001b[39;00m value\u001b[38;5;241m.\u001b[39mdtype \u001b[38;5;241m==\u001b[39m \u001b[38;5;124m\"\u001b[39m\u001b[38;5;124mobject\u001b[39m\u001b[38;5;124m\"\u001b[39m\n\u001b[1;32m   (...)\u001b[0m\n\u001b[0;32m   5273\u001b[0m     \u001b[38;5;66;03m# TODO: Remove kludge in sanitize_array for string mode when enforcing\u001b[39;00m\n\u001b[0;32m   5274\u001b[0m     \u001b[38;5;66;03m# this deprecation\u001b[39;00m\n",
      "File \u001b[1;32mc:\\Users\\tmdal\\anaconda3\\Lib\\site-packages\\pandas\\core\\common.py:573\u001b[0m, in \u001b[0;36mrequire_length_match\u001b[1;34m(data, index)\u001b[0m\n\u001b[0;32m    569\u001b[0m \u001b[38;5;250m\u001b[39m\u001b[38;5;124;03m\"\"\"\u001b[39;00m\n\u001b[0;32m    570\u001b[0m \u001b[38;5;124;03mCheck the length of data matches the length of the index.\u001b[39;00m\n\u001b[0;32m    571\u001b[0m \u001b[38;5;124;03m\"\"\"\u001b[39;00m\n\u001b[0;32m    572\u001b[0m \u001b[38;5;28;01mif\u001b[39;00m \u001b[38;5;28mlen\u001b[39m(data) \u001b[38;5;241m!=\u001b[39m \u001b[38;5;28mlen\u001b[39m(index):\n\u001b[1;32m--> 573\u001b[0m     \u001b[38;5;28;01mraise\u001b[39;00m \u001b[38;5;167;01mValueError\u001b[39;00m(\n\u001b[0;32m    574\u001b[0m         \u001b[38;5;124m\"\u001b[39m\u001b[38;5;124mLength of values \u001b[39m\u001b[38;5;124m\"\u001b[39m\n\u001b[0;32m    575\u001b[0m         \u001b[38;5;124mf\u001b[39m\u001b[38;5;124m\"\u001b[39m\u001b[38;5;124m(\u001b[39m\u001b[38;5;132;01m{\u001b[39;00m\u001b[38;5;28mlen\u001b[39m(data)\u001b[38;5;132;01m}\u001b[39;00m\u001b[38;5;124m) \u001b[39m\u001b[38;5;124m\"\u001b[39m\n\u001b[0;32m    576\u001b[0m         \u001b[38;5;124m\"\u001b[39m\u001b[38;5;124mdoes not match length of index \u001b[39m\u001b[38;5;124m\"\u001b[39m\n\u001b[0;32m    577\u001b[0m         \u001b[38;5;124mf\u001b[39m\u001b[38;5;124m\"\u001b[39m\u001b[38;5;124m(\u001b[39m\u001b[38;5;132;01m{\u001b[39;00m\u001b[38;5;28mlen\u001b[39m(index)\u001b[38;5;132;01m}\u001b[39;00m\u001b[38;5;124m)\u001b[39m\u001b[38;5;124m\"\u001b[39m\n\u001b[0;32m    578\u001b[0m     )\n",
      "\u001b[1;31mValueError\u001b[0m: Length of values (2) does not match length of index (102)"
     ]
    }
   ],
   "source": [
    "g_and_i['ipi_filtered_2'] = sm.tsa.filters.cffilter(\n",
    "    g_and_i['l_ipi'],\n",
    "    low=6,\n",
    "    high=32,\n",
    "    drift=True# K is the lead/lag length of the filter, 12 is common for monthly data\n",
    ")"
   ]
  },
  {
   "cell_type": "code",
   "execution_count": 210,
   "id": "e83a842b",
   "metadata": {},
   "outputs": [
    {
     "name": "stdout",
     "output_type": "stream",
     "text": [
      "Requirement already satisfied: statsmodels in c:\\users\\tmdal\\anaconda3\\lib\\site-packages (0.14.4)\n",
      "Requirement already satisfied: numpy<3,>=1.22.3 in c:\\users\\tmdal\\anaconda3\\lib\\site-packages (from statsmodels) (2.1.3)\n",
      "Requirement already satisfied: scipy!=1.9.2,>=1.8 in c:\\users\\tmdal\\anaconda3\\lib\\site-packages (from statsmodels) (1.15.3)\n",
      "Requirement already satisfied: pandas!=2.1.0,>=1.4 in c:\\users\\tmdal\\anaconda3\\lib\\site-packages (from statsmodels) (2.2.3)\n",
      "Requirement already satisfied: patsy>=0.5.6 in c:\\users\\tmdal\\anaconda3\\lib\\site-packages (from statsmodels) (1.0.1)\n",
      "Requirement already satisfied: packaging>=21.3 in c:\\users\\tmdal\\anaconda3\\lib\\site-packages (from statsmodels) (24.2)\n",
      "Requirement already satisfied: python-dateutil>=2.8.2 in c:\\users\\tmdal\\anaconda3\\lib\\site-packages (from pandas!=2.1.0,>=1.4->statsmodels) (2.9.0.post0)\n",
      "Requirement already satisfied: pytz>=2020.1 in c:\\users\\tmdal\\anaconda3\\lib\\site-packages (from pandas!=2.1.0,>=1.4->statsmodels) (2024.1)\n",
      "Requirement already satisfied: tzdata>=2022.7 in c:\\users\\tmdal\\anaconda3\\lib\\site-packages (from pandas!=2.1.0,>=1.4->statsmodels) (2025.2)\n",
      "Requirement already satisfied: six>=1.5 in c:\\users\\tmdal\\anaconda3\\lib\\site-packages (from python-dateutil>=2.8.2->pandas!=2.1.0,>=1.4->statsmodels) (1.17.0)\n",
      "Note: you may need to restart the kernel to use updated packages.\n"
     ]
    }
   ],
   "source": [
    "pip install statsmodels"
   ]
  },
  {
   "cell_type": "code",
   "execution_count": null,
   "id": "15df630a",
   "metadata": {},
   "outputs": [],
   "source": []
  }
 ],
 "metadata": {
  "kernelspec": {
   "display_name": "base",
   "language": "python",
   "name": "python3"
  },
  "language_info": {
   "codemirror_mode": {
    "name": "ipython",
    "version": 3
   },
   "file_extension": ".py",
   "mimetype": "text/x-python",
   "name": "python",
   "nbconvert_exporter": "python",
   "pygments_lexer": "ipython3",
   "version": "3.13.5"
  }
 },
 "nbformat": 4,
 "nbformat_minor": 5
}
